{
  "nbformat": 4,
  "nbformat_minor": 0,
  "metadata": {
    "colab": {
      "provenance": [],
      "authorship_tag": "ABX9TyOzZQvD+GLrlLwYTIctJYaf",
      "include_colab_link": true
    },
    "kernelspec": {
      "name": "python3",
      "display_name": "Python 3"
    },
    "language_info": {
      "name": "python"
    }
  },
  "cells": [
    {
      "cell_type": "markdown",
      "metadata": {
        "id": "view-in-github",
        "colab_type": "text"
      },
      "source": [
        "<a href=\"https://colab.research.google.com/github/DAEHO0/python/blob/main/230913_PythonDA.ipynb\" target=\"_parent\"><img src=\"https://colab.research.google.com/assets/colab-badge.svg\" alt=\"Open In Colab\"/></a>"
      ]
    },
    {
      "cell_type": "code",
      "execution_count": 1,
      "metadata": {
        "id": "77_A6t2R25Tp"
      },
      "outputs": [],
      "source": [
        "# 예약어\n",
        "\n",
        "# 파이썬에서 연산이나 특정한 목적을 가지고 사용하는 표현이 있음\n",
        "# 예시: 함수 정의-def, 모듈 불러오기-import\n",
        "# 예시와 같이 특정 목적을 위해 지정해둔 단어를 '예약어'라고 함"
      ]
    },
    {
      "cell_type": "markdown",
      "source": [
        "### **리스트(list)**"
      ],
      "metadata": {
        "id": "oCNCrcTO4oqy"
      }
    },
    {
      "cell_type": "code",
      "source": [
        "# 대괄호 [] 안에 여러 개의 콤마(,)로 연결하여 만든 자료형\n",
        "# 아이템을 선택하거나 변경, 추가, 삭제 가능\n",
        "\n",
        "fruit_list = ['apple', 'banana', 'orange']"
      ],
      "metadata": {
        "id": "3HkU1qIL4hxG"
      },
      "execution_count": 2,
      "outputs": []
    },
    {
      "cell_type": "code",
      "source": [
        "# 중복 허용\n",
        "fruit_list = ['apple', 'banana', 'orange', 'apple', 'banana']\n",
        "fruit_list"
      ],
      "metadata": {
        "colab": {
          "base_uri": "https://localhost:8080/"
        },
        "id": "uLwa1jF85FIz",
        "outputId": "491ea2fa-00fb-4059-f08a-67bcc1cd563e"
      },
      "execution_count": 3,
      "outputs": [
        {
          "output_type": "execute_result",
          "data": {
            "text/plain": [
              "['apple', 'banana', 'orange', 'apple', 'banana']"
            ]
          },
          "metadata": {},
          "execution_count": 3
        }
      ]
    },
    {
      "cell_type": "code",
      "source": [
        "# 아이템 선택\n",
        "# 인덱스를 사용하여 특정 위치의 아이템 선택\n",
        "\n",
        "# 0번째 위치한 아이템 선택\n",
        "fruit_list[0]"
      ],
      "metadata": {
        "colab": {
          "base_uri": "https://localhost:8080/",
          "height": 36
        },
        "id": "JrlG9WZu5QHp",
        "outputId": "916e5097-4293-488e-a5a5-2fe5edc2b178"
      },
      "execution_count": 4,
      "outputs": [
        {
          "output_type": "execute_result",
          "data": {
            "text/plain": [
              "'apple'"
            ],
            "application/vnd.google.colaboratory.intrinsic+json": {
              "type": "string"
            }
          },
          "metadata": {},
          "execution_count": 4
        }
      ]
    },
    {
      "cell_type": "code",
      "source": [
        "# 리스트 길이 확인\n",
        "len(fruit_list)"
      ],
      "metadata": {
        "colab": {
          "base_uri": "https://localhost:8080/"
        },
        "id": "8VpaXiuZ5mN_",
        "outputId": "170afab3-0ab9-4bbe-c2f0-0349789cf0f6"
      },
      "execution_count": 6,
      "outputs": [
        {
          "output_type": "execute_result",
          "data": {
            "text/plain": [
              "5"
            ]
          },
          "metadata": {},
          "execution_count": 6
        }
      ]
    },
    {
      "cell_type": "code",
      "source": [],
      "metadata": {
        "id": "F6K_rdES5tB8"
      },
      "execution_count": null,
      "outputs": []
    }
  ]
}