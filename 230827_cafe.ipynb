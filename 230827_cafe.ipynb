{
  "nbformat": 4,
  "nbformat_minor": 0,
  "metadata": {
    "colab": {
      "provenance": [],
      "mount_file_id": "1x6KagSdupjGRoL30XN8F7ZsY0jYjiG8P",
      "authorship_tag": "ABX9TyMadHnAW/aTmeesaMBOkkZ7",
      "include_colab_link": true
    },
    "kernelspec": {
      "name": "python3",
      "display_name": "Python 3"
    },
    "language_info": {
      "name": "python"
    }
  },
  "cells": [
    {
      "cell_type": "markdown",
      "metadata": {
        "id": "view-in-github",
        "colab_type": "text"
      },
      "source": [
        "<a href=\"https://colab.research.google.com/github/DAEHO0/python/blob/main/230827_cafe.ipynb\" target=\"_parent\"><img src=\"https://colab.research.google.com/assets/colab-badge.svg\" alt=\"Open In Colab\"/></a>"
      ]
    },
    {
      "cell_type": "markdown",
      "source": [
        "### t-검정"
      ],
      "metadata": {
        "id": "IyudYxqfneqJ"
      }
    },
    {
      "cell_type": "code",
      "execution_count": null,
      "metadata": {
        "id": "okLxcMKYNbKc"
      },
      "outputs": [],
      "source": [
        "# 데이터 불러오기\n",
        "import pandas as pn\n",
        "\n",
        "df = pn.read_csv('/content/drive/MyDrive/ifood_df.csv')\n",
        "df"
      ]
    },
    {
      "cell_type": "code",
      "source": [
        "# 데이터 전처리 null 값 확인\n",
        "df.isnull().sum()"
      ],
      "metadata": {
        "id": "VxlYYOy0npVk"
      },
      "execution_count": null,
      "outputs": []
    },
    {
      "cell_type": "code",
      "source": [
        "# 데이터 전처리 NaN 값 확인\n",
        "df.isna().sum()"
      ],
      "metadata": {
        "id": "UYazsbm6owpL"
      },
      "execution_count": null,
      "outputs": []
    },
    {
      "cell_type": "code",
      "source": [
        "# 모듈 불러오기\n",
        "import pandas as pd\n",
        "from scipy.stats import ttest_ind\n",
        "\n",
        "## 독신 고객의 평균 과일 소비량 데이터와\n",
        "## 기혼 고객의 평균 과일 소비량 데이터 추출\n",
        "\n",
        "# 독신 고객 = 'marital_Single'\n",
        "# 기혼 고객 = 'marital_Married'\n",
        "# 지난 2년 동안 과일 소비량 = 'MntFruits'\n",
        "sngl = df['MntFruits'][df['marital_Single']]\n",
        "marr = df['MntFruits'][df['marital_Married']]\n",
        "\n",
        "## 독립 표본 t-검정 수행\n",
        "t_statistic, p_value = ttest_ind(sngl, marr)\n",
        "\n",
        "## 결과 출력\n",
        "print('독립 표본 t-검정 결과 :', t_statistic)\n",
        "print('p-값 :', p_value)"
      ],
      "metadata": {
        "colab": {
          "base_uri": "https://localhost:8080/"
        },
        "id": "HrqisX68pieR",
        "outputId": "a299ad30-2f56-495b-e1cb-018977890538"
      },
      "execution_count": null,
      "outputs": [
        {
          "output_type": "stream",
          "name": "stdout",
          "text": [
            "독립 표본 t-검정 결과 : 12.5844112952128\n",
            "p-값 : 1.0503792242112223e-35\n"
          ]
        }
      ]
    },
    {
      "cell_type": "code",
      "source": [
        "## 두 독립 표본의 평균 비교\n",
        "print('독신 고객의 평균 과일 소비량 :', sngl.mean())\n",
        "print('기혼 고객의 평균 과일 소비량 :', marr.mean())"
      ],
      "metadata": {
        "colab": {
          "base_uri": "https://localhost:8080/"
        },
        "id": "6naZLWrFruCX",
        "outputId": "b6b6b479-0fbe-43b2-f0cc-dce32514619e"
      },
      "execution_count": null,
      "outputs": [
        {
          "output_type": "stream",
          "name": "stdout",
          "text": [
            "독신 고객의 평균 과일 소비량 : 69.17959183673469\n",
            "기혼 고객의 평균 과일 소비량 : 54.304761904761904\n"
          ]
        }
      ]
    },
    {
      "cell_type": "code",
      "source": [
        "'겜하고 싶다'\n",
        "'겜하고 싶다'\n",
        "'겜하고 싶다'\n",
        "'겜하고 싶다'\n",
        "'겜하고 싶다'\n",
        "'겜하고 싶다'\n",
        "'겜하고 싶다'\n",
        "'겜하고 싶다'\n",
        "'겜하고 싶다'\n",
        "'겜하고 싶다'"
      ],
      "metadata": {
        "id": "HaIflHBXs7nQ"
      },
      "execution_count": null,
      "outputs": []
    },
    {
      "cell_type": "code",
      "source": [
        "print('그럼', 2 * 10000, '~')"
      ],
      "metadata": {
        "colab": {
          "base_uri": "https://localhost:8080/"
        },
        "id": "sW6YEzZ_S-hR",
        "outputId": "49081d40-fdbc-4f20-c874-8c38a6f18b76"
      },
      "execution_count": null,
      "outputs": [
        {
          "output_type": "stream",
          "name": "stdout",
          "text": [
            "그럼 20000 ~\n"
          ]
        }
      ]
    },
    {
      "cell_type": "code",
      "source": [],
      "metadata": {
        "id": "r_T3XybzTB_5"
      },
      "execution_count": null,
      "outputs": []
    }
  ]
}