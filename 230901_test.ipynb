{
  "nbformat": 4,
  "nbformat_minor": 0,
  "metadata": {
    "colab": {
      "provenance": [],
      "mount_file_id": "1BkYOSafpqIfjTBrh4_b3KaCswrzdLyQx",
      "authorship_tag": "ABX9TyOUZCeoP9UEtrQO7tEzEezu",
      "include_colab_link": true
    },
    "kernelspec": {
      "name": "python3",
      "display_name": "Python 3"
    },
    "language_info": {
      "name": "python"
    }
  },
  "cells": [
    {
      "cell_type": "markdown",
      "metadata": {
        "id": "view-in-github",
        "colab_type": "text"
      },
      "source": [
        "<a href=\"https://colab.research.google.com/github/DAEHO0/python/blob/main/230901_test.ipynb\" target=\"_parent\"><img src=\"https://colab.research.google.com/assets/colab-badge.svg\" alt=\"Open In Colab\"/></a>"
      ]
    },
    {
      "cell_type": "markdown",
      "source": [
        "### **3-(1) 데이터셋 만들기**"
      ],
      "metadata": {
        "id": "XI1tQvVXUXP4"
      }
    },
    {
      "cell_type": "code",
      "execution_count": null,
      "metadata": {
        "id": "No-nT1GAT8PX"
      },
      "outputs": [],
      "source": [
        "# 데이터셋 불러오기\n",
        "# 워싱턴 주 면허부에 등록된 플러그인 하이브리드 및 전기차 데이터셋\n",
        "import pandas as pd\n",
        "\n",
        "df = pd.read_csv('/content/drive/MyDrive/Electric_Vehicle_Population_Data.csv')\n",
        "df"
      ]
    },
    {
      "cell_type": "markdown",
      "source": [
        "### **3-(5) 전처리 수행**"
      ],
      "metadata": {
        "id": "DVSxcOVlYkCz"
      }
    },
    {
      "cell_type": "code",
      "source": [
        "# 결측값 확인\n",
        "# 전체 데이터의 null 값의 개수\n",
        "df.isnull().sum()\n",
        "\n",
        "# County 22개, City 22개, Postal Code 22개\n",
        "# Legislative District 327개, Vehicle Location 25개\n",
        "# Electirc Utility 22개, 2020 Census Tract 22개"
      ],
      "metadata": {
        "id": "LfpAayqDYsVt"
      },
      "execution_count": null,
      "outputs": []
    },
    {
      "cell_type": "code",
      "source": [
        "# 전체 데이터의 NaN 값의 개수\n",
        "df.isna().sum()\n",
        "\n",
        "# 전체 데이터의 결측값이 동일한 변수에 존재"
      ],
      "metadata": {
        "id": "D5tpUfB3ZhiV"
      },
      "execution_count": null,
      "outputs": []
    },
    {
      "cell_type": "code",
      "source": [
        "# 전체 데이터의 중복값의 개수\n",
        "df.duplicated().sum()\n",
        "\n",
        "# 중복값 없음"
      ],
      "metadata": {
        "colab": {
          "base_uri": "https://localhost:8080/"
        },
        "id": "_3nrb5rDZ0Lw",
        "outputId": "471e214f-a573-43a7-f62e-f0e7597a6c78"
      },
      "execution_count": null,
      "outputs": [
        {
          "output_type": "execute_result",
          "data": {
            "text/plain": [
              "0"
            ]
          },
          "metadata": {},
          "execution_count": 38
        }
      ]
    },
    {
      "cell_type": "code",
      "source": [
        "# 이상치 확인\n",
        "import matplotlib.pyplot as plt\n",
        "import seaborn as sns\n",
        "\n",
        "# 상자 그림\n",
        "plt.figure(figsize=(15, 8))\n",
        "sns.boxplot(data = df)\n",
        "plt.title('Box Plot of Data')\n",
        "plt.show()\n",
        "\n",
        "# 수치형으로 된 변수들만 이상치 확인\n",
        "# 202 Cecus Track 변수는 인구 조사 지역 관련 변수이므로 관측값의 수치가 매우 큼\n",
        "# 따라서 해당 변수는 이상치에서 제외\n",
        "\n",
        "# 수치형 변수에는 이상치 없음"
      ],
      "metadata": {
        "id": "Sm3ymo38aRA7"
      },
      "execution_count": null,
      "outputs": []
    },
    {
      "cell_type": "code",
      "source": [
        "# null, NaN 값 제거 후 df_cln에 저장\n",
        "df_cln = df.dropna()\n",
        "df_cln.isnull().sum()\n",
        "\n",
        "# null 값 없음"
      ],
      "metadata": {
        "id": "xHXMCYJIaBAz"
      },
      "execution_count": null,
      "outputs": []
    },
    {
      "cell_type": "code",
      "source": [
        "df_cln.isna().sum()\n",
        "\n",
        "# NaN 값 없음"
      ],
      "metadata": {
        "id": "9TyxfaY4bVyW"
      },
      "execution_count": null,
      "outputs": []
    },
    {
      "cell_type": "code",
      "source": [
        "# Model의 범주형 데이터를 수치형 데이터로 변환\n",
        "# 원 핫 인코딩(One-Hot Encoding) 수행\n",
        "import pandas as pd\n",
        "\n",
        "# 원본 데이터 프레임에서 범주형 변수를 선택\n",
        "ctgr = df_cln['Model']\n",
        "\n",
        "# 원 핫 인코딩을 수행\n",
        "one_ht_encd = pd.get_dummies(ctgr, prefix = 'Model')\n",
        "\n",
        "# 결과 데이터 프레임에 추가\n",
        "df_cd = pd.concat([df_cln, one_ht_encd], axis=1)\n",
        "df_cd"
      ],
      "metadata": {
        "id": "S4CyCw0ZeXK4"
      },
      "execution_count": null,
      "outputs": []
    },
    {
      "cell_type": "code",
      "source": [
        "# County, City, Model 각 변수의 관측값 확인\n",
        "county = df_cd['County'].describe()\n",
        "city = df_cd['City'].describe()\n",
        "model = df_cd['Model'].describe()\n",
        "print(county)\n",
        "print('-' * 30)\n",
        "print(city)\n",
        "print('-' * 30)\n",
        "print(model)\n",
        "\n",
        "# City 변수의 대표값이 456개로 너무 많음\n",
        "# Model 변수도 대표값이 127개로 너무 많음\n",
        "# County, City, Model 빈도수가 제일 많은 순으로 상위 30개 대표값만 추출"
      ],
      "metadata": {
        "colab": {
          "base_uri": "https://localhost:8080/"
        },
        "id": "mLdAJqxe0XKc",
        "outputId": "936ec9b0-e51f-445d-afa7-519af789df9b"
      },
      "execution_count": null,
      "outputs": [
        {
          "output_type": "stream",
          "name": "stdout",
          "text": [
            "count     143266\n",
            "unique        39\n",
            "top         King\n",
            "freq       75383\n",
            "Name: County, dtype: object\n",
            "------------------------------\n",
            "count      143266\n",
            "unique        456\n",
            "top       Seattle\n",
            "freq        24662\n",
            "Name: City, dtype: object\n",
            "------------------------------\n",
            "count      143266\n",
            "unique        127\n",
            "top       MODEL 3\n",
            "freq        26684\n",
            "Name: Model, dtype: object\n"
          ]
        }
      ]
    },
    {
      "cell_type": "code",
      "source": [
        "# City, Model 빈도수 순 상위 30개 대표값 추출\n",
        "import pandas as pd\n",
        "\n",
        "# County 열의 빈도수 계산\n",
        "cnty_cnts = df['County'].value_counts()\n",
        "\n",
        "# City 열의 빈도수 계산\n",
        "cty_cnts = df['City'].value_counts()\n",
        "\n",
        "# Model 열의 빈도수 계산\n",
        "mdl_cnts = df['Model'].value_counts()\n",
        "\n",
        "# 빈도수가 가장 높은 상위 30개 대표값 추출\n",
        "tp_cnty = cnty_cnts.head(30).index.tolist()\n",
        "tp_cty = cty_cnts.head(30).index.tolist()\n",
        "tp_mdl = mdl_cnts.head(30).index.tolist()\n",
        "\n",
        "print(tp_cnty)\n",
        "print(tp_cty)\n",
        "print(tp_mdl)"
      ],
      "metadata": {
        "colab": {
          "base_uri": "https://localhost:8080/"
        },
        "id": "l4rkdrFF136y",
        "outputId": "6ff51065-9058-471d-8485-63ba8ff32ace"
      },
      "execution_count": null,
      "outputs": [
        {
          "output_type": "stream",
          "name": "stdout",
          "text": [
            "['King', 'Snohomish', 'Pierce', 'Clark', 'Thurston', 'Kitsap', 'Spokane', 'Whatcom', 'Benton', 'Skagit', 'Island', 'Clallam', 'Jefferson', 'Chelan', 'San Juan', 'Yakima', 'Cowlitz', 'Mason', 'Lewis', 'Grays Harbor', 'Kittitas', 'Franklin', 'Grant', 'Walla Walla', 'Douglas', 'Whitman', 'Klickitat', 'Okanogan', 'Stevens', 'Pacific']\n",
            "['Seattle', 'Bellevue', 'Redmond', 'Vancouver', 'Bothell', 'Kirkland', 'Sammamish', 'Renton', 'Olympia', 'Tacoma', 'Bellingham', 'Issaquah', 'Spokane', 'Kent', 'Lynnwood', 'Mercer Island', 'Tukwila', 'Woodinville', 'Everett', 'Snohomish', 'Gig Harbor', 'Shoreline', 'Edmonds', 'Auburn', 'Bainbridge Island', 'Camas', 'Federal Way', 'Seatac', 'Maple Valley', 'Lake Stevens']\n",
            "['MODEL 3', 'MODEL Y', 'LEAF', 'MODEL S', 'BOLT EV', 'MODEL X', 'VOLT', 'ID.4', 'NIRO', 'PRIUS PRIME', 'PACIFICA', 'WRANGLER', 'MUSTANG MACH-E', 'X5', 'I3', 'FUSION', 'EV6', 'C-MAX', 'IONIQ 5', 'RAV4 PRIME', 'R1T', 'XC90', 'BOLT EUV', 'E-GOLF', 'E-TRON', 'PRIUS PLUG-IN', 'XC60', '500', 'CLARITY', 'XC40']\n"
          ]
        }
      ]
    },
    {
      "cell_type": "markdown",
      "source": [
        "### **3-(2)**\n",
        "\n",
        "*   탐색적 데이터 분석(평균, 분산, 분포 시각화\n",
        ") 수행\n",
        "*   ML에 사용될 변수 정의, 종속변수, 독립변수 제시"
      ],
      "metadata": {
        "id": "u5RLrlt1Ug6q"
      }
    },
    {
      "cell_type": "code",
      "source": [
        "# 평균, 분산, 분포 시각화 수행\n",
        "# 분석목표 : 워싱턴 주의 군(행정단위구역)과 도시마다 선호하는 차량 모델이 있을까?\n",
        "# 군, 도시에 많이 등록된 차량을 선호하는 차량으로 전제\n",
        "\n",
        "# Model 변수(범주형)의 각 카테고리별 빈도수 계산\n",
        "mdl = df_cd['Model'].value_counts()\n",
        "\n",
        "# County 변수(범주형)의 각 카테고리별 빈도수 계산\n",
        "cnty = df_cd['County'].value_counts()\n",
        "\n",
        "# City 변수(범주형)의 각 카테고리별 빈도수 계산\n",
        "cty = df_cd['City'].value_counts()\n",
        "\n",
        "# 결과 출력\n",
        "print(mdl)\n",
        "print('-' * 30)\n",
        "print(cnty)\n",
        "print('-' * 30)\n",
        "print(cty)"
      ],
      "metadata": {
        "colab": {
          "base_uri": "https://localhost:8080/"
        },
        "id": "sM5Ex-04U39z",
        "outputId": "2527ac86-37b3-4925-8451-c011b9876350"
      },
      "execution_count": null,
      "outputs": [
        {
          "output_type": "stream",
          "name": "stdout",
          "text": [
            "MODEL 3        26684\n",
            "MODEL Y        26148\n",
            "LEAF           13078\n",
            "MODEL S         7523\n",
            "BOLT EV         5593\n",
            "               ...  \n",
            "BENTAYGA           2\n",
            "A8 E               2\n",
            "918                1\n",
            "FLYING SPUR        1\n",
            "S-10 PICKUP        1\n",
            "Name: Model, Length: 127, dtype: int64\n",
            "------------------------------\n",
            "King            75383\n",
            "Snohomish       16429\n",
            "Pierce          11017\n",
            "Clark            8451\n",
            "Thurston         5097\n",
            "Kitsap           4725\n",
            "Spokane          3542\n",
            "Whatcom          3529\n",
            "Benton           1756\n",
            "Skagit           1599\n",
            "Island           1593\n",
            "Clallam           883\n",
            "Jefferson         848\n",
            "Chelan            844\n",
            "San Juan          821\n",
            "Yakima            782\n",
            "Cowlitz           717\n",
            "Mason             688\n",
            "Lewis             554\n",
            "Grays Harbor      513\n",
            "Kittitas          484\n",
            "Franklin          469\n",
            "Grant             435\n",
            "Walla Walla       350\n",
            "Douglas           285\n",
            "Whitman           249\n",
            "Klickitat         234\n",
            "Okanogan          198\n",
            "Stevens           190\n",
            "Pacific           167\n",
            "Skamania          162\n",
            "Asotin             59\n",
            "Wahkiakum          47\n",
            "Pend Oreille       45\n",
            "Adams              40\n",
            "Lincoln            37\n",
            "Ferry              25\n",
            "Columbia           16\n",
            "Garfield            3\n",
            "Name: County, dtype: int64\n",
            "------------------------------\n",
            "Seattle      24662\n",
            "Bellevue      7375\n",
            "Redmond       5245\n",
            "Vancouver     5045\n",
            "Bothell       4599\n",
            "             ...  \n",
            "Hartline         1\n",
            "Malott           1\n",
            "Latah            1\n",
            "Gifford          1\n",
            "Orcas            1\n",
            "Name: City, Length: 456, dtype: int64\n"
          ]
        }
      ]
    },
    {
      "cell_type": "code",
      "source": [
        "# 각 워싱턴 주의 도시별 차량 분포도\n",
        "import pandas as pd\n",
        "\n",
        "# 교차표 생성\n",
        "cross_tab = pd.crosstab(df_cd['City'], df_cd['Model'])\n",
        "\n",
        "# 피벗 테이블 생성\n",
        "pivot_table = df.pivot_table(index='City', columns='Model', aggfunc='size', fill_value=0)\n",
        "\n",
        "# 결과 출력\n",
        "print(\"Cross Tabulation:\")\n",
        "print(cross_tab)\n",
        "\n",
        "print(\"\\nPivot Table:\")\n",
        "print(pivot_table)"
      ],
      "metadata": {
        "id": "m5bIhWXnz5yK"
      },
      "execution_count": null,
      "outputs": []
    },
    {
      "cell_type": "code",
      "source": [
        "# 워싱턴 주의 도시별 차량 분포 시각화\n",
        "# 상위 도시들에 해당하는 데이터프레임 추출\n",
        "df_tp_cty = df[df['City'].isin(tp_cty)]\n",
        "\n",
        "import pandas as pd\n",
        "import seaborn as sns\n",
        "import matplotlib.pyplot as plt\n",
        "\n",
        "# 상위 도시와 모델들에 해당하는 데이터프레임 추출\n",
        "df_tp = df_cd[df_cd['County'].isin(tp_cnty) & df_cd['City'].isin(tp_cty) & df_cd['Model'].isin(tp_mdl)]\n",
        "\n",
        "# City와 Model 간의 분포를 heatmap으로 시각화\n",
        "pivot_table = df_tp.pivot_table(index='City', columns='Model', aggfunc='size', fill_value=0)\n",
        "\n",
        "plt.figure(figsize=(20, 8))\n",
        "sns.countplot(data = df_tp, x = 'City', hue = 'Model')\n",
        "plt.title('Distribution of Models by City')\n",
        "plt.xticks(rotation=45)\n",
        "plt.show()"
      ],
      "metadata": {
        "id": "dZAb8sPR4pGR"
      },
      "execution_count": null,
      "outputs": []
    },
    {
      "cell_type": "code",
      "source": [
        "pvt_tabl = df_tp.pivot_table(index='County', columns='Model', aggfunc='size', fill_value=0)\n",
        "\n",
        "plt.figure(figsize=(20, 8))\n",
        "sns.countplot(data = df_tp, x = 'County', hue = 'Model')\n",
        "plt.title('Distribution of Models by County')\n",
        "plt.xticks(rotation=45)\n",
        "plt.show()"
      ],
      "metadata": {
        "id": "kRnla0LODn0Y"
      },
      "execution_count": null,
      "outputs": []
    },
    {
      "cell_type": "code",
      "source": [
        "# ML에 사용될 변수 정의, 종속변수, 독립변수 제시\n",
        "\n",
        "# 변수 정의\n",
        "# County : 워싱턴 주의 군(행정단위구역)\n",
        "# City : 워싱턴 주의 도시\n",
        "# Model : 차량 모델\n",
        "\n",
        "# 종속변수\n",
        "# Model\n",
        "\n",
        "# 독립변수\n",
        "# County, City"
      ],
      "metadata": {
        "id": "aJhA7TZ-69Kn"
      },
      "execution_count": null,
      "outputs": []
    },
    {
      "cell_type": "markdown",
      "source": [
        "### **3-(3) 분석모형(분류, 회귀) 제시\n",
        "**"
      ],
      "metadata": {
        "id": "whKEpWeMU_bP"
      }
    },
    {
      "cell_type": "code",
      "source": [
        "# 분류 모델\n",
        "import pandas as pd\n",
        "from sklearn.model_selection import train_test_split\n",
        "from sklearn.preprocessing import StandardScaler\n",
        "\n",
        "# County, City 변수는 범주형 변수"
      ],
      "metadata": {
        "id": "rvL68ypbVGv1"
      },
      "execution_count": null,
      "outputs": []
    },
    {
      "cell_type": "markdown",
      "source": [
        "### **3-(4)**\n",
        "\n",
        "*   상관관계 분석 수행\u001f\n",
        "*   상관관계 분석 결과 제시 후 결과에 따라 독립변수의 수 제시"
      ],
      "metadata": {
        "id": "NQuU_y5eVIFh"
      }
    },
    {
      "cell_type": "code",
      "source": [
        "# 로지스틱 회귀분석\n",
        "X = df[['County', 'City']]\n",
        "y = df[['Model']]\n",
        "\n",
        "print(X.head())\n",
        "print('-' * 20)\n",
        "print(y.head())"
      ],
      "metadata": {
        "colab": {
          "base_uri": "https://localhost:8080/"
        },
        "id": "p56-okXoVauA",
        "outputId": "8d6e65b4-35fc-49d6-80a6-7ab3e6b7fdea"
      },
      "execution_count": null,
      "outputs": [
        {
          "output_type": "stream",
          "name": "stdout",
          "text": [
            "   County       City\n",
            "0    King    Seattle\n",
            "1  Yakima      Moxee\n",
            "2    King    Seattle\n",
            "3    King  Newcastle\n",
            "4  Kitsap  Bremerton\n",
            "--------------------\n",
            "     Model\n",
            "0       X5\n",
            "1   ESCAPE\n",
            "2  BOLT EV\n",
            "3  MODEL S\n",
            "4    C-MAX\n"
          ]
        }
      ]
    },
    {
      "cell_type": "code",
      "source": [
        "X_train, X_test, y_train, y_test = train_test_split(X, y, test_size = 0.3, random_state = 0)\n",
        "# test set 크기 30%\n",
        "\n",
        "print(X_train.head()) # default 5개\n",
        "print('-' * 30)\n",
        "print(X_test.head())\n",
        "print('-' * 30)\n",
        "print(y_train.head())\n",
        "print('-' * 30)\n",
        "print(y_test.head())\n",
        "print('-' * 30)"
      ],
      "metadata": {
        "colab": {
          "base_uri": "https://localhost:8080/"
        },
        "id": "6B8S-JQ806y2",
        "outputId": "8e66f054-3871-4afd-9918-0c3aa139ff95"
      },
      "execution_count": null,
      "outputs": [
        {
          "output_type": "stream",
          "name": "stdout",
          "text": [
            "           County        City\n",
            "12828        King     Seattle\n",
            "66594   Snohomish    Mukilteo\n",
            "47642   Snohomish     Bothell\n",
            "747          King    Kirkland\n",
            "130729    Whatcom  Bellingham\n",
            "------------------------------\n",
            "           County        City\n",
            "76398      Island  Oak Harbor\n",
            "139195  Snohomish     Bothell\n",
            "105742       King     Seattle\n",
            "8400         King     Tukwila\n",
            "125160  Snohomish  Marysville\n",
            "------------------------------\n",
            "          Model\n",
            "12828      XC90\n",
            "66594        IX\n",
            "47642   MODEL Y\n",
            "747     MODEL 3\n",
            "130729     LEAF\n",
            "------------------------------\n",
            "          Model\n",
            "76398   MODEL 3\n",
            "139195     ID.4\n",
            "105742   E-GOLF\n",
            "8400       LEAF\n",
            "125160  MODEL Y\n",
            "------------------------------\n"
          ]
        }
      ]
    },
    {
      "cell_type": "code",
      "source": [
        "scaler = StandardScaler()\n",
        "# StandardScaler() : 데이터의 표준화(Standardization)\n",
        "# 각 특성(변수)의 평균을 0으로, 표준편차를 1로 만들어서\n",
        "# 데이터의 분포를 표준 정규 분포에 가깝게 변환하는 과정"
      ],
      "metadata": {
        "id": "4aXuvobo1XmE"
      },
      "execution_count": null,
      "outputs": []
    },
    {
      "cell_type": "code",
      "source": [
        "scaler.fit(X) # X를 fiting"
      ],
      "metadata": {
        "colab": {
          "base_uri": "https://localhost:8080/",
          "height": 329
        },
        "id": "LYlnEfe81aSb",
        "outputId": "1e924333-4ef3-4f89-a531-322e76691b14"
      },
      "execution_count": null,
      "outputs": [
        {
          "output_type": "error",
          "ename": "ValueError",
          "evalue": "ignored",
          "traceback": [
            "\u001b[0;31m---------------------------------------------------------------------------\u001b[0m",
            "\u001b[0;31mValueError\u001b[0m                                Traceback (most recent call last)",
            "\u001b[0;32m<ipython-input-100-4984ab6cc87c>\u001b[0m in \u001b[0;36m<cell line: 1>\u001b[0;34m()\u001b[0m\n\u001b[0;32m----> 1\u001b[0;31m \u001b[0mscaler\u001b[0m\u001b[0;34m.\u001b[0m\u001b[0mfit\u001b[0m\u001b[0;34m(\u001b[0m\u001b[0mX\u001b[0m\u001b[0;34m)\u001b[0m \u001b[0;31m# X를 fiting\u001b[0m\u001b[0;34m\u001b[0m\u001b[0;34m\u001b[0m\u001b[0m\n\u001b[0m",
            "\u001b[0;32m/usr/local/lib/python3.10/dist-packages/sklearn/preprocessing/_data.py\u001b[0m in \u001b[0;36mfit\u001b[0;34m(self, X, y, sample_weight)\u001b[0m\n\u001b[1;32m    822\u001b[0m         \u001b[0;31m# Reset internal state before fitting\u001b[0m\u001b[0;34m\u001b[0m\u001b[0;34m\u001b[0m\u001b[0m\n\u001b[1;32m    823\u001b[0m         \u001b[0mself\u001b[0m\u001b[0;34m.\u001b[0m\u001b[0m_reset\u001b[0m\u001b[0;34m(\u001b[0m\u001b[0;34m)\u001b[0m\u001b[0;34m\u001b[0m\u001b[0;34m\u001b[0m\u001b[0m\n\u001b[0;32m--> 824\u001b[0;31m         \u001b[0;32mreturn\u001b[0m \u001b[0mself\u001b[0m\u001b[0;34m.\u001b[0m\u001b[0mpartial_fit\u001b[0m\u001b[0;34m(\u001b[0m\u001b[0mX\u001b[0m\u001b[0;34m,\u001b[0m \u001b[0my\u001b[0m\u001b[0;34m,\u001b[0m \u001b[0msample_weight\u001b[0m\u001b[0;34m)\u001b[0m\u001b[0;34m\u001b[0m\u001b[0;34m\u001b[0m\u001b[0m\n\u001b[0m\u001b[1;32m    825\u001b[0m \u001b[0;34m\u001b[0m\u001b[0m\n\u001b[1;32m    826\u001b[0m     \u001b[0;32mdef\u001b[0m \u001b[0mpartial_fit\u001b[0m\u001b[0;34m(\u001b[0m\u001b[0mself\u001b[0m\u001b[0;34m,\u001b[0m \u001b[0mX\u001b[0m\u001b[0;34m,\u001b[0m \u001b[0my\u001b[0m\u001b[0;34m=\u001b[0m\u001b[0;32mNone\u001b[0m\u001b[0;34m,\u001b[0m \u001b[0msample_weight\u001b[0m\u001b[0;34m=\u001b[0m\u001b[0;32mNone\u001b[0m\u001b[0;34m)\u001b[0m\u001b[0;34m:\u001b[0m\u001b[0;34m\u001b[0m\u001b[0;34m\u001b[0m\u001b[0m\n",
            "\u001b[0;32m/usr/local/lib/python3.10/dist-packages/sklearn/preprocessing/_data.py\u001b[0m in \u001b[0;36mpartial_fit\u001b[0;34m(self, X, y, sample_weight)\u001b[0m\n\u001b[1;32m    859\u001b[0m \u001b[0;34m\u001b[0m\u001b[0m\n\u001b[1;32m    860\u001b[0m         \u001b[0mfirst_call\u001b[0m \u001b[0;34m=\u001b[0m \u001b[0;32mnot\u001b[0m \u001b[0mhasattr\u001b[0m\u001b[0;34m(\u001b[0m\u001b[0mself\u001b[0m\u001b[0;34m,\u001b[0m \u001b[0;34m\"n_samples_seen_\"\u001b[0m\u001b[0;34m)\u001b[0m\u001b[0;34m\u001b[0m\u001b[0;34m\u001b[0m\u001b[0m\n\u001b[0;32m--> 861\u001b[0;31m         X = self._validate_data(\n\u001b[0m\u001b[1;32m    862\u001b[0m             \u001b[0mX\u001b[0m\u001b[0;34m,\u001b[0m\u001b[0;34m\u001b[0m\u001b[0;34m\u001b[0m\u001b[0m\n\u001b[1;32m    863\u001b[0m             \u001b[0maccept_sparse\u001b[0m\u001b[0;34m=\u001b[0m\u001b[0;34m(\u001b[0m\u001b[0;34m\"csr\"\u001b[0m\u001b[0;34m,\u001b[0m \u001b[0;34m\"csc\"\u001b[0m\u001b[0;34m)\u001b[0m\u001b[0;34m,\u001b[0m\u001b[0;34m\u001b[0m\u001b[0;34m\u001b[0m\u001b[0m\n",
            "\u001b[0;32m/usr/local/lib/python3.10/dist-packages/sklearn/base.py\u001b[0m in \u001b[0;36m_validate_data\u001b[0;34m(self, X, y, reset, validate_separately, **check_params)\u001b[0m\n\u001b[1;32m    563\u001b[0m             \u001b[0;32mraise\u001b[0m \u001b[0mValueError\u001b[0m\u001b[0;34m(\u001b[0m\u001b[0;34m\"Validation should be done on X, y or both.\"\u001b[0m\u001b[0;34m)\u001b[0m\u001b[0;34m\u001b[0m\u001b[0;34m\u001b[0m\u001b[0m\n\u001b[1;32m    564\u001b[0m         \u001b[0;32melif\u001b[0m \u001b[0;32mnot\u001b[0m \u001b[0mno_val_X\u001b[0m \u001b[0;32mand\u001b[0m \u001b[0mno_val_y\u001b[0m\u001b[0;34m:\u001b[0m\u001b[0;34m\u001b[0m\u001b[0;34m\u001b[0m\u001b[0m\n\u001b[0;32m--> 565\u001b[0;31m             \u001b[0mX\u001b[0m \u001b[0;34m=\u001b[0m \u001b[0mcheck_array\u001b[0m\u001b[0;34m(\u001b[0m\u001b[0mX\u001b[0m\u001b[0;34m,\u001b[0m \u001b[0minput_name\u001b[0m\u001b[0;34m=\u001b[0m\u001b[0;34m\"X\"\u001b[0m\u001b[0;34m,\u001b[0m \u001b[0;34m**\u001b[0m\u001b[0mcheck_params\u001b[0m\u001b[0;34m)\u001b[0m\u001b[0;34m\u001b[0m\u001b[0;34m\u001b[0m\u001b[0m\n\u001b[0m\u001b[1;32m    566\u001b[0m             \u001b[0mout\u001b[0m \u001b[0;34m=\u001b[0m \u001b[0mX\u001b[0m\u001b[0;34m\u001b[0m\u001b[0;34m\u001b[0m\u001b[0m\n\u001b[1;32m    567\u001b[0m         \u001b[0;32melif\u001b[0m \u001b[0mno_val_X\u001b[0m \u001b[0;32mand\u001b[0m \u001b[0;32mnot\u001b[0m \u001b[0mno_val_y\u001b[0m\u001b[0;34m:\u001b[0m\u001b[0;34m\u001b[0m\u001b[0;34m\u001b[0m\u001b[0m\n",
            "\u001b[0;32m/usr/local/lib/python3.10/dist-packages/sklearn/utils/validation.py\u001b[0m in \u001b[0;36mcheck_array\u001b[0;34m(array, accept_sparse, accept_large_sparse, dtype, order, copy, force_all_finite, ensure_2d, allow_nd, ensure_min_samples, ensure_min_features, estimator, input_name)\u001b[0m\n\u001b[1;32m    877\u001b[0m                     \u001b[0marray\u001b[0m \u001b[0;34m=\u001b[0m \u001b[0mxp\u001b[0m\u001b[0;34m.\u001b[0m\u001b[0mastype\u001b[0m\u001b[0;34m(\u001b[0m\u001b[0marray\u001b[0m\u001b[0;34m,\u001b[0m \u001b[0mdtype\u001b[0m\u001b[0;34m,\u001b[0m \u001b[0mcopy\u001b[0m\u001b[0;34m=\u001b[0m\u001b[0;32mFalse\u001b[0m\u001b[0;34m)\u001b[0m\u001b[0;34m\u001b[0m\u001b[0;34m\u001b[0m\u001b[0m\n\u001b[1;32m    878\u001b[0m                 \u001b[0;32melse\u001b[0m\u001b[0;34m:\u001b[0m\u001b[0;34m\u001b[0m\u001b[0;34m\u001b[0m\u001b[0m\n\u001b[0;32m--> 879\u001b[0;31m                     \u001b[0marray\u001b[0m \u001b[0;34m=\u001b[0m \u001b[0m_asarray_with_order\u001b[0m\u001b[0;34m(\u001b[0m\u001b[0marray\u001b[0m\u001b[0;34m,\u001b[0m \u001b[0morder\u001b[0m\u001b[0;34m=\u001b[0m\u001b[0morder\u001b[0m\u001b[0;34m,\u001b[0m \u001b[0mdtype\u001b[0m\u001b[0;34m=\u001b[0m\u001b[0mdtype\u001b[0m\u001b[0;34m,\u001b[0m \u001b[0mxp\u001b[0m\u001b[0;34m=\u001b[0m\u001b[0mxp\u001b[0m\u001b[0;34m)\u001b[0m\u001b[0;34m\u001b[0m\u001b[0;34m\u001b[0m\u001b[0m\n\u001b[0m\u001b[1;32m    880\u001b[0m             \u001b[0;32mexcept\u001b[0m \u001b[0mComplexWarning\u001b[0m \u001b[0;32mas\u001b[0m \u001b[0mcomplex_warning\u001b[0m\u001b[0;34m:\u001b[0m\u001b[0;34m\u001b[0m\u001b[0;34m\u001b[0m\u001b[0m\n\u001b[1;32m    881\u001b[0m                 raise ValueError(\n",
            "\u001b[0;32m/usr/local/lib/python3.10/dist-packages/sklearn/utils/_array_api.py\u001b[0m in \u001b[0;36m_asarray_with_order\u001b[0;34m(array, dtype, order, copy, xp)\u001b[0m\n\u001b[1;32m    183\u001b[0m     \u001b[0;32mif\u001b[0m \u001b[0mxp\u001b[0m\u001b[0;34m.\u001b[0m\u001b[0m__name__\u001b[0m \u001b[0;32min\u001b[0m \u001b[0;34m{\u001b[0m\u001b[0;34m\"numpy\"\u001b[0m\u001b[0;34m,\u001b[0m \u001b[0;34m\"numpy.array_api\"\u001b[0m\u001b[0;34m}\u001b[0m\u001b[0;34m:\u001b[0m\u001b[0;34m\u001b[0m\u001b[0;34m\u001b[0m\u001b[0m\n\u001b[1;32m    184\u001b[0m         \u001b[0;31m# Use NumPy API to support order\u001b[0m\u001b[0;34m\u001b[0m\u001b[0;34m\u001b[0m\u001b[0m\n\u001b[0;32m--> 185\u001b[0;31m         \u001b[0marray\u001b[0m \u001b[0;34m=\u001b[0m \u001b[0mnumpy\u001b[0m\u001b[0;34m.\u001b[0m\u001b[0masarray\u001b[0m\u001b[0;34m(\u001b[0m\u001b[0marray\u001b[0m\u001b[0;34m,\u001b[0m \u001b[0morder\u001b[0m\u001b[0;34m=\u001b[0m\u001b[0morder\u001b[0m\u001b[0;34m,\u001b[0m \u001b[0mdtype\u001b[0m\u001b[0;34m=\u001b[0m\u001b[0mdtype\u001b[0m\u001b[0;34m)\u001b[0m\u001b[0;34m\u001b[0m\u001b[0;34m\u001b[0m\u001b[0m\n\u001b[0m\u001b[1;32m    186\u001b[0m         \u001b[0;32mreturn\u001b[0m \u001b[0mxp\u001b[0m\u001b[0;34m.\u001b[0m\u001b[0masarray\u001b[0m\u001b[0;34m(\u001b[0m\u001b[0marray\u001b[0m\u001b[0;34m,\u001b[0m \u001b[0mcopy\u001b[0m\u001b[0;34m=\u001b[0m\u001b[0mcopy\u001b[0m\u001b[0;34m)\u001b[0m\u001b[0;34m\u001b[0m\u001b[0;34m\u001b[0m\u001b[0m\n\u001b[1;32m    187\u001b[0m     \u001b[0;32melse\u001b[0m\u001b[0;34m:\u001b[0m\u001b[0;34m\u001b[0m\u001b[0;34m\u001b[0m\u001b[0m\n",
            "\u001b[0;32m/usr/local/lib/python3.10/dist-packages/pandas/core/generic.py\u001b[0m in \u001b[0;36m__array__\u001b[0;34m(self, dtype)\u001b[0m\n\u001b[1;32m   2068\u001b[0m \u001b[0;34m\u001b[0m\u001b[0m\n\u001b[1;32m   2069\u001b[0m     \u001b[0;32mdef\u001b[0m \u001b[0m__array__\u001b[0m\u001b[0;34m(\u001b[0m\u001b[0mself\u001b[0m\u001b[0;34m,\u001b[0m \u001b[0mdtype\u001b[0m\u001b[0;34m:\u001b[0m \u001b[0mnpt\u001b[0m\u001b[0;34m.\u001b[0m\u001b[0mDTypeLike\u001b[0m \u001b[0;34m|\u001b[0m \u001b[0;32mNone\u001b[0m \u001b[0;34m=\u001b[0m \u001b[0;32mNone\u001b[0m\u001b[0;34m)\u001b[0m \u001b[0;34m->\u001b[0m \u001b[0mnp\u001b[0m\u001b[0;34m.\u001b[0m\u001b[0mndarray\u001b[0m\u001b[0;34m:\u001b[0m\u001b[0;34m\u001b[0m\u001b[0;34m\u001b[0m\u001b[0m\n\u001b[0;32m-> 2070\u001b[0;31m         \u001b[0;32mreturn\u001b[0m \u001b[0mnp\u001b[0m\u001b[0;34m.\u001b[0m\u001b[0masarray\u001b[0m\u001b[0;34m(\u001b[0m\u001b[0mself\u001b[0m\u001b[0;34m.\u001b[0m\u001b[0m_values\u001b[0m\u001b[0;34m,\u001b[0m \u001b[0mdtype\u001b[0m\u001b[0;34m=\u001b[0m\u001b[0mdtype\u001b[0m\u001b[0;34m)\u001b[0m\u001b[0;34m\u001b[0m\u001b[0;34m\u001b[0m\u001b[0m\n\u001b[0m\u001b[1;32m   2071\u001b[0m \u001b[0;34m\u001b[0m\u001b[0m\n\u001b[1;32m   2072\u001b[0m     def __array_wrap__(\n",
            "\u001b[0;31mValueError\u001b[0m: could not convert string to float: 'King'"
          ]
        }
      ]
    },
    {
      "cell_type": "markdown",
      "source": [
        "### **3-(6)**\n",
        "\n",
        "1.   최소 3가지 ML 알고리즘 사용 데이터 분석 후 결과 제시\n",
        "2.   ML 수행함에 있어 Performance 향상을 위해 노력(parameter tuning 등)"
      ],
      "metadata": {
        "id": "i3JYRfd8VgW-"
      }
    },
    {
      "cell_type": "code",
      "source": [],
      "metadata": {
        "id": "mYN3euWpV7AZ"
      },
      "execution_count": null,
      "outputs": []
    },
    {
      "cell_type": "markdown",
      "source": [
        "### **3-(7)**\n",
        "\n",
        "1.   결과 해석, 가장 적절한 모형(best performance model) 제시\n",
        "2.   적절한 모델을 어떻게 선택하였는지 결과(confusion matrix, RMSE, Y 예측값)와 설명 제시"
      ],
      "metadata": {
        "id": "F3evoij-V7aq"
      }
    },
    {
      "cell_type": "code",
      "source": [],
      "metadata": {
        "id": "cdZFcbSyWSrk"
      },
      "execution_count": null,
      "outputs": []
    },
    {
      "cell_type": "markdown",
      "source": [
        "3-(8)\n",
        "\n",
        "*   상기 모든 과정 2p 요약 정리\u001f\n",
        "*   6가지 사항 포함"
      ],
      "metadata": {
        "id": "OUNMOTz2WS7d"
      }
    },
    {
      "cell_type": "code",
      "source": [],
      "metadata": {
        "id": "t1U4r5bnWqPs"
      },
      "execution_count": null,
      "outputs": []
    }
  ]
}