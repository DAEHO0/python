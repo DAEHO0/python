{
 "cells": [
  {
   "cell_type": "code",
   "execution_count": 4,
   "id": "2a0ad350",
   "metadata": {},
   "outputs": [
    {
     "data": {
      "text/html": [
       "<div>\n",
       "<style scoped>\n",
       "    .dataframe tbody tr th:only-of-type {\n",
       "        vertical-align: middle;\n",
       "    }\n",
       "\n",
       "    .dataframe tbody tr th {\n",
       "        vertical-align: top;\n",
       "    }\n",
       "\n",
       "    .dataframe thead th {\n",
       "        text-align: right;\n",
       "    }\n",
       "</style>\n",
       "<table border=\"1\" class=\"dataframe\">\n",
       "  <thead>\n",
       "    <tr style=\"text-align: right;\">\n",
       "      <th></th>\n",
       "      <th>order_id</th>\n",
       "      <th>quantity</th>\n",
       "      <th>item_name</th>\n",
       "      <th>choice_description</th>\n",
       "      <th>item_price</th>\n",
       "    </tr>\n",
       "  </thead>\n",
       "  <tbody>\n",
       "    <tr>\n",
       "      <th>0</th>\n",
       "      <td>1</td>\n",
       "      <td>1</td>\n",
       "      <td>Chips and Fresh Tomato Salsa</td>\n",
       "      <td>NaN</td>\n",
       "      <td>US$2.39</td>\n",
       "    </tr>\n",
       "    <tr>\n",
       "      <th>1</th>\n",
       "      <td>1</td>\n",
       "      <td>1</td>\n",
       "      <td>Izze</td>\n",
       "      <td>[Clementine]</td>\n",
       "      <td>US$3.39</td>\n",
       "    </tr>\n",
       "    <tr>\n",
       "      <th>2</th>\n",
       "      <td>1</td>\n",
       "      <td>1</td>\n",
       "      <td>Nantucket Nectar</td>\n",
       "      <td>[Apple]</td>\n",
       "      <td>US$3.39</td>\n",
       "    </tr>\n",
       "    <tr>\n",
       "      <th>3</th>\n",
       "      <td>1</td>\n",
       "      <td>1</td>\n",
       "      <td>Chips and Tomatillo-Green Chili Salsa</td>\n",
       "      <td>NaN</td>\n",
       "      <td>US$2.39</td>\n",
       "    </tr>\n",
       "    <tr>\n",
       "      <th>4</th>\n",
       "      <td>2</td>\n",
       "      <td>2</td>\n",
       "      <td>Chicken Bowl</td>\n",
       "      <td>[Tomatillo-Red Chili Salsa (Hot), [Black Beans...</td>\n",
       "      <td>US$16.98</td>\n",
       "    </tr>\n",
       "    <tr>\n",
       "      <th>...</th>\n",
       "      <td>...</td>\n",
       "      <td>...</td>\n",
       "      <td>...</td>\n",
       "      <td>...</td>\n",
       "      <td>...</td>\n",
       "    </tr>\n",
       "    <tr>\n",
       "      <th>4617</th>\n",
       "      <td>1833</td>\n",
       "      <td>1</td>\n",
       "      <td>Steak Burrito</td>\n",
       "      <td>[Fresh Tomato Salsa, [Rice, Black Beans, Sour ...</td>\n",
       "      <td>US$11.75</td>\n",
       "    </tr>\n",
       "    <tr>\n",
       "      <th>4618</th>\n",
       "      <td>1833</td>\n",
       "      <td>1</td>\n",
       "      <td>Steak Burrito</td>\n",
       "      <td>[Fresh Tomato Salsa, [Rice, Sour Cream, Cheese...</td>\n",
       "      <td>US$11.75</td>\n",
       "    </tr>\n",
       "    <tr>\n",
       "      <th>4619</th>\n",
       "      <td>1834</td>\n",
       "      <td>1</td>\n",
       "      <td>Chicken Salad Bowl</td>\n",
       "      <td>[Fresh Tomato Salsa, [Fajita Vegetables, Pinto...</td>\n",
       "      <td>US$11.25</td>\n",
       "    </tr>\n",
       "    <tr>\n",
       "      <th>4620</th>\n",
       "      <td>1834</td>\n",
       "      <td>1</td>\n",
       "      <td>Chicken Salad Bowl</td>\n",
       "      <td>[Fresh Tomato Salsa, [Fajita Vegetables, Lettu...</td>\n",
       "      <td>US$8.75</td>\n",
       "    </tr>\n",
       "    <tr>\n",
       "      <th>4621</th>\n",
       "      <td>1834</td>\n",
       "      <td>1</td>\n",
       "      <td>Chicken Salad Bowl</td>\n",
       "      <td>[Fresh Tomato Salsa, [Fajita Vegetables, Pinto...</td>\n",
       "      <td>US$8.75</td>\n",
       "    </tr>\n",
       "  </tbody>\n",
       "</table>\n",
       "<p>4622 rows × 5 columns</p>\n",
       "</div>"
      ],
      "text/plain": [
       "      order_id  quantity                              item_name  \\\n",
       "0            1         1           Chips and Fresh Tomato Salsa   \n",
       "1            1         1                                   Izze   \n",
       "2            1         1                       Nantucket Nectar   \n",
       "3            1         1  Chips and Tomatillo-Green Chili Salsa   \n",
       "4            2         2                           Chicken Bowl   \n",
       "...        ...       ...                                    ...   \n",
       "4617      1833         1                          Steak Burrito   \n",
       "4618      1833         1                          Steak Burrito   \n",
       "4619      1834         1                     Chicken Salad Bowl   \n",
       "4620      1834         1                     Chicken Salad Bowl   \n",
       "4621      1834         1                     Chicken Salad Bowl   \n",
       "\n",
       "                                     choice_description item_price  \n",
       "0                                                   NaN   US$2.39   \n",
       "1                                          [Clementine]   US$3.39   \n",
       "2                                               [Apple]   US$3.39   \n",
       "3                                                   NaN   US$2.39   \n",
       "4     [Tomatillo-Red Chili Salsa (Hot), [Black Beans...  US$16.98   \n",
       "...                                                 ...        ...  \n",
       "4617  [Fresh Tomato Salsa, [Rice, Black Beans, Sour ...  US$11.75   \n",
       "4618  [Fresh Tomato Salsa, [Rice, Sour Cream, Cheese...  US$11.75   \n",
       "4619  [Fresh Tomato Salsa, [Fajita Vegetables, Pinto...  US$11.25   \n",
       "4620  [Fresh Tomato Salsa, [Fajita Vegetables, Lettu...   US$8.75   \n",
       "4621  [Fresh Tomato Salsa, [Fajita Vegetables, Pinto...   US$8.75   \n",
       "\n",
       "[4622 rows x 5 columns]"
      ]
     },
     "execution_count": 4,
     "metadata": {},
     "output_type": "execute_result"
    }
   ],
   "source": [
    "# 재방문 촉진을 위한 할인 쿠폰 지급 기준\n",
    "# 어떤 고객을 대상으로 할인 쿠폰을 지급해야 하는가?\n",
    "\n",
    "# 데이터 불러오기\n",
    "import pandas as pd\n",
    "df = pd.read_csv('data2.csv', encoding = 'utf-8')\n",
    "df"
   ]
  },
  {
   "cell_type": "code",
   "execution_count": 5,
   "id": "eb72b01b",
   "metadata": {},
   "outputs": [
    {
     "name": "stdout",
     "output_type": "stream",
     "text": [
      "\n",
      "DataFrame after dropping NULL values:\n",
      "      order_id  quantity           item_name  \\\n",
      "1            1         1                Izze   \n",
      "2            1         1    Nantucket Nectar   \n",
      "4            2         2        Chicken Bowl   \n",
      "5            3         1        Chicken Bowl   \n",
      "7            4         1       Steak Burrito   \n",
      "...        ...       ...                 ...   \n",
      "4617      1833         1       Steak Burrito   \n",
      "4618      1833         1       Steak Burrito   \n",
      "4619      1834         1  Chicken Salad Bowl   \n",
      "4620      1834         1  Chicken Salad Bowl   \n",
      "4621      1834         1  Chicken Salad Bowl   \n",
      "\n",
      "                                     choice_description item_price  \n",
      "1                                          [Clementine]   US$3.39   \n",
      "2                                               [Apple]   US$3.39   \n",
      "4     [Tomatillo-Red Chili Salsa (Hot), [Black Beans...  US$16.98   \n",
      "5     [Fresh Tomato Salsa (Mild), [Rice, Cheese, Sou...  US$10.98   \n",
      "7     [Tomatillo Red Chili Salsa, [Fajita Vegetables...  US$11.75   \n",
      "...                                                 ...        ...  \n",
      "4617  [Fresh Tomato Salsa, [Rice, Black Beans, Sour ...  US$11.75   \n",
      "4618  [Fresh Tomato Salsa, [Rice, Sour Cream, Cheese...  US$11.75   \n",
      "4619  [Fresh Tomato Salsa, [Fajita Vegetables, Pinto...  US$11.25   \n",
      "4620  [Fresh Tomato Salsa, [Fajita Vegetables, Lettu...   US$8.75   \n",
      "4621  [Fresh Tomato Salsa, [Fajita Vegetables, Pinto...   US$8.75   \n",
      "\n",
      "[3376 rows x 5 columns]\n"
     ]
    }
   ],
   "source": [
    "# Null 값, US$ 제거를 위한 전처리\n",
    "\n",
    "# 전처리\n",
    "import pandas as pd\n",
    "\n",
    "# NULL 값을 삭제한 데이터프레임 생성\n",
    "df_cln = df.dropna()\n",
    "\n",
    "print(\"\\nDataFrame after dropping NULL values:\")\n",
    "print(df_cln)"
   ]
  },
  {
   "cell_type": "code",
   "execution_count": 6,
   "id": "14d0572a",
   "metadata": {},
   "outputs": [
    {
     "name": "stdout",
     "output_type": "stream",
     "text": [
      "Original DataFrame:\n",
      "      order_id  quantity           item_name  \\\n",
      "1            1         1                Izze   \n",
      "2            1         1    Nantucket Nectar   \n",
      "4            2         2        Chicken Bowl   \n",
      "5            3         1        Chicken Bowl   \n",
      "7            4         1       Steak Burrito   \n",
      "...        ...       ...                 ...   \n",
      "4617      1833         1       Steak Burrito   \n",
      "4618      1833         1       Steak Burrito   \n",
      "4619      1834         1  Chicken Salad Bowl   \n",
      "4620      1834         1  Chicken Salad Bowl   \n",
      "4621      1834         1  Chicken Salad Bowl   \n",
      "\n",
      "                                     choice_description  item_price  \n",
      "1                                          [Clementine]        3.39  \n",
      "2                                               [Apple]        3.39  \n",
      "4     [Tomatillo-Red Chili Salsa (Hot), [Black Beans...       16.98  \n",
      "5     [Fresh Tomato Salsa (Mild), [Rice, Cheese, Sou...       10.98  \n",
      "7     [Tomatillo Red Chili Salsa, [Fajita Vegetables...       11.75  \n",
      "...                                                 ...         ...  \n",
      "4617  [Fresh Tomato Salsa, [Rice, Black Beans, Sour ...       11.75  \n",
      "4618  [Fresh Tomato Salsa, [Rice, Sour Cream, Cheese...       11.75  \n",
      "4619  [Fresh Tomato Salsa, [Fajita Vegetables, Pinto...       11.25  \n",
      "4620  [Fresh Tomato Salsa, [Fajita Vegetables, Lettu...        8.75  \n",
      "4621  [Fresh Tomato Salsa, [Fajita Vegetables, Pinto...        8.75  \n",
      "\n",
      "[3376 rows x 5 columns]\n"
     ]
    },
    {
     "name": "stderr",
     "output_type": "stream",
     "text": [
      "/var/folders/s8/b5ddcdnx25l500gsx0l22qrc0000gn/T/ipykernel_1647/609841870.py:4: SettingWithCopyWarning: \n",
      "A value is trying to be set on a copy of a slice from a DataFrame.\n",
      "Try using .loc[row_indexer,col_indexer] = value instead\n",
      "\n",
      "See the caveats in the documentation: https://pandas.pydata.org/pandas-docs/stable/user_guide/indexing.html#returning-a-view-versus-a-copy\n",
      "  df_cln['item_price'] = df_cln['item_price'].str.replace('US\\$', '', regex=True).astype(float)\n"
     ]
    }
   ],
   "source": [
    "import pandas as pd\n",
    "\n",
    "# 'US$'를 제거 후 float 타입으로 변경\n",
    "df_cln['item_price'] = df_cln['item_price'].str.replace('US\\$', '', regex=True).astype(float)\n",
    "\n",
    "print(\"Original DataFrame:\")\n",
    "print(df_cln)"
   ]
  },
  {
   "cell_type": "code",
   "execution_count": 10,
   "id": "d1501f93",
   "metadata": {},
   "outputs": [
    {
     "name": "stdout",
     "output_type": "stream",
     "text": [
      "16.5969558101473\n"
     ]
    }
   ],
   "source": [
    "# order_id별 item_price의 합계를 계산 후 이 합계 값들의 평균을 계산\n",
    "\n",
    "import pandas as pd\n",
    "average_prices = df_cln.groupby('order_id')['item_price'].sum().mean()\n",
    "print(average_prices)"
   ]
  },
  {
   "cell_type": "code",
   "execution_count": 11,
   "id": "05cab217",
   "metadata": {},
   "outputs": [
    {
     "name": "stdout",
     "output_type": "stream",
     "text": [
      "          quantity  item_price\n",
      "order_id                      \n",
      "4                2       21.00\n",
      "20               3       31.75\n",
      "21               3       23.36\n",
      "26               2       20.50\n",
      "28               3       29.25\n",
      "30               3       23.36\n",
      "34               3       26.25\n",
      "36               2       18.00\n",
      "37               2       18.00\n",
      "40               3       32.75\n",
      "654\n"
     ]
    },
    {
     "name": "stderr",
     "output_type": "stream",
     "text": [
      "/var/folders/s8/b5ddcdnx25l500gsx0l22qrc0000gn/T/ipykernel_1647/3852189689.py:1: FutureWarning: The default value of numeric_only in DataFrameGroupBy.sum is deprecated. In a future version, numeric_only will default to False. Either specify numeric_only or select only columns which should be valid for the function.\n",
      "  df_orid_grp = df_cln.groupby('order_id').sum()\n"
     ]
    }
   ],
   "source": [
    "# order_id별 합계 계산 후 df_orid_grp에 저장\n",
    "df_orid_grp = df_cln.groupby('order_id').sum()\n",
    "\n",
    "# order_id별 item_price의 평균 >= 18($)인 값을 추출\n",
    "results = df_orid_grp[df_orid_grp.item_price >= 18]\n",
    "\n",
    "# 상위 10개 행 추출\n",
    "print(results[:10])\n",
    "\n",
    "# 위 조건에 만족하는 행의 개수\n",
    "print(len(results.index.values))\n",
    "\n",
    "\n",
    "# quantity를 방문 횟수로 해석함\n",
    "# 654개로 너무 많은 고객이 모임\n",
    "# 방문 횟수가 대체로 적은 편"
   ]
  },
  {
   "cell_type": "code",
   "execution_count": 12,
   "id": "b2965c31",
   "metadata": {},
   "outputs": [
    {
     "name": "stdout",
     "output_type": "stream",
     "text": [
      "          quantity  item_price\n",
      "order_id                      \n",
      "195              8       81.00\n",
      "205             11      107.75\n",
      "491             10      102.00\n",
      "511              9       77.99\n",
      "577              5       56.25\n",
      "691             11      118.25\n",
      "759             10       65.50\n",
      "818              6       59.00\n",
      "848              6       52.50\n",
      "926             23      205.25\n",
      "19\n"
     ]
    },
    {
     "name": "stderr",
     "output_type": "stream",
     "text": [
      "/var/folders/s8/b5ddcdnx25l500gsx0l22qrc0000gn/T/ipykernel_1647/2020762404.py:2: FutureWarning: The default value of numeric_only in DataFrameGroupBy.sum is deprecated. In a future version, numeric_only will default to False. Either specify numeric_only or select only columns which should be valid for the function.\n",
      "  df_orid_grp = df_cln.groupby('order_id').sum()\n"
     ]
    }
   ],
   "source": [
    "# order_id별 합계 계산 후 df_orid_grp에 저장\n",
    "df_orid_grp = df_cln.groupby('order_id').sum()\n",
    "\n",
    "# order_id별 item_price의 평균 >= 50($)인 값을 추출\n",
    "results = df_orid_grp[df_orid_grp.item_price >= 50]\n",
    "\n",
    "# 상위 10개 행 추출\n",
    "print(results[:10])\n",
    "\n",
    "# 위 조건에 만족하는 행의 개수\n",
    "print(len(results.index.values))\n",
    "\n",
    "\n",
    "# 방문 횟수도 평균 구매금액이 18$인 고객들에 비해 높음\n",
    "# 19개 합리적!"
   ]
  },
  {
   "cell_type": "code",
   "execution_count": 13,
   "id": "2d4d2722",
   "metadata": {},
   "outputs": [],
   "source": [
    "# 결론 :\n",
    "# 고객별 구매금액(item_price)의 합계를 계산 후 평균을 매김\n",
    "# 한 고객당 구매 평균 금액은 18$로 밝혀짐\n",
    "# 평균 구매금액이 50$ 이상인 고객들은 방문 횟수가 대체로 많음\n",
    "\n",
    "# Insight :\n",
    "# 한 달 기준 누적 방문횟수 6회 이상, 50$ 이상 구매한 고객들 대상으로\n",
    "# 할인 쿠폰을 지급"
   ]
  },
  {
   "cell_type": "code",
   "execution_count": null,
   "id": "b668ed08",
   "metadata": {},
   "outputs": [],
   "source": []
  }
 ],
 "metadata": {
  "kernelspec": {
   "display_name": "Python 3 (ipykernel)",
   "language": "python",
   "name": "python3"
  },
  "language_info": {
   "codemirror_mode": {
    "name": "ipython",
    "version": 3
   },
   "file_extension": ".py",
   "mimetype": "text/x-python",
   "name": "python",
   "nbconvert_exporter": "python",
   "pygments_lexer": "ipython3",
   "version": "3.10.9"
  }
 },
 "nbformat": 4,
 "nbformat_minor": 5
}
