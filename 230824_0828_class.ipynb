{
  "cells": [
    {
      "cell_type": "markdown",
      "metadata": {
        "id": "view-in-github",
        "colab_type": "text"
      },
      "source": [
        "<a href=\"https://colab.research.google.com/github/DAEHO0/python/blob/main/230824_0828_class.ipynb\" target=\"_parent\"><img src=\"https://colab.research.google.com/assets/colab-badge.svg\" alt=\"Open In Colab\"/></a>"
      ]
    },
    {
      "cell_type": "code",
      "execution_count": null,
      "id": "abc4c7a5",
      "metadata": {
        "id": "abc4c7a5"
      },
      "outputs": [],
      "source": [
        "# 20230824 ML파트\n",
        "import pandas as pd\n",
        "from sklearn.model_selection import train_test_split\n",
        "from sklearn.preprocessing import StandardScaler"
      ]
    },
    {
      "cell_type": "code",
      "source": [
        "from google.colab import drive\n",
        "drive.mount('/content/drive')"
      ],
      "metadata": {
        "colab": {
          "base_uri": "https://localhost:8080/"
        },
        "id": "02XGOOWz4rev",
        "outputId": "8b5f0529-6907-46f3-8cf3-a20460a7a309"
      },
      "id": "02XGOOWz4rev",
      "execution_count": null,
      "outputs": [
        {
          "output_type": "stream",
          "name": "stdout",
          "text": [
            "Drive already mounted at /content/drive; to attempt to forcibly remount, call drive.mount(\"/content/drive\", force_remount=True).\n"
          ]
        }
      ]
    },
    {
      "cell_type": "code",
      "execution_count": null,
      "id": "32e51006",
      "metadata": {
        "colab": {
          "base_uri": "https://localhost:8080/",
          "height": 441
        },
        "id": "32e51006",
        "outputId": "a8e4df75-870f-40b1-f401-06119ea404ea"
      },
      "outputs": [
        {
          "output_type": "execute_result",
          "data": {
            "text/plain": [
              "     고객ID  이탈여부      총매출액  구매금액대  방문빈도  1회 평균매출액  할인권 사용 횟수  총 할인 금액  고객등급  \\\n",
              "0       1     1   4963160      1    22    225598          1     5445     1   \n",
              "1       2     1   2271520      0    38     59777         22   350995     1   \n",
              "2       3     1   2484250      0     2   1242125          6   186045     1   \n",
              "3       4     1   2778850      0     9    308761          1     5195     2   \n",
              "4       5     1   4437610      1    10    443761          9   246350     2   \n",
              "..    ...   ...       ...    ...   ...       ...        ...      ...   ...   \n",
              "995   996     0  12731560      2    35    363759          3    44445     2   \n",
              "996   997     0   3419010      0     6    569835          6   186545     1   \n",
              "997   998     0   4612100      1    13    354777          8   260700     2   \n",
              "998   999     0   5165360      1    28    184477         20   347700     1   \n",
              "999  1000     0   4323050      1    16    270191         19   367045     2   \n",
              "\n",
              "     구매유형  ...  구매카테고리수  거주지역  성별  고객 나이대  거래기간  할인민감여부  Recency  Frequency  \\\n",
              "0       3  ...        7     6   1       6  3303       0        3          2   \n",
              "1       1  ...        5     4   0       2  3129       0        5          3   \n",
              "2       2  ...        4     6   0       3  3636       0        4          1   \n",
              "3       4  ...        4     5   0       4  3637       0        7          4   \n",
              "4       4  ...        6     6   0       4  3638       0        5          1   \n",
              "..    ...  ...      ...   ...  ..     ...   ...     ...      ...        ...   \n",
              "995     3  ...        8     6   0       4  4629       1        3          3   \n",
              "996     2  ...        9     6   0       4  4630       1        7          3   \n",
              "997     1  ...        1     4   1       6  4631       1        2          1   \n",
              "998     3  ...        7     5   1       6  3907       0        7          2   \n",
              "999     4  ...        6     5   1       6  2118       0        5          1   \n",
              "\n",
              "     Monetary      평균 구매주기  \n",
              "0           1   149.136364  \n",
              "1           4    81.342105  \n",
              "2           4  1817.000000  \n",
              "3           6   403.111111  \n",
              "4           4   362.800000  \n",
              "..        ...          ...  \n",
              "995         1   131.257143  \n",
              "996         6   770.666667  \n",
              "997         2   355.230769  \n",
              "998         6   138.535714  \n",
              "999         4   131.375000  \n",
              "\n",
              "[1000 rows x 21 columns]"
            ],
            "text/html": [
              "\n",
              "  <div id=\"df-e2dc1eb5-b406-4c09-9100-0d6c03a45a3b\" class=\"colab-df-container\">\n",
              "    <div>\n",
              "<style scoped>\n",
              "    .dataframe tbody tr th:only-of-type {\n",
              "        vertical-align: middle;\n",
              "    }\n",
              "\n",
              "    .dataframe tbody tr th {\n",
              "        vertical-align: top;\n",
              "    }\n",
              "\n",
              "    .dataframe thead th {\n",
              "        text-align: right;\n",
              "    }\n",
              "</style>\n",
              "<table border=\"1\" class=\"dataframe\">\n",
              "  <thead>\n",
              "    <tr style=\"text-align: right;\">\n",
              "      <th></th>\n",
              "      <th>고객ID</th>\n",
              "      <th>이탈여부</th>\n",
              "      <th>총매출액</th>\n",
              "      <th>구매금액대</th>\n",
              "      <th>방문빈도</th>\n",
              "      <th>1회 평균매출액</th>\n",
              "      <th>할인권 사용 횟수</th>\n",
              "      <th>총 할인 금액</th>\n",
              "      <th>고객등급</th>\n",
              "      <th>구매유형</th>\n",
              "      <th>...</th>\n",
              "      <th>구매카테고리수</th>\n",
              "      <th>거주지역</th>\n",
              "      <th>성별</th>\n",
              "      <th>고객 나이대</th>\n",
              "      <th>거래기간</th>\n",
              "      <th>할인민감여부</th>\n",
              "      <th>Recency</th>\n",
              "      <th>Frequency</th>\n",
              "      <th>Monetary</th>\n",
              "      <th>평균 구매주기</th>\n",
              "    </tr>\n",
              "  </thead>\n",
              "  <tbody>\n",
              "    <tr>\n",
              "      <th>0</th>\n",
              "      <td>1</td>\n",
              "      <td>1</td>\n",
              "      <td>4963160</td>\n",
              "      <td>1</td>\n",
              "      <td>22</td>\n",
              "      <td>225598</td>\n",
              "      <td>1</td>\n",
              "      <td>5445</td>\n",
              "      <td>1</td>\n",
              "      <td>3</td>\n",
              "      <td>...</td>\n",
              "      <td>7</td>\n",
              "      <td>6</td>\n",
              "      <td>1</td>\n",
              "      <td>6</td>\n",
              "      <td>3303</td>\n",
              "      <td>0</td>\n",
              "      <td>3</td>\n",
              "      <td>2</td>\n",
              "      <td>1</td>\n",
              "      <td>149.136364</td>\n",
              "    </tr>\n",
              "    <tr>\n",
              "      <th>1</th>\n",
              "      <td>2</td>\n",
              "      <td>1</td>\n",
              "      <td>2271520</td>\n",
              "      <td>0</td>\n",
              "      <td>38</td>\n",
              "      <td>59777</td>\n",
              "      <td>22</td>\n",
              "      <td>350995</td>\n",
              "      <td>1</td>\n",
              "      <td>1</td>\n",
              "      <td>...</td>\n",
              "      <td>5</td>\n",
              "      <td>4</td>\n",
              "      <td>0</td>\n",
              "      <td>2</td>\n",
              "      <td>3129</td>\n",
              "      <td>0</td>\n",
              "      <td>5</td>\n",
              "      <td>3</td>\n",
              "      <td>4</td>\n",
              "      <td>81.342105</td>\n",
              "    </tr>\n",
              "    <tr>\n",
              "      <th>2</th>\n",
              "      <td>3</td>\n",
              "      <td>1</td>\n",
              "      <td>2484250</td>\n",
              "      <td>0</td>\n",
              "      <td>2</td>\n",
              "      <td>1242125</td>\n",
              "      <td>6</td>\n",
              "      <td>186045</td>\n",
              "      <td>1</td>\n",
              "      <td>2</td>\n",
              "      <td>...</td>\n",
              "      <td>4</td>\n",
              "      <td>6</td>\n",
              "      <td>0</td>\n",
              "      <td>3</td>\n",
              "      <td>3636</td>\n",
              "      <td>0</td>\n",
              "      <td>4</td>\n",
              "      <td>1</td>\n",
              "      <td>4</td>\n",
              "      <td>1817.000000</td>\n",
              "    </tr>\n",
              "    <tr>\n",
              "      <th>3</th>\n",
              "      <td>4</td>\n",
              "      <td>1</td>\n",
              "      <td>2778850</td>\n",
              "      <td>0</td>\n",
              "      <td>9</td>\n",
              "      <td>308761</td>\n",
              "      <td>1</td>\n",
              "      <td>5195</td>\n",
              "      <td>2</td>\n",
              "      <td>4</td>\n",
              "      <td>...</td>\n",
              "      <td>4</td>\n",
              "      <td>5</td>\n",
              "      <td>0</td>\n",
              "      <td>4</td>\n",
              "      <td>3637</td>\n",
              "      <td>0</td>\n",
              "      <td>7</td>\n",
              "      <td>4</td>\n",
              "      <td>6</td>\n",
              "      <td>403.111111</td>\n",
              "    </tr>\n",
              "    <tr>\n",
              "      <th>4</th>\n",
              "      <td>5</td>\n",
              "      <td>1</td>\n",
              "      <td>4437610</td>\n",
              "      <td>1</td>\n",
              "      <td>10</td>\n",
              "      <td>443761</td>\n",
              "      <td>9</td>\n",
              "      <td>246350</td>\n",
              "      <td>2</td>\n",
              "      <td>4</td>\n",
              "      <td>...</td>\n",
              "      <td>6</td>\n",
              "      <td>6</td>\n",
              "      <td>0</td>\n",
              "      <td>4</td>\n",
              "      <td>3638</td>\n",
              "      <td>0</td>\n",
              "      <td>5</td>\n",
              "      <td>1</td>\n",
              "      <td>4</td>\n",
              "      <td>362.800000</td>\n",
              "    </tr>\n",
              "    <tr>\n",
              "      <th>...</th>\n",
              "      <td>...</td>\n",
              "      <td>...</td>\n",
              "      <td>...</td>\n",
              "      <td>...</td>\n",
              "      <td>...</td>\n",
              "      <td>...</td>\n",
              "      <td>...</td>\n",
              "      <td>...</td>\n",
              "      <td>...</td>\n",
              "      <td>...</td>\n",
              "      <td>...</td>\n",
              "      <td>...</td>\n",
              "      <td>...</td>\n",
              "      <td>...</td>\n",
              "      <td>...</td>\n",
              "      <td>...</td>\n",
              "      <td>...</td>\n",
              "      <td>...</td>\n",
              "      <td>...</td>\n",
              "      <td>...</td>\n",
              "      <td>...</td>\n",
              "    </tr>\n",
              "    <tr>\n",
              "      <th>995</th>\n",
              "      <td>996</td>\n",
              "      <td>0</td>\n",
              "      <td>12731560</td>\n",
              "      <td>2</td>\n",
              "      <td>35</td>\n",
              "      <td>363759</td>\n",
              "      <td>3</td>\n",
              "      <td>44445</td>\n",
              "      <td>2</td>\n",
              "      <td>3</td>\n",
              "      <td>...</td>\n",
              "      <td>8</td>\n",
              "      <td>6</td>\n",
              "      <td>0</td>\n",
              "      <td>4</td>\n",
              "      <td>4629</td>\n",
              "      <td>1</td>\n",
              "      <td>3</td>\n",
              "      <td>3</td>\n",
              "      <td>1</td>\n",
              "      <td>131.257143</td>\n",
              "    </tr>\n",
              "    <tr>\n",
              "      <th>996</th>\n",
              "      <td>997</td>\n",
              "      <td>0</td>\n",
              "      <td>3419010</td>\n",
              "      <td>0</td>\n",
              "      <td>6</td>\n",
              "      <td>569835</td>\n",
              "      <td>6</td>\n",
              "      <td>186545</td>\n",
              "      <td>1</td>\n",
              "      <td>2</td>\n",
              "      <td>...</td>\n",
              "      <td>9</td>\n",
              "      <td>6</td>\n",
              "      <td>0</td>\n",
              "      <td>4</td>\n",
              "      <td>4630</td>\n",
              "      <td>1</td>\n",
              "      <td>7</td>\n",
              "      <td>3</td>\n",
              "      <td>6</td>\n",
              "      <td>770.666667</td>\n",
              "    </tr>\n",
              "    <tr>\n",
              "      <th>997</th>\n",
              "      <td>998</td>\n",
              "      <td>0</td>\n",
              "      <td>4612100</td>\n",
              "      <td>1</td>\n",
              "      <td>13</td>\n",
              "      <td>354777</td>\n",
              "      <td>8</td>\n",
              "      <td>260700</td>\n",
              "      <td>2</td>\n",
              "      <td>1</td>\n",
              "      <td>...</td>\n",
              "      <td>1</td>\n",
              "      <td>4</td>\n",
              "      <td>1</td>\n",
              "      <td>6</td>\n",
              "      <td>4631</td>\n",
              "      <td>1</td>\n",
              "      <td>2</td>\n",
              "      <td>1</td>\n",
              "      <td>2</td>\n",
              "      <td>355.230769</td>\n",
              "    </tr>\n",
              "    <tr>\n",
              "      <th>998</th>\n",
              "      <td>999</td>\n",
              "      <td>0</td>\n",
              "      <td>5165360</td>\n",
              "      <td>1</td>\n",
              "      <td>28</td>\n",
              "      <td>184477</td>\n",
              "      <td>20</td>\n",
              "      <td>347700</td>\n",
              "      <td>1</td>\n",
              "      <td>3</td>\n",
              "      <td>...</td>\n",
              "      <td>7</td>\n",
              "      <td>5</td>\n",
              "      <td>1</td>\n",
              "      <td>6</td>\n",
              "      <td>3907</td>\n",
              "      <td>0</td>\n",
              "      <td>7</td>\n",
              "      <td>2</td>\n",
              "      <td>6</td>\n",
              "      <td>138.535714</td>\n",
              "    </tr>\n",
              "    <tr>\n",
              "      <th>999</th>\n",
              "      <td>1000</td>\n",
              "      <td>0</td>\n",
              "      <td>4323050</td>\n",
              "      <td>1</td>\n",
              "      <td>16</td>\n",
              "      <td>270191</td>\n",
              "      <td>19</td>\n",
              "      <td>367045</td>\n",
              "      <td>2</td>\n",
              "      <td>4</td>\n",
              "      <td>...</td>\n",
              "      <td>6</td>\n",
              "      <td>5</td>\n",
              "      <td>1</td>\n",
              "      <td>6</td>\n",
              "      <td>2118</td>\n",
              "      <td>0</td>\n",
              "      <td>5</td>\n",
              "      <td>1</td>\n",
              "      <td>4</td>\n",
              "      <td>131.375000</td>\n",
              "    </tr>\n",
              "  </tbody>\n",
              "</table>\n",
              "<p>1000 rows × 21 columns</p>\n",
              "</div>\n",
              "    <div class=\"colab-df-buttons\">\n",
              "\n",
              "  <div class=\"colab-df-container\">\n",
              "    <button class=\"colab-df-convert\" onclick=\"convertToInteractive('df-e2dc1eb5-b406-4c09-9100-0d6c03a45a3b')\"\n",
              "            title=\"Convert this dataframe to an interactive table.\"\n",
              "            style=\"display:none;\">\n",
              "\n",
              "  <svg xmlns=\"http://www.w3.org/2000/svg\" height=\"24px\" viewBox=\"0 -960 960 960\">\n",
              "    <path d=\"M120-120v-720h720v720H120Zm60-500h600v-160H180v160Zm220 220h160v-160H400v160Zm0 220h160v-160H400v160ZM180-400h160v-160H180v160Zm440 0h160v-160H620v160ZM180-180h160v-160H180v160Zm440 0h160v-160H620v160Z\"/>\n",
              "  </svg>\n",
              "    </button>\n",
              "\n",
              "  <style>\n",
              "    .colab-df-container {\n",
              "      display:flex;\n",
              "      gap: 12px;\n",
              "    }\n",
              "\n",
              "    .colab-df-convert {\n",
              "      background-color: #E8F0FE;\n",
              "      border: none;\n",
              "      border-radius: 50%;\n",
              "      cursor: pointer;\n",
              "      display: none;\n",
              "      fill: #1967D2;\n",
              "      height: 32px;\n",
              "      padding: 0 0 0 0;\n",
              "      width: 32px;\n",
              "    }\n",
              "\n",
              "    .colab-df-convert:hover {\n",
              "      background-color: #E2EBFA;\n",
              "      box-shadow: 0px 1px 2px rgba(60, 64, 67, 0.3), 0px 1px 3px 1px rgba(60, 64, 67, 0.15);\n",
              "      fill: #174EA6;\n",
              "    }\n",
              "\n",
              "    .colab-df-buttons div {\n",
              "      margin-bottom: 4px;\n",
              "    }\n",
              "\n",
              "    [theme=dark] .colab-df-convert {\n",
              "      background-color: #3B4455;\n",
              "      fill: #D2E3FC;\n",
              "    }\n",
              "\n",
              "    [theme=dark] .colab-df-convert:hover {\n",
              "      background-color: #434B5C;\n",
              "      box-shadow: 0px 1px 3px 1px rgba(0, 0, 0, 0.15);\n",
              "      filter: drop-shadow(0px 1px 2px rgba(0, 0, 0, 0.3));\n",
              "      fill: #FFFFFF;\n",
              "    }\n",
              "  </style>\n",
              "\n",
              "    <script>\n",
              "      const buttonEl =\n",
              "        document.querySelector('#df-e2dc1eb5-b406-4c09-9100-0d6c03a45a3b button.colab-df-convert');\n",
              "      buttonEl.style.display =\n",
              "        google.colab.kernel.accessAllowed ? 'block' : 'none';\n",
              "\n",
              "      async function convertToInteractive(key) {\n",
              "        const element = document.querySelector('#df-e2dc1eb5-b406-4c09-9100-0d6c03a45a3b');\n",
              "        const dataTable =\n",
              "          await google.colab.kernel.invokeFunction('convertToInteractive',\n",
              "                                                    [key], {});\n",
              "        if (!dataTable) return;\n",
              "\n",
              "        const docLinkHtml = 'Like what you see? Visit the ' +\n",
              "          '<a target=\"_blank\" href=https://colab.research.google.com/notebooks/data_table.ipynb>data table notebook</a>'\n",
              "          + ' to learn more about interactive tables.';\n",
              "        element.innerHTML = '';\n",
              "        dataTable['output_type'] = 'display_data';\n",
              "        await google.colab.output.renderOutput(dataTable, element);\n",
              "        const docLink = document.createElement('div');\n",
              "        docLink.innerHTML = docLinkHtml;\n",
              "        element.appendChild(docLink);\n",
              "      }\n",
              "    </script>\n",
              "  </div>\n",
              "\n",
              "\n",
              "<div id=\"df-1e929f3f-7c2f-4ed5-8936-d8838a4caa62\">\n",
              "  <button class=\"colab-df-quickchart\" onclick=\"quickchart('df-1e929f3f-7c2f-4ed5-8936-d8838a4caa62')\"\n",
              "            title=\"Suggest charts.\"\n",
              "            style=\"display:none;\">\n",
              "\n",
              "<svg xmlns=\"http://www.w3.org/2000/svg\" height=\"24px\"viewBox=\"0 0 24 24\"\n",
              "     width=\"24px\">\n",
              "    <g>\n",
              "        <path d=\"M19 3H5c-1.1 0-2 .9-2 2v14c0 1.1.9 2 2 2h14c1.1 0 2-.9 2-2V5c0-1.1-.9-2-2-2zM9 17H7v-7h2v7zm4 0h-2V7h2v10zm4 0h-2v-4h2v4z\"/>\n",
              "    </g>\n",
              "</svg>\n",
              "  </button>\n",
              "\n",
              "<style>\n",
              "  .colab-df-quickchart {\n",
              "    background-color: #E8F0FE;\n",
              "    border: none;\n",
              "    border-radius: 50%;\n",
              "    cursor: pointer;\n",
              "    display: none;\n",
              "    fill: #1967D2;\n",
              "    height: 32px;\n",
              "    padding: 0 0 0 0;\n",
              "    width: 32px;\n",
              "  }\n",
              "\n",
              "  .colab-df-quickchart:hover {\n",
              "    background-color: #E2EBFA;\n",
              "    box-shadow: 0px 1px 2px rgba(60, 64, 67, 0.3), 0px 1px 3px 1px rgba(60, 64, 67, 0.15);\n",
              "    fill: #174EA6;\n",
              "  }\n",
              "\n",
              "  [theme=dark] .colab-df-quickchart {\n",
              "    background-color: #3B4455;\n",
              "    fill: #D2E3FC;\n",
              "  }\n",
              "\n",
              "  [theme=dark] .colab-df-quickchart:hover {\n",
              "    background-color: #434B5C;\n",
              "    box-shadow: 0px 1px 3px 1px rgba(0, 0, 0, 0.15);\n",
              "    filter: drop-shadow(0px 1px 2px rgba(0, 0, 0, 0.3));\n",
              "    fill: #FFFFFF;\n",
              "  }\n",
              "</style>\n",
              "\n",
              "  <script>\n",
              "    async function quickchart(key) {\n",
              "      const charts = await google.colab.kernel.invokeFunction(\n",
              "          'suggestCharts', [key], {});\n",
              "    }\n",
              "    (() => {\n",
              "      let quickchartButtonEl =\n",
              "        document.querySelector('#df-1e929f3f-7c2f-4ed5-8936-d8838a4caa62 button');\n",
              "      quickchartButtonEl.style.display =\n",
              "        google.colab.kernel.accessAllowed ? 'block' : 'none';\n",
              "    })();\n",
              "  </script>\n",
              "</div>\n",
              "    </div>\n",
              "  </div>\n"
            ]
          },
          "metadata": {},
          "execution_count": 7
        }
      ],
      "source": [
        "df = pd.read_csv('/content/drive/MyDrive/Ashopping.csv', encoding = 'cp949')\n",
        "df"
      ]
    },
    {
      "cell_type": "code",
      "execution_count": null,
      "id": "9ce6aa37",
      "metadata": {
        "colab": {
          "base_uri": "https://localhost:8080/",
          "height": 253
        },
        "id": "9ce6aa37",
        "outputId": "c8f33933-28e9-4dab-e610-6ee57a2a065f"
      },
      "outputs": [
        {
          "output_type": "execute_result",
          "data": {
            "text/plain": [
              "   고객ID  이탈여부     총매출액  구매금액대  방문빈도  1회 평균매출액  할인권 사용 횟수  총 할인 금액  고객등급  구매유형  \\\n",
              "0     1     1  4963160      1    22    225598          1     5445     1     3   \n",
              "1     2     1  2271520      0    38     59777         22   350995     1     1   \n",
              "2     3     1  2484250      0     2   1242125          6   186045     1     2   \n",
              "3     4     1  2778850      0     9    308761          1     5195     2     4   \n",
              "4     5     1  4437610      1    10    443761          9   246350     2     4   \n",
              "\n",
              "   ...  구매카테고리수  거주지역  성별  고객 나이대  거래기간  할인민감여부  Recency  Frequency  Monetary  \\\n",
              "0  ...        7     6   1       6  3303       0        3          2         1   \n",
              "1  ...        5     4   0       2  3129       0        5          3         4   \n",
              "2  ...        4     6   0       3  3636       0        4          1         4   \n",
              "3  ...        4     5   0       4  3637       0        7          4         6   \n",
              "4  ...        6     6   0       4  3638       0        5          1         4   \n",
              "\n",
              "       평균 구매주기  \n",
              "0   149.136364  \n",
              "1    81.342105  \n",
              "2  1817.000000  \n",
              "3   403.111111  \n",
              "4   362.800000  \n",
              "\n",
              "[5 rows x 21 columns]"
            ],
            "text/html": [
              "\n",
              "  <div id=\"df-6afb54a0-b5b5-404a-86ce-7026fb4d2043\" class=\"colab-df-container\">\n",
              "    <div>\n",
              "<style scoped>\n",
              "    .dataframe tbody tr th:only-of-type {\n",
              "        vertical-align: middle;\n",
              "    }\n",
              "\n",
              "    .dataframe tbody tr th {\n",
              "        vertical-align: top;\n",
              "    }\n",
              "\n",
              "    .dataframe thead th {\n",
              "        text-align: right;\n",
              "    }\n",
              "</style>\n",
              "<table border=\"1\" class=\"dataframe\">\n",
              "  <thead>\n",
              "    <tr style=\"text-align: right;\">\n",
              "      <th></th>\n",
              "      <th>고객ID</th>\n",
              "      <th>이탈여부</th>\n",
              "      <th>총매출액</th>\n",
              "      <th>구매금액대</th>\n",
              "      <th>방문빈도</th>\n",
              "      <th>1회 평균매출액</th>\n",
              "      <th>할인권 사용 횟수</th>\n",
              "      <th>총 할인 금액</th>\n",
              "      <th>고객등급</th>\n",
              "      <th>구매유형</th>\n",
              "      <th>...</th>\n",
              "      <th>구매카테고리수</th>\n",
              "      <th>거주지역</th>\n",
              "      <th>성별</th>\n",
              "      <th>고객 나이대</th>\n",
              "      <th>거래기간</th>\n",
              "      <th>할인민감여부</th>\n",
              "      <th>Recency</th>\n",
              "      <th>Frequency</th>\n",
              "      <th>Monetary</th>\n",
              "      <th>평균 구매주기</th>\n",
              "    </tr>\n",
              "  </thead>\n",
              "  <tbody>\n",
              "    <tr>\n",
              "      <th>0</th>\n",
              "      <td>1</td>\n",
              "      <td>1</td>\n",
              "      <td>4963160</td>\n",
              "      <td>1</td>\n",
              "      <td>22</td>\n",
              "      <td>225598</td>\n",
              "      <td>1</td>\n",
              "      <td>5445</td>\n",
              "      <td>1</td>\n",
              "      <td>3</td>\n",
              "      <td>...</td>\n",
              "      <td>7</td>\n",
              "      <td>6</td>\n",
              "      <td>1</td>\n",
              "      <td>6</td>\n",
              "      <td>3303</td>\n",
              "      <td>0</td>\n",
              "      <td>3</td>\n",
              "      <td>2</td>\n",
              "      <td>1</td>\n",
              "      <td>149.136364</td>\n",
              "    </tr>\n",
              "    <tr>\n",
              "      <th>1</th>\n",
              "      <td>2</td>\n",
              "      <td>1</td>\n",
              "      <td>2271520</td>\n",
              "      <td>0</td>\n",
              "      <td>38</td>\n",
              "      <td>59777</td>\n",
              "      <td>22</td>\n",
              "      <td>350995</td>\n",
              "      <td>1</td>\n",
              "      <td>1</td>\n",
              "      <td>...</td>\n",
              "      <td>5</td>\n",
              "      <td>4</td>\n",
              "      <td>0</td>\n",
              "      <td>2</td>\n",
              "      <td>3129</td>\n",
              "      <td>0</td>\n",
              "      <td>5</td>\n",
              "      <td>3</td>\n",
              "      <td>4</td>\n",
              "      <td>81.342105</td>\n",
              "    </tr>\n",
              "    <tr>\n",
              "      <th>2</th>\n",
              "      <td>3</td>\n",
              "      <td>1</td>\n",
              "      <td>2484250</td>\n",
              "      <td>0</td>\n",
              "      <td>2</td>\n",
              "      <td>1242125</td>\n",
              "      <td>6</td>\n",
              "      <td>186045</td>\n",
              "      <td>1</td>\n",
              "      <td>2</td>\n",
              "      <td>...</td>\n",
              "      <td>4</td>\n",
              "      <td>6</td>\n",
              "      <td>0</td>\n",
              "      <td>3</td>\n",
              "      <td>3636</td>\n",
              "      <td>0</td>\n",
              "      <td>4</td>\n",
              "      <td>1</td>\n",
              "      <td>4</td>\n",
              "      <td>1817.000000</td>\n",
              "    </tr>\n",
              "    <tr>\n",
              "      <th>3</th>\n",
              "      <td>4</td>\n",
              "      <td>1</td>\n",
              "      <td>2778850</td>\n",
              "      <td>0</td>\n",
              "      <td>9</td>\n",
              "      <td>308761</td>\n",
              "      <td>1</td>\n",
              "      <td>5195</td>\n",
              "      <td>2</td>\n",
              "      <td>4</td>\n",
              "      <td>...</td>\n",
              "      <td>4</td>\n",
              "      <td>5</td>\n",
              "      <td>0</td>\n",
              "      <td>4</td>\n",
              "      <td>3637</td>\n",
              "      <td>0</td>\n",
              "      <td>7</td>\n",
              "      <td>4</td>\n",
              "      <td>6</td>\n",
              "      <td>403.111111</td>\n",
              "    </tr>\n",
              "    <tr>\n",
              "      <th>4</th>\n",
              "      <td>5</td>\n",
              "      <td>1</td>\n",
              "      <td>4437610</td>\n",
              "      <td>1</td>\n",
              "      <td>10</td>\n",
              "      <td>443761</td>\n",
              "      <td>9</td>\n",
              "      <td>246350</td>\n",
              "      <td>2</td>\n",
              "      <td>4</td>\n",
              "      <td>...</td>\n",
              "      <td>6</td>\n",
              "      <td>6</td>\n",
              "      <td>0</td>\n",
              "      <td>4</td>\n",
              "      <td>3638</td>\n",
              "      <td>0</td>\n",
              "      <td>5</td>\n",
              "      <td>1</td>\n",
              "      <td>4</td>\n",
              "      <td>362.800000</td>\n",
              "    </tr>\n",
              "  </tbody>\n",
              "</table>\n",
              "<p>5 rows × 21 columns</p>\n",
              "</div>\n",
              "    <div class=\"colab-df-buttons\">\n",
              "\n",
              "  <div class=\"colab-df-container\">\n",
              "    <button class=\"colab-df-convert\" onclick=\"convertToInteractive('df-6afb54a0-b5b5-404a-86ce-7026fb4d2043')\"\n",
              "            title=\"Convert this dataframe to an interactive table.\"\n",
              "            style=\"display:none;\">\n",
              "\n",
              "  <svg xmlns=\"http://www.w3.org/2000/svg\" height=\"24px\" viewBox=\"0 -960 960 960\">\n",
              "    <path d=\"M120-120v-720h720v720H120Zm60-500h600v-160H180v160Zm220 220h160v-160H400v160Zm0 220h160v-160H400v160ZM180-400h160v-160H180v160Zm440 0h160v-160H620v160ZM180-180h160v-160H180v160Zm440 0h160v-160H620v160Z\"/>\n",
              "  </svg>\n",
              "    </button>\n",
              "\n",
              "  <style>\n",
              "    .colab-df-container {\n",
              "      display:flex;\n",
              "      gap: 12px;\n",
              "    }\n",
              "\n",
              "    .colab-df-convert {\n",
              "      background-color: #E8F0FE;\n",
              "      border: none;\n",
              "      border-radius: 50%;\n",
              "      cursor: pointer;\n",
              "      display: none;\n",
              "      fill: #1967D2;\n",
              "      height: 32px;\n",
              "      padding: 0 0 0 0;\n",
              "      width: 32px;\n",
              "    }\n",
              "\n",
              "    .colab-df-convert:hover {\n",
              "      background-color: #E2EBFA;\n",
              "      box-shadow: 0px 1px 2px rgba(60, 64, 67, 0.3), 0px 1px 3px 1px rgba(60, 64, 67, 0.15);\n",
              "      fill: #174EA6;\n",
              "    }\n",
              "\n",
              "    .colab-df-buttons div {\n",
              "      margin-bottom: 4px;\n",
              "    }\n",
              "\n",
              "    [theme=dark] .colab-df-convert {\n",
              "      background-color: #3B4455;\n",
              "      fill: #D2E3FC;\n",
              "    }\n",
              "\n",
              "    [theme=dark] .colab-df-convert:hover {\n",
              "      background-color: #434B5C;\n",
              "      box-shadow: 0px 1px 3px 1px rgba(0, 0, 0, 0.15);\n",
              "      filter: drop-shadow(0px 1px 2px rgba(0, 0, 0, 0.3));\n",
              "      fill: #FFFFFF;\n",
              "    }\n",
              "  </style>\n",
              "\n",
              "    <script>\n",
              "      const buttonEl =\n",
              "        document.querySelector('#df-6afb54a0-b5b5-404a-86ce-7026fb4d2043 button.colab-df-convert');\n",
              "      buttonEl.style.display =\n",
              "        google.colab.kernel.accessAllowed ? 'block' : 'none';\n",
              "\n",
              "      async function convertToInteractive(key) {\n",
              "        const element = document.querySelector('#df-6afb54a0-b5b5-404a-86ce-7026fb4d2043');\n",
              "        const dataTable =\n",
              "          await google.colab.kernel.invokeFunction('convertToInteractive',\n",
              "                                                    [key], {});\n",
              "        if (!dataTable) return;\n",
              "\n",
              "        const docLinkHtml = 'Like what you see? Visit the ' +\n",
              "          '<a target=\"_blank\" href=https://colab.research.google.com/notebooks/data_table.ipynb>data table notebook</a>'\n",
              "          + ' to learn more about interactive tables.';\n",
              "        element.innerHTML = '';\n",
              "        dataTable['output_type'] = 'display_data';\n",
              "        await google.colab.output.renderOutput(dataTable, element);\n",
              "        const docLink = document.createElement('div');\n",
              "        docLink.innerHTML = docLinkHtml;\n",
              "        element.appendChild(docLink);\n",
              "      }\n",
              "    </script>\n",
              "  </div>\n",
              "\n",
              "\n",
              "<div id=\"df-7f7af9a7-e148-4dbb-adba-948c365d696c\">\n",
              "  <button class=\"colab-df-quickchart\" onclick=\"quickchart('df-7f7af9a7-e148-4dbb-adba-948c365d696c')\"\n",
              "            title=\"Suggest charts.\"\n",
              "            style=\"display:none;\">\n",
              "\n",
              "<svg xmlns=\"http://www.w3.org/2000/svg\" height=\"24px\"viewBox=\"0 0 24 24\"\n",
              "     width=\"24px\">\n",
              "    <g>\n",
              "        <path d=\"M19 3H5c-1.1 0-2 .9-2 2v14c0 1.1.9 2 2 2h14c1.1 0 2-.9 2-2V5c0-1.1-.9-2-2-2zM9 17H7v-7h2v7zm4 0h-2V7h2v10zm4 0h-2v-4h2v4z\"/>\n",
              "    </g>\n",
              "</svg>\n",
              "  </button>\n",
              "\n",
              "<style>\n",
              "  .colab-df-quickchart {\n",
              "    background-color: #E8F0FE;\n",
              "    border: none;\n",
              "    border-radius: 50%;\n",
              "    cursor: pointer;\n",
              "    display: none;\n",
              "    fill: #1967D2;\n",
              "    height: 32px;\n",
              "    padding: 0 0 0 0;\n",
              "    width: 32px;\n",
              "  }\n",
              "\n",
              "  .colab-df-quickchart:hover {\n",
              "    background-color: #E2EBFA;\n",
              "    box-shadow: 0px 1px 2px rgba(60, 64, 67, 0.3), 0px 1px 3px 1px rgba(60, 64, 67, 0.15);\n",
              "    fill: #174EA6;\n",
              "  }\n",
              "\n",
              "  [theme=dark] .colab-df-quickchart {\n",
              "    background-color: #3B4455;\n",
              "    fill: #D2E3FC;\n",
              "  }\n",
              "\n",
              "  [theme=dark] .colab-df-quickchart:hover {\n",
              "    background-color: #434B5C;\n",
              "    box-shadow: 0px 1px 3px 1px rgba(0, 0, 0, 0.15);\n",
              "    filter: drop-shadow(0px 1px 2px rgba(0, 0, 0, 0.3));\n",
              "    fill: #FFFFFF;\n",
              "  }\n",
              "</style>\n",
              "\n",
              "  <script>\n",
              "    async function quickchart(key) {\n",
              "      const charts = await google.colab.kernel.invokeFunction(\n",
              "          'suggestCharts', [key], {});\n",
              "    }\n",
              "    (() => {\n",
              "      let quickchartButtonEl =\n",
              "        document.querySelector('#df-7f7af9a7-e148-4dbb-adba-948c365d696c button');\n",
              "      quickchartButtonEl.style.display =\n",
              "        google.colab.kernel.accessAllowed ? 'block' : 'none';\n",
              "    })();\n",
              "  </script>\n",
              "</div>\n",
              "    </div>\n",
              "  </div>\n"
            ]
          },
          "metadata": {},
          "execution_count": 8
        }
      ],
      "source": [
        "df.head()"
      ]
    },
    {
      "cell_type": "code",
      "execution_count": null,
      "id": "c6d5f897",
      "metadata": {
        "colab": {
          "base_uri": "https://localhost:8080/"
        },
        "id": "c6d5f897",
        "outputId": "776679c9-e8de-4e86-8f14-eeb74a9234ba"
      },
      "outputs": [
        {
          "output_type": "execute_result",
          "data": {
            "text/plain": [
              "Index(['고객ID', '이탈여부', '총매출액', '구매금액대', '방문빈도', '1회 평균매출액', '할인권 사용 횟수',\n",
              "       '총 할인 금액', '고객등급', '구매유형', '클레임접수여부', '구매카테고리수', '거주지역', '성별', '고객 나이대',\n",
              "       '거래기간', '할인민감여부', 'Recency', 'Frequency', 'Monetary', '평균 구매주기'],\n",
              "      dtype='object')"
            ]
          },
          "metadata": {},
          "execution_count": 9
        }
      ],
      "source": [
        "df.columns"
      ]
    },
    {
      "cell_type": "code",
      "execution_count": null,
      "id": "9d8d2300",
      "metadata": {
        "id": "9d8d2300"
      },
      "outputs": [],
      "source": [
        "### 분류모형 ###"
      ]
    },
    {
      "cell_type": "code",
      "execution_count": null,
      "id": "4438d151",
      "metadata": {
        "id": "4438d151"
      },
      "outputs": [],
      "source": [
        "## 로지스틱 회귀분석 ##\n",
        "\n",
        "# 베타 값을 구함"
      ]
    },
    {
      "cell_type": "code",
      "execution_count": null,
      "id": "157053f3",
      "metadata": {
        "colab": {
          "base_uri": "https://localhost:8080/"
        },
        "id": "157053f3",
        "outputId": "710f2d8e-b503-49ab-b489-feb8e3b205fe"
      },
      "outputs": [
        {
          "output_type": "stream",
          "name": "stdout",
          "text": [
            "      총매출액  거래기간  방문빈도\n",
            "0  4963160  3303    22\n",
            "1  2271520  3129    38\n",
            "2  2484250  3636     2\n",
            "3  2778850  3637     9\n",
            "4  4437610  3638    10\n",
            "------------------------------\n",
            "0    1\n",
            "1    1\n",
            "2    1\n",
            "3    1\n",
            "4    1\n",
            "Name: 이탈여부, dtype: int64\n"
          ]
        }
      ],
      "source": [
        "X = df[['총매출액', '거래기간', '방문빈도']]\n",
        "Y = df['이탈여부']\n",
        "\n",
        "print(X.head())\n",
        "print(\"-\" * 30)\n",
        "print(Y.head())"
      ]
    },
    {
      "cell_type": "code",
      "execution_count": null,
      "id": "c9dcd9e7",
      "metadata": {
        "colab": {
          "base_uri": "https://localhost:8080/"
        },
        "id": "c9dcd9e7",
        "outputId": "502a1f5a-6004-4d22-ae1d-8b3288db9805"
      },
      "outputs": [
        {
          "output_type": "stream",
          "name": "stdout",
          "text": [
            "        총매출액  거래기간  방문빈도\n",
            "105  9605490  3739    24\n",
            "68   4540390  3495    20\n",
            "479  2911800  4113    42\n",
            "399  9172750  4033    18\n",
            "434  2525020  4068    16\n",
            "------------------------------\n",
            "         총매출액  거래기간  방문빈도\n",
            "993   9118590  2826    15\n",
            "859  17322270  2969    24\n",
            "298   8048480  3932     5\n",
            "553   7545460  1631    71\n",
            "672  11151760  2695    54\n",
            "------------------------------\n",
            "105    1\n",
            "68     1\n",
            "479    0\n",
            "399    0\n",
            "434    0\n",
            "Name: 이탈여부, dtype: int64\n",
            "------------------------------\n",
            "993    0\n",
            "859    0\n",
            "298    1\n",
            "553    0\n",
            "672    0\n",
            "Name: 이탈여부, dtype: int64\n",
            "------------------------------\n"
          ]
        }
      ],
      "source": [
        "X_train, X_test, Y_train, Y_test = train_test_split(X, Y, test_size = 0.3, random_state = 0)\n",
        "# test set 크기 30%\n",
        "\n",
        "print(X_train.head()) # default 5개\n",
        "print('-' * 30)\n",
        "print(X_test.head())\n",
        "print('-' * 30)\n",
        "print(Y_train.head())\n",
        "print('-' * 30)\n",
        "print(Y_test.head())\n",
        "print('-' * 30)"
      ]
    },
    {
      "cell_type": "code",
      "execution_count": null,
      "id": "acc22a3b",
      "metadata": {
        "id": "acc22a3b"
      },
      "outputs": [],
      "source": [
        "scaler = StandardScaler()\n",
        "# StandardScaler() : 데이터의 표준화(Standardization)\n",
        "# 각 특성(변수)의 평균을 0으로, 표준편차를 1로 만들어서\n",
        "# 데이터의 분포를 표준 정규 분포에 가깝게 변환하는 과정"
      ]
    },
    {
      "cell_type": "code",
      "execution_count": null,
      "id": "3d318471",
      "metadata": {
        "colab": {
          "base_uri": "https://localhost:8080/",
          "height": 75
        },
        "id": "3d318471",
        "outputId": "82111974-cb30-4e60-c3d5-7e7c26d97585"
      },
      "outputs": [
        {
          "output_type": "execute_result",
          "data": {
            "text/plain": [
              "StandardScaler()"
            ],
            "text/html": [
              "<style>#sk-container-id-1 {color: black;background-color: white;}#sk-container-id-1 pre{padding: 0;}#sk-container-id-1 div.sk-toggleable {background-color: white;}#sk-container-id-1 label.sk-toggleable__label {cursor: pointer;display: block;width: 100%;margin-bottom: 0;padding: 0.3em;box-sizing: border-box;text-align: center;}#sk-container-id-1 label.sk-toggleable__label-arrow:before {content: \"▸\";float: left;margin-right: 0.25em;color: #696969;}#sk-container-id-1 label.sk-toggleable__label-arrow:hover:before {color: black;}#sk-container-id-1 div.sk-estimator:hover label.sk-toggleable__label-arrow:before {color: black;}#sk-container-id-1 div.sk-toggleable__content {max-height: 0;max-width: 0;overflow: hidden;text-align: left;background-color: #f0f8ff;}#sk-container-id-1 div.sk-toggleable__content pre {margin: 0.2em;color: black;border-radius: 0.25em;background-color: #f0f8ff;}#sk-container-id-1 input.sk-toggleable__control:checked~div.sk-toggleable__content {max-height: 200px;max-width: 100%;overflow: auto;}#sk-container-id-1 input.sk-toggleable__control:checked~label.sk-toggleable__label-arrow:before {content: \"▾\";}#sk-container-id-1 div.sk-estimator input.sk-toggleable__control:checked~label.sk-toggleable__label {background-color: #d4ebff;}#sk-container-id-1 div.sk-label input.sk-toggleable__control:checked~label.sk-toggleable__label {background-color: #d4ebff;}#sk-container-id-1 input.sk-hidden--visually {border: 0;clip: rect(1px 1px 1px 1px);clip: rect(1px, 1px, 1px, 1px);height: 1px;margin: -1px;overflow: hidden;padding: 0;position: absolute;width: 1px;}#sk-container-id-1 div.sk-estimator {font-family: monospace;background-color: #f0f8ff;border: 1px dotted black;border-radius: 0.25em;box-sizing: border-box;margin-bottom: 0.5em;}#sk-container-id-1 div.sk-estimator:hover {background-color: #d4ebff;}#sk-container-id-1 div.sk-parallel-item::after {content: \"\";width: 100%;border-bottom: 1px solid gray;flex-grow: 1;}#sk-container-id-1 div.sk-label:hover label.sk-toggleable__label {background-color: #d4ebff;}#sk-container-id-1 div.sk-serial::before {content: \"\";position: absolute;border-left: 1px solid gray;box-sizing: border-box;top: 0;bottom: 0;left: 50%;z-index: 0;}#sk-container-id-1 div.sk-serial {display: flex;flex-direction: column;align-items: center;background-color: white;padding-right: 0.2em;padding-left: 0.2em;position: relative;}#sk-container-id-1 div.sk-item {position: relative;z-index: 1;}#sk-container-id-1 div.sk-parallel {display: flex;align-items: stretch;justify-content: center;background-color: white;position: relative;}#sk-container-id-1 div.sk-item::before, #sk-container-id-1 div.sk-parallel-item::before {content: \"\";position: absolute;border-left: 1px solid gray;box-sizing: border-box;top: 0;bottom: 0;left: 50%;z-index: -1;}#sk-container-id-1 div.sk-parallel-item {display: flex;flex-direction: column;z-index: 1;position: relative;background-color: white;}#sk-container-id-1 div.sk-parallel-item:first-child::after {align-self: flex-end;width: 50%;}#sk-container-id-1 div.sk-parallel-item:last-child::after {align-self: flex-start;width: 50%;}#sk-container-id-1 div.sk-parallel-item:only-child::after {width: 0;}#sk-container-id-1 div.sk-dashed-wrapped {border: 1px dashed gray;margin: 0 0.4em 0.5em 0.4em;box-sizing: border-box;padding-bottom: 0.4em;background-color: white;}#sk-container-id-1 div.sk-label label {font-family: monospace;font-weight: bold;display: inline-block;line-height: 1.2em;}#sk-container-id-1 div.sk-label-container {text-align: center;}#sk-container-id-1 div.sk-container {/* jupyter's `normalize.less` sets `[hidden] { display: none; }` but bootstrap.min.css set `[hidden] { display: none !important; }` so we also need the `!important` here to be able to override the default hidden behavior on the sphinx rendered scikit-learn.org. See: https://github.com/scikit-learn/scikit-learn/issues/21755 */display: inline-block !important;position: relative;}#sk-container-id-1 div.sk-text-repr-fallback {display: none;}</style><div id=\"sk-container-id-1\" class=\"sk-top-container\"><div class=\"sk-text-repr-fallback\"><pre>StandardScaler()</pre><b>In a Jupyter environment, please rerun this cell to show the HTML representation or trust the notebook. <br />On GitHub, the HTML representation is unable to render, please try loading this page with nbviewer.org.</b></div><div class=\"sk-container\" hidden><div class=\"sk-item\"><div class=\"sk-estimator sk-toggleable\"><input class=\"sk-toggleable__control sk-hidden--visually\" id=\"sk-estimator-id-1\" type=\"checkbox\" checked><label for=\"sk-estimator-id-1\" class=\"sk-toggleable__label sk-toggleable__label-arrow\">StandardScaler</label><div class=\"sk-toggleable__content\"><pre>StandardScaler()</pre></div></div></div></div></div>"
            ]
          },
          "metadata": {},
          "execution_count": 15
        }
      ],
      "source": [
        "scaler.fit(X) # X를 fiting"
      ]
    },
    {
      "cell_type": "code",
      "execution_count": null,
      "id": "bedf3661",
      "metadata": {
        "id": "bedf3661"
      },
      "outputs": [],
      "source": [
        "X_train = scaler.transform(X_train)"
      ]
    },
    {
      "cell_type": "code",
      "execution_count": null,
      "id": "eee1967b",
      "metadata": {
        "id": "eee1967b"
      },
      "outputs": [],
      "source": [
        "X_test = scaler.transform(X_test)"
      ]
    },
    {
      "cell_type": "code",
      "execution_count": null,
      "id": "c887cebf",
      "metadata": {
        "colab": {
          "base_uri": "https://localhost:8080/",
          "height": 206
        },
        "id": "c887cebf",
        "outputId": "6567f37c-6d3a-4c85-a02c-9e2a796fe501"
      },
      "outputs": [
        {
          "output_type": "execute_result",
          "data": {
            "text/plain": [
              "          0         1         2\n",
              "0  0.645015  0.251800  0.057098\n",
              "1 -0.226789 -0.000923 -0.152627\n",
              "2 -0.507102  0.639171  1.000858\n",
              "3  0.570532  0.556311 -0.257489\n",
              "4 -0.573674  0.592562 -0.362352"
            ],
            "text/html": [
              "\n",
              "  <div id=\"df-b052a1b0-03eb-4099-87ca-191bb416bf8c\" class=\"colab-df-container\">\n",
              "    <div>\n",
              "<style scoped>\n",
              "    .dataframe tbody tr th:only-of-type {\n",
              "        vertical-align: middle;\n",
              "    }\n",
              "\n",
              "    .dataframe tbody tr th {\n",
              "        vertical-align: top;\n",
              "    }\n",
              "\n",
              "    .dataframe thead th {\n",
              "        text-align: right;\n",
              "    }\n",
              "</style>\n",
              "<table border=\"1\" class=\"dataframe\">\n",
              "  <thead>\n",
              "    <tr style=\"text-align: right;\">\n",
              "      <th></th>\n",
              "      <th>0</th>\n",
              "      <th>1</th>\n",
              "      <th>2</th>\n",
              "    </tr>\n",
              "  </thead>\n",
              "  <tbody>\n",
              "    <tr>\n",
              "      <th>0</th>\n",
              "      <td>0.645015</td>\n",
              "      <td>0.251800</td>\n",
              "      <td>0.057098</td>\n",
              "    </tr>\n",
              "    <tr>\n",
              "      <th>1</th>\n",
              "      <td>-0.226789</td>\n",
              "      <td>-0.000923</td>\n",
              "      <td>-0.152627</td>\n",
              "    </tr>\n",
              "    <tr>\n",
              "      <th>2</th>\n",
              "      <td>-0.507102</td>\n",
              "      <td>0.639171</td>\n",
              "      <td>1.000858</td>\n",
              "    </tr>\n",
              "    <tr>\n",
              "      <th>3</th>\n",
              "      <td>0.570532</td>\n",
              "      <td>0.556311</td>\n",
              "      <td>-0.257489</td>\n",
              "    </tr>\n",
              "    <tr>\n",
              "      <th>4</th>\n",
              "      <td>-0.573674</td>\n",
              "      <td>0.592562</td>\n",
              "      <td>-0.362352</td>\n",
              "    </tr>\n",
              "  </tbody>\n",
              "</table>\n",
              "</div>\n",
              "    <div class=\"colab-df-buttons\">\n",
              "\n",
              "  <div class=\"colab-df-container\">\n",
              "    <button class=\"colab-df-convert\" onclick=\"convertToInteractive('df-b052a1b0-03eb-4099-87ca-191bb416bf8c')\"\n",
              "            title=\"Convert this dataframe to an interactive table.\"\n",
              "            style=\"display:none;\">\n",
              "\n",
              "  <svg xmlns=\"http://www.w3.org/2000/svg\" height=\"24px\" viewBox=\"0 -960 960 960\">\n",
              "    <path d=\"M120-120v-720h720v720H120Zm60-500h600v-160H180v160Zm220 220h160v-160H400v160Zm0 220h160v-160H400v160ZM180-400h160v-160H180v160Zm440 0h160v-160H620v160ZM180-180h160v-160H180v160Zm440 0h160v-160H620v160Z\"/>\n",
              "  </svg>\n",
              "    </button>\n",
              "\n",
              "  <style>\n",
              "    .colab-df-container {\n",
              "      display:flex;\n",
              "      gap: 12px;\n",
              "    }\n",
              "\n",
              "    .colab-df-convert {\n",
              "      background-color: #E8F0FE;\n",
              "      border: none;\n",
              "      border-radius: 50%;\n",
              "      cursor: pointer;\n",
              "      display: none;\n",
              "      fill: #1967D2;\n",
              "      height: 32px;\n",
              "      padding: 0 0 0 0;\n",
              "      width: 32px;\n",
              "    }\n",
              "\n",
              "    .colab-df-convert:hover {\n",
              "      background-color: #E2EBFA;\n",
              "      box-shadow: 0px 1px 2px rgba(60, 64, 67, 0.3), 0px 1px 3px 1px rgba(60, 64, 67, 0.15);\n",
              "      fill: #174EA6;\n",
              "    }\n",
              "\n",
              "    .colab-df-buttons div {\n",
              "      margin-bottom: 4px;\n",
              "    }\n",
              "\n",
              "    [theme=dark] .colab-df-convert {\n",
              "      background-color: #3B4455;\n",
              "      fill: #D2E3FC;\n",
              "    }\n",
              "\n",
              "    [theme=dark] .colab-df-convert:hover {\n",
              "      background-color: #434B5C;\n",
              "      box-shadow: 0px 1px 3px 1px rgba(0, 0, 0, 0.15);\n",
              "      filter: drop-shadow(0px 1px 2px rgba(0, 0, 0, 0.3));\n",
              "      fill: #FFFFFF;\n",
              "    }\n",
              "  </style>\n",
              "\n",
              "    <script>\n",
              "      const buttonEl =\n",
              "        document.querySelector('#df-b052a1b0-03eb-4099-87ca-191bb416bf8c button.colab-df-convert');\n",
              "      buttonEl.style.display =\n",
              "        google.colab.kernel.accessAllowed ? 'block' : 'none';\n",
              "\n",
              "      async function convertToInteractive(key) {\n",
              "        const element = document.querySelector('#df-b052a1b0-03eb-4099-87ca-191bb416bf8c');\n",
              "        const dataTable =\n",
              "          await google.colab.kernel.invokeFunction('convertToInteractive',\n",
              "                                                    [key], {});\n",
              "        if (!dataTable) return;\n",
              "\n",
              "        const docLinkHtml = 'Like what you see? Visit the ' +\n",
              "          '<a target=\"_blank\" href=https://colab.research.google.com/notebooks/data_table.ipynb>data table notebook</a>'\n",
              "          + ' to learn more about interactive tables.';\n",
              "        element.innerHTML = '';\n",
              "        dataTable['output_type'] = 'display_data';\n",
              "        await google.colab.output.renderOutput(dataTable, element);\n",
              "        const docLink = document.createElement('div');\n",
              "        docLink.innerHTML = docLinkHtml;\n",
              "        element.appendChild(docLink);\n",
              "      }\n",
              "    </script>\n",
              "  </div>\n",
              "\n",
              "\n",
              "<div id=\"df-61f3fd9d-a881-473f-ac11-186e905a4cd9\">\n",
              "  <button class=\"colab-df-quickchart\" onclick=\"quickchart('df-61f3fd9d-a881-473f-ac11-186e905a4cd9')\"\n",
              "            title=\"Suggest charts.\"\n",
              "            style=\"display:none;\">\n",
              "\n",
              "<svg xmlns=\"http://www.w3.org/2000/svg\" height=\"24px\"viewBox=\"0 0 24 24\"\n",
              "     width=\"24px\">\n",
              "    <g>\n",
              "        <path d=\"M19 3H5c-1.1 0-2 .9-2 2v14c0 1.1.9 2 2 2h14c1.1 0 2-.9 2-2V5c0-1.1-.9-2-2-2zM9 17H7v-7h2v7zm4 0h-2V7h2v10zm4 0h-2v-4h2v4z\"/>\n",
              "    </g>\n",
              "</svg>\n",
              "  </button>\n",
              "\n",
              "<style>\n",
              "  .colab-df-quickchart {\n",
              "    background-color: #E8F0FE;\n",
              "    border: none;\n",
              "    border-radius: 50%;\n",
              "    cursor: pointer;\n",
              "    display: none;\n",
              "    fill: #1967D2;\n",
              "    height: 32px;\n",
              "    padding: 0 0 0 0;\n",
              "    width: 32px;\n",
              "  }\n",
              "\n",
              "  .colab-df-quickchart:hover {\n",
              "    background-color: #E2EBFA;\n",
              "    box-shadow: 0px 1px 2px rgba(60, 64, 67, 0.3), 0px 1px 3px 1px rgba(60, 64, 67, 0.15);\n",
              "    fill: #174EA6;\n",
              "  }\n",
              "\n",
              "  [theme=dark] .colab-df-quickchart {\n",
              "    background-color: #3B4455;\n",
              "    fill: #D2E3FC;\n",
              "  }\n",
              "\n",
              "  [theme=dark] .colab-df-quickchart:hover {\n",
              "    background-color: #434B5C;\n",
              "    box-shadow: 0px 1px 3px 1px rgba(0, 0, 0, 0.15);\n",
              "    filter: drop-shadow(0px 1px 2px rgba(0, 0, 0, 0.3));\n",
              "    fill: #FFFFFF;\n",
              "  }\n",
              "</style>\n",
              "\n",
              "  <script>\n",
              "    async function quickchart(key) {\n",
              "      const charts = await google.colab.kernel.invokeFunction(\n",
              "          'suggestCharts', [key], {});\n",
              "    }\n",
              "    (() => {\n",
              "      let quickchartButtonEl =\n",
              "        document.querySelector('#df-61f3fd9d-a881-473f-ac11-186e905a4cd9 button');\n",
              "      quickchartButtonEl.style.display =\n",
              "        google.colab.kernel.accessAllowed ? 'block' : 'none';\n",
              "    })();\n",
              "  </script>\n",
              "</div>\n",
              "    </div>\n",
              "  </div>\n"
            ]
          },
          "metadata": {},
          "execution_count": 18
        }
      ],
      "source": [
        "import numpy as np\n",
        "\n",
        "X_train_df = pd.DataFrame(X_train)\n",
        "X_train_df.head()"
      ]
    },
    {
      "cell_type": "code",
      "execution_count": null,
      "id": "c658b1fd",
      "metadata": {
        "colab": {
          "base_uri": "https://localhost:8080/",
          "height": 300
        },
        "id": "c658b1fd",
        "outputId": "88f0b9ae-4ce8-4564-b5e0-22d68d23f339"
      },
      "outputs": [
        {
          "output_type": "execute_result",
          "data": {
            "text/plain": [
              "                0           1           2\n",
              "count  700.000000  700.000000  700.000000\n",
              "mean    -0.013047    0.026650    0.022418\n",
              "std      0.949767    0.992977    0.998648\n",
              "min     -0.683645   -2.585121   -1.148819\n",
              "25%     -0.521200   -0.483583   -0.637615\n",
              "50%     -0.296831    0.365733   -0.257489\n",
              "75%      0.119929    0.736791    0.371685\n",
              "max     10.626287    1.903823    5.352645"
            ],
            "text/html": [
              "\n",
              "  <div id=\"df-781cdb47-b02d-4ba4-9b55-4a052ec3582d\" class=\"colab-df-container\">\n",
              "    <div>\n",
              "<style scoped>\n",
              "    .dataframe tbody tr th:only-of-type {\n",
              "        vertical-align: middle;\n",
              "    }\n",
              "\n",
              "    .dataframe tbody tr th {\n",
              "        vertical-align: top;\n",
              "    }\n",
              "\n",
              "    .dataframe thead th {\n",
              "        text-align: right;\n",
              "    }\n",
              "</style>\n",
              "<table border=\"1\" class=\"dataframe\">\n",
              "  <thead>\n",
              "    <tr style=\"text-align: right;\">\n",
              "      <th></th>\n",
              "      <th>0</th>\n",
              "      <th>1</th>\n",
              "      <th>2</th>\n",
              "    </tr>\n",
              "  </thead>\n",
              "  <tbody>\n",
              "    <tr>\n",
              "      <th>count</th>\n",
              "      <td>700.000000</td>\n",
              "      <td>700.000000</td>\n",
              "      <td>700.000000</td>\n",
              "    </tr>\n",
              "    <tr>\n",
              "      <th>mean</th>\n",
              "      <td>-0.013047</td>\n",
              "      <td>0.026650</td>\n",
              "      <td>0.022418</td>\n",
              "    </tr>\n",
              "    <tr>\n",
              "      <th>std</th>\n",
              "      <td>0.949767</td>\n",
              "      <td>0.992977</td>\n",
              "      <td>0.998648</td>\n",
              "    </tr>\n",
              "    <tr>\n",
              "      <th>min</th>\n",
              "      <td>-0.683645</td>\n",
              "      <td>-2.585121</td>\n",
              "      <td>-1.148819</td>\n",
              "    </tr>\n",
              "    <tr>\n",
              "      <th>25%</th>\n",
              "      <td>-0.521200</td>\n",
              "      <td>-0.483583</td>\n",
              "      <td>-0.637615</td>\n",
              "    </tr>\n",
              "    <tr>\n",
              "      <th>50%</th>\n",
              "      <td>-0.296831</td>\n",
              "      <td>0.365733</td>\n",
              "      <td>-0.257489</td>\n",
              "    </tr>\n",
              "    <tr>\n",
              "      <th>75%</th>\n",
              "      <td>0.119929</td>\n",
              "      <td>0.736791</td>\n",
              "      <td>0.371685</td>\n",
              "    </tr>\n",
              "    <tr>\n",
              "      <th>max</th>\n",
              "      <td>10.626287</td>\n",
              "      <td>1.903823</td>\n",
              "      <td>5.352645</td>\n",
              "    </tr>\n",
              "  </tbody>\n",
              "</table>\n",
              "</div>\n",
              "    <div class=\"colab-df-buttons\">\n",
              "\n",
              "  <div class=\"colab-df-container\">\n",
              "    <button class=\"colab-df-convert\" onclick=\"convertToInteractive('df-781cdb47-b02d-4ba4-9b55-4a052ec3582d')\"\n",
              "            title=\"Convert this dataframe to an interactive table.\"\n",
              "            style=\"display:none;\">\n",
              "\n",
              "  <svg xmlns=\"http://www.w3.org/2000/svg\" height=\"24px\" viewBox=\"0 -960 960 960\">\n",
              "    <path d=\"M120-120v-720h720v720H120Zm60-500h600v-160H180v160Zm220 220h160v-160H400v160Zm0 220h160v-160H400v160ZM180-400h160v-160H180v160Zm440 0h160v-160H620v160ZM180-180h160v-160H180v160Zm440 0h160v-160H620v160Z\"/>\n",
              "  </svg>\n",
              "    </button>\n",
              "\n",
              "  <style>\n",
              "    .colab-df-container {\n",
              "      display:flex;\n",
              "      gap: 12px;\n",
              "    }\n",
              "\n",
              "    .colab-df-convert {\n",
              "      background-color: #E8F0FE;\n",
              "      border: none;\n",
              "      border-radius: 50%;\n",
              "      cursor: pointer;\n",
              "      display: none;\n",
              "      fill: #1967D2;\n",
              "      height: 32px;\n",
              "      padding: 0 0 0 0;\n",
              "      width: 32px;\n",
              "    }\n",
              "\n",
              "    .colab-df-convert:hover {\n",
              "      background-color: #E2EBFA;\n",
              "      box-shadow: 0px 1px 2px rgba(60, 64, 67, 0.3), 0px 1px 3px 1px rgba(60, 64, 67, 0.15);\n",
              "      fill: #174EA6;\n",
              "    }\n",
              "\n",
              "    .colab-df-buttons div {\n",
              "      margin-bottom: 4px;\n",
              "    }\n",
              "\n",
              "    [theme=dark] .colab-df-convert {\n",
              "      background-color: #3B4455;\n",
              "      fill: #D2E3FC;\n",
              "    }\n",
              "\n",
              "    [theme=dark] .colab-df-convert:hover {\n",
              "      background-color: #434B5C;\n",
              "      box-shadow: 0px 1px 3px 1px rgba(0, 0, 0, 0.15);\n",
              "      filter: drop-shadow(0px 1px 2px rgba(0, 0, 0, 0.3));\n",
              "      fill: #FFFFFF;\n",
              "    }\n",
              "  </style>\n",
              "\n",
              "    <script>\n",
              "      const buttonEl =\n",
              "        document.querySelector('#df-781cdb47-b02d-4ba4-9b55-4a052ec3582d button.colab-df-convert');\n",
              "      buttonEl.style.display =\n",
              "        google.colab.kernel.accessAllowed ? 'block' : 'none';\n",
              "\n",
              "      async function convertToInteractive(key) {\n",
              "        const element = document.querySelector('#df-781cdb47-b02d-4ba4-9b55-4a052ec3582d');\n",
              "        const dataTable =\n",
              "          await google.colab.kernel.invokeFunction('convertToInteractive',\n",
              "                                                    [key], {});\n",
              "        if (!dataTable) return;\n",
              "\n",
              "        const docLinkHtml = 'Like what you see? Visit the ' +\n",
              "          '<a target=\"_blank\" href=https://colab.research.google.com/notebooks/data_table.ipynb>data table notebook</a>'\n",
              "          + ' to learn more about interactive tables.';\n",
              "        element.innerHTML = '';\n",
              "        dataTable['output_type'] = 'display_data';\n",
              "        await google.colab.output.renderOutput(dataTable, element);\n",
              "        const docLink = document.createElement('div');\n",
              "        docLink.innerHTML = docLinkHtml;\n",
              "        element.appendChild(docLink);\n",
              "      }\n",
              "    </script>\n",
              "  </div>\n",
              "\n",
              "\n",
              "<div id=\"df-9abeee6c-70a1-4aec-bebe-b7f01274898c\">\n",
              "  <button class=\"colab-df-quickchart\" onclick=\"quickchart('df-9abeee6c-70a1-4aec-bebe-b7f01274898c')\"\n",
              "            title=\"Suggest charts.\"\n",
              "            style=\"display:none;\">\n",
              "\n",
              "<svg xmlns=\"http://www.w3.org/2000/svg\" height=\"24px\"viewBox=\"0 0 24 24\"\n",
              "     width=\"24px\">\n",
              "    <g>\n",
              "        <path d=\"M19 3H5c-1.1 0-2 .9-2 2v14c0 1.1.9 2 2 2h14c1.1 0 2-.9 2-2V5c0-1.1-.9-2-2-2zM9 17H7v-7h2v7zm4 0h-2V7h2v10zm4 0h-2v-4h2v4z\"/>\n",
              "    </g>\n",
              "</svg>\n",
              "  </button>\n",
              "\n",
              "<style>\n",
              "  .colab-df-quickchart {\n",
              "    background-color: #E8F0FE;\n",
              "    border: none;\n",
              "    border-radius: 50%;\n",
              "    cursor: pointer;\n",
              "    display: none;\n",
              "    fill: #1967D2;\n",
              "    height: 32px;\n",
              "    padding: 0 0 0 0;\n",
              "    width: 32px;\n",
              "  }\n",
              "\n",
              "  .colab-df-quickchart:hover {\n",
              "    background-color: #E2EBFA;\n",
              "    box-shadow: 0px 1px 2px rgba(60, 64, 67, 0.3), 0px 1px 3px 1px rgba(60, 64, 67, 0.15);\n",
              "    fill: #174EA6;\n",
              "  }\n",
              "\n",
              "  [theme=dark] .colab-df-quickchart {\n",
              "    background-color: #3B4455;\n",
              "    fill: #D2E3FC;\n",
              "  }\n",
              "\n",
              "  [theme=dark] .colab-df-quickchart:hover {\n",
              "    background-color: #434B5C;\n",
              "    box-shadow: 0px 1px 3px 1px rgba(0, 0, 0, 0.15);\n",
              "    filter: drop-shadow(0px 1px 2px rgba(0, 0, 0, 0.3));\n",
              "    fill: #FFFFFF;\n",
              "  }\n",
              "</style>\n",
              "\n",
              "  <script>\n",
              "    async function quickchart(key) {\n",
              "      const charts = await google.colab.kernel.invokeFunction(\n",
              "          'suggestCharts', [key], {});\n",
              "    }\n",
              "    (() => {\n",
              "      let quickchartButtonEl =\n",
              "        document.querySelector('#df-9abeee6c-70a1-4aec-bebe-b7f01274898c button');\n",
              "      quickchartButtonEl.style.display =\n",
              "        google.colab.kernel.accessAllowed ? 'block' : 'none';\n",
              "    })();\n",
              "  </script>\n",
              "</div>\n",
              "    </div>\n",
              "  </div>\n"
            ]
          },
          "metadata": {},
          "execution_count": 19
        }
      ],
      "source": [
        "X_train_df.describe()\n",
        "# 학습모델을 70% 나눈 결과가 맞는지 확인"
      ]
    },
    {
      "cell_type": "code",
      "execution_count": null,
      "id": "56c70a89",
      "metadata": {
        "colab": {
          "base_uri": "https://localhost:8080/",
          "height": 206
        },
        "id": "56c70a89",
        "outputId": "cbcdfd45-896f-42db-d54a-42fe8db97cf9"
      },
      "outputs": [
        {
          "output_type": "execute_result",
          "data": {
            "text/plain": [
              "          0         1         2\n",
              "0  0.561210 -0.693840 -0.414783\n",
              "1  1.973225 -0.545728  0.057098\n",
              "2  0.377023  0.451700 -0.939095\n",
              "3  0.290443 -1.931563  2.521362\n",
              "4  0.911158 -0.829524  1.630032"
            ],
            "text/html": [
              "\n",
              "  <div id=\"df-84f32f40-5805-4352-a6fd-cf90cefb91ed\" class=\"colab-df-container\">\n",
              "    <div>\n",
              "<style scoped>\n",
              "    .dataframe tbody tr th:only-of-type {\n",
              "        vertical-align: middle;\n",
              "    }\n",
              "\n",
              "    .dataframe tbody tr th {\n",
              "        vertical-align: top;\n",
              "    }\n",
              "\n",
              "    .dataframe thead th {\n",
              "        text-align: right;\n",
              "    }\n",
              "</style>\n",
              "<table border=\"1\" class=\"dataframe\">\n",
              "  <thead>\n",
              "    <tr style=\"text-align: right;\">\n",
              "      <th></th>\n",
              "      <th>0</th>\n",
              "      <th>1</th>\n",
              "      <th>2</th>\n",
              "    </tr>\n",
              "  </thead>\n",
              "  <tbody>\n",
              "    <tr>\n",
              "      <th>0</th>\n",
              "      <td>0.561210</td>\n",
              "      <td>-0.693840</td>\n",
              "      <td>-0.414783</td>\n",
              "    </tr>\n",
              "    <tr>\n",
              "      <th>1</th>\n",
              "      <td>1.973225</td>\n",
              "      <td>-0.545728</td>\n",
              "      <td>0.057098</td>\n",
              "    </tr>\n",
              "    <tr>\n",
              "      <th>2</th>\n",
              "      <td>0.377023</td>\n",
              "      <td>0.451700</td>\n",
              "      <td>-0.939095</td>\n",
              "    </tr>\n",
              "    <tr>\n",
              "      <th>3</th>\n",
              "      <td>0.290443</td>\n",
              "      <td>-1.931563</td>\n",
              "      <td>2.521362</td>\n",
              "    </tr>\n",
              "    <tr>\n",
              "      <th>4</th>\n",
              "      <td>0.911158</td>\n",
              "      <td>-0.829524</td>\n",
              "      <td>1.630032</td>\n",
              "    </tr>\n",
              "  </tbody>\n",
              "</table>\n",
              "</div>\n",
              "    <div class=\"colab-df-buttons\">\n",
              "\n",
              "  <div class=\"colab-df-container\">\n",
              "    <button class=\"colab-df-convert\" onclick=\"convertToInteractive('df-84f32f40-5805-4352-a6fd-cf90cefb91ed')\"\n",
              "            title=\"Convert this dataframe to an interactive table.\"\n",
              "            style=\"display:none;\">\n",
              "\n",
              "  <svg xmlns=\"http://www.w3.org/2000/svg\" height=\"24px\" viewBox=\"0 -960 960 960\">\n",
              "    <path d=\"M120-120v-720h720v720H120Zm60-500h600v-160H180v160Zm220 220h160v-160H400v160Zm0 220h160v-160H400v160ZM180-400h160v-160H180v160Zm440 0h160v-160H620v160ZM180-180h160v-160H180v160Zm440 0h160v-160H620v160Z\"/>\n",
              "  </svg>\n",
              "    </button>\n",
              "\n",
              "  <style>\n",
              "    .colab-df-container {\n",
              "      display:flex;\n",
              "      gap: 12px;\n",
              "    }\n",
              "\n",
              "    .colab-df-convert {\n",
              "      background-color: #E8F0FE;\n",
              "      border: none;\n",
              "      border-radius: 50%;\n",
              "      cursor: pointer;\n",
              "      display: none;\n",
              "      fill: #1967D2;\n",
              "      height: 32px;\n",
              "      padding: 0 0 0 0;\n",
              "      width: 32px;\n",
              "    }\n",
              "\n",
              "    .colab-df-convert:hover {\n",
              "      background-color: #E2EBFA;\n",
              "      box-shadow: 0px 1px 2px rgba(60, 64, 67, 0.3), 0px 1px 3px 1px rgba(60, 64, 67, 0.15);\n",
              "      fill: #174EA6;\n",
              "    }\n",
              "\n",
              "    .colab-df-buttons div {\n",
              "      margin-bottom: 4px;\n",
              "    }\n",
              "\n",
              "    [theme=dark] .colab-df-convert {\n",
              "      background-color: #3B4455;\n",
              "      fill: #D2E3FC;\n",
              "    }\n",
              "\n",
              "    [theme=dark] .colab-df-convert:hover {\n",
              "      background-color: #434B5C;\n",
              "      box-shadow: 0px 1px 3px 1px rgba(0, 0, 0, 0.15);\n",
              "      filter: drop-shadow(0px 1px 2px rgba(0, 0, 0, 0.3));\n",
              "      fill: #FFFFFF;\n",
              "    }\n",
              "  </style>\n",
              "\n",
              "    <script>\n",
              "      const buttonEl =\n",
              "        document.querySelector('#df-84f32f40-5805-4352-a6fd-cf90cefb91ed button.colab-df-convert');\n",
              "      buttonEl.style.display =\n",
              "        google.colab.kernel.accessAllowed ? 'block' : 'none';\n",
              "\n",
              "      async function convertToInteractive(key) {\n",
              "        const element = document.querySelector('#df-84f32f40-5805-4352-a6fd-cf90cefb91ed');\n",
              "        const dataTable =\n",
              "          await google.colab.kernel.invokeFunction('convertToInteractive',\n",
              "                                                    [key], {});\n",
              "        if (!dataTable) return;\n",
              "\n",
              "        const docLinkHtml = 'Like what you see? Visit the ' +\n",
              "          '<a target=\"_blank\" href=https://colab.research.google.com/notebooks/data_table.ipynb>data table notebook</a>'\n",
              "          + ' to learn more about interactive tables.';\n",
              "        element.innerHTML = '';\n",
              "        dataTable['output_type'] = 'display_data';\n",
              "        await google.colab.output.renderOutput(dataTable, element);\n",
              "        const docLink = document.createElement('div');\n",
              "        docLink.innerHTML = docLinkHtml;\n",
              "        element.appendChild(docLink);\n",
              "      }\n",
              "    </script>\n",
              "  </div>\n",
              "\n",
              "\n",
              "<div id=\"df-2b225378-457c-45d9-bbf0-ce1ac9e3e30b\">\n",
              "  <button class=\"colab-df-quickchart\" onclick=\"quickchart('df-2b225378-457c-45d9-bbf0-ce1ac9e3e30b')\"\n",
              "            title=\"Suggest charts.\"\n",
              "            style=\"display:none;\">\n",
              "\n",
              "<svg xmlns=\"http://www.w3.org/2000/svg\" height=\"24px\"viewBox=\"0 0 24 24\"\n",
              "     width=\"24px\">\n",
              "    <g>\n",
              "        <path d=\"M19 3H5c-1.1 0-2 .9-2 2v14c0 1.1.9 2 2 2h14c1.1 0 2-.9 2-2V5c0-1.1-.9-2-2-2zM9 17H7v-7h2v7zm4 0h-2V7h2v10zm4 0h-2v-4h2v4z\"/>\n",
              "    </g>\n",
              "</svg>\n",
              "  </button>\n",
              "\n",
              "<style>\n",
              "  .colab-df-quickchart {\n",
              "    background-color: #E8F0FE;\n",
              "    border: none;\n",
              "    border-radius: 50%;\n",
              "    cursor: pointer;\n",
              "    display: none;\n",
              "    fill: #1967D2;\n",
              "    height: 32px;\n",
              "    padding: 0 0 0 0;\n",
              "    width: 32px;\n",
              "  }\n",
              "\n",
              "  .colab-df-quickchart:hover {\n",
              "    background-color: #E2EBFA;\n",
              "    box-shadow: 0px 1px 2px rgba(60, 64, 67, 0.3), 0px 1px 3px 1px rgba(60, 64, 67, 0.15);\n",
              "    fill: #174EA6;\n",
              "  }\n",
              "\n",
              "  [theme=dark] .colab-df-quickchart {\n",
              "    background-color: #3B4455;\n",
              "    fill: #D2E3FC;\n",
              "  }\n",
              "\n",
              "  [theme=dark] .colab-df-quickchart:hover {\n",
              "    background-color: #434B5C;\n",
              "    box-shadow: 0px 1px 3px 1px rgba(0, 0, 0, 0.15);\n",
              "    filter: drop-shadow(0px 1px 2px rgba(0, 0, 0, 0.3));\n",
              "    fill: #FFFFFF;\n",
              "  }\n",
              "</style>\n",
              "\n",
              "  <script>\n",
              "    async function quickchart(key) {\n",
              "      const charts = await google.colab.kernel.invokeFunction(\n",
              "          'suggestCharts', [key], {});\n",
              "    }\n",
              "    (() => {\n",
              "      let quickchartButtonEl =\n",
              "        document.querySelector('#df-2b225378-457c-45d9-bbf0-ce1ac9e3e30b button');\n",
              "      quickchartButtonEl.style.display =\n",
              "        google.colab.kernel.accessAllowed ? 'block' : 'none';\n",
              "    })();\n",
              "  </script>\n",
              "</div>\n",
              "    </div>\n",
              "  </div>\n"
            ]
          },
          "metadata": {},
          "execution_count": 20
        }
      ],
      "source": [
        "X_test_df = pd.DataFrame(X_test)\n",
        "X_test_df.head()"
      ]
    },
    {
      "cell_type": "code",
      "execution_count": null,
      "id": "f5bc5337",
      "metadata": {
        "colab": {
          "base_uri": "https://localhost:8080/",
          "height": 300
        },
        "id": "f5bc5337",
        "outputId": "e9f17dd7-582f-4c7b-9c2e-86b9954c3393"
      },
      "outputs": [
        {
          "output_type": "execute_result",
          "data": {
            "text/plain": [
              "                0           1           2\n",
              "count  300.000000  300.000000  300.000000\n",
              "mean     0.030442   -0.062184   -0.052309\n",
              "std      1.111004    1.016792    1.004532\n",
              "min     -0.683645   -2.764306   -1.096388\n",
              "25%     -0.529459   -0.837292   -0.637615\n",
              "50%     -0.325508    0.313428   -0.283705\n",
              "75%      0.114624    0.737568    0.214391\n",
              "max      9.624778    1.174654    6.925580"
            ],
            "text/html": [
              "\n",
              "  <div id=\"df-1744d283-2902-445c-ae2c-148d52a074ae\" class=\"colab-df-container\">\n",
              "    <div>\n",
              "<style scoped>\n",
              "    .dataframe tbody tr th:only-of-type {\n",
              "        vertical-align: middle;\n",
              "    }\n",
              "\n",
              "    .dataframe tbody tr th {\n",
              "        vertical-align: top;\n",
              "    }\n",
              "\n",
              "    .dataframe thead th {\n",
              "        text-align: right;\n",
              "    }\n",
              "</style>\n",
              "<table border=\"1\" class=\"dataframe\">\n",
              "  <thead>\n",
              "    <tr style=\"text-align: right;\">\n",
              "      <th></th>\n",
              "      <th>0</th>\n",
              "      <th>1</th>\n",
              "      <th>2</th>\n",
              "    </tr>\n",
              "  </thead>\n",
              "  <tbody>\n",
              "    <tr>\n",
              "      <th>count</th>\n",
              "      <td>300.000000</td>\n",
              "      <td>300.000000</td>\n",
              "      <td>300.000000</td>\n",
              "    </tr>\n",
              "    <tr>\n",
              "      <th>mean</th>\n",
              "      <td>0.030442</td>\n",
              "      <td>-0.062184</td>\n",
              "      <td>-0.052309</td>\n",
              "    </tr>\n",
              "    <tr>\n",
              "      <th>std</th>\n",
              "      <td>1.111004</td>\n",
              "      <td>1.016792</td>\n",
              "      <td>1.004532</td>\n",
              "    </tr>\n",
              "    <tr>\n",
              "      <th>min</th>\n",
              "      <td>-0.683645</td>\n",
              "      <td>-2.764306</td>\n",
              "      <td>-1.096388</td>\n",
              "    </tr>\n",
              "    <tr>\n",
              "      <th>25%</th>\n",
              "      <td>-0.529459</td>\n",
              "      <td>-0.837292</td>\n",
              "      <td>-0.637615</td>\n",
              "    </tr>\n",
              "    <tr>\n",
              "      <th>50%</th>\n",
              "      <td>-0.325508</td>\n",
              "      <td>0.313428</td>\n",
              "      <td>-0.283705</td>\n",
              "    </tr>\n",
              "    <tr>\n",
              "      <th>75%</th>\n",
              "      <td>0.114624</td>\n",
              "      <td>0.737568</td>\n",
              "      <td>0.214391</td>\n",
              "    </tr>\n",
              "    <tr>\n",
              "      <th>max</th>\n",
              "      <td>9.624778</td>\n",
              "      <td>1.174654</td>\n",
              "      <td>6.925580</td>\n",
              "    </tr>\n",
              "  </tbody>\n",
              "</table>\n",
              "</div>\n",
              "    <div class=\"colab-df-buttons\">\n",
              "\n",
              "  <div class=\"colab-df-container\">\n",
              "    <button class=\"colab-df-convert\" onclick=\"convertToInteractive('df-1744d283-2902-445c-ae2c-148d52a074ae')\"\n",
              "            title=\"Convert this dataframe to an interactive table.\"\n",
              "            style=\"display:none;\">\n",
              "\n",
              "  <svg xmlns=\"http://www.w3.org/2000/svg\" height=\"24px\" viewBox=\"0 -960 960 960\">\n",
              "    <path d=\"M120-120v-720h720v720H120Zm60-500h600v-160H180v160Zm220 220h160v-160H400v160Zm0 220h160v-160H400v160ZM180-400h160v-160H180v160Zm440 0h160v-160H620v160ZM180-180h160v-160H180v160Zm440 0h160v-160H620v160Z\"/>\n",
              "  </svg>\n",
              "    </button>\n",
              "\n",
              "  <style>\n",
              "    .colab-df-container {\n",
              "      display:flex;\n",
              "      gap: 12px;\n",
              "    }\n",
              "\n",
              "    .colab-df-convert {\n",
              "      background-color: #E8F0FE;\n",
              "      border: none;\n",
              "      border-radius: 50%;\n",
              "      cursor: pointer;\n",
              "      display: none;\n",
              "      fill: #1967D2;\n",
              "      height: 32px;\n",
              "      padding: 0 0 0 0;\n",
              "      width: 32px;\n",
              "    }\n",
              "\n",
              "    .colab-df-convert:hover {\n",
              "      background-color: #E2EBFA;\n",
              "      box-shadow: 0px 1px 2px rgba(60, 64, 67, 0.3), 0px 1px 3px 1px rgba(60, 64, 67, 0.15);\n",
              "      fill: #174EA6;\n",
              "    }\n",
              "\n",
              "    .colab-df-buttons div {\n",
              "      margin-bottom: 4px;\n",
              "    }\n",
              "\n",
              "    [theme=dark] .colab-df-convert {\n",
              "      background-color: #3B4455;\n",
              "      fill: #D2E3FC;\n",
              "    }\n",
              "\n",
              "    [theme=dark] .colab-df-convert:hover {\n",
              "      background-color: #434B5C;\n",
              "      box-shadow: 0px 1px 3px 1px rgba(0, 0, 0, 0.15);\n",
              "      filter: drop-shadow(0px 1px 2px rgba(0, 0, 0, 0.3));\n",
              "      fill: #FFFFFF;\n",
              "    }\n",
              "  </style>\n",
              "\n",
              "    <script>\n",
              "      const buttonEl =\n",
              "        document.querySelector('#df-1744d283-2902-445c-ae2c-148d52a074ae button.colab-df-convert');\n",
              "      buttonEl.style.display =\n",
              "        google.colab.kernel.accessAllowed ? 'block' : 'none';\n",
              "\n",
              "      async function convertToInteractive(key) {\n",
              "        const element = document.querySelector('#df-1744d283-2902-445c-ae2c-148d52a074ae');\n",
              "        const dataTable =\n",
              "          await google.colab.kernel.invokeFunction('convertToInteractive',\n",
              "                                                    [key], {});\n",
              "        if (!dataTable) return;\n",
              "\n",
              "        const docLinkHtml = 'Like what you see? Visit the ' +\n",
              "          '<a target=\"_blank\" href=https://colab.research.google.com/notebooks/data_table.ipynb>data table notebook</a>'\n",
              "          + ' to learn more about interactive tables.';\n",
              "        element.innerHTML = '';\n",
              "        dataTable['output_type'] = 'display_data';\n",
              "        await google.colab.output.renderOutput(dataTable, element);\n",
              "        const docLink = document.createElement('div');\n",
              "        docLink.innerHTML = docLinkHtml;\n",
              "        element.appendChild(docLink);\n",
              "      }\n",
              "    </script>\n",
              "  </div>\n",
              "\n",
              "\n",
              "<div id=\"df-1f365cd9-7184-4a20-b6ad-aa99f3a6c615\">\n",
              "  <button class=\"colab-df-quickchart\" onclick=\"quickchart('df-1f365cd9-7184-4a20-b6ad-aa99f3a6c615')\"\n",
              "            title=\"Suggest charts.\"\n",
              "            style=\"display:none;\">\n",
              "\n",
              "<svg xmlns=\"http://www.w3.org/2000/svg\" height=\"24px\"viewBox=\"0 0 24 24\"\n",
              "     width=\"24px\">\n",
              "    <g>\n",
              "        <path d=\"M19 3H5c-1.1 0-2 .9-2 2v14c0 1.1.9 2 2 2h14c1.1 0 2-.9 2-2V5c0-1.1-.9-2-2-2zM9 17H7v-7h2v7zm4 0h-2V7h2v10zm4 0h-2v-4h2v4z\"/>\n",
              "    </g>\n",
              "</svg>\n",
              "  </button>\n",
              "\n",
              "<style>\n",
              "  .colab-df-quickchart {\n",
              "    background-color: #E8F0FE;\n",
              "    border: none;\n",
              "    border-radius: 50%;\n",
              "    cursor: pointer;\n",
              "    display: none;\n",
              "    fill: #1967D2;\n",
              "    height: 32px;\n",
              "    padding: 0 0 0 0;\n",
              "    width: 32px;\n",
              "  }\n",
              "\n",
              "  .colab-df-quickchart:hover {\n",
              "    background-color: #E2EBFA;\n",
              "    box-shadow: 0px 1px 2px rgba(60, 64, 67, 0.3), 0px 1px 3px 1px rgba(60, 64, 67, 0.15);\n",
              "    fill: #174EA6;\n",
              "  }\n",
              "\n",
              "  [theme=dark] .colab-df-quickchart {\n",
              "    background-color: #3B4455;\n",
              "    fill: #D2E3FC;\n",
              "  }\n",
              "\n",
              "  [theme=dark] .colab-df-quickchart:hover {\n",
              "    background-color: #434B5C;\n",
              "    box-shadow: 0px 1px 3px 1px rgba(0, 0, 0, 0.15);\n",
              "    filter: drop-shadow(0px 1px 2px rgba(0, 0, 0, 0.3));\n",
              "    fill: #FFFFFF;\n",
              "  }\n",
              "</style>\n",
              "\n",
              "  <script>\n",
              "    async function quickchart(key) {\n",
              "      const charts = await google.colab.kernel.invokeFunction(\n",
              "          'suggestCharts', [key], {});\n",
              "    }\n",
              "    (() => {\n",
              "      let quickchartButtonEl =\n",
              "        document.querySelector('#df-1f365cd9-7184-4a20-b6ad-aa99f3a6c615 button');\n",
              "      quickchartButtonEl.style.display =\n",
              "        google.colab.kernel.accessAllowed ? 'block' : 'none';\n",
              "    })();\n",
              "  </script>\n",
              "</div>\n",
              "    </div>\n",
              "  </div>\n"
            ]
          },
          "metadata": {},
          "execution_count": 21
        }
      ],
      "source": [
        "X_test_df.describe()\n",
        "# 테스트셋 30% 나눈 결과가 맞는지 확인"
      ]
    },
    {
      "cell_type": "code",
      "execution_count": null,
      "id": "cd4455a9",
      "metadata": {
        "colab": {
          "base_uri": "https://localhost:8080/"
        },
        "id": "cd4455a9",
        "outputId": "23d91226-18a1-446b-fa31-6972855930e1"
      },
      "outputs": [
        {
          "output_type": "execute_result",
          "data": {
            "text/plain": [
              "count    1000.000000\n",
              "mean        0.300000\n",
              "std         0.458487\n",
              "min         0.000000\n",
              "25%         0.000000\n",
              "50%         0.000000\n",
              "75%         1.000000\n",
              "max         1.000000\n",
              "Name: 이탈여부, dtype: float64"
            ]
          },
          "metadata": {},
          "execution_count": 22
        }
      ],
      "source": [
        "Y.describe()\n",
        "# mean 값이 0.3\n",
        "# 0의 비율 70%, 1의 비율 30%\n",
        "# 0의 비율을 30%로 낮추면 under sampling\n",
        "# 1의 비율을 70%로 올리면 over sampling"
      ]
    },
    {
      "cell_type": "code",
      "execution_count": null,
      "id": "0885f384",
      "metadata": {
        "colab": {
          "base_uri": "https://localhost:8080/",
          "height": 300
        },
        "id": "0885f384",
        "outputId": "e18e21f4-78a8-46e8-90cf-97d1b1a78b3c"
      },
      "outputs": [
        {
          "output_type": "execute_result",
          "data": {
            "text/plain": [
              "             이탈여부\n",
              "count  700.000000\n",
              "mean     0.312857\n",
              "std      0.463988\n",
              "min      0.000000\n",
              "25%      0.000000\n",
              "50%      0.000000\n",
              "75%      1.000000\n",
              "max      1.000000"
            ],
            "text/html": [
              "\n",
              "  <div id=\"df-5e67a760-2377-431e-8185-3e628b063ab8\" class=\"colab-df-container\">\n",
              "    <div>\n",
              "<style scoped>\n",
              "    .dataframe tbody tr th:only-of-type {\n",
              "        vertical-align: middle;\n",
              "    }\n",
              "\n",
              "    .dataframe tbody tr th {\n",
              "        vertical-align: top;\n",
              "    }\n",
              "\n",
              "    .dataframe thead th {\n",
              "        text-align: right;\n",
              "    }\n",
              "</style>\n",
              "<table border=\"1\" class=\"dataframe\">\n",
              "  <thead>\n",
              "    <tr style=\"text-align: right;\">\n",
              "      <th></th>\n",
              "      <th>이탈여부</th>\n",
              "    </tr>\n",
              "  </thead>\n",
              "  <tbody>\n",
              "    <tr>\n",
              "      <th>count</th>\n",
              "      <td>700.000000</td>\n",
              "    </tr>\n",
              "    <tr>\n",
              "      <th>mean</th>\n",
              "      <td>0.312857</td>\n",
              "    </tr>\n",
              "    <tr>\n",
              "      <th>std</th>\n",
              "      <td>0.463988</td>\n",
              "    </tr>\n",
              "    <tr>\n",
              "      <th>min</th>\n",
              "      <td>0.000000</td>\n",
              "    </tr>\n",
              "    <tr>\n",
              "      <th>25%</th>\n",
              "      <td>0.000000</td>\n",
              "    </tr>\n",
              "    <tr>\n",
              "      <th>50%</th>\n",
              "      <td>0.000000</td>\n",
              "    </tr>\n",
              "    <tr>\n",
              "      <th>75%</th>\n",
              "      <td>1.000000</td>\n",
              "    </tr>\n",
              "    <tr>\n",
              "      <th>max</th>\n",
              "      <td>1.000000</td>\n",
              "    </tr>\n",
              "  </tbody>\n",
              "</table>\n",
              "</div>\n",
              "    <div class=\"colab-df-buttons\">\n",
              "\n",
              "  <div class=\"colab-df-container\">\n",
              "    <button class=\"colab-df-convert\" onclick=\"convertToInteractive('df-5e67a760-2377-431e-8185-3e628b063ab8')\"\n",
              "            title=\"Convert this dataframe to an interactive table.\"\n",
              "            style=\"display:none;\">\n",
              "\n",
              "  <svg xmlns=\"http://www.w3.org/2000/svg\" height=\"24px\" viewBox=\"0 -960 960 960\">\n",
              "    <path d=\"M120-120v-720h720v720H120Zm60-500h600v-160H180v160Zm220 220h160v-160H400v160Zm0 220h160v-160H400v160ZM180-400h160v-160H180v160Zm440 0h160v-160H620v160ZM180-180h160v-160H180v160Zm440 0h160v-160H620v160Z\"/>\n",
              "  </svg>\n",
              "    </button>\n",
              "\n",
              "  <style>\n",
              "    .colab-df-container {\n",
              "      display:flex;\n",
              "      gap: 12px;\n",
              "    }\n",
              "\n",
              "    .colab-df-convert {\n",
              "      background-color: #E8F0FE;\n",
              "      border: none;\n",
              "      border-radius: 50%;\n",
              "      cursor: pointer;\n",
              "      display: none;\n",
              "      fill: #1967D2;\n",
              "      height: 32px;\n",
              "      padding: 0 0 0 0;\n",
              "      width: 32px;\n",
              "    }\n",
              "\n",
              "    .colab-df-convert:hover {\n",
              "      background-color: #E2EBFA;\n",
              "      box-shadow: 0px 1px 2px rgba(60, 64, 67, 0.3), 0px 1px 3px 1px rgba(60, 64, 67, 0.15);\n",
              "      fill: #174EA6;\n",
              "    }\n",
              "\n",
              "    .colab-df-buttons div {\n",
              "      margin-bottom: 4px;\n",
              "    }\n",
              "\n",
              "    [theme=dark] .colab-df-convert {\n",
              "      background-color: #3B4455;\n",
              "      fill: #D2E3FC;\n",
              "    }\n",
              "\n",
              "    [theme=dark] .colab-df-convert:hover {\n",
              "      background-color: #434B5C;\n",
              "      box-shadow: 0px 1px 3px 1px rgba(0, 0, 0, 0.15);\n",
              "      filter: drop-shadow(0px 1px 2px rgba(0, 0, 0, 0.3));\n",
              "      fill: #FFFFFF;\n",
              "    }\n",
              "  </style>\n",
              "\n",
              "    <script>\n",
              "      const buttonEl =\n",
              "        document.querySelector('#df-5e67a760-2377-431e-8185-3e628b063ab8 button.colab-df-convert');\n",
              "      buttonEl.style.display =\n",
              "        google.colab.kernel.accessAllowed ? 'block' : 'none';\n",
              "\n",
              "      async function convertToInteractive(key) {\n",
              "        const element = document.querySelector('#df-5e67a760-2377-431e-8185-3e628b063ab8');\n",
              "        const dataTable =\n",
              "          await google.colab.kernel.invokeFunction('convertToInteractive',\n",
              "                                                    [key], {});\n",
              "        if (!dataTable) return;\n",
              "\n",
              "        const docLinkHtml = 'Like what you see? Visit the ' +\n",
              "          '<a target=\"_blank\" href=https://colab.research.google.com/notebooks/data_table.ipynb>data table notebook</a>'\n",
              "          + ' to learn more about interactive tables.';\n",
              "        element.innerHTML = '';\n",
              "        dataTable['output_type'] = 'display_data';\n",
              "        await google.colab.output.renderOutput(dataTable, element);\n",
              "        const docLink = document.createElement('div');\n",
              "        docLink.innerHTML = docLinkHtml;\n",
              "        element.appendChild(docLink);\n",
              "      }\n",
              "    </script>\n",
              "  </div>\n",
              "\n",
              "\n",
              "<div id=\"df-a8674eb2-4582-4615-89e2-118baee39695\">\n",
              "  <button class=\"colab-df-quickchart\" onclick=\"quickchart('df-a8674eb2-4582-4615-89e2-118baee39695')\"\n",
              "            title=\"Suggest charts.\"\n",
              "            style=\"display:none;\">\n",
              "\n",
              "<svg xmlns=\"http://www.w3.org/2000/svg\" height=\"24px\"viewBox=\"0 0 24 24\"\n",
              "     width=\"24px\">\n",
              "    <g>\n",
              "        <path d=\"M19 3H5c-1.1 0-2 .9-2 2v14c0 1.1.9 2 2 2h14c1.1 0 2-.9 2-2V5c0-1.1-.9-2-2-2zM9 17H7v-7h2v7zm4 0h-2V7h2v10zm4 0h-2v-4h2v4z\"/>\n",
              "    </g>\n",
              "</svg>\n",
              "  </button>\n",
              "\n",
              "<style>\n",
              "  .colab-df-quickchart {\n",
              "    background-color: #E8F0FE;\n",
              "    border: none;\n",
              "    border-radius: 50%;\n",
              "    cursor: pointer;\n",
              "    display: none;\n",
              "    fill: #1967D2;\n",
              "    height: 32px;\n",
              "    padding: 0 0 0 0;\n",
              "    width: 32px;\n",
              "  }\n",
              "\n",
              "  .colab-df-quickchart:hover {\n",
              "    background-color: #E2EBFA;\n",
              "    box-shadow: 0px 1px 2px rgba(60, 64, 67, 0.3), 0px 1px 3px 1px rgba(60, 64, 67, 0.15);\n",
              "    fill: #174EA6;\n",
              "  }\n",
              "\n",
              "  [theme=dark] .colab-df-quickchart {\n",
              "    background-color: #3B4455;\n",
              "    fill: #D2E3FC;\n",
              "  }\n",
              "\n",
              "  [theme=dark] .colab-df-quickchart:hover {\n",
              "    background-color: #434B5C;\n",
              "    box-shadow: 0px 1px 3px 1px rgba(0, 0, 0, 0.15);\n",
              "    filter: drop-shadow(0px 1px 2px rgba(0, 0, 0, 0.3));\n",
              "    fill: #FFFFFF;\n",
              "  }\n",
              "</style>\n",
              "\n",
              "  <script>\n",
              "    async function quickchart(key) {\n",
              "      const charts = await google.colab.kernel.invokeFunction(\n",
              "          'suggestCharts', [key], {});\n",
              "    }\n",
              "    (() => {\n",
              "      let quickchartButtonEl =\n",
              "        document.querySelector('#df-a8674eb2-4582-4615-89e2-118baee39695 button');\n",
              "      quickchartButtonEl.style.display =\n",
              "        google.colab.kernel.accessAllowed ? 'block' : 'none';\n",
              "    })();\n",
              "  </script>\n",
              "</div>\n",
              "    </div>\n",
              "  </div>\n"
            ]
          },
          "metadata": {},
          "execution_count": 23
        }
      ],
      "source": [
        "Y_train_df = pd.DataFrame(Y_train)\n",
        "Y_train_df.describe()"
      ]
    },
    {
      "cell_type": "code",
      "execution_count": null,
      "id": "141517d9",
      "metadata": {
        "id": "141517d9"
      },
      "outputs": [],
      "source": [
        "from imblearn.over_sampling import SMOTE\n",
        "from collections import Counter"
      ]
    },
    {
      "cell_type": "code",
      "execution_count": null,
      "id": "a9fb7090",
      "metadata": {
        "id": "a9fb7090"
      },
      "outputs": [],
      "source": [
        "smote = SMOTE(random_state = 0)"
      ]
    },
    {
      "cell_type": "code",
      "execution_count": null,
      "id": "027a6765",
      "metadata": {
        "id": "027a6765"
      },
      "outputs": [],
      "source": [
        "X_train_over, Y_train_over = smote.fit_resample(X_train, Y_train)\n",
        "# under 또는 over sampling을 하더라도 항상 X와 Y의 index값은 같아야 함(중요)"
      ]
    },
    {
      "cell_type": "code",
      "execution_count": null,
      "id": "b705e14e",
      "metadata": {
        "colab": {
          "base_uri": "https://localhost:8080/",
          "height": 300
        },
        "id": "b705e14e",
        "outputId": "23595e85-8d8b-4e9a-af56-97cbee4c1b7d"
      },
      "outputs": [
        {
          "output_type": "execute_result",
          "data": {
            "text/plain": [
              "                0           1           2\n",
              "count  962.000000  962.000000  962.000000\n",
              "mean    -0.063832   -0.070687   -0.058129\n",
              "std      0.901982    1.012710    0.986468\n",
              "min     -0.683645   -2.585121   -1.148819\n",
              "25%     -0.538150   -0.507405   -0.729370\n",
              "50%     -0.328750    0.275984   -0.345678\n",
              "75%      0.051036    0.596964    0.266822\n",
              "max     10.626287    1.903823    5.352645"
            ],
            "text/html": [
              "\n",
              "  <div id=\"df-fb53a0cb-54c2-4af2-a89c-a83a53171295\" class=\"colab-df-container\">\n",
              "    <div>\n",
              "<style scoped>\n",
              "    .dataframe tbody tr th:only-of-type {\n",
              "        vertical-align: middle;\n",
              "    }\n",
              "\n",
              "    .dataframe tbody tr th {\n",
              "        vertical-align: top;\n",
              "    }\n",
              "\n",
              "    .dataframe thead th {\n",
              "        text-align: right;\n",
              "    }\n",
              "</style>\n",
              "<table border=\"1\" class=\"dataframe\">\n",
              "  <thead>\n",
              "    <tr style=\"text-align: right;\">\n",
              "      <th></th>\n",
              "      <th>0</th>\n",
              "      <th>1</th>\n",
              "      <th>2</th>\n",
              "    </tr>\n",
              "  </thead>\n",
              "  <tbody>\n",
              "    <tr>\n",
              "      <th>count</th>\n",
              "      <td>962.000000</td>\n",
              "      <td>962.000000</td>\n",
              "      <td>962.000000</td>\n",
              "    </tr>\n",
              "    <tr>\n",
              "      <th>mean</th>\n",
              "      <td>-0.063832</td>\n",
              "      <td>-0.070687</td>\n",
              "      <td>-0.058129</td>\n",
              "    </tr>\n",
              "    <tr>\n",
              "      <th>std</th>\n",
              "      <td>0.901982</td>\n",
              "      <td>1.012710</td>\n",
              "      <td>0.986468</td>\n",
              "    </tr>\n",
              "    <tr>\n",
              "      <th>min</th>\n",
              "      <td>-0.683645</td>\n",
              "      <td>-2.585121</td>\n",
              "      <td>-1.148819</td>\n",
              "    </tr>\n",
              "    <tr>\n",
              "      <th>25%</th>\n",
              "      <td>-0.538150</td>\n",
              "      <td>-0.507405</td>\n",
              "      <td>-0.729370</td>\n",
              "    </tr>\n",
              "    <tr>\n",
              "      <th>50%</th>\n",
              "      <td>-0.328750</td>\n",
              "      <td>0.275984</td>\n",
              "      <td>-0.345678</td>\n",
              "    </tr>\n",
              "    <tr>\n",
              "      <th>75%</th>\n",
              "      <td>0.051036</td>\n",
              "      <td>0.596964</td>\n",
              "      <td>0.266822</td>\n",
              "    </tr>\n",
              "    <tr>\n",
              "      <th>max</th>\n",
              "      <td>10.626287</td>\n",
              "      <td>1.903823</td>\n",
              "      <td>5.352645</td>\n",
              "    </tr>\n",
              "  </tbody>\n",
              "</table>\n",
              "</div>\n",
              "    <div class=\"colab-df-buttons\">\n",
              "\n",
              "  <div class=\"colab-df-container\">\n",
              "    <button class=\"colab-df-convert\" onclick=\"convertToInteractive('df-fb53a0cb-54c2-4af2-a89c-a83a53171295')\"\n",
              "            title=\"Convert this dataframe to an interactive table.\"\n",
              "            style=\"display:none;\">\n",
              "\n",
              "  <svg xmlns=\"http://www.w3.org/2000/svg\" height=\"24px\" viewBox=\"0 -960 960 960\">\n",
              "    <path d=\"M120-120v-720h720v720H120Zm60-500h600v-160H180v160Zm220 220h160v-160H400v160Zm0 220h160v-160H400v160ZM180-400h160v-160H180v160Zm440 0h160v-160H620v160ZM180-180h160v-160H180v160Zm440 0h160v-160H620v160Z\"/>\n",
              "  </svg>\n",
              "    </button>\n",
              "\n",
              "  <style>\n",
              "    .colab-df-container {\n",
              "      display:flex;\n",
              "      gap: 12px;\n",
              "    }\n",
              "\n",
              "    .colab-df-convert {\n",
              "      background-color: #E8F0FE;\n",
              "      border: none;\n",
              "      border-radius: 50%;\n",
              "      cursor: pointer;\n",
              "      display: none;\n",
              "      fill: #1967D2;\n",
              "      height: 32px;\n",
              "      padding: 0 0 0 0;\n",
              "      width: 32px;\n",
              "    }\n",
              "\n",
              "    .colab-df-convert:hover {\n",
              "      background-color: #E2EBFA;\n",
              "      box-shadow: 0px 1px 2px rgba(60, 64, 67, 0.3), 0px 1px 3px 1px rgba(60, 64, 67, 0.15);\n",
              "      fill: #174EA6;\n",
              "    }\n",
              "\n",
              "    .colab-df-buttons div {\n",
              "      margin-bottom: 4px;\n",
              "    }\n",
              "\n",
              "    [theme=dark] .colab-df-convert {\n",
              "      background-color: #3B4455;\n",
              "      fill: #D2E3FC;\n",
              "    }\n",
              "\n",
              "    [theme=dark] .colab-df-convert:hover {\n",
              "      background-color: #434B5C;\n",
              "      box-shadow: 0px 1px 3px 1px rgba(0, 0, 0, 0.15);\n",
              "      filter: drop-shadow(0px 1px 2px rgba(0, 0, 0, 0.3));\n",
              "      fill: #FFFFFF;\n",
              "    }\n",
              "  </style>\n",
              "\n",
              "    <script>\n",
              "      const buttonEl =\n",
              "        document.querySelector('#df-fb53a0cb-54c2-4af2-a89c-a83a53171295 button.colab-df-convert');\n",
              "      buttonEl.style.display =\n",
              "        google.colab.kernel.accessAllowed ? 'block' : 'none';\n",
              "\n",
              "      async function convertToInteractive(key) {\n",
              "        const element = document.querySelector('#df-fb53a0cb-54c2-4af2-a89c-a83a53171295');\n",
              "        const dataTable =\n",
              "          await google.colab.kernel.invokeFunction('convertToInteractive',\n",
              "                                                    [key], {});\n",
              "        if (!dataTable) return;\n",
              "\n",
              "        const docLinkHtml = 'Like what you see? Visit the ' +\n",
              "          '<a target=\"_blank\" href=https://colab.research.google.com/notebooks/data_table.ipynb>data table notebook</a>'\n",
              "          + ' to learn more about interactive tables.';\n",
              "        element.innerHTML = '';\n",
              "        dataTable['output_type'] = 'display_data';\n",
              "        await google.colab.output.renderOutput(dataTable, element);\n",
              "        const docLink = document.createElement('div');\n",
              "        docLink.innerHTML = docLinkHtml;\n",
              "        element.appendChild(docLink);\n",
              "      }\n",
              "    </script>\n",
              "  </div>\n",
              "\n",
              "\n",
              "<div id=\"df-e61d8e69-f25c-4860-a12c-f8a2a03e4d85\">\n",
              "  <button class=\"colab-df-quickchart\" onclick=\"quickchart('df-e61d8e69-f25c-4860-a12c-f8a2a03e4d85')\"\n",
              "            title=\"Suggest charts.\"\n",
              "            style=\"display:none;\">\n",
              "\n",
              "<svg xmlns=\"http://www.w3.org/2000/svg\" height=\"24px\"viewBox=\"0 0 24 24\"\n",
              "     width=\"24px\">\n",
              "    <g>\n",
              "        <path d=\"M19 3H5c-1.1 0-2 .9-2 2v14c0 1.1.9 2 2 2h14c1.1 0 2-.9 2-2V5c0-1.1-.9-2-2-2zM9 17H7v-7h2v7zm4 0h-2V7h2v10zm4 0h-2v-4h2v4z\"/>\n",
              "    </g>\n",
              "</svg>\n",
              "  </button>\n",
              "\n",
              "<style>\n",
              "  .colab-df-quickchart {\n",
              "    background-color: #E8F0FE;\n",
              "    border: none;\n",
              "    border-radius: 50%;\n",
              "    cursor: pointer;\n",
              "    display: none;\n",
              "    fill: #1967D2;\n",
              "    height: 32px;\n",
              "    padding: 0 0 0 0;\n",
              "    width: 32px;\n",
              "  }\n",
              "\n",
              "  .colab-df-quickchart:hover {\n",
              "    background-color: #E2EBFA;\n",
              "    box-shadow: 0px 1px 2px rgba(60, 64, 67, 0.3), 0px 1px 3px 1px rgba(60, 64, 67, 0.15);\n",
              "    fill: #174EA6;\n",
              "  }\n",
              "\n",
              "  [theme=dark] .colab-df-quickchart {\n",
              "    background-color: #3B4455;\n",
              "    fill: #D2E3FC;\n",
              "  }\n",
              "\n",
              "  [theme=dark] .colab-df-quickchart:hover {\n",
              "    background-color: #434B5C;\n",
              "    box-shadow: 0px 1px 3px 1px rgba(0, 0, 0, 0.15);\n",
              "    filter: drop-shadow(0px 1px 2px rgba(0, 0, 0, 0.3));\n",
              "    fill: #FFFFFF;\n",
              "  }\n",
              "</style>\n",
              "\n",
              "  <script>\n",
              "    async function quickchart(key) {\n",
              "      const charts = await google.colab.kernel.invokeFunction(\n",
              "          'suggestCharts', [key], {});\n",
              "    }\n",
              "    (() => {\n",
              "      let quickchartButtonEl =\n",
              "        document.querySelector('#df-e61d8e69-f25c-4860-a12c-f8a2a03e4d85 button');\n",
              "      quickchartButtonEl.style.display =\n",
              "        google.colab.kernel.accessAllowed ? 'block' : 'none';\n",
              "    })();\n",
              "  </script>\n",
              "</div>\n",
              "    </div>\n",
              "  </div>\n"
            ]
          },
          "metadata": {},
          "execution_count": 27
        }
      ],
      "source": [
        "X_train_over_df = pd.DataFrame(X_train_over)\n",
        "X_train_over_df.describe()\n",
        "# count 수치가 바뀜"
      ]
    },
    {
      "cell_type": "code",
      "execution_count": null,
      "id": "637413fc",
      "metadata": {
        "colab": {
          "base_uri": "https://localhost:8080/",
          "height": 300
        },
        "id": "637413fc",
        "outputId": "4e21c258-5d7e-41f8-e443-d0c21af94b7e"
      },
      "outputs": [
        {
          "output_type": "execute_result",
          "data": {
            "text/plain": [
              "            이탈여부\n",
              "count  962.00000\n",
              "mean     0.50000\n",
              "std      0.50026\n",
              "min      0.00000\n",
              "25%      0.00000\n",
              "50%      0.50000\n",
              "75%      1.00000\n",
              "max      1.00000"
            ],
            "text/html": [
              "\n",
              "  <div id=\"df-ddcda688-51cb-49ab-8e3d-b1ab54c2df64\" class=\"colab-df-container\">\n",
              "    <div>\n",
              "<style scoped>\n",
              "    .dataframe tbody tr th:only-of-type {\n",
              "        vertical-align: middle;\n",
              "    }\n",
              "\n",
              "    .dataframe tbody tr th {\n",
              "        vertical-align: top;\n",
              "    }\n",
              "\n",
              "    .dataframe thead th {\n",
              "        text-align: right;\n",
              "    }\n",
              "</style>\n",
              "<table border=\"1\" class=\"dataframe\">\n",
              "  <thead>\n",
              "    <tr style=\"text-align: right;\">\n",
              "      <th></th>\n",
              "      <th>이탈여부</th>\n",
              "    </tr>\n",
              "  </thead>\n",
              "  <tbody>\n",
              "    <tr>\n",
              "      <th>count</th>\n",
              "      <td>962.00000</td>\n",
              "    </tr>\n",
              "    <tr>\n",
              "      <th>mean</th>\n",
              "      <td>0.50000</td>\n",
              "    </tr>\n",
              "    <tr>\n",
              "      <th>std</th>\n",
              "      <td>0.50026</td>\n",
              "    </tr>\n",
              "    <tr>\n",
              "      <th>min</th>\n",
              "      <td>0.00000</td>\n",
              "    </tr>\n",
              "    <tr>\n",
              "      <th>25%</th>\n",
              "      <td>0.00000</td>\n",
              "    </tr>\n",
              "    <tr>\n",
              "      <th>50%</th>\n",
              "      <td>0.50000</td>\n",
              "    </tr>\n",
              "    <tr>\n",
              "      <th>75%</th>\n",
              "      <td>1.00000</td>\n",
              "    </tr>\n",
              "    <tr>\n",
              "      <th>max</th>\n",
              "      <td>1.00000</td>\n",
              "    </tr>\n",
              "  </tbody>\n",
              "</table>\n",
              "</div>\n",
              "    <div class=\"colab-df-buttons\">\n",
              "\n",
              "  <div class=\"colab-df-container\">\n",
              "    <button class=\"colab-df-convert\" onclick=\"convertToInteractive('df-ddcda688-51cb-49ab-8e3d-b1ab54c2df64')\"\n",
              "            title=\"Convert this dataframe to an interactive table.\"\n",
              "            style=\"display:none;\">\n",
              "\n",
              "  <svg xmlns=\"http://www.w3.org/2000/svg\" height=\"24px\" viewBox=\"0 -960 960 960\">\n",
              "    <path d=\"M120-120v-720h720v720H120Zm60-500h600v-160H180v160Zm220 220h160v-160H400v160Zm0 220h160v-160H400v160ZM180-400h160v-160H180v160Zm440 0h160v-160H620v160ZM180-180h160v-160H180v160Zm440 0h160v-160H620v160Z\"/>\n",
              "  </svg>\n",
              "    </button>\n",
              "\n",
              "  <style>\n",
              "    .colab-df-container {\n",
              "      display:flex;\n",
              "      gap: 12px;\n",
              "    }\n",
              "\n",
              "    .colab-df-convert {\n",
              "      background-color: #E8F0FE;\n",
              "      border: none;\n",
              "      border-radius: 50%;\n",
              "      cursor: pointer;\n",
              "      display: none;\n",
              "      fill: #1967D2;\n",
              "      height: 32px;\n",
              "      padding: 0 0 0 0;\n",
              "      width: 32px;\n",
              "    }\n",
              "\n",
              "    .colab-df-convert:hover {\n",
              "      background-color: #E2EBFA;\n",
              "      box-shadow: 0px 1px 2px rgba(60, 64, 67, 0.3), 0px 1px 3px 1px rgba(60, 64, 67, 0.15);\n",
              "      fill: #174EA6;\n",
              "    }\n",
              "\n",
              "    .colab-df-buttons div {\n",
              "      margin-bottom: 4px;\n",
              "    }\n",
              "\n",
              "    [theme=dark] .colab-df-convert {\n",
              "      background-color: #3B4455;\n",
              "      fill: #D2E3FC;\n",
              "    }\n",
              "\n",
              "    [theme=dark] .colab-df-convert:hover {\n",
              "      background-color: #434B5C;\n",
              "      box-shadow: 0px 1px 3px 1px rgba(0, 0, 0, 0.15);\n",
              "      filter: drop-shadow(0px 1px 2px rgba(0, 0, 0, 0.3));\n",
              "      fill: #FFFFFF;\n",
              "    }\n",
              "  </style>\n",
              "\n",
              "    <script>\n",
              "      const buttonEl =\n",
              "        document.querySelector('#df-ddcda688-51cb-49ab-8e3d-b1ab54c2df64 button.colab-df-convert');\n",
              "      buttonEl.style.display =\n",
              "        google.colab.kernel.accessAllowed ? 'block' : 'none';\n",
              "\n",
              "      async function convertToInteractive(key) {\n",
              "        const element = document.querySelector('#df-ddcda688-51cb-49ab-8e3d-b1ab54c2df64');\n",
              "        const dataTable =\n",
              "          await google.colab.kernel.invokeFunction('convertToInteractive',\n",
              "                                                    [key], {});\n",
              "        if (!dataTable) return;\n",
              "\n",
              "        const docLinkHtml = 'Like what you see? Visit the ' +\n",
              "          '<a target=\"_blank\" href=https://colab.research.google.com/notebooks/data_table.ipynb>data table notebook</a>'\n",
              "          + ' to learn more about interactive tables.';\n",
              "        element.innerHTML = '';\n",
              "        dataTable['output_type'] = 'display_data';\n",
              "        await google.colab.output.renderOutput(dataTable, element);\n",
              "        const docLink = document.createElement('div');\n",
              "        docLink.innerHTML = docLinkHtml;\n",
              "        element.appendChild(docLink);\n",
              "      }\n",
              "    </script>\n",
              "  </div>\n",
              "\n",
              "\n",
              "<div id=\"df-9463f3a4-afd3-4e7d-b947-ff100e2c2365\">\n",
              "  <button class=\"colab-df-quickchart\" onclick=\"quickchart('df-9463f3a4-afd3-4e7d-b947-ff100e2c2365')\"\n",
              "            title=\"Suggest charts.\"\n",
              "            style=\"display:none;\">\n",
              "\n",
              "<svg xmlns=\"http://www.w3.org/2000/svg\" height=\"24px\"viewBox=\"0 0 24 24\"\n",
              "     width=\"24px\">\n",
              "    <g>\n",
              "        <path d=\"M19 3H5c-1.1 0-2 .9-2 2v14c0 1.1.9 2 2 2h14c1.1 0 2-.9 2-2V5c0-1.1-.9-2-2-2zM9 17H7v-7h2v7zm4 0h-2V7h2v10zm4 0h-2v-4h2v4z\"/>\n",
              "    </g>\n",
              "</svg>\n",
              "  </button>\n",
              "\n",
              "<style>\n",
              "  .colab-df-quickchart {\n",
              "    background-color: #E8F0FE;\n",
              "    border: none;\n",
              "    border-radius: 50%;\n",
              "    cursor: pointer;\n",
              "    display: none;\n",
              "    fill: #1967D2;\n",
              "    height: 32px;\n",
              "    padding: 0 0 0 0;\n",
              "    width: 32px;\n",
              "  }\n",
              "\n",
              "  .colab-df-quickchart:hover {\n",
              "    background-color: #E2EBFA;\n",
              "    box-shadow: 0px 1px 2px rgba(60, 64, 67, 0.3), 0px 1px 3px 1px rgba(60, 64, 67, 0.15);\n",
              "    fill: #174EA6;\n",
              "  }\n",
              "\n",
              "  [theme=dark] .colab-df-quickchart {\n",
              "    background-color: #3B4455;\n",
              "    fill: #D2E3FC;\n",
              "  }\n",
              "\n",
              "  [theme=dark] .colab-df-quickchart:hover {\n",
              "    background-color: #434B5C;\n",
              "    box-shadow: 0px 1px 3px 1px rgba(0, 0, 0, 0.15);\n",
              "    filter: drop-shadow(0px 1px 2px rgba(0, 0, 0, 0.3));\n",
              "    fill: #FFFFFF;\n",
              "  }\n",
              "</style>\n",
              "\n",
              "  <script>\n",
              "    async function quickchart(key) {\n",
              "      const charts = await google.colab.kernel.invokeFunction(\n",
              "          'suggestCharts', [key], {});\n",
              "    }\n",
              "    (() => {\n",
              "      let quickchartButtonEl =\n",
              "        document.querySelector('#df-9463f3a4-afd3-4e7d-b947-ff100e2c2365 button');\n",
              "      quickchartButtonEl.style.display =\n",
              "        google.colab.kernel.accessAllowed ? 'block' : 'none';\n",
              "    })();\n",
              "  </script>\n",
              "</div>\n",
              "    </div>\n",
              "  </div>\n"
            ]
          },
          "metadata": {},
          "execution_count": 28
        }
      ],
      "source": [
        "Y_train_over_df = pd.DataFrame(Y_train_over)\n",
        "Y_train_over_df.describe()\n",
        "# count 수치가 바뀜\n",
        "# mean 값 0.50000 떨어짐\n",
        "# 0과 1의 비율 50:50"
      ]
    },
    {
      "cell_type": "code",
      "execution_count": null,
      "id": "69af2753",
      "metadata": {
        "colab": {
          "base_uri": "https://localhost:8080/"
        },
        "id": "69af2753",
        "outputId": "88d8b1a8-c5ac-4952-b2e2-588b4989fada"
      },
      "outputs": [
        {
          "output_type": "execute_result",
          "data": {
            "text/plain": [
              "Counter({1: 481, 0: 481})"
            ]
          },
          "metadata": {},
          "execution_count": 29
        }
      ],
      "source": [
        "Counter(Y_train_over)"
      ]
    },
    {
      "cell_type": "code",
      "execution_count": null,
      "id": "ca4fd240",
      "metadata": {
        "id": "ca4fd240"
      },
      "outputs": [],
      "source": [
        "# 0과 1의 비율이 7:3일 경우(불균형한)\n",
        "# 0의 가중치가 더 편중되도록 설계가 되므로\n",
        "# 둘의 비율을 같게 해줘야함(안 하면 예측 모델 성능이 떨어질 수 있음)"
      ]
    },
    {
      "cell_type": "code",
      "execution_count": null,
      "id": "07bcf1b7",
      "metadata": {
        "id": "07bcf1b7"
      },
      "outputs": [],
      "source": [
        "from sklearn.linear_model import LogisticRegression"
      ]
    },
    {
      "cell_type": "code",
      "execution_count": null,
      "id": "dc00ee7a",
      "metadata": {
        "id": "dc00ee7a"
      },
      "outputs": [],
      "source": [
        "lg_mdl = LogisticRegression(random_state = 0)"
      ]
    },
    {
      "cell_type": "code",
      "execution_count": null,
      "id": "d8f467c1",
      "metadata": {
        "colab": {
          "base_uri": "https://localhost:8080/",
          "height": 75
        },
        "id": "d8f467c1",
        "outputId": "5cb2360e-2b96-48be-b6c6-cd9c1bc27b72"
      },
      "outputs": [
        {
          "output_type": "execute_result",
          "data": {
            "text/plain": [
              "LogisticRegression(random_state=0)"
            ],
            "text/html": [
              "<style>#sk-container-id-2 {color: black;background-color: white;}#sk-container-id-2 pre{padding: 0;}#sk-container-id-2 div.sk-toggleable {background-color: white;}#sk-container-id-2 label.sk-toggleable__label {cursor: pointer;display: block;width: 100%;margin-bottom: 0;padding: 0.3em;box-sizing: border-box;text-align: center;}#sk-container-id-2 label.sk-toggleable__label-arrow:before {content: \"▸\";float: left;margin-right: 0.25em;color: #696969;}#sk-container-id-2 label.sk-toggleable__label-arrow:hover:before {color: black;}#sk-container-id-2 div.sk-estimator:hover label.sk-toggleable__label-arrow:before {color: black;}#sk-container-id-2 div.sk-toggleable__content {max-height: 0;max-width: 0;overflow: hidden;text-align: left;background-color: #f0f8ff;}#sk-container-id-2 div.sk-toggleable__content pre {margin: 0.2em;color: black;border-radius: 0.25em;background-color: #f0f8ff;}#sk-container-id-2 input.sk-toggleable__control:checked~div.sk-toggleable__content {max-height: 200px;max-width: 100%;overflow: auto;}#sk-container-id-2 input.sk-toggleable__control:checked~label.sk-toggleable__label-arrow:before {content: \"▾\";}#sk-container-id-2 div.sk-estimator input.sk-toggleable__control:checked~label.sk-toggleable__label {background-color: #d4ebff;}#sk-container-id-2 div.sk-label input.sk-toggleable__control:checked~label.sk-toggleable__label {background-color: #d4ebff;}#sk-container-id-2 input.sk-hidden--visually {border: 0;clip: rect(1px 1px 1px 1px);clip: rect(1px, 1px, 1px, 1px);height: 1px;margin: -1px;overflow: hidden;padding: 0;position: absolute;width: 1px;}#sk-container-id-2 div.sk-estimator {font-family: monospace;background-color: #f0f8ff;border: 1px dotted black;border-radius: 0.25em;box-sizing: border-box;margin-bottom: 0.5em;}#sk-container-id-2 div.sk-estimator:hover {background-color: #d4ebff;}#sk-container-id-2 div.sk-parallel-item::after {content: \"\";width: 100%;border-bottom: 1px solid gray;flex-grow: 1;}#sk-container-id-2 div.sk-label:hover label.sk-toggleable__label {background-color: #d4ebff;}#sk-container-id-2 div.sk-serial::before {content: \"\";position: absolute;border-left: 1px solid gray;box-sizing: border-box;top: 0;bottom: 0;left: 50%;z-index: 0;}#sk-container-id-2 div.sk-serial {display: flex;flex-direction: column;align-items: center;background-color: white;padding-right: 0.2em;padding-left: 0.2em;position: relative;}#sk-container-id-2 div.sk-item {position: relative;z-index: 1;}#sk-container-id-2 div.sk-parallel {display: flex;align-items: stretch;justify-content: center;background-color: white;position: relative;}#sk-container-id-2 div.sk-item::before, #sk-container-id-2 div.sk-parallel-item::before {content: \"\";position: absolute;border-left: 1px solid gray;box-sizing: border-box;top: 0;bottom: 0;left: 50%;z-index: -1;}#sk-container-id-2 div.sk-parallel-item {display: flex;flex-direction: column;z-index: 1;position: relative;background-color: white;}#sk-container-id-2 div.sk-parallel-item:first-child::after {align-self: flex-end;width: 50%;}#sk-container-id-2 div.sk-parallel-item:last-child::after {align-self: flex-start;width: 50%;}#sk-container-id-2 div.sk-parallel-item:only-child::after {width: 0;}#sk-container-id-2 div.sk-dashed-wrapped {border: 1px dashed gray;margin: 0 0.4em 0.5em 0.4em;box-sizing: border-box;padding-bottom: 0.4em;background-color: white;}#sk-container-id-2 div.sk-label label {font-family: monospace;font-weight: bold;display: inline-block;line-height: 1.2em;}#sk-container-id-2 div.sk-label-container {text-align: center;}#sk-container-id-2 div.sk-container {/* jupyter's `normalize.less` sets `[hidden] { display: none; }` but bootstrap.min.css set `[hidden] { display: none !important; }` so we also need the `!important` here to be able to override the default hidden behavior on the sphinx rendered scikit-learn.org. See: https://github.com/scikit-learn/scikit-learn/issues/21755 */display: inline-block !important;position: relative;}#sk-container-id-2 div.sk-text-repr-fallback {display: none;}</style><div id=\"sk-container-id-2\" class=\"sk-top-container\"><div class=\"sk-text-repr-fallback\"><pre>LogisticRegression(random_state=0)</pre><b>In a Jupyter environment, please rerun this cell to show the HTML representation or trust the notebook. <br />On GitHub, the HTML representation is unable to render, please try loading this page with nbviewer.org.</b></div><div class=\"sk-container\" hidden><div class=\"sk-item\"><div class=\"sk-estimator sk-toggleable\"><input class=\"sk-toggleable__control sk-hidden--visually\" id=\"sk-estimator-id-2\" type=\"checkbox\" checked><label for=\"sk-estimator-id-2\" class=\"sk-toggleable__label sk-toggleable__label-arrow\">LogisticRegression</label><div class=\"sk-toggleable__content\"><pre>LogisticRegression(random_state=0)</pre></div></div></div></div></div>"
            ]
          },
          "metadata": {},
          "execution_count": 33
        }
      ],
      "source": [
        "lg_mdl.fit(X_train_over, Y_train_over)"
      ]
    },
    {
      "cell_type": "code",
      "execution_count": null,
      "id": "b8979b9d",
      "metadata": {
        "id": "b8979b9d"
      },
      "outputs": [],
      "source": [
        "X_test"
      ]
    },
    {
      "cell_type": "code",
      "execution_count": null,
      "id": "6e8d4f75",
      "metadata": {
        "colab": {
          "base_uri": "https://localhost:8080/"
        },
        "id": "6e8d4f75",
        "outputId": "a98a8484-8f0f-4ed6-8537-413043a5e7b7"
      },
      "outputs": [
        {
          "output_type": "stream",
          "name": "stdout",
          "text": [
            "[1 1 1 0 0 0 1 1 0 0 1 1 0 1 0 1 0 1 1 1 1 0 1 0 0 0 1 1 1 0 0 0 0 0 0 0 0\n",
            " 1 0 0 1 0 0 0 1 0 0 1 1 1 0 1 1 1 0 0 1 1 0 0 1 0 0 1 0 1 1 0 1 0 0 1 1 0\n",
            " 0 1 0 1 1 0 1 1 1 0 0 0 1 0 0 0 0 1 1 1 0 0 0 0 0 0 0 0 0 0 1 0 0 1 0 1 1\n",
            " 0 0 1 0 1 0 0 0 1 0 1 1 0 0 0 1 1 0 0 1 1 0 0 0 0 0 1 1 0 1 1 0 1 1 0 1 1\n",
            " 1 1 1 0 0 1 1 0 0 1 1 1 1 0 1 1 0 1 0 0 1 0 0 0 0 0 1 0 1 1 0 1 1 1 0 0 0\n",
            " 1 1 1 0 1 1 0 1 1 0 0 0 1 0 1 1 0 0 0 0 1 0 0 0 0 0 1 1 0 1 0 1 0 1 0 0 0\n",
            " 0 0 0 1 0 1 1 0 0 1 1 1 1 1 1 1 1 1 0 0 1 1 0 0 0 1 1 0 1 0 1 1 1 0 0 1 0\n",
            " 0 0 0 0 0 1 0 1 1 0 1 1 0 1 1 0 0 0 1 0 1 0 0 1 0 1 1 0 1 1 1 0 1 0 0 0 1\n",
            " 0 1 0 1]\n"
          ]
        }
      ],
      "source": [
        "Y_pred = lg_mdl.predict(X_test)\n",
        "print(Y_pred)"
      ]
    },
    {
      "cell_type": "code",
      "execution_count": null,
      "id": "54f68177",
      "metadata": {
        "colab": {
          "base_uri": "https://localhost:8080/"
        },
        "id": "54f68177",
        "outputId": "8471e2d3-ada6-4677-9e0c-2cd5967af110"
      },
      "outputs": [
        {
          "output_type": "stream",
          "name": "stdout",
          "text": [
            "[[-0.10794002 -0.58901554 -0.48657009]]\n"
          ]
        }
      ],
      "source": [
        "print(lg_mdl.coef_)\n",
        "# beta 값 순서대로 '총매출액', '거래기간', '방문빈도'"
      ]
    },
    {
      "cell_type": "code",
      "execution_count": null,
      "id": "443801b6",
      "metadata": {
        "colab": {
          "base_uri": "https://localhost:8080/"
        },
        "id": "443801b6",
        "outputId": "175bfd75-6bfe-466a-ae1e-1a0b4ed28711"
      },
      "outputs": [
        {
          "output_type": "stream",
          "name": "stdout",
          "text": [
            "              precision    recall  f1-score   support\n",
            "\n",
            "           0       0.91      0.66      0.76       219\n",
            "           1       0.47      0.81      0.59        81\n",
            "\n",
            "    accuracy                           0.70       300\n",
            "   macro avg       0.69      0.74      0.68       300\n",
            "weighted avg       0.79      0.70      0.72       300\n",
            "\n"
          ]
        }
      ],
      "source": [
        "from sklearn.metrics import classification_report\n",
        "cr = classification_report(Y_test, Y_pred)\n",
        "print(cr)"
      ]
    },
    {
      "cell_type": "code",
      "execution_count": null,
      "id": "475ee919",
      "metadata": {
        "id": "475ee919"
      },
      "outputs": [],
      "source": [
        "# 해당 모델의 성능은 70%(accuracy)\n",
        "# precision(정밀도) : 각각 해당 클래스에 대한 예측이 얼마나 정확한지 나타냄\n",
        "# recall(재현율) : 실제로 해당 클래스에 속한 샘플 중 얼마나 많이 예측했는지 나타냄\n",
        "# F-1 Score : 정밀도와 재현율의 조화 평균으로, 두 지표의 균형을 나타냄\n",
        "# Accuracy(정확도) : 전체 데이터 중에서 정확하게 예측한 비율을 나타냄\n",
        "# Macro Avg : 모든 클래스의 평균을 각각 계산\n",
        "# Weighted Avg : 각 클래스의 샘플 수에 따라 가중 평균 계산\n",
        "\n",
        "# 종합적으로 보면 클래스의 1에 대한 성능이 더 좋아보이지만 클래스 0에 대해서는\n",
        "# 예측 성능이 낮은 것으로 보임 모델의 성능을 개선하기 위해서는 클래스 불균형을 고려하거나\n",
        "# 다양한 하이퍼파라미터 조정 등의 작업을 수핼할 수 있음"
      ]
    },
    {
      "cell_type": "code",
      "execution_count": null,
      "id": "05af3d04",
      "metadata": {
        "id": "05af3d04"
      },
      "outputs": [],
      "source": [
        "## K-NN 모형 ##\n",
        "\n",
        "# 유클리드 거리\n",
        "\n",
        "from sklearn.neighbors import KNeighborsClassifier"
      ]
    },
    {
      "cell_type": "code",
      "execution_count": null,
      "id": "f3c873ee",
      "metadata": {
        "id": "f3c873ee"
      },
      "outputs": [],
      "source": [
        "kn_mdl = KNeighborsClassifier()"
      ]
    },
    {
      "cell_type": "code",
      "execution_count": null,
      "id": "ba61b5d5",
      "metadata": {
        "colab": {
          "base_uri": "https://localhost:8080/",
          "height": 75
        },
        "id": "ba61b5d5",
        "outputId": "8573bf4a-1162-4260-dafa-fa1a5ee05613"
      },
      "outputs": [
        {
          "output_type": "execute_result",
          "data": {
            "text/plain": [
              "KNeighborsClassifier()"
            ],
            "text/html": [
              "<style>#sk-container-id-3 {color: black;background-color: white;}#sk-container-id-3 pre{padding: 0;}#sk-container-id-3 div.sk-toggleable {background-color: white;}#sk-container-id-3 label.sk-toggleable__label {cursor: pointer;display: block;width: 100%;margin-bottom: 0;padding: 0.3em;box-sizing: border-box;text-align: center;}#sk-container-id-3 label.sk-toggleable__label-arrow:before {content: \"▸\";float: left;margin-right: 0.25em;color: #696969;}#sk-container-id-3 label.sk-toggleable__label-arrow:hover:before {color: black;}#sk-container-id-3 div.sk-estimator:hover label.sk-toggleable__label-arrow:before {color: black;}#sk-container-id-3 div.sk-toggleable__content {max-height: 0;max-width: 0;overflow: hidden;text-align: left;background-color: #f0f8ff;}#sk-container-id-3 div.sk-toggleable__content pre {margin: 0.2em;color: black;border-radius: 0.25em;background-color: #f0f8ff;}#sk-container-id-3 input.sk-toggleable__control:checked~div.sk-toggleable__content {max-height: 200px;max-width: 100%;overflow: auto;}#sk-container-id-3 input.sk-toggleable__control:checked~label.sk-toggleable__label-arrow:before {content: \"▾\";}#sk-container-id-3 div.sk-estimator input.sk-toggleable__control:checked~label.sk-toggleable__label {background-color: #d4ebff;}#sk-container-id-3 div.sk-label input.sk-toggleable__control:checked~label.sk-toggleable__label {background-color: #d4ebff;}#sk-container-id-3 input.sk-hidden--visually {border: 0;clip: rect(1px 1px 1px 1px);clip: rect(1px, 1px, 1px, 1px);height: 1px;margin: -1px;overflow: hidden;padding: 0;position: absolute;width: 1px;}#sk-container-id-3 div.sk-estimator {font-family: monospace;background-color: #f0f8ff;border: 1px dotted black;border-radius: 0.25em;box-sizing: border-box;margin-bottom: 0.5em;}#sk-container-id-3 div.sk-estimator:hover {background-color: #d4ebff;}#sk-container-id-3 div.sk-parallel-item::after {content: \"\";width: 100%;border-bottom: 1px solid gray;flex-grow: 1;}#sk-container-id-3 div.sk-label:hover label.sk-toggleable__label {background-color: #d4ebff;}#sk-container-id-3 div.sk-serial::before {content: \"\";position: absolute;border-left: 1px solid gray;box-sizing: border-box;top: 0;bottom: 0;left: 50%;z-index: 0;}#sk-container-id-3 div.sk-serial {display: flex;flex-direction: column;align-items: center;background-color: white;padding-right: 0.2em;padding-left: 0.2em;position: relative;}#sk-container-id-3 div.sk-item {position: relative;z-index: 1;}#sk-container-id-3 div.sk-parallel {display: flex;align-items: stretch;justify-content: center;background-color: white;position: relative;}#sk-container-id-3 div.sk-item::before, #sk-container-id-3 div.sk-parallel-item::before {content: \"\";position: absolute;border-left: 1px solid gray;box-sizing: border-box;top: 0;bottom: 0;left: 50%;z-index: -1;}#sk-container-id-3 div.sk-parallel-item {display: flex;flex-direction: column;z-index: 1;position: relative;background-color: white;}#sk-container-id-3 div.sk-parallel-item:first-child::after {align-self: flex-end;width: 50%;}#sk-container-id-3 div.sk-parallel-item:last-child::after {align-self: flex-start;width: 50%;}#sk-container-id-3 div.sk-parallel-item:only-child::after {width: 0;}#sk-container-id-3 div.sk-dashed-wrapped {border: 1px dashed gray;margin: 0 0.4em 0.5em 0.4em;box-sizing: border-box;padding-bottom: 0.4em;background-color: white;}#sk-container-id-3 div.sk-label label {font-family: monospace;font-weight: bold;display: inline-block;line-height: 1.2em;}#sk-container-id-3 div.sk-label-container {text-align: center;}#sk-container-id-3 div.sk-container {/* jupyter's `normalize.less` sets `[hidden] { display: none; }` but bootstrap.min.css set `[hidden] { display: none !important; }` so we also need the `!important` here to be able to override the default hidden behavior on the sphinx rendered scikit-learn.org. See: https://github.com/scikit-learn/scikit-learn/issues/21755 */display: inline-block !important;position: relative;}#sk-container-id-3 div.sk-text-repr-fallback {display: none;}</style><div id=\"sk-container-id-3\" class=\"sk-top-container\"><div class=\"sk-text-repr-fallback\"><pre>KNeighborsClassifier()</pre><b>In a Jupyter environment, please rerun this cell to show the HTML representation or trust the notebook. <br />On GitHub, the HTML representation is unable to render, please try loading this page with nbviewer.org.</b></div><div class=\"sk-container\" hidden><div class=\"sk-item\"><div class=\"sk-estimator sk-toggleable\"><input class=\"sk-toggleable__control sk-hidden--visually\" id=\"sk-estimator-id-3\" type=\"checkbox\" checked><label for=\"sk-estimator-id-3\" class=\"sk-toggleable__label sk-toggleable__label-arrow\">KNeighborsClassifier</label><div class=\"sk-toggleable__content\"><pre>KNeighborsClassifier()</pre></div></div></div></div></div>"
            ]
          },
          "metadata": {},
          "execution_count": 41
        }
      ],
      "source": [
        "kn_mdl.fit(X_train_over, Y_train_over)"
      ]
    },
    {
      "cell_type": "code",
      "execution_count": null,
      "id": "e4911126",
      "metadata": {
        "id": "e4911126"
      },
      "outputs": [],
      "source": [
        "Y_pred_kn = kn_mdl.predict(X_test)"
      ]
    },
    {
      "cell_type": "code",
      "execution_count": null,
      "id": "37251868",
      "metadata": {
        "colab": {
          "base_uri": "https://localhost:8080/"
        },
        "id": "37251868",
        "outputId": "4b7df214-6978-4d75-d6b4-927a7b3e2915"
      },
      "outputs": [
        {
          "output_type": "stream",
          "name": "stdout",
          "text": [
            "[0 0 1 0 0 0 0 1 1 0 1 0 0 1 0 1 0 1 1 1 0 0 0 1 0 0 1 1 1 0 0 0 0 0 1 0 0\n",
            " 1 0 1 0 0 0 0 1 0 0 1 1 0 0 1 1 0 0 0 1 0 0 1 1 0 1 1 0 1 1 0 1 1 0 1 0 1\n",
            " 0 0 0 0 1 0 1 0 1 0 0 0 1 0 0 1 0 0 0 0 1 0 0 1 0 1 0 0 1 0 1 0 0 0 0 1 1\n",
            " 1 0 1 1 0 0 1 0 0 0 0 0 0 1 0 1 1 0 0 1 0 0 0 0 0 0 1 0 0 1 1 1 1 1 0 1 0\n",
            " 0 1 0 1 0 0 0 0 0 1 0 1 0 0 1 1 0 0 0 0 1 1 0 0 0 0 0 0 1 1 0 1 0 0 0 0 0\n",
            " 1 0 0 0 1 0 0 0 1 0 0 0 1 0 0 1 0 1 0 0 0 0 0 0 0 1 1 1 0 1 0 1 1 1 0 0 0\n",
            " 0 1 1 0 0 0 1 1 0 0 0 1 1 1 1 1 1 1 0 0 1 1 0 0 1 1 1 0 1 0 1 0 0 0 0 0 1\n",
            " 1 0 0 0 1 0 0 0 1 1 0 0 0 1 0 0 0 1 0 0 1 0 0 1 1 0 1 0 1 1 0 0 1 0 0 0 1\n",
            " 1 0 0 1]\n"
          ]
        }
      ],
      "source": [
        "print(Y_pred_kn)"
      ]
    },
    {
      "cell_type": "code",
      "execution_count": null,
      "id": "5108a910",
      "metadata": {
        "colab": {
          "base_uri": "https://localhost:8080/"
        },
        "id": "5108a910",
        "outputId": "3b6a32d8-b049-4b7a-fa05-58f25dfc6fb0"
      },
      "outputs": [
        {
          "output_type": "stream",
          "name": "stdout",
          "text": [
            "              precision    recall  f1-score   support\n",
            "\n",
            "           0       0.92      0.76      0.83       219\n",
            "           1       0.56      0.81      0.66        81\n",
            "\n",
            "    accuracy                           0.78       300\n",
            "   macro avg       0.74      0.79      0.75       300\n",
            "weighted avg       0.82      0.78      0.79       300\n",
            "\n"
          ]
        }
      ],
      "source": [
        "cr_kn = classification_report(Y_test, Y_pred_kn)\n",
        "print(cr_kn)"
      ]
    },
    {
      "cell_type": "code",
      "execution_count": null,
      "id": "d609a0c7",
      "metadata": {
        "id": "d609a0c7"
      },
      "outputs": [],
      "source": [
        "## 의사결정 나무(DT) ##\n",
        "\n",
        "from sklearn.tree import DecisionTreeClassifier"
      ]
    },
    {
      "cell_type": "code",
      "execution_count": null,
      "id": "7680aeaa",
      "metadata": {
        "id": "7680aeaa"
      },
      "outputs": [],
      "source": [
        "dt_mdl = DecisionTreeClassifier()"
      ]
    },
    {
      "cell_type": "code",
      "execution_count": null,
      "id": "1a044e3e",
      "metadata": {
        "colab": {
          "base_uri": "https://localhost:8080/",
          "height": 75
        },
        "id": "1a044e3e",
        "outputId": "8fd84e15-5197-4a88-b706-5ed6225c1754"
      },
      "outputs": [
        {
          "output_type": "execute_result",
          "data": {
            "text/plain": [
              "DecisionTreeClassifier()"
            ],
            "text/html": [
              "<style>#sk-container-id-4 {color: black;background-color: white;}#sk-container-id-4 pre{padding: 0;}#sk-container-id-4 div.sk-toggleable {background-color: white;}#sk-container-id-4 label.sk-toggleable__label {cursor: pointer;display: block;width: 100%;margin-bottom: 0;padding: 0.3em;box-sizing: border-box;text-align: center;}#sk-container-id-4 label.sk-toggleable__label-arrow:before {content: \"▸\";float: left;margin-right: 0.25em;color: #696969;}#sk-container-id-4 label.sk-toggleable__label-arrow:hover:before {color: black;}#sk-container-id-4 div.sk-estimator:hover label.sk-toggleable__label-arrow:before {color: black;}#sk-container-id-4 div.sk-toggleable__content {max-height: 0;max-width: 0;overflow: hidden;text-align: left;background-color: #f0f8ff;}#sk-container-id-4 div.sk-toggleable__content pre {margin: 0.2em;color: black;border-radius: 0.25em;background-color: #f0f8ff;}#sk-container-id-4 input.sk-toggleable__control:checked~div.sk-toggleable__content {max-height: 200px;max-width: 100%;overflow: auto;}#sk-container-id-4 input.sk-toggleable__control:checked~label.sk-toggleable__label-arrow:before {content: \"▾\";}#sk-container-id-4 div.sk-estimator input.sk-toggleable__control:checked~label.sk-toggleable__label {background-color: #d4ebff;}#sk-container-id-4 div.sk-label input.sk-toggleable__control:checked~label.sk-toggleable__label {background-color: #d4ebff;}#sk-container-id-4 input.sk-hidden--visually {border: 0;clip: rect(1px 1px 1px 1px);clip: rect(1px, 1px, 1px, 1px);height: 1px;margin: -1px;overflow: hidden;padding: 0;position: absolute;width: 1px;}#sk-container-id-4 div.sk-estimator {font-family: monospace;background-color: #f0f8ff;border: 1px dotted black;border-radius: 0.25em;box-sizing: border-box;margin-bottom: 0.5em;}#sk-container-id-4 div.sk-estimator:hover {background-color: #d4ebff;}#sk-container-id-4 div.sk-parallel-item::after {content: \"\";width: 100%;border-bottom: 1px solid gray;flex-grow: 1;}#sk-container-id-4 div.sk-label:hover label.sk-toggleable__label {background-color: #d4ebff;}#sk-container-id-4 div.sk-serial::before {content: \"\";position: absolute;border-left: 1px solid gray;box-sizing: border-box;top: 0;bottom: 0;left: 50%;z-index: 0;}#sk-container-id-4 div.sk-serial {display: flex;flex-direction: column;align-items: center;background-color: white;padding-right: 0.2em;padding-left: 0.2em;position: relative;}#sk-container-id-4 div.sk-item {position: relative;z-index: 1;}#sk-container-id-4 div.sk-parallel {display: flex;align-items: stretch;justify-content: center;background-color: white;position: relative;}#sk-container-id-4 div.sk-item::before, #sk-container-id-4 div.sk-parallel-item::before {content: \"\";position: absolute;border-left: 1px solid gray;box-sizing: border-box;top: 0;bottom: 0;left: 50%;z-index: -1;}#sk-container-id-4 div.sk-parallel-item {display: flex;flex-direction: column;z-index: 1;position: relative;background-color: white;}#sk-container-id-4 div.sk-parallel-item:first-child::after {align-self: flex-end;width: 50%;}#sk-container-id-4 div.sk-parallel-item:last-child::after {align-self: flex-start;width: 50%;}#sk-container-id-4 div.sk-parallel-item:only-child::after {width: 0;}#sk-container-id-4 div.sk-dashed-wrapped {border: 1px dashed gray;margin: 0 0.4em 0.5em 0.4em;box-sizing: border-box;padding-bottom: 0.4em;background-color: white;}#sk-container-id-4 div.sk-label label {font-family: monospace;font-weight: bold;display: inline-block;line-height: 1.2em;}#sk-container-id-4 div.sk-label-container {text-align: center;}#sk-container-id-4 div.sk-container {/* jupyter's `normalize.less` sets `[hidden] { display: none; }` but bootstrap.min.css set `[hidden] { display: none !important; }` so we also need the `!important` here to be able to override the default hidden behavior on the sphinx rendered scikit-learn.org. See: https://github.com/scikit-learn/scikit-learn/issues/21755 */display: inline-block !important;position: relative;}#sk-container-id-4 div.sk-text-repr-fallback {display: none;}</style><div id=\"sk-container-id-4\" class=\"sk-top-container\"><div class=\"sk-text-repr-fallback\"><pre>DecisionTreeClassifier()</pre><b>In a Jupyter environment, please rerun this cell to show the HTML representation or trust the notebook. <br />On GitHub, the HTML representation is unable to render, please try loading this page with nbviewer.org.</b></div><div class=\"sk-container\" hidden><div class=\"sk-item\"><div class=\"sk-estimator sk-toggleable\"><input class=\"sk-toggleable__control sk-hidden--visually\" id=\"sk-estimator-id-4\" type=\"checkbox\" checked><label for=\"sk-estimator-id-4\" class=\"sk-toggleable__label sk-toggleable__label-arrow\">DecisionTreeClassifier</label><div class=\"sk-toggleable__content\"><pre>DecisionTreeClassifier()</pre></div></div></div></div></div>"
            ]
          },
          "metadata": {},
          "execution_count": 47
        }
      ],
      "source": [
        "dt_mdl.fit(X_train_over, Y_train_over)"
      ]
    },
    {
      "cell_type": "code",
      "execution_count": null,
      "id": "b50fbd88",
      "metadata": {
        "id": "b50fbd88"
      },
      "outputs": [],
      "source": [
        "Y_pred_dt = dt_mdl.predict(X_test)"
      ]
    },
    {
      "cell_type": "code",
      "execution_count": null,
      "id": "6f7a61ba",
      "metadata": {
        "colab": {
          "base_uri": "https://localhost:8080/"
        },
        "id": "6f7a61ba",
        "outputId": "4d2c0343-5e8b-4837-e622-5f70ed429bc3"
      },
      "outputs": [
        {
          "output_type": "stream",
          "name": "stdout",
          "text": [
            "[0 0 0 1 0 0 1 1 0 0 1 0 0 1 0 0 0 1 0 1 0 0 0 0 0 0 1 0 0 0 0 0 0 0 0 0 0\n",
            " 0 0 1 0 0 0 0 1 0 0 1 1 0 0 0 0 0 1 0 1 0 0 0 1 0 1 1 0 1 1 0 1 0 0 1 0 1\n",
            " 0 0 0 0 0 0 1 0 1 0 1 0 1 0 0 0 0 0 1 0 1 0 0 1 0 0 0 0 1 0 1 0 0 1 0 1 1\n",
            " 0 0 1 1 0 0 1 0 0 0 0 0 0 1 0 0 0 0 0 1 0 0 0 0 0 0 1 0 0 1 1 0 1 1 0 1 0\n",
            " 1 1 0 1 0 0 0 0 0 1 0 0 0 0 1 0 0 0 0 0 0 1 0 0 1 0 0 0 1 0 0 0 0 0 0 0 0\n",
            " 1 0 0 0 0 0 0 0 1 0 0 0 0 0 0 1 0 0 0 0 0 0 0 0 0 1 1 1 0 0 0 1 0 0 0 0 0\n",
            " 0 1 1 1 0 0 1 0 0 0 0 0 1 1 1 1 1 1 0 0 1 1 0 1 0 1 0 0 1 0 1 0 0 0 0 0 1\n",
            " 1 0 0 0 1 0 0 0 1 0 0 0 0 1 0 0 0 0 0 0 1 0 1 1 1 0 0 0 1 1 0 0 1 0 0 0 0\n",
            " 0 0 0 1]\n"
          ]
        }
      ],
      "source": [
        "print(Y_pred_dt)"
      ]
    },
    {
      "cell_type": "code",
      "execution_count": null,
      "id": "6fb5f54c",
      "metadata": {
        "colab": {
          "base_uri": "https://localhost:8080/"
        },
        "id": "6fb5f54c",
        "outputId": "28f4fec0-de21-4405-e03d-9f17ee554967"
      },
      "outputs": [
        {
          "output_type": "stream",
          "name": "stdout",
          "text": [
            "              precision    recall  f1-score   support\n",
            "\n",
            "           0       0.88      0.85      0.87       219\n",
            "           1       0.63      0.69      0.66        81\n",
            "\n",
            "    accuracy                           0.81       300\n",
            "   macro avg       0.76      0.77      0.76       300\n",
            "weighted avg       0.81      0.81      0.81       300\n",
            "\n"
          ]
        }
      ],
      "source": [
        "cr_dt = classification_report(Y_test, Y_pred_dt)\n",
        "print(cr_dt)\n",
        "\n",
        "# f1-score & accuracy 79%, 80% 가까워지면 과적합 위험이 있음"
      ]
    },
    {
      "cell_type": "code",
      "execution_count": null,
      "id": "15815624",
      "metadata": {
        "colab": {
          "base_uri": "https://localhost:8080/",
          "height": 75
        },
        "id": "15815624",
        "outputId": "c65937d4-1da8-4cd6-c0e1-a4949808a454"
      },
      "outputs": [
        {
          "output_type": "execute_result",
          "data": {
            "text/plain": [
              "DecisionTreeClassifier()"
            ],
            "text/html": [
              "<style>#sk-container-id-5 {color: black;background-color: white;}#sk-container-id-5 pre{padding: 0;}#sk-container-id-5 div.sk-toggleable {background-color: white;}#sk-container-id-5 label.sk-toggleable__label {cursor: pointer;display: block;width: 100%;margin-bottom: 0;padding: 0.3em;box-sizing: border-box;text-align: center;}#sk-container-id-5 label.sk-toggleable__label-arrow:before {content: \"▸\";float: left;margin-right: 0.25em;color: #696969;}#sk-container-id-5 label.sk-toggleable__label-arrow:hover:before {color: black;}#sk-container-id-5 div.sk-estimator:hover label.sk-toggleable__label-arrow:before {color: black;}#sk-container-id-5 div.sk-toggleable__content {max-height: 0;max-width: 0;overflow: hidden;text-align: left;background-color: #f0f8ff;}#sk-container-id-5 div.sk-toggleable__content pre {margin: 0.2em;color: black;border-radius: 0.25em;background-color: #f0f8ff;}#sk-container-id-5 input.sk-toggleable__control:checked~div.sk-toggleable__content {max-height: 200px;max-width: 100%;overflow: auto;}#sk-container-id-5 input.sk-toggleable__control:checked~label.sk-toggleable__label-arrow:before {content: \"▾\";}#sk-container-id-5 div.sk-estimator input.sk-toggleable__control:checked~label.sk-toggleable__label {background-color: #d4ebff;}#sk-container-id-5 div.sk-label input.sk-toggleable__control:checked~label.sk-toggleable__label {background-color: #d4ebff;}#sk-container-id-5 input.sk-hidden--visually {border: 0;clip: rect(1px 1px 1px 1px);clip: rect(1px, 1px, 1px, 1px);height: 1px;margin: -1px;overflow: hidden;padding: 0;position: absolute;width: 1px;}#sk-container-id-5 div.sk-estimator {font-family: monospace;background-color: #f0f8ff;border: 1px dotted black;border-radius: 0.25em;box-sizing: border-box;margin-bottom: 0.5em;}#sk-container-id-5 div.sk-estimator:hover {background-color: #d4ebff;}#sk-container-id-5 div.sk-parallel-item::after {content: \"\";width: 100%;border-bottom: 1px solid gray;flex-grow: 1;}#sk-container-id-5 div.sk-label:hover label.sk-toggleable__label {background-color: #d4ebff;}#sk-container-id-5 div.sk-serial::before {content: \"\";position: absolute;border-left: 1px solid gray;box-sizing: border-box;top: 0;bottom: 0;left: 50%;z-index: 0;}#sk-container-id-5 div.sk-serial {display: flex;flex-direction: column;align-items: center;background-color: white;padding-right: 0.2em;padding-left: 0.2em;position: relative;}#sk-container-id-5 div.sk-item {position: relative;z-index: 1;}#sk-container-id-5 div.sk-parallel {display: flex;align-items: stretch;justify-content: center;background-color: white;position: relative;}#sk-container-id-5 div.sk-item::before, #sk-container-id-5 div.sk-parallel-item::before {content: \"\";position: absolute;border-left: 1px solid gray;box-sizing: border-box;top: 0;bottom: 0;left: 50%;z-index: -1;}#sk-container-id-5 div.sk-parallel-item {display: flex;flex-direction: column;z-index: 1;position: relative;background-color: white;}#sk-container-id-5 div.sk-parallel-item:first-child::after {align-self: flex-end;width: 50%;}#sk-container-id-5 div.sk-parallel-item:last-child::after {align-self: flex-start;width: 50%;}#sk-container-id-5 div.sk-parallel-item:only-child::after {width: 0;}#sk-container-id-5 div.sk-dashed-wrapped {border: 1px dashed gray;margin: 0 0.4em 0.5em 0.4em;box-sizing: border-box;padding-bottom: 0.4em;background-color: white;}#sk-container-id-5 div.sk-label label {font-family: monospace;font-weight: bold;display: inline-block;line-height: 1.2em;}#sk-container-id-5 div.sk-label-container {text-align: center;}#sk-container-id-5 div.sk-container {/* jupyter's `normalize.less` sets `[hidden] { display: none; }` but bootstrap.min.css set `[hidden] { display: none !important; }` so we also need the `!important` here to be able to override the default hidden behavior on the sphinx rendered scikit-learn.org. See: https://github.com/scikit-learn/scikit-learn/issues/21755 */display: inline-block !important;position: relative;}#sk-container-id-5 div.sk-text-repr-fallback {display: none;}</style><div id=\"sk-container-id-5\" class=\"sk-top-container\"><div class=\"sk-text-repr-fallback\"><pre>DecisionTreeClassifier()</pre><b>In a Jupyter environment, please rerun this cell to show the HTML representation or trust the notebook. <br />On GitHub, the HTML representation is unable to render, please try loading this page with nbviewer.org.</b></div><div class=\"sk-container\" hidden><div class=\"sk-item\"><div class=\"sk-estimator sk-toggleable\"><input class=\"sk-toggleable__control sk-hidden--visually\" id=\"sk-estimator-id-5\" type=\"checkbox\" checked><label for=\"sk-estimator-id-5\" class=\"sk-toggleable__label sk-toggleable__label-arrow\">DecisionTreeClassifier</label><div class=\"sk-toggleable__content\"><pre>DecisionTreeClassifier()</pre></div></div></div></div></div>"
            ]
          },
          "metadata": {},
          "execution_count": 51
        }
      ],
      "source": [
        "dt_mdl"
      ]
    },
    {
      "cell_type": "code",
      "execution_count": null,
      "id": "f271ea1f",
      "metadata": {
        "colab": {
          "base_uri": "https://localhost:8080/"
        },
        "id": "f271ea1f",
        "outputId": "a1a0b383-b1bd-4bc1-f7b1-dca8c40e89c3"
      },
      "outputs": [
        {
          "output_type": "execute_result",
          "data": {
            "text/plain": [
              "[(0.7175638070519446, '거래기간'),\n",
              " (0.1453037718422288, '총매출액'),\n",
              " (0.13713242110582666, '방문빈도')]"
            ]
          },
          "metadata": {},
          "execution_count": 52
        }
      ],
      "source": [
        "# 변수중요도\n",
        "feature_name = X.columns\n",
        "feature_importance = dt_mdl.feature_importances_\n",
        "sorted(zip(feature_importance, feature_name),reverse = True)\n",
        "\n",
        "\n",
        "# 거래기간이 가장 영향력이 높음"
      ]
    },
    {
      "cell_type": "code",
      "execution_count": null,
      "id": "9ceb706a",
      "metadata": {
        "id": "9ceb706a"
      },
      "outputs": [],
      "source": [
        "from sklearn.tree import export_graphviz"
      ]
    },
    {
      "cell_type": "code",
      "execution_count": null,
      "id": "4e7fcaa7",
      "metadata": {
        "id": "4e7fcaa7"
      },
      "outputs": [],
      "source": [
        "import graphviz"
      ]
    },
    {
      "cell_type": "code",
      "execution_count": null,
      "id": "9166faaa",
      "metadata": {
        "id": "9166faaa"
      },
      "outputs": [],
      "source": [
        "export_graphviz(dt_mdl, class_names = ['비이탈', '이탈'], feature_names = feature_name, filled = True,\n",
        "               out_file = 'tree.dot')"
      ]
    },
    {
      "cell_type": "code",
      "execution_count": null,
      "id": "6bf5f5e2",
      "metadata": {
        "colab": {
          "base_uri": "https://localhost:8080/",
          "height": 1000
        },
        "id": "6bf5f5e2",
        "outputId": "99a32c18-4e13-4dd3-e87e-db8d464ce7ed"
      },
      "outputs": [
        {
          "output_type": "execute_result",
          "data": {
            "image/svg+xml": "<?xml version=\"1.0\" encoding=\"UTF-8\" standalone=\"no\"?>\n<!DOCTYPE svg PUBLIC \"-//W3C//DTD SVG 1.1//EN\"\n \"http://www.w3.org/Graphics/SVG/1.1/DTD/svg11.dtd\">\n<!-- Generated by graphviz version 2.43.0 (0)\n -->\n<!-- Title: Tree Pages: 1 -->\n<svg width=\"4739pt\" height=\"1980pt\"\n viewBox=\"0.00 0.00 4739.00 1980.00\" xmlns=\"http://www.w3.org/2000/svg\" xmlns:xlink=\"http://www.w3.org/1999/xlink\">\n<g id=\"graph0\" class=\"graph\" transform=\"scale(1 1) rotate(0) translate(4 1976)\">\n<title>Tree</title>\n<polygon fill=\"white\" stroke=\"transparent\" points=\"-4,4 -4,-1976 4735,-1976 4735,4 -4,4\"/>\n<!-- 0 -->\n<g id=\"node1\" class=\"node\">\n<title>0</title>\n<polygon fill=\"#ffffff\" stroke=\"black\" points=\"3548.5,-1972 3417.5,-1972 3417.5,-1889 3548.5,-1889 3548.5,-1972\"/>\n<text text-anchor=\"middle\" x=\"3483\" y=\"-1956.8\" font-family=\"Helvetica,sans-Serif\" font-size=\"14.00\">거래기간 &lt;= 0.447</text>\n<text text-anchor=\"middle\" x=\"3483\" y=\"-1941.8\" font-family=\"Helvetica,sans-Serif\" font-size=\"14.00\">gini = 0.5</text>\n<text text-anchor=\"middle\" x=\"3483\" y=\"-1926.8\" font-family=\"Helvetica,sans-Serif\" font-size=\"14.00\">samples = 962</text>\n<text text-anchor=\"middle\" x=\"3483\" y=\"-1911.8\" font-family=\"Helvetica,sans-Serif\" font-size=\"14.00\">value = [481, 481]</text>\n<text text-anchor=\"middle\" x=\"3483\" y=\"-1896.8\" font-family=\"Helvetica,sans-Serif\" font-size=\"14.00\">class = 비이탈</text>\n</g>\n<!-- 1 -->\n<g id=\"node2\" class=\"node\">\n<title>1</title>\n<polygon fill=\"#81c1ee\" stroke=\"black\" points=\"3328,-1853 3200,-1853 3200,-1770 3328,-1770 3328,-1853\"/>\n<text text-anchor=\"middle\" x=\"3264\" y=\"-1837.8\" font-family=\"Helvetica,sans-Serif\" font-size=\"14.00\">거래기간 &lt;= &#45;0.08</text>\n<text text-anchor=\"middle\" x=\"3264\" y=\"-1822.8\" font-family=\"Helvetica,sans-Serif\" font-size=\"14.00\">gini = 0.391</text>\n<text text-anchor=\"middle\" x=\"3264\" y=\"-1807.8\" font-family=\"Helvetica,sans-Serif\" font-size=\"14.00\">samples = 652</text>\n<text text-anchor=\"middle\" x=\"3264\" y=\"-1792.8\" font-family=\"Helvetica,sans-Serif\" font-size=\"14.00\">value = [174, 478]</text>\n<text text-anchor=\"middle\" x=\"3264\" y=\"-1777.8\" font-family=\"Helvetica,sans-Serif\" font-size=\"14.00\">class = 이탈</text>\n</g>\n<!-- 0&#45;&gt;1 -->\n<g id=\"edge1\" class=\"edge\">\n<title>0&#45;&gt;1</title>\n<path fill=\"none\" stroke=\"black\" d=\"M3417.29,-1894.4C3392.05,-1880.91 3363.08,-1865.43 3337.18,-1851.6\"/>\n<polygon fill=\"black\" stroke=\"black\" points=\"3338.62,-1848.4 3328.15,-1846.77 3335.32,-1854.57 3338.62,-1848.4\"/>\n<text text-anchor=\"middle\" x=\"3335.42\" y=\"-1867\" font-family=\"Helvetica,sans-Serif\" font-size=\"14.00\">True</text>\n</g>\n<!-- 188 -->\n<g id=\"node189\" class=\"node\">\n<title>188</title>\n<polygon fill=\"#e5823b\" stroke=\"black\" points=\"3783.5,-1853 3652.5,-1853 3652.5,-1770 3783.5,-1770 3783.5,-1853\"/>\n<text text-anchor=\"middle\" x=\"3718\" y=\"-1837.8\" font-family=\"Helvetica,sans-Serif\" font-size=\"14.00\">거래기간 &lt;= 1.496</text>\n<text text-anchor=\"middle\" x=\"3718\" y=\"-1822.8\" font-family=\"Helvetica,sans-Serif\" font-size=\"14.00\">gini = 0.019</text>\n<text text-anchor=\"middle\" x=\"3718\" y=\"-1807.8\" font-family=\"Helvetica,sans-Serif\" font-size=\"14.00\">samples = 310</text>\n<text text-anchor=\"middle\" x=\"3718\" y=\"-1792.8\" font-family=\"Helvetica,sans-Serif\" font-size=\"14.00\">value = [307, 3]</text>\n<text text-anchor=\"middle\" x=\"3718\" y=\"-1777.8\" font-family=\"Helvetica,sans-Serif\" font-size=\"14.00\">class = 비이탈</text>\n</g>\n<!-- 0&#45;&gt;188 -->\n<g id=\"edge188\" class=\"edge\">\n<title>0&#45;&gt;188</title>\n<path fill=\"none\" stroke=\"black\" d=\"M3548.77,-1896.75C3578.06,-1882.17 3612.7,-1864.92 3642.99,-1849.84\"/>\n<polygon fill=\"black\" stroke=\"black\" points=\"3644.85,-1852.83 3652.24,-1845.24 3641.73,-1846.56 3644.85,-1852.83\"/>\n<text text-anchor=\"middle\" x=\"3644.3\" y=\"-1865.24\" font-family=\"Helvetica,sans-Serif\" font-size=\"14.00\">False</text>\n</g>\n<!-- 2 -->\n<g id=\"node3\" class=\"node\">\n<title>2</title>\n<polygon fill=\"#e1f0fb\" stroke=\"black\" points=\"1804,-1734 1676,-1734 1676,-1651 1804,-1651 1804,-1734\"/>\n<text text-anchor=\"middle\" x=\"1740\" y=\"-1718.8\" font-family=\"Helvetica,sans-Serif\" font-size=\"14.00\">방문빈도 &lt;= &#45;0.48</text>\n<text text-anchor=\"middle\" x=\"1740\" y=\"-1703.8\" font-family=\"Helvetica,sans-Serif\" font-size=\"14.00\">gini = 0.497</text>\n<text text-anchor=\"middle\" x=\"1740\" y=\"-1688.8\" font-family=\"Helvetica,sans-Serif\" font-size=\"14.00\">samples = 309</text>\n<text text-anchor=\"middle\" x=\"1740\" y=\"-1673.8\" font-family=\"Helvetica,sans-Serif\" font-size=\"14.00\">value = [142, 167]</text>\n<text text-anchor=\"middle\" x=\"1740\" y=\"-1658.8\" font-family=\"Helvetica,sans-Serif\" font-size=\"14.00\">class = 이탈</text>\n</g>\n<!-- 1&#45;&gt;2 -->\n<g id=\"edge2\" class=\"edge\">\n<title>1&#45;&gt;2</title>\n<path fill=\"none\" stroke=\"black\" d=\"M3199.97,-1805.58C2954.81,-1786.76 2076.44,-1719.33 1814.34,-1699.21\"/>\n<polygon fill=\"black\" stroke=\"black\" points=\"1814.41,-1695.7 1804.17,-1698.43 1813.87,-1702.68 1814.41,-1695.7\"/>\n</g>\n<!-- 117 -->\n<g id=\"node118\" class=\"node\">\n<title>117</title>\n<polygon fill=\"#4da7e8\" stroke=\"black\" points=\"3329.5,-1734 3198.5,-1734 3198.5,-1651 3329.5,-1651 3329.5,-1734\"/>\n<text text-anchor=\"middle\" x=\"3264\" y=\"-1718.8\" font-family=\"Helvetica,sans-Serif\" font-size=\"14.00\">거래기간 &lt;= 0.135</text>\n<text text-anchor=\"middle\" x=\"3264\" y=\"-1703.8\" font-family=\"Helvetica,sans-Serif\" font-size=\"14.00\">gini = 0.169</text>\n<text text-anchor=\"middle\" x=\"3264\" y=\"-1688.8\" font-family=\"Helvetica,sans-Serif\" font-size=\"14.00\">samples = 343</text>\n<text text-anchor=\"middle\" x=\"3264\" y=\"-1673.8\" font-family=\"Helvetica,sans-Serif\" font-size=\"14.00\">value = [32, 311]</text>\n<text text-anchor=\"middle\" x=\"3264\" y=\"-1658.8\" font-family=\"Helvetica,sans-Serif\" font-size=\"14.00\">class = 이탈</text>\n</g>\n<!-- 1&#45;&gt;117 -->\n<g id=\"edge117\" class=\"edge\">\n<title>1&#45;&gt;117</title>\n<path fill=\"none\" stroke=\"black\" d=\"M3264,-1769.91C3264,-1761.65 3264,-1752.86 3264,-1744.3\"/>\n<polygon fill=\"black\" stroke=\"black\" points=\"3267.5,-1744.02 3264,-1734.02 3260.5,-1744.02 3267.5,-1744.02\"/>\n</g>\n<!-- 3 -->\n<g id=\"node4\" class=\"node\">\n<title>3</title>\n<polygon fill=\"#70b8ec\" stroke=\"black\" points=\"732,-1615 596,-1615 596,-1532 732,-1532 732,-1615\"/>\n<text text-anchor=\"middle\" x=\"664\" y=\"-1599.8\" font-family=\"Helvetica,sans-Serif\" font-size=\"14.00\">거래기간 &lt;= &#45;2.189</text>\n<text text-anchor=\"middle\" x=\"664\" y=\"-1584.8\" font-family=\"Helvetica,sans-Serif\" font-size=\"14.00\">gini = 0.34</text>\n<text text-anchor=\"middle\" x=\"664\" y=\"-1569.8\" font-family=\"Helvetica,sans-Serif\" font-size=\"14.00\">samples = 143</text>\n<text text-anchor=\"middle\" x=\"664\" y=\"-1554.8\" font-family=\"Helvetica,sans-Serif\" font-size=\"14.00\">value = [31, 112]</text>\n<text text-anchor=\"middle\" x=\"664\" y=\"-1539.8\" font-family=\"Helvetica,sans-Serif\" font-size=\"14.00\">class = 이탈</text>\n</g>\n<!-- 2&#45;&gt;3 -->\n<g id=\"edge3\" class=\"edge\">\n<title>2&#45;&gt;3</title>\n<path fill=\"none\" stroke=\"black\" d=\"M1675.91,-1684.53C1489.16,-1664.22 945.81,-1605.14 742.23,-1583.01\"/>\n<polygon fill=\"black\" stroke=\"black\" points=\"742.54,-1579.52 732.22,-1581.92 741.78,-1586.48 742.54,-1579.52\"/>\n</g>\n<!-- 48 -->\n<g id=\"node49\" class=\"node\">\n<title>48</title>\n<polygon fill=\"#f2bf9b\" stroke=\"black\" points=\"1808,-1615 1672,-1615 1672,-1532 1808,-1532 1808,-1615\"/>\n<text text-anchor=\"middle\" x=\"1740\" y=\"-1599.8\" font-family=\"Helvetica,sans-Serif\" font-size=\"14.00\">거래기간 &lt;= &#45;1.919</text>\n<text text-anchor=\"middle\" x=\"1740\" y=\"-1584.8\" font-family=\"Helvetica,sans-Serif\" font-size=\"14.00\">gini = 0.443</text>\n<text text-anchor=\"middle\" x=\"1740\" y=\"-1569.8\" font-family=\"Helvetica,sans-Serif\" font-size=\"14.00\">samples = 166</text>\n<text text-anchor=\"middle\" x=\"1740\" y=\"-1554.8\" font-family=\"Helvetica,sans-Serif\" font-size=\"14.00\">value = [111, 55]</text>\n<text text-anchor=\"middle\" x=\"1740\" y=\"-1539.8\" font-family=\"Helvetica,sans-Serif\" font-size=\"14.00\">class = 비이탈</text>\n</g>\n<!-- 2&#45;&gt;48 -->\n<g id=\"edge48\" class=\"edge\">\n<title>2&#45;&gt;48</title>\n<path fill=\"none\" stroke=\"black\" d=\"M1740,-1650.91C1740,-1642.65 1740,-1633.86 1740,-1625.3\"/>\n<polygon fill=\"black\" stroke=\"black\" points=\"1743.5,-1625.02 1740,-1615.02 1736.5,-1625.02 1743.5,-1625.02\"/>\n</g>\n<!-- 4 -->\n<g id=\"node5\" class=\"node\">\n<title>4</title>\n<polygon fill=\"#3e9fe6\" stroke=\"black\" points=\"526,-1496 390,-1496 390,-1413 526,-1413 526,-1496\"/>\n<text text-anchor=\"middle\" x=\"458\" y=\"-1480.8\" font-family=\"Helvetica,sans-Serif\" font-size=\"14.00\">방문빈도 &lt;= &#45;1.095</text>\n<text text-anchor=\"middle\" x=\"458\" y=\"-1465.8\" font-family=\"Helvetica,sans-Serif\" font-size=\"14.00\">gini = 0.048</text>\n<text text-anchor=\"middle\" x=\"458\" y=\"-1450.8\" font-family=\"Helvetica,sans-Serif\" font-size=\"14.00\">samples = 41</text>\n<text text-anchor=\"middle\" x=\"458\" y=\"-1435.8\" font-family=\"Helvetica,sans-Serif\" font-size=\"14.00\">value = [1, 40]</text>\n<text text-anchor=\"middle\" x=\"458\" y=\"-1420.8\" font-family=\"Helvetica,sans-Serif\" font-size=\"14.00\">class = 이탈</text>\n</g>\n<!-- 3&#45;&gt;4 -->\n<g id=\"edge4\" class=\"edge\">\n<title>3&#45;&gt;4</title>\n<path fill=\"none\" stroke=\"black\" d=\"M595.98,-1533.87C576.48,-1522.79 555.08,-1510.64 535.08,-1499.28\"/>\n<polygon fill=\"black\" stroke=\"black\" points=\"536.73,-1496.19 526.3,-1494.29 533.27,-1502.28 536.73,-1496.19\"/>\n</g>\n<!-- 9 -->\n<g id=\"node10\" class=\"node\">\n<title>9</title>\n<polygon fill=\"#8bc6f0\" stroke=\"black\" points=\"728,-1496 600,-1496 600,-1413 728,-1413 728,-1496\"/>\n<text text-anchor=\"middle\" x=\"664\" y=\"-1480.8\" font-family=\"Helvetica,sans-Serif\" font-size=\"14.00\">거래기간 &lt;= &#45;1.91</text>\n<text text-anchor=\"middle\" x=\"664\" y=\"-1465.8\" font-family=\"Helvetica,sans-Serif\" font-size=\"14.00\">gini = 0.415</text>\n<text text-anchor=\"middle\" x=\"664\" y=\"-1450.8\" font-family=\"Helvetica,sans-Serif\" font-size=\"14.00\">samples = 102</text>\n<text text-anchor=\"middle\" x=\"664\" y=\"-1435.8\" font-family=\"Helvetica,sans-Serif\" font-size=\"14.00\">value = [30, 72]</text>\n<text text-anchor=\"middle\" x=\"664\" y=\"-1420.8\" font-family=\"Helvetica,sans-Serif\" font-size=\"14.00\">class = 이탈</text>\n</g>\n<!-- 3&#45;&gt;9 -->\n<g id=\"edge9\" class=\"edge\">\n<title>3&#45;&gt;9</title>\n<path fill=\"none\" stroke=\"black\" d=\"M664,-1531.91C664,-1523.65 664,-1514.86 664,-1506.3\"/>\n<polygon fill=\"black\" stroke=\"black\" points=\"667.5,-1506.02 664,-1496.02 660.5,-1506.02 667.5,-1506.02\"/>\n</g>\n<!-- 5 -->\n<g id=\"node6\" class=\"node\">\n<title>5</title>\n<polygon fill=\"#ffffff\" stroke=\"black\" points=\"389,-1377 261,-1377 261,-1294 389,-1294 389,-1377\"/>\n<text text-anchor=\"middle\" x=\"325\" y=\"-1361.8\" font-family=\"Helvetica,sans-Serif\" font-size=\"14.00\">총매출액 &lt;= &#45;0.57</text>\n<text text-anchor=\"middle\" x=\"325\" y=\"-1346.8\" font-family=\"Helvetica,sans-Serif\" font-size=\"14.00\">gini = 0.5</text>\n<text text-anchor=\"middle\" x=\"325\" y=\"-1331.8\" font-family=\"Helvetica,sans-Serif\" font-size=\"14.00\">samples = 2</text>\n<text text-anchor=\"middle\" x=\"325\" y=\"-1316.8\" font-family=\"Helvetica,sans-Serif\" font-size=\"14.00\">value = [1, 1]</text>\n<text text-anchor=\"middle\" x=\"325\" y=\"-1301.8\" font-family=\"Helvetica,sans-Serif\" font-size=\"14.00\">class = 비이탈</text>\n</g>\n<!-- 4&#45;&gt;5 -->\n<g id=\"edge5\" class=\"edge\">\n<title>4&#45;&gt;5</title>\n<path fill=\"none\" stroke=\"black\" d=\"M411.86,-1412.91C401.13,-1403.47 389.62,-1393.34 378.6,-1383.65\"/>\n<polygon fill=\"black\" stroke=\"black\" points=\"380.88,-1381 371.06,-1377.02 376.26,-1386.25 380.88,-1381\"/>\n</g>\n<!-- 8 -->\n<g id=\"node9\" class=\"node\">\n<title>8</title>\n<polygon fill=\"#399de5\" stroke=\"black\" points=\"509,-1369.5 407,-1369.5 407,-1301.5 509,-1301.5 509,-1369.5\"/>\n<text text-anchor=\"middle\" x=\"458\" y=\"-1354.3\" font-family=\"Helvetica,sans-Serif\" font-size=\"14.00\">gini = 0.0</text>\n<text text-anchor=\"middle\" x=\"458\" y=\"-1339.3\" font-family=\"Helvetica,sans-Serif\" font-size=\"14.00\">samples = 39</text>\n<text text-anchor=\"middle\" x=\"458\" y=\"-1324.3\" font-family=\"Helvetica,sans-Serif\" font-size=\"14.00\">value = [0, 39]</text>\n<text text-anchor=\"middle\" x=\"458\" y=\"-1309.3\" font-family=\"Helvetica,sans-Serif\" font-size=\"14.00\">class = 이탈</text>\n</g>\n<!-- 4&#45;&gt;8 -->\n<g id=\"edge8\" class=\"edge\">\n<title>4&#45;&gt;8</title>\n<path fill=\"none\" stroke=\"black\" d=\"M458,-1412.91C458,-1402.2 458,-1390.62 458,-1379.78\"/>\n<polygon fill=\"black\" stroke=\"black\" points=\"461.5,-1379.67 458,-1369.67 454.5,-1379.67 461.5,-1379.67\"/>\n</g>\n<!-- 6 -->\n<g id=\"node7\" class=\"node\">\n<title>6</title>\n<polygon fill=\"#e58139\" stroke=\"black\" points=\"274,-1250.5 168,-1250.5 168,-1182.5 274,-1182.5 274,-1250.5\"/>\n<text text-anchor=\"middle\" x=\"221\" y=\"-1235.3\" font-family=\"Helvetica,sans-Serif\" font-size=\"14.00\">gini = 0.0</text>\n<text text-anchor=\"middle\" x=\"221\" y=\"-1220.3\" font-family=\"Helvetica,sans-Serif\" font-size=\"14.00\">samples = 1</text>\n<text text-anchor=\"middle\" x=\"221\" y=\"-1205.3\" font-family=\"Helvetica,sans-Serif\" font-size=\"14.00\">value = [1, 0]</text>\n<text text-anchor=\"middle\" x=\"221\" y=\"-1190.3\" font-family=\"Helvetica,sans-Serif\" font-size=\"14.00\">class = 비이탈</text>\n</g>\n<!-- 5&#45;&gt;6 -->\n<g id=\"edge6\" class=\"edge\">\n<title>5&#45;&gt;6</title>\n<path fill=\"none\" stroke=\"black\" d=\"M288.92,-1293.91C278.72,-1282.43 267.61,-1269.94 257.39,-1258.44\"/>\n<polygon fill=\"black\" stroke=\"black\" points=\"259.74,-1255.82 250.48,-1250.67 254.51,-1260.47 259.74,-1255.82\"/>\n</g>\n<!-- 7 -->\n<g id=\"node8\" class=\"node\">\n<title>7</title>\n<polygon fill=\"#399de5\" stroke=\"black\" points=\"387.5,-1250.5 292.5,-1250.5 292.5,-1182.5 387.5,-1182.5 387.5,-1250.5\"/>\n<text text-anchor=\"middle\" x=\"340\" y=\"-1235.3\" font-family=\"Helvetica,sans-Serif\" font-size=\"14.00\">gini = 0.0</text>\n<text text-anchor=\"middle\" x=\"340\" y=\"-1220.3\" font-family=\"Helvetica,sans-Serif\" font-size=\"14.00\">samples = 1</text>\n<text text-anchor=\"middle\" x=\"340\" y=\"-1205.3\" font-family=\"Helvetica,sans-Serif\" font-size=\"14.00\">value = [0, 1]</text>\n<text text-anchor=\"middle\" x=\"340\" y=\"-1190.3\" font-family=\"Helvetica,sans-Serif\" font-size=\"14.00\">class = 이탈</text>\n</g>\n<!-- 5&#45;&gt;7 -->\n<g id=\"edge7\" class=\"edge\">\n<title>5&#45;&gt;7</title>\n<path fill=\"none\" stroke=\"black\" d=\"M330.2,-1293.91C331.58,-1283.2 333.06,-1271.62 334.45,-1260.78\"/>\n<polygon fill=\"black\" stroke=\"black\" points=\"337.95,-1261.03 335.75,-1250.67 331,-1260.14 337.95,-1261.03\"/>\n</g>\n<!-- 10 -->\n<g id=\"node11\" class=\"node\">\n<title>10</title>\n<polygon fill=\"#e58139\" stroke=\"black\" points=\"633,-1369.5 527,-1369.5 527,-1301.5 633,-1301.5 633,-1369.5\"/>\n<text text-anchor=\"middle\" x=\"580\" y=\"-1354.3\" font-family=\"Helvetica,sans-Serif\" font-size=\"14.00\">gini = 0.0</text>\n<text text-anchor=\"middle\" x=\"580\" y=\"-1339.3\" font-family=\"Helvetica,sans-Serif\" font-size=\"14.00\">samples = 4</text>\n<text text-anchor=\"middle\" x=\"580\" y=\"-1324.3\" font-family=\"Helvetica,sans-Serif\" font-size=\"14.00\">value = [4, 0]</text>\n<text text-anchor=\"middle\" x=\"580\" y=\"-1309.3\" font-family=\"Helvetica,sans-Serif\" font-size=\"14.00\">class = 비이탈</text>\n</g>\n<!-- 9&#45;&gt;10 -->\n<g id=\"edge10\" class=\"edge\">\n<title>9&#45;&gt;10</title>\n<path fill=\"none\" stroke=\"black\" d=\"M634.86,-1412.91C626.78,-1401.65 617.99,-1389.42 609.87,-1378.11\"/>\n<polygon fill=\"black\" stroke=\"black\" points=\"612.49,-1375.75 603.81,-1369.67 606.8,-1379.83 612.49,-1375.75\"/>\n</g>\n<!-- 11 -->\n<g id=\"node12\" class=\"node\">\n<title>11</title>\n<polygon fill=\"#80c0ee\" stroke=\"black\" points=\"787,-1377 651,-1377 651,-1294 787,-1294 787,-1377\"/>\n<text text-anchor=\"middle\" x=\"719\" y=\"-1361.8\" font-family=\"Helvetica,sans-Serif\" font-size=\"14.00\">방문빈도 &lt;= &#45;0.679</text>\n<text text-anchor=\"middle\" x=\"719\" y=\"-1346.8\" font-family=\"Helvetica,sans-Serif\" font-size=\"14.00\">gini = 0.39</text>\n<text text-anchor=\"middle\" x=\"719\" y=\"-1331.8\" font-family=\"Helvetica,sans-Serif\" font-size=\"14.00\">samples = 98</text>\n<text text-anchor=\"middle\" x=\"719\" y=\"-1316.8\" font-family=\"Helvetica,sans-Serif\" font-size=\"14.00\">value = [26, 72]</text>\n<text text-anchor=\"middle\" x=\"719\" y=\"-1301.8\" font-family=\"Helvetica,sans-Serif\" font-size=\"14.00\">class = 이탈</text>\n</g>\n<!-- 9&#45;&gt;11 -->\n<g id=\"edge11\" class=\"edge\">\n<title>9&#45;&gt;11</title>\n<path fill=\"none\" stroke=\"black\" d=\"M683.08,-1412.91C687.13,-1404.29 691.46,-1395.09 695.65,-1386.17\"/>\n<polygon fill=\"black\" stroke=\"black\" points=\"698.86,-1387.56 699.95,-1377.02 692.53,-1384.58 698.86,-1387.56\"/>\n</g>\n<!-- 12 -->\n<g id=\"node13\" class=\"node\">\n<title>12</title>\n<polygon fill=\"#5dafea\" stroke=\"black\" points=\"571,-1258 435,-1258 435,-1175 571,-1175 571,-1258\"/>\n<text text-anchor=\"middle\" x=\"503\" y=\"-1242.8\" font-family=\"Helvetica,sans-Serif\" font-size=\"14.00\">방문빈도 &lt;= &#45;0.887</text>\n<text text-anchor=\"middle\" x=\"503\" y=\"-1227.8\" font-family=\"Helvetica,sans-Serif\" font-size=\"14.00\">gini = 0.259</text>\n<text text-anchor=\"middle\" x=\"503\" y=\"-1212.8\" font-family=\"Helvetica,sans-Serif\" font-size=\"14.00\">samples = 59</text>\n<text text-anchor=\"middle\" x=\"503\" y=\"-1197.8\" font-family=\"Helvetica,sans-Serif\" font-size=\"14.00\">value = [9, 50]</text>\n<text text-anchor=\"middle\" x=\"503\" y=\"-1182.8\" font-family=\"Helvetica,sans-Serif\" font-size=\"14.00\">class = 이탈</text>\n</g>\n<!-- 11&#45;&gt;12 -->\n<g id=\"edge12\" class=\"edge\">\n<title>11&#45;&gt;12</title>\n<path fill=\"none\" stroke=\"black\" d=\"M650.95,-1297.64C628.46,-1285.46 603.28,-1271.82 580.16,-1259.3\"/>\n<polygon fill=\"black\" stroke=\"black\" points=\"581.54,-1256.06 571.08,-1254.37 578.2,-1262.22 581.54,-1256.06\"/>\n</g>\n<!-- 27 -->\n<g id=\"node28\" class=\"node\">\n<title>27</title>\n<polygon fill=\"#d2e9f9\" stroke=\"black\" points=\"784.5,-1258 653.5,-1258 653.5,-1175 784.5,-1175 784.5,-1258\"/>\n<text text-anchor=\"middle\" x=\"719\" y=\"-1242.8\" font-family=\"Helvetica,sans-Serif\" font-size=\"14.00\">총매출액 &lt;= 0.047</text>\n<text text-anchor=\"middle\" x=\"719\" y=\"-1227.8\" font-family=\"Helvetica,sans-Serif\" font-size=\"14.00\">gini = 0.492</text>\n<text text-anchor=\"middle\" x=\"719\" y=\"-1212.8\" font-family=\"Helvetica,sans-Serif\" font-size=\"14.00\">samples = 39</text>\n<text text-anchor=\"middle\" x=\"719\" y=\"-1197.8\" font-family=\"Helvetica,sans-Serif\" font-size=\"14.00\">value = [17, 22]</text>\n<text text-anchor=\"middle\" x=\"719\" y=\"-1182.8\" font-family=\"Helvetica,sans-Serif\" font-size=\"14.00\">class = 이탈</text>\n</g>\n<!-- 11&#45;&gt;27 -->\n<g id=\"edge27\" class=\"edge\">\n<title>11&#45;&gt;27</title>\n<path fill=\"none\" stroke=\"black\" d=\"M719,-1293.91C719,-1285.65 719,-1276.86 719,-1268.3\"/>\n<polygon fill=\"black\" stroke=\"black\" points=\"722.5,-1268.02 719,-1258.02 715.5,-1268.02 722.5,-1268.02\"/>\n</g>\n<!-- 13 -->\n<g id=\"node14\" class=\"node\">\n<title>13</title>\n<polygon fill=\"#41a1e6\" stroke=\"black\" points=\"329,-1139 201,-1139 201,-1056 329,-1056 329,-1139\"/>\n<text text-anchor=\"middle\" x=\"265\" y=\"-1123.8\" font-family=\"Helvetica,sans-Serif\" font-size=\"14.00\">총매출액 &lt;= &#45;0.28</text>\n<text text-anchor=\"middle\" x=\"265\" y=\"-1108.8\" font-family=\"Helvetica,sans-Serif\" font-size=\"14.00\">gini = 0.077</text>\n<text text-anchor=\"middle\" x=\"265\" y=\"-1093.8\" font-family=\"Helvetica,sans-Serif\" font-size=\"14.00\">samples = 25</text>\n<text text-anchor=\"middle\" x=\"265\" y=\"-1078.8\" font-family=\"Helvetica,sans-Serif\" font-size=\"14.00\">value = [1, 24]</text>\n<text text-anchor=\"middle\" x=\"265\" y=\"-1063.8\" font-family=\"Helvetica,sans-Serif\" font-size=\"14.00\">class = 이탈</text>\n</g>\n<!-- 12&#45;&gt;13 -->\n<g id=\"edge13\" class=\"edge\">\n<title>12&#45;&gt;13</title>\n<path fill=\"none\" stroke=\"black\" d=\"M434.8,-1181.97C404.67,-1167.16 369.2,-1149.73 338.49,-1134.63\"/>\n<polygon fill=\"black\" stroke=\"black\" points=\"339.64,-1131.29 329.12,-1130.02 336.55,-1137.58 339.64,-1131.29\"/>\n</g>\n<!-- 16 -->\n<g id=\"node17\" class=\"node\">\n<title>16</title>\n<polygon fill=\"#76bbed\" stroke=\"black\" points=\"571,-1139 435,-1139 435,-1056 571,-1056 571,-1139\"/>\n<text text-anchor=\"middle\" x=\"503\" y=\"-1123.8\" font-family=\"Helvetica,sans-Serif\" font-size=\"14.00\">거래기간 &lt;= &#45;1.162</text>\n<text text-anchor=\"middle\" x=\"503\" y=\"-1108.8\" font-family=\"Helvetica,sans-Serif\" font-size=\"14.00\">gini = 0.36</text>\n<text text-anchor=\"middle\" x=\"503\" y=\"-1093.8\" font-family=\"Helvetica,sans-Serif\" font-size=\"14.00\">samples = 34</text>\n<text text-anchor=\"middle\" x=\"503\" y=\"-1078.8\" font-family=\"Helvetica,sans-Serif\" font-size=\"14.00\">value = [8, 26]</text>\n<text text-anchor=\"middle\" x=\"503\" y=\"-1063.8\" font-family=\"Helvetica,sans-Serif\" font-size=\"14.00\">class = 이탈</text>\n</g>\n<!-- 12&#45;&gt;16 -->\n<g id=\"edge16\" class=\"edge\">\n<title>12&#45;&gt;16</title>\n<path fill=\"none\" stroke=\"black\" d=\"M503,-1174.91C503,-1166.65 503,-1157.86 503,-1149.3\"/>\n<polygon fill=\"black\" stroke=\"black\" points=\"506.5,-1149.02 503,-1139.02 499.5,-1149.02 506.5,-1149.02\"/>\n</g>\n<!-- 14 -->\n<g id=\"node15\" class=\"node\">\n<title>14</title>\n<polygon fill=\"#399de5\" stroke=\"black\" points=\"194,-1012.5 92,-1012.5 92,-944.5 194,-944.5 194,-1012.5\"/>\n<text text-anchor=\"middle\" x=\"143\" y=\"-997.3\" font-family=\"Helvetica,sans-Serif\" font-size=\"14.00\">gini = 0.0</text>\n<text text-anchor=\"middle\" x=\"143\" y=\"-982.3\" font-family=\"Helvetica,sans-Serif\" font-size=\"14.00\">samples = 24</text>\n<text text-anchor=\"middle\" x=\"143\" y=\"-967.3\" font-family=\"Helvetica,sans-Serif\" font-size=\"14.00\">value = [0, 24]</text>\n<text text-anchor=\"middle\" x=\"143\" y=\"-952.3\" font-family=\"Helvetica,sans-Serif\" font-size=\"14.00\">class = 이탈</text>\n</g>\n<!-- 13&#45;&gt;14 -->\n<g id=\"edge14\" class=\"edge\">\n<title>13&#45;&gt;14</title>\n<path fill=\"none\" stroke=\"black\" d=\"M222.67,-1055.91C210.48,-1044.21 197.18,-1031.46 185,-1019.78\"/>\n<polygon fill=\"black\" stroke=\"black\" points=\"187.22,-1017.06 177.58,-1012.67 182.38,-1022.11 187.22,-1017.06\"/>\n</g>\n<!-- 15 -->\n<g id=\"node16\" class=\"node\">\n<title>15</title>\n<polygon fill=\"#e58139\" stroke=\"black\" points=\"318,-1012.5 212,-1012.5 212,-944.5 318,-944.5 318,-1012.5\"/>\n<text text-anchor=\"middle\" x=\"265\" y=\"-997.3\" font-family=\"Helvetica,sans-Serif\" font-size=\"14.00\">gini = 0.0</text>\n<text text-anchor=\"middle\" x=\"265\" y=\"-982.3\" font-family=\"Helvetica,sans-Serif\" font-size=\"14.00\">samples = 1</text>\n<text text-anchor=\"middle\" x=\"265\" y=\"-967.3\" font-family=\"Helvetica,sans-Serif\" font-size=\"14.00\">value = [1, 0]</text>\n<text text-anchor=\"middle\" x=\"265\" y=\"-952.3\" font-family=\"Helvetica,sans-Serif\" font-size=\"14.00\">class = 비이탈</text>\n</g>\n<!-- 13&#45;&gt;15 -->\n<g id=\"edge15\" class=\"edge\">\n<title>13&#45;&gt;15</title>\n<path fill=\"none\" stroke=\"black\" d=\"M265,-1055.91C265,-1045.2 265,-1033.62 265,-1022.78\"/>\n<polygon fill=\"black\" stroke=\"black\" points=\"268.5,-1022.67 265,-1012.67 261.5,-1022.67 268.5,-1022.67\"/>\n</g>\n<!-- 17 -->\n<g id=\"node18\" class=\"node\">\n<title>17</title>\n<polygon fill=\"#399de5\" stroke=\"black\" points=\"438,-1012.5 336,-1012.5 336,-944.5 438,-944.5 438,-1012.5\"/>\n<text text-anchor=\"middle\" x=\"387\" y=\"-997.3\" font-family=\"Helvetica,sans-Serif\" font-size=\"14.00\">gini = 0.0</text>\n<text text-anchor=\"middle\" x=\"387\" y=\"-982.3\" font-family=\"Helvetica,sans-Serif\" font-size=\"14.00\">samples = 14</text>\n<text text-anchor=\"middle\" x=\"387\" y=\"-967.3\" font-family=\"Helvetica,sans-Serif\" font-size=\"14.00\">value = [0, 14]</text>\n<text text-anchor=\"middle\" x=\"387\" y=\"-952.3\" font-family=\"Helvetica,sans-Serif\" font-size=\"14.00\">class = 이탈</text>\n</g>\n<!-- 16&#45;&gt;17 -->\n<g id=\"edge17\" class=\"edge\">\n<title>16&#45;&gt;17</title>\n<path fill=\"none\" stroke=\"black\" d=\"M462.75,-1055.91C451.16,-1044.21 438.51,-1031.46 426.94,-1019.78\"/>\n<polygon fill=\"black\" stroke=\"black\" points=\"429.41,-1017.3 419.88,-1012.67 424.44,-1022.23 429.41,-1017.3\"/>\n</g>\n<!-- 18 -->\n<g id=\"node19\" class=\"node\">\n<title>18</title>\n<polygon fill=\"#bddef6\" stroke=\"black\" points=\"577.5,-1020 456.5,-1020 456.5,-937 577.5,-937 577.5,-1020\"/>\n<text text-anchor=\"middle\" x=\"517\" y=\"-1004.8\" font-family=\"Helvetica,sans-Serif\" font-size=\"14.00\">총매출액 &lt;= &#45;0.3</text>\n<text text-anchor=\"middle\" x=\"517\" y=\"-989.8\" font-family=\"Helvetica,sans-Serif\" font-size=\"14.00\">gini = 0.48</text>\n<text text-anchor=\"middle\" x=\"517\" y=\"-974.8\" font-family=\"Helvetica,sans-Serif\" font-size=\"14.00\">samples = 20</text>\n<text text-anchor=\"middle\" x=\"517\" y=\"-959.8\" font-family=\"Helvetica,sans-Serif\" font-size=\"14.00\">value = [8, 12]</text>\n<text text-anchor=\"middle\" x=\"517\" y=\"-944.8\" font-family=\"Helvetica,sans-Serif\" font-size=\"14.00\">class = 이탈</text>\n</g>\n<!-- 16&#45;&gt;18 -->\n<g id=\"edge18\" class=\"edge\">\n<title>16&#45;&gt;18</title>\n<path fill=\"none\" stroke=\"black\" d=\"M507.86,-1055.91C508.86,-1047.56 509.92,-1038.67 510.95,-1030.02\"/>\n<polygon fill=\"black\" stroke=\"black\" points=\"514.44,-1030.37 512.15,-1020.02 507.49,-1029.53 514.44,-1030.37\"/>\n</g>\n<!-- 19 -->\n<g id=\"node20\" class=\"node\">\n<title>19</title>\n<polygon fill=\"#f5d0b5\" stroke=\"black\" points=\"417,-901 289,-901 289,-818 417,-818 417,-901\"/>\n<text text-anchor=\"middle\" x=\"353\" y=\"-885.8\" font-family=\"Helvetica,sans-Serif\" font-size=\"14.00\">총매출액 &lt;= &#45;0.57</text>\n<text text-anchor=\"middle\" x=\"353\" y=\"-870.8\" font-family=\"Helvetica,sans-Serif\" font-size=\"14.00\">gini = 0.473</text>\n<text text-anchor=\"middle\" x=\"353\" y=\"-855.8\" font-family=\"Helvetica,sans-Serif\" font-size=\"14.00\">samples = 13</text>\n<text text-anchor=\"middle\" x=\"353\" y=\"-840.8\" font-family=\"Helvetica,sans-Serif\" font-size=\"14.00\">value = [8, 5]</text>\n<text text-anchor=\"middle\" x=\"353\" y=\"-825.8\" font-family=\"Helvetica,sans-Serif\" font-size=\"14.00\">class = 비이탈</text>\n</g>\n<!-- 18&#45;&gt;19 -->\n<g id=\"edge19\" class=\"edge\">\n<title>18&#45;&gt;19</title>\n<path fill=\"none\" stroke=\"black\" d=\"M460.1,-936.91C446.62,-927.29 432.13,-916.95 418.31,-907.09\"/>\n<polygon fill=\"black\" stroke=\"black\" points=\"419.97,-903.98 409.8,-901.02 415.91,-909.68 419.97,-903.98\"/>\n</g>\n<!-- 26 -->\n<g id=\"node27\" class=\"node\">\n<title>26</title>\n<polygon fill=\"#399de5\" stroke=\"black\" points=\"564.5,-893.5 469.5,-893.5 469.5,-825.5 564.5,-825.5 564.5,-893.5\"/>\n<text text-anchor=\"middle\" x=\"517\" y=\"-878.3\" font-family=\"Helvetica,sans-Serif\" font-size=\"14.00\">gini = 0.0</text>\n<text text-anchor=\"middle\" x=\"517\" y=\"-863.3\" font-family=\"Helvetica,sans-Serif\" font-size=\"14.00\">samples = 7</text>\n<text text-anchor=\"middle\" x=\"517\" y=\"-848.3\" font-family=\"Helvetica,sans-Serif\" font-size=\"14.00\">value = [0, 7]</text>\n<text text-anchor=\"middle\" x=\"517\" y=\"-833.3\" font-family=\"Helvetica,sans-Serif\" font-size=\"14.00\">class = 이탈</text>\n</g>\n<!-- 18&#45;&gt;26 -->\n<g id=\"edge26\" class=\"edge\">\n<title>18&#45;&gt;26</title>\n<path fill=\"none\" stroke=\"black\" d=\"M517,-936.91C517,-926.2 517,-914.62 517,-903.78\"/>\n<polygon fill=\"black\" stroke=\"black\" points=\"520.5,-903.67 517,-893.67 513.5,-903.67 520.5,-903.67\"/>\n</g>\n<!-- 20 -->\n<g id=\"node21\" class=\"node\">\n<title>20</title>\n<polygon fill=\"#9ccef2\" stroke=\"black\" points=\"240,-782 104,-782 104,-699 240,-699 240,-782\"/>\n<text text-anchor=\"middle\" x=\"172\" y=\"-766.8\" font-family=\"Helvetica,sans-Serif\" font-size=\"14.00\">거래기간 &lt;= &#45;0.782</text>\n<text text-anchor=\"middle\" x=\"172\" y=\"-751.8\" font-family=\"Helvetica,sans-Serif\" font-size=\"14.00\">gini = 0.444</text>\n<text text-anchor=\"middle\" x=\"172\" y=\"-736.8\" font-family=\"Helvetica,sans-Serif\" font-size=\"14.00\">samples = 6</text>\n<text text-anchor=\"middle\" x=\"172\" y=\"-721.8\" font-family=\"Helvetica,sans-Serif\" font-size=\"14.00\">value = [2, 4]</text>\n<text text-anchor=\"middle\" x=\"172\" y=\"-706.8\" font-family=\"Helvetica,sans-Serif\" font-size=\"14.00\">class = 이탈</text>\n</g>\n<!-- 19&#45;&gt;20 -->\n<g id=\"edge20\" class=\"edge\">\n<title>19&#45;&gt;20</title>\n<path fill=\"none\" stroke=\"black\" d=\"M290.2,-817.91C275.04,-808.11 258.73,-797.56 243.21,-787.53\"/>\n<polygon fill=\"black\" stroke=\"black\" points=\"244.98,-784.51 234.69,-782.02 241.18,-790.39 244.98,-784.51\"/>\n</g>\n<!-- 23 -->\n<g id=\"node24\" class=\"node\">\n<title>23</title>\n<polygon fill=\"#e9965a\" stroke=\"black\" points=\"421,-782 285,-782 285,-699 421,-699 421,-782\"/>\n<text text-anchor=\"middle\" x=\"353\" y=\"-766.8\" font-family=\"Helvetica,sans-Serif\" font-size=\"14.00\">거래기간 &lt;= &#45;0.955</text>\n<text text-anchor=\"middle\" x=\"353\" y=\"-751.8\" font-family=\"Helvetica,sans-Serif\" font-size=\"14.00\">gini = 0.245</text>\n<text text-anchor=\"middle\" x=\"353\" y=\"-736.8\" font-family=\"Helvetica,sans-Serif\" font-size=\"14.00\">samples = 7</text>\n<text text-anchor=\"middle\" x=\"353\" y=\"-721.8\" font-family=\"Helvetica,sans-Serif\" font-size=\"14.00\">value = [6, 1]</text>\n<text text-anchor=\"middle\" x=\"353\" y=\"-706.8\" font-family=\"Helvetica,sans-Serif\" font-size=\"14.00\">class = 비이탈</text>\n</g>\n<!-- 19&#45;&gt;23 -->\n<g id=\"edge23\" class=\"edge\">\n<title>19&#45;&gt;23</title>\n<path fill=\"none\" stroke=\"black\" d=\"M353,-817.91C353,-809.65 353,-800.86 353,-792.3\"/>\n<polygon fill=\"black\" stroke=\"black\" points=\"356.5,-792.02 353,-782.02 349.5,-792.02 356.5,-792.02\"/>\n</g>\n<!-- 21 -->\n<g id=\"node22\" class=\"node\">\n<title>21</title>\n<polygon fill=\"#e58139\" stroke=\"black\" points=\"106,-655.5 0,-655.5 0,-587.5 106,-587.5 106,-655.5\"/>\n<text text-anchor=\"middle\" x=\"53\" y=\"-640.3\" font-family=\"Helvetica,sans-Serif\" font-size=\"14.00\">gini = 0.0</text>\n<text text-anchor=\"middle\" x=\"53\" y=\"-625.3\" font-family=\"Helvetica,sans-Serif\" font-size=\"14.00\">samples = 2</text>\n<text text-anchor=\"middle\" x=\"53\" y=\"-610.3\" font-family=\"Helvetica,sans-Serif\" font-size=\"14.00\">value = [2, 0]</text>\n<text text-anchor=\"middle\" x=\"53\" y=\"-595.3\" font-family=\"Helvetica,sans-Serif\" font-size=\"14.00\">class = 비이탈</text>\n</g>\n<!-- 20&#45;&gt;21 -->\n<g id=\"edge21\" class=\"edge\">\n<title>20&#45;&gt;21</title>\n<path fill=\"none\" stroke=\"black\" d=\"M130.71,-698.91C118.82,-687.21 105.85,-674.46 93.97,-662.78\"/>\n<polygon fill=\"black\" stroke=\"black\" points=\"96.32,-660.18 86.73,-655.67 91.41,-665.17 96.32,-660.18\"/>\n</g>\n<!-- 22 -->\n<g id=\"node23\" class=\"node\">\n<title>22</title>\n<polygon fill=\"#399de5\" stroke=\"black\" points=\"219.5,-655.5 124.5,-655.5 124.5,-587.5 219.5,-587.5 219.5,-655.5\"/>\n<text text-anchor=\"middle\" x=\"172\" y=\"-640.3\" font-family=\"Helvetica,sans-Serif\" font-size=\"14.00\">gini = 0.0</text>\n<text text-anchor=\"middle\" x=\"172\" y=\"-625.3\" font-family=\"Helvetica,sans-Serif\" font-size=\"14.00\">samples = 4</text>\n<text text-anchor=\"middle\" x=\"172\" y=\"-610.3\" font-family=\"Helvetica,sans-Serif\" font-size=\"14.00\">value = [0, 4]</text>\n<text text-anchor=\"middle\" x=\"172\" y=\"-595.3\" font-family=\"Helvetica,sans-Serif\" font-size=\"14.00\">class = 이탈</text>\n</g>\n<!-- 20&#45;&gt;22 -->\n<g id=\"edge22\" class=\"edge\">\n<title>20&#45;&gt;22</title>\n<path fill=\"none\" stroke=\"black\" d=\"M172,-698.91C172,-688.2 172,-676.62 172,-665.78\"/>\n<polygon fill=\"black\" stroke=\"black\" points=\"175.5,-665.67 172,-655.67 168.5,-665.67 175.5,-665.67\"/>\n</g>\n<!-- 24 -->\n<g id=\"node25\" class=\"node\">\n<title>24</title>\n<polygon fill=\"#399de5\" stroke=\"black\" points=\"332.5,-655.5 237.5,-655.5 237.5,-587.5 332.5,-587.5 332.5,-655.5\"/>\n<text text-anchor=\"middle\" x=\"285\" y=\"-640.3\" font-family=\"Helvetica,sans-Serif\" font-size=\"14.00\">gini = 0.0</text>\n<text text-anchor=\"middle\" x=\"285\" y=\"-625.3\" font-family=\"Helvetica,sans-Serif\" font-size=\"14.00\">samples = 1</text>\n<text text-anchor=\"middle\" x=\"285\" y=\"-610.3\" font-family=\"Helvetica,sans-Serif\" font-size=\"14.00\">value = [0, 1]</text>\n<text text-anchor=\"middle\" x=\"285\" y=\"-595.3\" font-family=\"Helvetica,sans-Serif\" font-size=\"14.00\">class = 이탈</text>\n</g>\n<!-- 23&#45;&gt;24 -->\n<g id=\"edge24\" class=\"edge\">\n<title>23&#45;&gt;24</title>\n<path fill=\"none\" stroke=\"black\" d=\"M329.41,-698.91C322.93,-687.76 315.9,-675.66 309.37,-664.44\"/>\n<polygon fill=\"black\" stroke=\"black\" points=\"312.33,-662.55 304.28,-655.67 306.28,-666.07 312.33,-662.55\"/>\n</g>\n<!-- 25 -->\n<g id=\"node26\" class=\"node\">\n<title>25</title>\n<polygon fill=\"#e58139\" stroke=\"black\" points=\"457,-655.5 351,-655.5 351,-587.5 457,-587.5 457,-655.5\"/>\n<text text-anchor=\"middle\" x=\"404\" y=\"-640.3\" font-family=\"Helvetica,sans-Serif\" font-size=\"14.00\">gini = 0.0</text>\n<text text-anchor=\"middle\" x=\"404\" y=\"-625.3\" font-family=\"Helvetica,sans-Serif\" font-size=\"14.00\">samples = 6</text>\n<text text-anchor=\"middle\" x=\"404\" y=\"-610.3\" font-family=\"Helvetica,sans-Serif\" font-size=\"14.00\">value = [6, 0]</text>\n<text text-anchor=\"middle\" x=\"404\" y=\"-595.3\" font-family=\"Helvetica,sans-Serif\" font-size=\"14.00\">class = 비이탈</text>\n</g>\n<!-- 23&#45;&gt;25 -->\n<g id=\"edge25\" class=\"edge\">\n<title>23&#45;&gt;25</title>\n<path fill=\"none\" stroke=\"black\" d=\"M370.69,-698.91C375.46,-687.98 380.62,-676.14 385.43,-665.11\"/>\n<polygon fill=\"black\" stroke=\"black\" points=\"388.76,-666.23 389.54,-655.67 382.34,-663.44 388.76,-666.23\"/>\n</g>\n<!-- 28 -->\n<g id=\"node29\" class=\"node\">\n<title>28</title>\n<polygon fill=\"#f9e1d0\" stroke=\"black\" points=\"772,-1139 636,-1139 636,-1056 772,-1056 772,-1139\"/>\n<text text-anchor=\"middle\" x=\"704\" y=\"-1123.8\" font-family=\"Helvetica,sans-Serif\" font-size=\"14.00\">총매출액 &lt;= &#45;0.273</text>\n<text text-anchor=\"middle\" x=\"704\" y=\"-1108.8\" font-family=\"Helvetica,sans-Serif\" font-size=\"14.00\">gini = 0.491</text>\n<text text-anchor=\"middle\" x=\"704\" y=\"-1093.8\" font-family=\"Helvetica,sans-Serif\" font-size=\"14.00\">samples = 30</text>\n<text text-anchor=\"middle\" x=\"704\" y=\"-1078.8\" font-family=\"Helvetica,sans-Serif\" font-size=\"14.00\">value = [17, 13]</text>\n<text text-anchor=\"middle\" x=\"704\" y=\"-1063.8\" font-family=\"Helvetica,sans-Serif\" font-size=\"14.00\">class = 비이탈</text>\n</g>\n<!-- 27&#45;&gt;28 -->\n<g id=\"edge28\" class=\"edge\">\n<title>27&#45;&gt;28</title>\n<path fill=\"none\" stroke=\"black\" d=\"M713.8,-1174.91C712.73,-1166.56 711.59,-1157.67 710.48,-1149.02\"/>\n<polygon fill=\"black\" stroke=\"black\" points=\"713.94,-1148.49 709.19,-1139.02 707,-1149.38 713.94,-1148.49\"/>\n</g>\n<!-- 47 -->\n<g id=\"node48\" class=\"node\">\n<title>47</title>\n<polygon fill=\"#399de5\" stroke=\"black\" points=\"885.5,-1131.5 790.5,-1131.5 790.5,-1063.5 885.5,-1063.5 885.5,-1131.5\"/>\n<text text-anchor=\"middle\" x=\"838\" y=\"-1116.3\" font-family=\"Helvetica,sans-Serif\" font-size=\"14.00\">gini = 0.0</text>\n<text text-anchor=\"middle\" x=\"838\" y=\"-1101.3\" font-family=\"Helvetica,sans-Serif\" font-size=\"14.00\">samples = 9</text>\n<text text-anchor=\"middle\" x=\"838\" y=\"-1086.3\" font-family=\"Helvetica,sans-Serif\" font-size=\"14.00\">value = [0, 9]</text>\n<text text-anchor=\"middle\" x=\"838\" y=\"-1071.3\" font-family=\"Helvetica,sans-Serif\" font-size=\"14.00\">class = 이탈</text>\n</g>\n<!-- 27&#45;&gt;47 -->\n<g id=\"edge47\" class=\"edge\">\n<title>27&#45;&gt;47</title>\n<path fill=\"none\" stroke=\"black\" d=\"M760.29,-1174.91C772.18,-1163.21 785.15,-1150.46 797.03,-1138.78\"/>\n<polygon fill=\"black\" stroke=\"black\" points=\"799.59,-1141.17 804.27,-1131.67 794.68,-1136.18 799.59,-1141.17\"/>\n</g>\n<!-- 29 -->\n<g id=\"node30\" class=\"node\">\n<title>29</title>\n<polygon fill=\"#e1f0fb\" stroke=\"black\" points=\"745,-1020 609,-1020 609,-937 745,-937 745,-1020\"/>\n<text text-anchor=\"middle\" x=\"677\" y=\"-1004.8\" font-family=\"Helvetica,sans-Serif\" font-size=\"14.00\">거래기간 &lt;= &#45;1.073</text>\n<text text-anchor=\"middle\" x=\"677\" y=\"-989.8\" font-family=\"Helvetica,sans-Serif\" font-size=\"14.00\">gini = 0.497</text>\n<text text-anchor=\"middle\" x=\"677\" y=\"-974.8\" font-family=\"Helvetica,sans-Serif\" font-size=\"14.00\">samples = 24</text>\n<text text-anchor=\"middle\" x=\"677\" y=\"-959.8\" font-family=\"Helvetica,sans-Serif\" font-size=\"14.00\">value = [11, 13]</text>\n<text text-anchor=\"middle\" x=\"677\" y=\"-944.8\" font-family=\"Helvetica,sans-Serif\" font-size=\"14.00\">class = 이탈</text>\n</g>\n<!-- 28&#45;&gt;29 -->\n<g id=\"edge29\" class=\"edge\">\n<title>28&#45;&gt;29</title>\n<path fill=\"none\" stroke=\"black\" d=\"M694.63,-1055.91C692.71,-1047.56 690.65,-1038.67 688.66,-1030.02\"/>\n<polygon fill=\"black\" stroke=\"black\" points=\"692.01,-1028.98 686.35,-1020.02 685.19,-1030.55 692.01,-1028.98\"/>\n</g>\n<!-- 46 -->\n<g id=\"node47\" class=\"node\">\n<title>46</title>\n<polygon fill=\"#e58139\" stroke=\"black\" points=\"869,-1012.5 763,-1012.5 763,-944.5 869,-944.5 869,-1012.5\"/>\n<text text-anchor=\"middle\" x=\"816\" y=\"-997.3\" font-family=\"Helvetica,sans-Serif\" font-size=\"14.00\">gini = 0.0</text>\n<text text-anchor=\"middle\" x=\"816\" y=\"-982.3\" font-family=\"Helvetica,sans-Serif\" font-size=\"14.00\">samples = 6</text>\n<text text-anchor=\"middle\" x=\"816\" y=\"-967.3\" font-family=\"Helvetica,sans-Serif\" font-size=\"14.00\">value = [6, 0]</text>\n<text text-anchor=\"middle\" x=\"816\" y=\"-952.3\" font-family=\"Helvetica,sans-Serif\" font-size=\"14.00\">class = 비이탈</text>\n</g>\n<!-- 28&#45;&gt;46 -->\n<g id=\"edge46\" class=\"edge\">\n<title>28&#45;&gt;46</title>\n<path fill=\"none\" stroke=\"black\" d=\"M742.86,-1055.91C753.95,-1044.32 766.03,-1031.7 777.12,-1020.11\"/>\n<polygon fill=\"black\" stroke=\"black\" points=\"779.86,-1022.31 784.25,-1012.67 774.81,-1017.47 779.86,-1022.31\"/>\n</g>\n<!-- 30 -->\n<g id=\"node31\" class=\"node\">\n<title>30</title>\n<polygon fill=\"#88c4ef\" stroke=\"black\" points=\"725,-901 589,-901 589,-818 725,-818 725,-901\"/>\n<text text-anchor=\"middle\" x=\"657\" y=\"-885.8\" font-family=\"Helvetica,sans-Serif\" font-size=\"14.00\">거래기간 &lt;= &#45;1.388</text>\n<text text-anchor=\"middle\" x=\"657\" y=\"-870.8\" font-family=\"Helvetica,sans-Serif\" font-size=\"14.00\">gini = 0.408</text>\n<text text-anchor=\"middle\" x=\"657\" y=\"-855.8\" font-family=\"Helvetica,sans-Serif\" font-size=\"14.00\">samples = 14</text>\n<text text-anchor=\"middle\" x=\"657\" y=\"-840.8\" font-family=\"Helvetica,sans-Serif\" font-size=\"14.00\">value = [4, 10]</text>\n<text text-anchor=\"middle\" x=\"657\" y=\"-825.8\" font-family=\"Helvetica,sans-Serif\" font-size=\"14.00\">class = 이탈</text>\n</g>\n<!-- 29&#45;&gt;30 -->\n<g id=\"edge30\" class=\"edge\">\n<title>29&#45;&gt;30</title>\n<path fill=\"none\" stroke=\"black\" d=\"M670.06,-936.91C668.63,-928.56 667.11,-919.67 665.64,-911.02\"/>\n<polygon fill=\"black\" stroke=\"black\" points=\"669.06,-910.29 663.93,-901.02 662.16,-911.47 669.06,-910.29\"/>\n</g>\n<!-- 39 -->\n<g id=\"node40\" class=\"node\">\n<title>39</title>\n<polygon fill=\"#f0b78e\" stroke=\"black\" points=\"875,-901 747,-901 747,-818 875,-818 875,-901\"/>\n<text text-anchor=\"middle\" x=\"811\" y=\"-885.8\" font-family=\"Helvetica,sans-Serif\" font-size=\"14.00\">거래기간 &lt;= &#45;0.23</text>\n<text text-anchor=\"middle\" x=\"811\" y=\"-870.8\" font-family=\"Helvetica,sans-Serif\" font-size=\"14.00\">gini = 0.42</text>\n<text text-anchor=\"middle\" x=\"811\" y=\"-855.8\" font-family=\"Helvetica,sans-Serif\" font-size=\"14.00\">samples = 10</text>\n<text text-anchor=\"middle\" x=\"811\" y=\"-840.8\" font-family=\"Helvetica,sans-Serif\" font-size=\"14.00\">value = [7, 3]</text>\n<text text-anchor=\"middle\" x=\"811\" y=\"-825.8\" font-family=\"Helvetica,sans-Serif\" font-size=\"14.00\">class = 비이탈</text>\n</g>\n<!-- 29&#45;&gt;39 -->\n<g id=\"edge39\" class=\"edge\">\n<title>29&#45;&gt;39</title>\n<path fill=\"none\" stroke=\"black\" d=\"M723.49,-936.91C734.3,-927.47 745.9,-917.34 757,-907.65\"/>\n<polygon fill=\"black\" stroke=\"black\" points=\"759.36,-910.23 764.59,-901.02 754.76,-904.96 759.36,-910.23\"/>\n</g>\n<!-- 31 -->\n<g id=\"node32\" class=\"node\">\n<title>31</title>\n<polygon fill=\"#e58139\" stroke=\"black\" points=\"571,-774.5 465,-774.5 465,-706.5 571,-706.5 571,-774.5\"/>\n<text text-anchor=\"middle\" x=\"518\" y=\"-759.3\" font-family=\"Helvetica,sans-Serif\" font-size=\"14.00\">gini = 0.0</text>\n<text text-anchor=\"middle\" x=\"518\" y=\"-744.3\" font-family=\"Helvetica,sans-Serif\" font-size=\"14.00\">samples = 2</text>\n<text text-anchor=\"middle\" x=\"518\" y=\"-729.3\" font-family=\"Helvetica,sans-Serif\" font-size=\"14.00\">value = [2, 0]</text>\n<text text-anchor=\"middle\" x=\"518\" y=\"-714.3\" font-family=\"Helvetica,sans-Serif\" font-size=\"14.00\">class = 비이탈</text>\n</g>\n<!-- 30&#45;&gt;31 -->\n<g id=\"edge31\" class=\"edge\">\n<title>30&#45;&gt;31</title>\n<path fill=\"none\" stroke=\"black\" d=\"M608.77,-817.91C594.62,-805.99 579.15,-792.98 565.07,-781.12\"/>\n<polygon fill=\"black\" stroke=\"black\" points=\"567.31,-778.43 557.4,-774.67 562.8,-783.78 567.31,-778.43\"/>\n</g>\n<!-- 32 -->\n<g id=\"node33\" class=\"node\">\n<title>32</title>\n<polygon fill=\"#61b1ea\" stroke=\"black\" points=\"725,-782 589,-782 589,-699 725,-699 725,-782\"/>\n<text text-anchor=\"middle\" x=\"657\" y=\"-766.8\" font-family=\"Helvetica,sans-Serif\" font-size=\"14.00\">거래기간 &lt;= &#45;1.223</text>\n<text text-anchor=\"middle\" x=\"657\" y=\"-751.8\" font-family=\"Helvetica,sans-Serif\" font-size=\"14.00\">gini = 0.278</text>\n<text text-anchor=\"middle\" x=\"657\" y=\"-736.8\" font-family=\"Helvetica,sans-Serif\" font-size=\"14.00\">samples = 12</text>\n<text text-anchor=\"middle\" x=\"657\" y=\"-721.8\" font-family=\"Helvetica,sans-Serif\" font-size=\"14.00\">value = [2, 10]</text>\n<text text-anchor=\"middle\" x=\"657\" y=\"-706.8\" font-family=\"Helvetica,sans-Serif\" font-size=\"14.00\">class = 이탈</text>\n</g>\n<!-- 30&#45;&gt;32 -->\n<g id=\"edge32\" class=\"edge\">\n<title>30&#45;&gt;32</title>\n<path fill=\"none\" stroke=\"black\" d=\"M657,-817.91C657,-809.65 657,-800.86 657,-792.3\"/>\n<polygon fill=\"black\" stroke=\"black\" points=\"660.5,-792.02 657,-782.02 653.5,-792.02 660.5,-792.02\"/>\n</g>\n<!-- 33 -->\n<g id=\"node34\" class=\"node\">\n<title>33</title>\n<polygon fill=\"#88c4ef\" stroke=\"black\" points=\"611,-663 475,-663 475,-580 611,-580 611,-663\"/>\n<text text-anchor=\"middle\" x=\"543\" y=\"-647.8\" font-family=\"Helvetica,sans-Serif\" font-size=\"14.00\">거래기간 &lt;= &#45;1.306</text>\n<text text-anchor=\"middle\" x=\"543\" y=\"-632.8\" font-family=\"Helvetica,sans-Serif\" font-size=\"14.00\">gini = 0.408</text>\n<text text-anchor=\"middle\" x=\"543\" y=\"-617.8\" font-family=\"Helvetica,sans-Serif\" font-size=\"14.00\">samples = 7</text>\n<text text-anchor=\"middle\" x=\"543\" y=\"-602.8\" font-family=\"Helvetica,sans-Serif\" font-size=\"14.00\">value = [2, 5]</text>\n<text text-anchor=\"middle\" x=\"543\" y=\"-587.8\" font-family=\"Helvetica,sans-Serif\" font-size=\"14.00\">class = 이탈</text>\n</g>\n<!-- 32&#45;&gt;33 -->\n<g id=\"edge33\" class=\"edge\">\n<title>32&#45;&gt;33</title>\n<path fill=\"none\" stroke=\"black\" d=\"M617.45,-698.91C608.43,-689.65 598.76,-679.73 589.49,-670.21\"/>\n<polygon fill=\"black\" stroke=\"black\" points=\"591.97,-667.74 582.48,-663.02 586.95,-672.63 591.97,-667.74\"/>\n</g>\n<!-- 38 -->\n<g id=\"node39\" class=\"node\">\n<title>38</title>\n<polygon fill=\"#399de5\" stroke=\"black\" points=\"724.5,-655.5 629.5,-655.5 629.5,-587.5 724.5,-587.5 724.5,-655.5\"/>\n<text text-anchor=\"middle\" x=\"677\" y=\"-640.3\" font-family=\"Helvetica,sans-Serif\" font-size=\"14.00\">gini = 0.0</text>\n<text text-anchor=\"middle\" x=\"677\" y=\"-625.3\" font-family=\"Helvetica,sans-Serif\" font-size=\"14.00\">samples = 5</text>\n<text text-anchor=\"middle\" x=\"677\" y=\"-610.3\" font-family=\"Helvetica,sans-Serif\" font-size=\"14.00\">value = [0, 5]</text>\n<text text-anchor=\"middle\" x=\"677\" y=\"-595.3\" font-family=\"Helvetica,sans-Serif\" font-size=\"14.00\">class = 이탈</text>\n</g>\n<!-- 32&#45;&gt;38 -->\n<g id=\"edge38\" class=\"edge\">\n<title>32&#45;&gt;38</title>\n<path fill=\"none\" stroke=\"black\" d=\"M663.94,-698.91C665.77,-688.2 667.75,-676.62 669.6,-665.78\"/>\n<polygon fill=\"black\" stroke=\"black\" points=\"673.1,-666.11 671.33,-655.67 666.2,-664.93 673.1,-666.11\"/>\n</g>\n<!-- 34 -->\n<g id=\"node35\" class=\"node\">\n<title>34</title>\n<polygon fill=\"#399de5\" stroke=\"black\" points=\"489.5,-536.5 394.5,-536.5 394.5,-468.5 489.5,-468.5 489.5,-536.5\"/>\n<text text-anchor=\"middle\" x=\"442\" y=\"-521.3\" font-family=\"Helvetica,sans-Serif\" font-size=\"14.00\">gini = 0.0</text>\n<text text-anchor=\"middle\" x=\"442\" y=\"-506.3\" font-family=\"Helvetica,sans-Serif\" font-size=\"14.00\">samples = 4</text>\n<text text-anchor=\"middle\" x=\"442\" y=\"-491.3\" font-family=\"Helvetica,sans-Serif\" font-size=\"14.00\">value = [0, 4]</text>\n<text text-anchor=\"middle\" x=\"442\" y=\"-476.3\" font-family=\"Helvetica,sans-Serif\" font-size=\"14.00\">class = 이탈</text>\n</g>\n<!-- 33&#45;&gt;34 -->\n<g id=\"edge34\" class=\"edge\">\n<title>33&#45;&gt;34</title>\n<path fill=\"none\" stroke=\"black\" d=\"M507.96,-579.91C498.05,-568.43 487.27,-555.94 477.34,-544.44\"/>\n<polygon fill=\"black\" stroke=\"black\" points=\"479.82,-541.95 470.63,-536.67 474.52,-546.52 479.82,-541.95\"/>\n</g>\n<!-- 35 -->\n<g id=\"node36\" class=\"node\">\n<title>35</title>\n<polygon fill=\"#f2c09c\" stroke=\"black\" points=\"644,-544 508,-544 508,-461 644,-461 644,-544\"/>\n<text text-anchor=\"middle\" x=\"576\" y=\"-528.8\" font-family=\"Helvetica,sans-Serif\" font-size=\"14.00\">총매출액 &lt;= &#45;0.605</text>\n<text text-anchor=\"middle\" x=\"576\" y=\"-513.8\" font-family=\"Helvetica,sans-Serif\" font-size=\"14.00\">gini = 0.444</text>\n<text text-anchor=\"middle\" x=\"576\" y=\"-498.8\" font-family=\"Helvetica,sans-Serif\" font-size=\"14.00\">samples = 3</text>\n<text text-anchor=\"middle\" x=\"576\" y=\"-483.8\" font-family=\"Helvetica,sans-Serif\" font-size=\"14.00\">value = [2, 1]</text>\n<text text-anchor=\"middle\" x=\"576\" y=\"-468.8\" font-family=\"Helvetica,sans-Serif\" font-size=\"14.00\">class = 비이탈</text>\n</g>\n<!-- 33&#45;&gt;35 -->\n<g id=\"edge35\" class=\"edge\">\n<title>33&#45;&gt;35</title>\n<path fill=\"none\" stroke=\"black\" d=\"M554.45,-579.91C556.83,-571.47 559.37,-562.48 561.83,-553.74\"/>\n<polygon fill=\"black\" stroke=\"black\" points=\"565.22,-554.6 564.57,-544.02 558.49,-552.7 565.22,-554.6\"/>\n</g>\n<!-- 36 -->\n<g id=\"node37\" class=\"node\">\n<title>36</title>\n<polygon fill=\"#399de5\" stroke=\"black\" points=\"563.5,-417.5 468.5,-417.5 468.5,-349.5 563.5,-349.5 563.5,-417.5\"/>\n<text text-anchor=\"middle\" x=\"516\" y=\"-402.3\" font-family=\"Helvetica,sans-Serif\" font-size=\"14.00\">gini = 0.0</text>\n<text text-anchor=\"middle\" x=\"516\" y=\"-387.3\" font-family=\"Helvetica,sans-Serif\" font-size=\"14.00\">samples = 1</text>\n<text text-anchor=\"middle\" x=\"516\" y=\"-372.3\" font-family=\"Helvetica,sans-Serif\" font-size=\"14.00\">value = [0, 1]</text>\n<text text-anchor=\"middle\" x=\"516\" y=\"-357.3\" font-family=\"Helvetica,sans-Serif\" font-size=\"14.00\">class = 이탈</text>\n</g>\n<!-- 35&#45;&gt;36 -->\n<g id=\"edge36\" class=\"edge\">\n<title>35&#45;&gt;36</title>\n<path fill=\"none\" stroke=\"black\" d=\"M555.18,-460.91C549.52,-449.87 543.38,-437.9 537.68,-426.77\"/>\n<polygon fill=\"black\" stroke=\"black\" points=\"540.69,-424.97 533.01,-417.67 534.46,-428.16 540.69,-424.97\"/>\n</g>\n<!-- 37 -->\n<g id=\"node38\" class=\"node\">\n<title>37</title>\n<polygon fill=\"#e58139\" stroke=\"black\" points=\"688,-417.5 582,-417.5 582,-349.5 688,-349.5 688,-417.5\"/>\n<text text-anchor=\"middle\" x=\"635\" y=\"-402.3\" font-family=\"Helvetica,sans-Serif\" font-size=\"14.00\">gini = 0.0</text>\n<text text-anchor=\"middle\" x=\"635\" y=\"-387.3\" font-family=\"Helvetica,sans-Serif\" font-size=\"14.00\">samples = 2</text>\n<text text-anchor=\"middle\" x=\"635\" y=\"-372.3\" font-family=\"Helvetica,sans-Serif\" font-size=\"14.00\">value = [2, 0]</text>\n<text text-anchor=\"middle\" x=\"635\" y=\"-357.3\" font-family=\"Helvetica,sans-Serif\" font-size=\"14.00\">class = 비이탈</text>\n</g>\n<!-- 35&#45;&gt;37 -->\n<g id=\"edge37\" class=\"edge\">\n<title>35&#45;&gt;37</title>\n<path fill=\"none\" stroke=\"black\" d=\"M596.47,-460.91C602.03,-449.87 608.07,-437.9 613.68,-426.77\"/>\n<polygon fill=\"black\" stroke=\"black\" points=\"616.9,-428.17 618.27,-417.67 610.65,-425.02 616.9,-428.17\"/>\n</g>\n<!-- 40 -->\n<g id=\"node41\" class=\"node\">\n<title>40</title>\n<polygon fill=\"#e99355\" stroke=\"black\" points=\"879,-782 743,-782 743,-699 879,-699 879,-782\"/>\n<text text-anchor=\"middle\" x=\"811\" y=\"-766.8\" font-family=\"Helvetica,sans-Serif\" font-size=\"14.00\">거래기간 &lt;= &#45;0.591</text>\n<text text-anchor=\"middle\" x=\"811\" y=\"-751.8\" font-family=\"Helvetica,sans-Serif\" font-size=\"14.00\">gini = 0.219</text>\n<text text-anchor=\"middle\" x=\"811\" y=\"-736.8\" font-family=\"Helvetica,sans-Serif\" font-size=\"14.00\">samples = 8</text>\n<text text-anchor=\"middle\" x=\"811\" y=\"-721.8\" font-family=\"Helvetica,sans-Serif\" font-size=\"14.00\">value = [7, 1]</text>\n<text text-anchor=\"middle\" x=\"811\" y=\"-706.8\" font-family=\"Helvetica,sans-Serif\" font-size=\"14.00\">class = 비이탈</text>\n</g>\n<!-- 39&#45;&gt;40 -->\n<g id=\"edge40\" class=\"edge\">\n<title>39&#45;&gt;40</title>\n<path fill=\"none\" stroke=\"black\" d=\"M811,-817.91C811,-809.65 811,-800.86 811,-792.3\"/>\n<polygon fill=\"black\" stroke=\"black\" points=\"814.5,-792.02 811,-782.02 807.5,-792.02 814.5,-792.02\"/>\n</g>\n<!-- 45 -->\n<g id=\"node46\" class=\"node\">\n<title>45</title>\n<polygon fill=\"#399de5\" stroke=\"black\" points=\"992.5,-774.5 897.5,-774.5 897.5,-706.5 992.5,-706.5 992.5,-774.5\"/>\n<text text-anchor=\"middle\" x=\"945\" y=\"-759.3\" font-family=\"Helvetica,sans-Serif\" font-size=\"14.00\">gini = 0.0</text>\n<text text-anchor=\"middle\" x=\"945\" y=\"-744.3\" font-family=\"Helvetica,sans-Serif\" font-size=\"14.00\">samples = 2</text>\n<text text-anchor=\"middle\" x=\"945\" y=\"-729.3\" font-family=\"Helvetica,sans-Serif\" font-size=\"14.00\">value = [0, 2]</text>\n<text text-anchor=\"middle\" x=\"945\" y=\"-714.3\" font-family=\"Helvetica,sans-Serif\" font-size=\"14.00\">class = 이탈</text>\n</g>\n<!-- 39&#45;&gt;45 -->\n<g id=\"edge45\" class=\"edge\">\n<title>39&#45;&gt;45</title>\n<path fill=\"none\" stroke=\"black\" d=\"M857.49,-817.91C871.01,-806.1 885.77,-793.22 899.25,-781.45\"/>\n<polygon fill=\"black\" stroke=\"black\" points=\"901.78,-783.88 907.01,-774.67 897.18,-778.61 901.78,-783.88\"/>\n</g>\n<!-- 41 -->\n<g id=\"node42\" class=\"node\">\n<title>41</title>\n<polygon fill=\"#eeab7b\" stroke=\"black\" points=\"879,-663 743,-663 743,-580 879,-580 879,-663\"/>\n<text text-anchor=\"middle\" x=\"811\" y=\"-647.8\" font-family=\"Helvetica,sans-Serif\" font-size=\"14.00\">거래기간 &lt;= &#45;0.634</text>\n<text text-anchor=\"middle\" x=\"811\" y=\"-632.8\" font-family=\"Helvetica,sans-Serif\" font-size=\"14.00\">gini = 0.375</text>\n<text text-anchor=\"middle\" x=\"811\" y=\"-617.8\" font-family=\"Helvetica,sans-Serif\" font-size=\"14.00\">samples = 4</text>\n<text text-anchor=\"middle\" x=\"811\" y=\"-602.8\" font-family=\"Helvetica,sans-Serif\" font-size=\"14.00\">value = [3, 1]</text>\n<text text-anchor=\"middle\" x=\"811\" y=\"-587.8\" font-family=\"Helvetica,sans-Serif\" font-size=\"14.00\">class = 비이탈</text>\n</g>\n<!-- 40&#45;&gt;41 -->\n<g id=\"edge41\" class=\"edge\">\n<title>40&#45;&gt;41</title>\n<path fill=\"none\" stroke=\"black\" d=\"M811,-698.91C811,-690.65 811,-681.86 811,-673.3\"/>\n<polygon fill=\"black\" stroke=\"black\" points=\"814.5,-673.02 811,-663.02 807.5,-673.02 814.5,-673.02\"/>\n</g>\n<!-- 44 -->\n<g id=\"node45\" class=\"node\">\n<title>44</title>\n<polygon fill=\"#e58139\" stroke=\"black\" points=\"1003,-655.5 897,-655.5 897,-587.5 1003,-587.5 1003,-655.5\"/>\n<text text-anchor=\"middle\" x=\"950\" y=\"-640.3\" font-family=\"Helvetica,sans-Serif\" font-size=\"14.00\">gini = 0.0</text>\n<text text-anchor=\"middle\" x=\"950\" y=\"-625.3\" font-family=\"Helvetica,sans-Serif\" font-size=\"14.00\">samples = 4</text>\n<text text-anchor=\"middle\" x=\"950\" y=\"-610.3\" font-family=\"Helvetica,sans-Serif\" font-size=\"14.00\">value = [4, 0]</text>\n<text text-anchor=\"middle\" x=\"950\" y=\"-595.3\" font-family=\"Helvetica,sans-Serif\" font-size=\"14.00\">class = 비이탈</text>\n</g>\n<!-- 40&#45;&gt;44 -->\n<g id=\"edge44\" class=\"edge\">\n<title>40&#45;&gt;44</title>\n<path fill=\"none\" stroke=\"black\" d=\"M859.23,-698.91C873.38,-686.99 888.85,-673.98 902.93,-662.12\"/>\n<polygon fill=\"black\" stroke=\"black\" points=\"905.2,-664.78 910.6,-655.67 900.69,-659.43 905.2,-664.78\"/>\n</g>\n<!-- 42 -->\n<g id=\"node43\" class=\"node\">\n<title>42</title>\n<polygon fill=\"#e58139\" stroke=\"black\" points=\"832,-536.5 726,-536.5 726,-468.5 832,-468.5 832,-536.5\"/>\n<text text-anchor=\"middle\" x=\"779\" y=\"-521.3\" font-family=\"Helvetica,sans-Serif\" font-size=\"14.00\">gini = 0.0</text>\n<text text-anchor=\"middle\" x=\"779\" y=\"-506.3\" font-family=\"Helvetica,sans-Serif\" font-size=\"14.00\">samples = 3</text>\n<text text-anchor=\"middle\" x=\"779\" y=\"-491.3\" font-family=\"Helvetica,sans-Serif\" font-size=\"14.00\">value = [3, 0]</text>\n<text text-anchor=\"middle\" x=\"779\" y=\"-476.3\" font-family=\"Helvetica,sans-Serif\" font-size=\"14.00\">class = 비이탈</text>\n</g>\n<!-- 41&#45;&gt;42 -->\n<g id=\"edge42\" class=\"edge\">\n<title>41&#45;&gt;42</title>\n<path fill=\"none\" stroke=\"black\" d=\"M799.9,-579.91C796.94,-569.09 793.74,-557.38 790.74,-546.44\"/>\n<polygon fill=\"black\" stroke=\"black\" points=\"794.09,-545.39 788.07,-536.67 787.33,-547.24 794.09,-545.39\"/>\n</g>\n<!-- 43 -->\n<g id=\"node44\" class=\"node\">\n<title>43</title>\n<polygon fill=\"#399de5\" stroke=\"black\" points=\"945.5,-536.5 850.5,-536.5 850.5,-468.5 945.5,-468.5 945.5,-536.5\"/>\n<text text-anchor=\"middle\" x=\"898\" y=\"-521.3\" font-family=\"Helvetica,sans-Serif\" font-size=\"14.00\">gini = 0.0</text>\n<text text-anchor=\"middle\" x=\"898\" y=\"-506.3\" font-family=\"Helvetica,sans-Serif\" font-size=\"14.00\">samples = 1</text>\n<text text-anchor=\"middle\" x=\"898\" y=\"-491.3\" font-family=\"Helvetica,sans-Serif\" font-size=\"14.00\">value = [0, 1]</text>\n<text text-anchor=\"middle\" x=\"898\" y=\"-476.3\" font-family=\"Helvetica,sans-Serif\" font-size=\"14.00\">class = 이탈</text>\n</g>\n<!-- 41&#45;&gt;43 -->\n<g id=\"edge43\" class=\"edge\">\n<title>41&#45;&gt;43</title>\n<path fill=\"none\" stroke=\"black\" d=\"M841.18,-579.91C849.64,-568.54 858.83,-556.18 867.31,-544.77\"/>\n<polygon fill=\"black\" stroke=\"black\" points=\"870.18,-546.78 873.34,-536.67 864.56,-542.6 870.18,-546.78\"/>\n</g>\n<!-- 49 -->\n<g id=\"node50\" class=\"node\">\n<title>49</title>\n<polygon fill=\"#83c2ef\" stroke=\"black\" points=\"1611,-1496 1475,-1496 1475,-1413 1611,-1413 1611,-1496\"/>\n<text text-anchor=\"middle\" x=\"1543\" y=\"-1480.8\" font-family=\"Helvetica,sans-Serif\" font-size=\"14.00\">거래기간 &lt;= &#45;2.557</text>\n<text text-anchor=\"middle\" x=\"1543\" y=\"-1465.8\" font-family=\"Helvetica,sans-Serif\" font-size=\"14.00\">gini = 0.397</text>\n<text text-anchor=\"middle\" x=\"1543\" y=\"-1450.8\" font-family=\"Helvetica,sans-Serif\" font-size=\"14.00\">samples = 33</text>\n<text text-anchor=\"middle\" x=\"1543\" y=\"-1435.8\" font-family=\"Helvetica,sans-Serif\" font-size=\"14.00\">value = [9, 24]</text>\n<text text-anchor=\"middle\" x=\"1543\" y=\"-1420.8\" font-family=\"Helvetica,sans-Serif\" font-size=\"14.00\">class = 이탈</text>\n</g>\n<!-- 48&#45;&gt;49 -->\n<g id=\"edge49\" class=\"edge\">\n<title>48&#45;&gt;49</title>\n<path fill=\"none\" stroke=\"black\" d=\"M1671.93,-1532.07C1655.16,-1522.12 1637.1,-1511.39 1619.95,-1501.2\"/>\n<polygon fill=\"black\" stroke=\"black\" points=\"1621.46,-1498.03 1611.07,-1495.93 1617.89,-1504.05 1621.46,-1498.03\"/>\n</g>\n<!-- 66 -->\n<g id=\"node67\" class=\"node\">\n<title>66</title>\n<polygon fill=\"#eda775\" stroke=\"black\" points=\"1949,-1496 1813,-1496 1813,-1413 1949,-1413 1949,-1496\"/>\n<text text-anchor=\"middle\" x=\"1881\" y=\"-1480.8\" font-family=\"Helvetica,sans-Serif\" font-size=\"14.00\">거래기간 &lt;= &#45;0.218</text>\n<text text-anchor=\"middle\" x=\"1881\" y=\"-1465.8\" font-family=\"Helvetica,sans-Serif\" font-size=\"14.00\">gini = 0.358</text>\n<text text-anchor=\"middle\" x=\"1881\" y=\"-1450.8\" font-family=\"Helvetica,sans-Serif\" font-size=\"14.00\">samples = 133</text>\n<text text-anchor=\"middle\" x=\"1881\" y=\"-1435.8\" font-family=\"Helvetica,sans-Serif\" font-size=\"14.00\">value = [102, 31]</text>\n<text text-anchor=\"middle\" x=\"1881\" y=\"-1420.8\" font-family=\"Helvetica,sans-Serif\" font-size=\"14.00\">class = 비이탈</text>\n</g>\n<!-- 48&#45;&gt;66 -->\n<g id=\"edge66\" class=\"edge\">\n<title>48&#45;&gt;66</title>\n<path fill=\"none\" stroke=\"black\" d=\"M1788.92,-1531.91C1800.29,-1522.47 1812.5,-1512.34 1824.18,-1502.65\"/>\n<polygon fill=\"black\" stroke=\"black\" points=\"1826.71,-1505.1 1832.17,-1496.02 1822.24,-1499.71 1826.71,-1505.1\"/>\n</g>\n<!-- 50 -->\n<g id=\"node51\" class=\"node\">\n<title>50</title>\n<polygon fill=\"#bddef6\" stroke=\"black\" points=\"1404.5,-1377 1273.5,-1377 1273.5,-1294 1404.5,-1294 1404.5,-1377\"/>\n<text text-anchor=\"middle\" x=\"1339\" y=\"-1361.8\" font-family=\"Helvetica,sans-Serif\" font-size=\"14.00\">방문빈도 &lt;= 0.241</text>\n<text text-anchor=\"middle\" x=\"1339\" y=\"-1346.8\" font-family=\"Helvetica,sans-Serif\" font-size=\"14.00\">gini = 0.48</text>\n<text text-anchor=\"middle\" x=\"1339\" y=\"-1331.8\" font-family=\"Helvetica,sans-Serif\" font-size=\"14.00\">samples = 20</text>\n<text text-anchor=\"middle\" x=\"1339\" y=\"-1316.8\" font-family=\"Helvetica,sans-Serif\" font-size=\"14.00\">value = [8, 12]</text>\n<text text-anchor=\"middle\" x=\"1339\" y=\"-1301.8\" font-family=\"Helvetica,sans-Serif\" font-size=\"14.00\">class = 이탈</text>\n</g>\n<!-- 49&#45;&gt;50 -->\n<g id=\"edge50\" class=\"edge\">\n<title>49&#45;&gt;50</title>\n<path fill=\"none\" stroke=\"black\" d=\"M1474.79,-1414.38C1455.11,-1403.09 1433.55,-1390.73 1413.51,-1379.23\"/>\n<polygon fill=\"black\" stroke=\"black\" points=\"1415.14,-1376.14 1404.73,-1374.2 1411.66,-1382.21 1415.14,-1376.14\"/>\n</g>\n<!-- 63 -->\n<g id=\"node64\" class=\"node\">\n<title>63</title>\n<polygon fill=\"#49a5e7\" stroke=\"black\" points=\"1608.5,-1377 1477.5,-1377 1477.5,-1294 1608.5,-1294 1608.5,-1377\"/>\n<text text-anchor=\"middle\" x=\"1543\" y=\"-1361.8\" font-family=\"Helvetica,sans-Serif\" font-size=\"14.00\">총매출액 &lt;= 0.317</text>\n<text text-anchor=\"middle\" x=\"1543\" y=\"-1346.8\" font-family=\"Helvetica,sans-Serif\" font-size=\"14.00\">gini = 0.142</text>\n<text text-anchor=\"middle\" x=\"1543\" y=\"-1331.8\" font-family=\"Helvetica,sans-Serif\" font-size=\"14.00\">samples = 13</text>\n<text text-anchor=\"middle\" x=\"1543\" y=\"-1316.8\" font-family=\"Helvetica,sans-Serif\" font-size=\"14.00\">value = [1, 12]</text>\n<text text-anchor=\"middle\" x=\"1543\" y=\"-1301.8\" font-family=\"Helvetica,sans-Serif\" font-size=\"14.00\">class = 이탈</text>\n</g>\n<!-- 49&#45;&gt;63 -->\n<g id=\"edge63\" class=\"edge\">\n<title>49&#45;&gt;63</title>\n<path fill=\"none\" stroke=\"black\" d=\"M1543,-1412.91C1543,-1404.65 1543,-1395.86 1543,-1387.3\"/>\n<polygon fill=\"black\" stroke=\"black\" points=\"1546.5,-1387.02 1543,-1377.02 1539.5,-1387.02 1546.5,-1387.02\"/>\n</g>\n<!-- 51 -->\n<g id=\"node52\" class=\"node\">\n<title>51</title>\n<polygon fill=\"#81c1ee\" stroke=\"black\" points=\"1253,-1258 1117,-1258 1117,-1175 1253,-1175 1253,-1258\"/>\n<text text-anchor=\"middle\" x=\"1185\" y=\"-1242.8\" font-family=\"Helvetica,sans-Serif\" font-size=\"14.00\">총매출액 &lt;= &#45;0.554</text>\n<text text-anchor=\"middle\" x=\"1185\" y=\"-1227.8\" font-family=\"Helvetica,sans-Serif\" font-size=\"14.00\">gini = 0.391</text>\n<text text-anchor=\"middle\" x=\"1185\" y=\"-1212.8\" font-family=\"Helvetica,sans-Serif\" font-size=\"14.00\">samples = 15</text>\n<text text-anchor=\"middle\" x=\"1185\" y=\"-1197.8\" font-family=\"Helvetica,sans-Serif\" font-size=\"14.00\">value = [4, 11]</text>\n<text text-anchor=\"middle\" x=\"1185\" y=\"-1182.8\" font-family=\"Helvetica,sans-Serif\" font-size=\"14.00\">class = 이탈</text>\n</g>\n<!-- 50&#45;&gt;51 -->\n<g id=\"edge51\" class=\"edge\">\n<title>50&#45;&gt;51</title>\n<path fill=\"none\" stroke=\"black\" d=\"M1285.57,-1293.91C1272.91,-1284.29 1259.31,-1273.95 1246.32,-1264.09\"/>\n<polygon fill=\"black\" stroke=\"black\" points=\"1248.42,-1261.28 1238.34,-1258.02 1244.18,-1266.86 1248.42,-1261.28\"/>\n</g>\n<!-- 60 -->\n<g id=\"node61\" class=\"node\">\n<title>60</title>\n<polygon fill=\"#eca06a\" stroke=\"black\" points=\"1407,-1258 1271,-1258 1271,-1175 1407,-1175 1407,-1258\"/>\n<text text-anchor=\"middle\" x=\"1339\" y=\"-1242.8\" font-family=\"Helvetica,sans-Serif\" font-size=\"14.00\">총매출액 &lt;= &#45;0.339</text>\n<text text-anchor=\"middle\" x=\"1339\" y=\"-1227.8\" font-family=\"Helvetica,sans-Serif\" font-size=\"14.00\">gini = 0.32</text>\n<text text-anchor=\"middle\" x=\"1339\" y=\"-1212.8\" font-family=\"Helvetica,sans-Serif\" font-size=\"14.00\">samples = 5</text>\n<text text-anchor=\"middle\" x=\"1339\" y=\"-1197.8\" font-family=\"Helvetica,sans-Serif\" font-size=\"14.00\">value = [4, 1]</text>\n<text text-anchor=\"middle\" x=\"1339\" y=\"-1182.8\" font-family=\"Helvetica,sans-Serif\" font-size=\"14.00\">class = 비이탈</text>\n</g>\n<!-- 50&#45;&gt;60 -->\n<g id=\"edge60\" class=\"edge\">\n<title>50&#45;&gt;60</title>\n<path fill=\"none\" stroke=\"black\" d=\"M1339,-1293.91C1339,-1285.65 1339,-1276.86 1339,-1268.3\"/>\n<polygon fill=\"black\" stroke=\"black\" points=\"1342.5,-1268.02 1339,-1258.02 1335.5,-1268.02 1342.5,-1268.02\"/>\n</g>\n<!-- 52 -->\n<g id=\"node53\" class=\"node\">\n<title>52</title>\n<polygon fill=\"#e58139\" stroke=\"black\" points=\"1102,-1131.5 996,-1131.5 996,-1063.5 1102,-1063.5 1102,-1131.5\"/>\n<text text-anchor=\"middle\" x=\"1049\" y=\"-1116.3\" font-family=\"Helvetica,sans-Serif\" font-size=\"14.00\">gini = 0.0</text>\n<text text-anchor=\"middle\" x=\"1049\" y=\"-1101.3\" font-family=\"Helvetica,sans-Serif\" font-size=\"14.00\">samples = 2</text>\n<text text-anchor=\"middle\" x=\"1049\" y=\"-1086.3\" font-family=\"Helvetica,sans-Serif\" font-size=\"14.00\">value = [2, 0]</text>\n<text text-anchor=\"middle\" x=\"1049\" y=\"-1071.3\" font-family=\"Helvetica,sans-Serif\" font-size=\"14.00\">class = 비이탈</text>\n</g>\n<!-- 51&#45;&gt;52 -->\n<g id=\"edge52\" class=\"edge\">\n<title>51&#45;&gt;52</title>\n<path fill=\"none\" stroke=\"black\" d=\"M1137.82,-1174.91C1124.09,-1163.1 1109.11,-1150.22 1095.44,-1138.45\"/>\n<polygon fill=\"black\" stroke=\"black\" points=\"1097.42,-1135.54 1087.55,-1131.67 1092.85,-1140.84 1097.42,-1135.54\"/>\n</g>\n<!-- 53 -->\n<g id=\"node54\" class=\"node\">\n<title>53</title>\n<polygon fill=\"#5dafea\" stroke=\"black\" points=\"1256,-1139 1120,-1139 1120,-1056 1256,-1056 1256,-1139\"/>\n<text text-anchor=\"middle\" x=\"1188\" y=\"-1123.8\" font-family=\"Helvetica,sans-Serif\" font-size=\"14.00\">방문빈도 &lt;= &#45;0.206</text>\n<text text-anchor=\"middle\" x=\"1188\" y=\"-1108.8\" font-family=\"Helvetica,sans-Serif\" font-size=\"14.00\">gini = 0.26</text>\n<text text-anchor=\"middle\" x=\"1188\" y=\"-1093.8\" font-family=\"Helvetica,sans-Serif\" font-size=\"14.00\">samples = 13</text>\n<text text-anchor=\"middle\" x=\"1188\" y=\"-1078.8\" font-family=\"Helvetica,sans-Serif\" font-size=\"14.00\">value = [2, 11]</text>\n<text text-anchor=\"middle\" x=\"1188\" y=\"-1063.8\" font-family=\"Helvetica,sans-Serif\" font-size=\"14.00\">class = 이탈</text>\n</g>\n<!-- 51&#45;&gt;53 -->\n<g id=\"edge53\" class=\"edge\">\n<title>51&#45;&gt;53</title>\n<path fill=\"none\" stroke=\"black\" d=\"M1186.04,-1174.91C1186.25,-1166.56 1186.48,-1157.67 1186.7,-1149.02\"/>\n<polygon fill=\"black\" stroke=\"black\" points=\"1190.2,-1149.11 1186.96,-1139.02 1183.21,-1148.93 1190.2,-1149.11\"/>\n</g>\n<!-- 54 -->\n<g id=\"node55\" class=\"node\">\n<title>54</title>\n<polygon fill=\"#399de5\" stroke=\"black\" points=\"1106.5,-1012.5 1011.5,-1012.5 1011.5,-944.5 1106.5,-944.5 1106.5,-1012.5\"/>\n<text text-anchor=\"middle\" x=\"1059\" y=\"-997.3\" font-family=\"Helvetica,sans-Serif\" font-size=\"14.00\">gini = 0.0</text>\n<text text-anchor=\"middle\" x=\"1059\" y=\"-982.3\" font-family=\"Helvetica,sans-Serif\" font-size=\"14.00\">samples = 7</text>\n<text text-anchor=\"middle\" x=\"1059\" y=\"-967.3\" font-family=\"Helvetica,sans-Serif\" font-size=\"14.00\">value = [0, 7]</text>\n<text text-anchor=\"middle\" x=\"1059\" y=\"-952.3\" font-family=\"Helvetica,sans-Serif\" font-size=\"14.00\">class = 이탈</text>\n</g>\n<!-- 53&#45;&gt;54 -->\n<g id=\"edge54\" class=\"edge\">\n<title>53&#45;&gt;54</title>\n<path fill=\"none\" stroke=\"black\" d=\"M1143.24,-1055.91C1130.23,-1044.1 1116.02,-1031.22 1103.05,-1019.45\"/>\n<polygon fill=\"black\" stroke=\"black\" points=\"1105.33,-1016.79 1095.57,-1012.67 1100.62,-1021.98 1105.33,-1016.79\"/>\n</g>\n<!-- 55 -->\n<g id=\"node56\" class=\"node\">\n<title>55</title>\n<polygon fill=\"#9ccef2\" stroke=\"black\" points=\"1261,-1020 1125,-1020 1125,-937 1261,-937 1261,-1020\"/>\n<text text-anchor=\"middle\" x=\"1193\" y=\"-1004.8\" font-family=\"Helvetica,sans-Serif\" font-size=\"14.00\">방문빈도 &lt;= &#45;0.167</text>\n<text text-anchor=\"middle\" x=\"1193\" y=\"-989.8\" font-family=\"Helvetica,sans-Serif\" font-size=\"14.00\">gini = 0.444</text>\n<text text-anchor=\"middle\" x=\"1193\" y=\"-974.8\" font-family=\"Helvetica,sans-Serif\" font-size=\"14.00\">samples = 6</text>\n<text text-anchor=\"middle\" x=\"1193\" y=\"-959.8\" font-family=\"Helvetica,sans-Serif\" font-size=\"14.00\">value = [2, 4]</text>\n<text text-anchor=\"middle\" x=\"1193\" y=\"-944.8\" font-family=\"Helvetica,sans-Serif\" font-size=\"14.00\">class = 이탈</text>\n</g>\n<!-- 53&#45;&gt;55 -->\n<g id=\"edge55\" class=\"edge\">\n<title>53&#45;&gt;55</title>\n<path fill=\"none\" stroke=\"black\" d=\"M1189.73,-1055.91C1190.09,-1047.56 1190.47,-1038.67 1190.84,-1030.02\"/>\n<polygon fill=\"black\" stroke=\"black\" points=\"1194.34,-1030.16 1191.27,-1020.02 1187.34,-1029.86 1194.34,-1030.16\"/>\n</g>\n<!-- 56 -->\n<g id=\"node57\" class=\"node\">\n<title>56</title>\n<polygon fill=\"#f2c09c\" stroke=\"black\" points=\"1129.5,-901 998.5,-901 998.5,-818 1129.5,-818 1129.5,-901\"/>\n<text text-anchor=\"middle\" x=\"1064\" y=\"-885.8\" font-family=\"Helvetica,sans-Serif\" font-size=\"14.00\">총매출액 &lt;= 0.487</text>\n<text text-anchor=\"middle\" x=\"1064\" y=\"-870.8\" font-family=\"Helvetica,sans-Serif\" font-size=\"14.00\">gini = 0.444</text>\n<text text-anchor=\"middle\" x=\"1064\" y=\"-855.8\" font-family=\"Helvetica,sans-Serif\" font-size=\"14.00\">samples = 3</text>\n<text text-anchor=\"middle\" x=\"1064\" y=\"-840.8\" font-family=\"Helvetica,sans-Serif\" font-size=\"14.00\">value = [2, 1]</text>\n<text text-anchor=\"middle\" x=\"1064\" y=\"-825.8\" font-family=\"Helvetica,sans-Serif\" font-size=\"14.00\">class = 비이탈</text>\n</g>\n<!-- 55&#45;&gt;56 -->\n<g id=\"edge56\" class=\"edge\">\n<title>55&#45;&gt;56</title>\n<path fill=\"none\" stroke=\"black\" d=\"M1148.24,-936.91C1137.94,-927.56 1126.89,-917.54 1116.29,-907.93\"/>\n<polygon fill=\"black\" stroke=\"black\" points=\"1118.44,-905.15 1108.68,-901.02 1113.73,-910.33 1118.44,-905.15\"/>\n</g>\n<!-- 59 -->\n<g id=\"node60\" class=\"node\">\n<title>59</title>\n<polygon fill=\"#399de5\" stroke=\"black\" points=\"1242.5,-893.5 1147.5,-893.5 1147.5,-825.5 1242.5,-825.5 1242.5,-893.5\"/>\n<text text-anchor=\"middle\" x=\"1195\" y=\"-878.3\" font-family=\"Helvetica,sans-Serif\" font-size=\"14.00\">gini = 0.0</text>\n<text text-anchor=\"middle\" x=\"1195\" y=\"-863.3\" font-family=\"Helvetica,sans-Serif\" font-size=\"14.00\">samples = 3</text>\n<text text-anchor=\"middle\" x=\"1195\" y=\"-848.3\" font-family=\"Helvetica,sans-Serif\" font-size=\"14.00\">value = [0, 3]</text>\n<text text-anchor=\"middle\" x=\"1195\" y=\"-833.3\" font-family=\"Helvetica,sans-Serif\" font-size=\"14.00\">class = 이탈</text>\n</g>\n<!-- 55&#45;&gt;59 -->\n<g id=\"edge59\" class=\"edge\">\n<title>55&#45;&gt;59</title>\n<path fill=\"none\" stroke=\"black\" d=\"M1193.69,-936.91C1193.88,-926.2 1194.07,-914.62 1194.26,-903.78\"/>\n<polygon fill=\"black\" stroke=\"black\" points=\"1197.76,-903.73 1194.43,-893.67 1190.76,-903.61 1197.76,-903.73\"/>\n</g>\n<!-- 57 -->\n<g id=\"node58\" class=\"node\">\n<title>57</title>\n<polygon fill=\"#e58139\" stroke=\"black\" points=\"1117,-774.5 1011,-774.5 1011,-706.5 1117,-706.5 1117,-774.5\"/>\n<text text-anchor=\"middle\" x=\"1064\" y=\"-759.3\" font-family=\"Helvetica,sans-Serif\" font-size=\"14.00\">gini = 0.0</text>\n<text text-anchor=\"middle\" x=\"1064\" y=\"-744.3\" font-family=\"Helvetica,sans-Serif\" font-size=\"14.00\">samples = 2</text>\n<text text-anchor=\"middle\" x=\"1064\" y=\"-729.3\" font-family=\"Helvetica,sans-Serif\" font-size=\"14.00\">value = [2, 0]</text>\n<text text-anchor=\"middle\" x=\"1064\" y=\"-714.3\" font-family=\"Helvetica,sans-Serif\" font-size=\"14.00\">class = 비이탈</text>\n</g>\n<!-- 56&#45;&gt;57 -->\n<g id=\"edge57\" class=\"edge\">\n<title>56&#45;&gt;57</title>\n<path fill=\"none\" stroke=\"black\" d=\"M1064,-817.91C1064,-807.2 1064,-795.62 1064,-784.78\"/>\n<polygon fill=\"black\" stroke=\"black\" points=\"1067.5,-784.67 1064,-774.67 1060.5,-784.67 1067.5,-784.67\"/>\n</g>\n<!-- 58 -->\n<g id=\"node59\" class=\"node\">\n<title>58</title>\n<polygon fill=\"#399de5\" stroke=\"black\" points=\"1230.5,-774.5 1135.5,-774.5 1135.5,-706.5 1230.5,-706.5 1230.5,-774.5\"/>\n<text text-anchor=\"middle\" x=\"1183\" y=\"-759.3\" font-family=\"Helvetica,sans-Serif\" font-size=\"14.00\">gini = 0.0</text>\n<text text-anchor=\"middle\" x=\"1183\" y=\"-744.3\" font-family=\"Helvetica,sans-Serif\" font-size=\"14.00\">samples = 1</text>\n<text text-anchor=\"middle\" x=\"1183\" y=\"-729.3\" font-family=\"Helvetica,sans-Serif\" font-size=\"14.00\">value = [0, 1]</text>\n<text text-anchor=\"middle\" x=\"1183\" y=\"-714.3\" font-family=\"Helvetica,sans-Serif\" font-size=\"14.00\">class = 이탈</text>\n</g>\n<!-- 56&#45;&gt;58 -->\n<g id=\"edge58\" class=\"edge\">\n<title>56&#45;&gt;58</title>\n<path fill=\"none\" stroke=\"black\" d=\"M1105.29,-817.91C1117.18,-806.21 1130.15,-793.46 1142.03,-781.78\"/>\n<polygon fill=\"black\" stroke=\"black\" points=\"1144.59,-784.17 1149.27,-774.67 1139.68,-779.18 1144.59,-784.17\"/>\n</g>\n<!-- 61 -->\n<g id=\"node62\" class=\"node\">\n<title>61</title>\n<polygon fill=\"#399de5\" stroke=\"black\" points=\"1378.5,-1131.5 1283.5,-1131.5 1283.5,-1063.5 1378.5,-1063.5 1378.5,-1131.5\"/>\n<text text-anchor=\"middle\" x=\"1331\" y=\"-1116.3\" font-family=\"Helvetica,sans-Serif\" font-size=\"14.00\">gini = 0.0</text>\n<text text-anchor=\"middle\" x=\"1331\" y=\"-1101.3\" font-family=\"Helvetica,sans-Serif\" font-size=\"14.00\">samples = 1</text>\n<text text-anchor=\"middle\" x=\"1331\" y=\"-1086.3\" font-family=\"Helvetica,sans-Serif\" font-size=\"14.00\">value = [0, 1]</text>\n<text text-anchor=\"middle\" x=\"1331\" y=\"-1071.3\" font-family=\"Helvetica,sans-Serif\" font-size=\"14.00\">class = 이탈</text>\n</g>\n<!-- 60&#45;&gt;61 -->\n<g id=\"edge61\" class=\"edge\">\n<title>60&#45;&gt;61</title>\n<path fill=\"none\" stroke=\"black\" d=\"M1336.22,-1174.91C1335.49,-1164.2 1334.7,-1152.62 1333.96,-1141.78\"/>\n<polygon fill=\"black\" stroke=\"black\" points=\"1337.44,-1141.4 1333.27,-1131.67 1330.46,-1141.88 1337.44,-1141.4\"/>\n</g>\n<!-- 62 -->\n<g id=\"node63\" class=\"node\">\n<title>62</title>\n<polygon fill=\"#e58139\" stroke=\"black\" points=\"1503,-1131.5 1397,-1131.5 1397,-1063.5 1503,-1063.5 1503,-1131.5\"/>\n<text text-anchor=\"middle\" x=\"1450\" y=\"-1116.3\" font-family=\"Helvetica,sans-Serif\" font-size=\"14.00\">gini = 0.0</text>\n<text text-anchor=\"middle\" x=\"1450\" y=\"-1101.3\" font-family=\"Helvetica,sans-Serif\" font-size=\"14.00\">samples = 4</text>\n<text text-anchor=\"middle\" x=\"1450\" y=\"-1086.3\" font-family=\"Helvetica,sans-Serif\" font-size=\"14.00\">value = [4, 0]</text>\n<text text-anchor=\"middle\" x=\"1450\" y=\"-1071.3\" font-family=\"Helvetica,sans-Serif\" font-size=\"14.00\">class = 비이탈</text>\n</g>\n<!-- 60&#45;&gt;62 -->\n<g id=\"edge62\" class=\"edge\">\n<title>60&#45;&gt;62</title>\n<path fill=\"none\" stroke=\"black\" d=\"M1377.51,-1174.91C1388.5,-1163.32 1400.48,-1150.7 1411.47,-1139.11\"/>\n<polygon fill=\"black\" stroke=\"black\" points=\"1414.19,-1141.33 1418.53,-1131.67 1409.11,-1136.51 1414.19,-1141.33\"/>\n</g>\n<!-- 64 -->\n<g id=\"node65\" class=\"node\">\n<title>64</title>\n<polygon fill=\"#399de5\" stroke=\"black\" points=\"1527,-1250.5 1425,-1250.5 1425,-1182.5 1527,-1182.5 1527,-1250.5\"/>\n<text text-anchor=\"middle\" x=\"1476\" y=\"-1235.3\" font-family=\"Helvetica,sans-Serif\" font-size=\"14.00\">gini = 0.0</text>\n<text text-anchor=\"middle\" x=\"1476\" y=\"-1220.3\" font-family=\"Helvetica,sans-Serif\" font-size=\"14.00\">samples = 12</text>\n<text text-anchor=\"middle\" x=\"1476\" y=\"-1205.3\" font-family=\"Helvetica,sans-Serif\" font-size=\"14.00\">value = [0, 12]</text>\n<text text-anchor=\"middle\" x=\"1476\" y=\"-1190.3\" font-family=\"Helvetica,sans-Serif\" font-size=\"14.00\">class = 이탈</text>\n</g>\n<!-- 63&#45;&gt;64 -->\n<g id=\"edge64\" class=\"edge\">\n<title>63&#45;&gt;64</title>\n<path fill=\"none\" stroke=\"black\" d=\"M1519.75,-1293.91C1513.37,-1282.76 1506.44,-1270.66 1500.02,-1259.44\"/>\n<polygon fill=\"black\" stroke=\"black\" points=\"1503,-1257.61 1494.99,-1250.67 1496.93,-1261.08 1503,-1257.61\"/>\n</g>\n<!-- 65 -->\n<g id=\"node66\" class=\"node\">\n<title>65</title>\n<polygon fill=\"#e58139\" stroke=\"black\" points=\"1651,-1250.5 1545,-1250.5 1545,-1182.5 1651,-1182.5 1651,-1250.5\"/>\n<text text-anchor=\"middle\" x=\"1598\" y=\"-1235.3\" font-family=\"Helvetica,sans-Serif\" font-size=\"14.00\">gini = 0.0</text>\n<text text-anchor=\"middle\" x=\"1598\" y=\"-1220.3\" font-family=\"Helvetica,sans-Serif\" font-size=\"14.00\">samples = 1</text>\n<text text-anchor=\"middle\" x=\"1598\" y=\"-1205.3\" font-family=\"Helvetica,sans-Serif\" font-size=\"14.00\">value = [1, 0]</text>\n<text text-anchor=\"middle\" x=\"1598\" y=\"-1190.3\" font-family=\"Helvetica,sans-Serif\" font-size=\"14.00\">class = 비이탈</text>\n</g>\n<!-- 63&#45;&gt;65 -->\n<g id=\"edge65\" class=\"edge\">\n<title>63&#45;&gt;65</title>\n<path fill=\"none\" stroke=\"black\" d=\"M1562.08,-1293.91C1567.27,-1282.87 1572.9,-1270.9 1578.13,-1259.77\"/>\n<polygon fill=\"black\" stroke=\"black\" points=\"1581.32,-1261.21 1582.41,-1250.67 1574.99,-1258.23 1581.32,-1261.21\"/>\n</g>\n<!-- 67 -->\n<g id=\"node68\" class=\"node\">\n<title>67</title>\n<polygon fill=\"#eb9c64\" stroke=\"black\" points=\"1949,-1377 1813,-1377 1813,-1294 1949,-1294 1949,-1377\"/>\n<text text-anchor=\"middle\" x=\"1881\" y=\"-1361.8\" font-family=\"Helvetica,sans-Serif\" font-size=\"14.00\">거래기간 &lt;= &#45;1.372</text>\n<text text-anchor=\"middle\" x=\"1881\" y=\"-1346.8\" font-family=\"Helvetica,sans-Serif\" font-size=\"14.00\">gini = 0.291</text>\n<text text-anchor=\"middle\" x=\"1881\" y=\"-1331.8\" font-family=\"Helvetica,sans-Serif\" font-size=\"14.00\">samples = 113</text>\n<text text-anchor=\"middle\" x=\"1881\" y=\"-1316.8\" font-family=\"Helvetica,sans-Serif\" font-size=\"14.00\">value = [93, 20]</text>\n<text text-anchor=\"middle\" x=\"1881\" y=\"-1301.8\" font-family=\"Helvetica,sans-Serif\" font-size=\"14.00\">class = 비이탈</text>\n</g>\n<!-- 66&#45;&gt;67 -->\n<g id=\"edge67\" class=\"edge\">\n<title>66&#45;&gt;67</title>\n<path fill=\"none\" stroke=\"black\" d=\"M1881,-1412.91C1881,-1404.65 1881,-1395.86 1881,-1387.3\"/>\n<polygon fill=\"black\" stroke=\"black\" points=\"1884.5,-1387.02 1881,-1377.02 1877.5,-1387.02 1884.5,-1387.02\"/>\n</g>\n<!-- 110 -->\n<g id=\"node111\" class=\"node\">\n<title>110</title>\n<polygon fill=\"#dbedfa\" stroke=\"black\" points=\"2152,-1377 2016,-1377 2016,-1294 2152,-1294 2152,-1377\"/>\n<text text-anchor=\"middle\" x=\"2084\" y=\"-1361.8\" font-family=\"Helvetica,sans-Serif\" font-size=\"14.00\">총매출액 &lt;= &#45;0.325</text>\n<text text-anchor=\"middle\" x=\"2084\" y=\"-1346.8\" font-family=\"Helvetica,sans-Serif\" font-size=\"14.00\">gini = 0.495</text>\n<text text-anchor=\"middle\" x=\"2084\" y=\"-1331.8\" font-family=\"Helvetica,sans-Serif\" font-size=\"14.00\">samples = 20</text>\n<text text-anchor=\"middle\" x=\"2084\" y=\"-1316.8\" font-family=\"Helvetica,sans-Serif\" font-size=\"14.00\">value = [9, 11]</text>\n<text text-anchor=\"middle\" x=\"2084\" y=\"-1301.8\" font-family=\"Helvetica,sans-Serif\" font-size=\"14.00\">class = 이탈</text>\n</g>\n<!-- 66&#45;&gt;110 -->\n<g id=\"edge110\" class=\"edge\">\n<title>66&#45;&gt;110</title>\n<path fill=\"none\" stroke=\"black\" d=\"M1949.16,-1414.22C1967.66,-1403.56 1987.81,-1391.94 2006.77,-1381.01\"/>\n<polygon fill=\"black\" stroke=\"black\" points=\"2008.76,-1383.91 2015.67,-1375.88 2005.26,-1377.84 2008.76,-1383.91\"/>\n</g>\n<!-- 68 -->\n<g id=\"node69\" class=\"node\">\n<title>68</title>\n<polygon fill=\"#f4c9aa\" stroke=\"black\" points=\"1805,-1258 1669,-1258 1669,-1175 1805,-1175 1805,-1258\"/>\n<text text-anchor=\"middle\" x=\"1737\" y=\"-1242.8\" font-family=\"Helvetica,sans-Serif\" font-size=\"14.00\">거래기간 &lt;= &#45;1.389</text>\n<text text-anchor=\"middle\" x=\"1737\" y=\"-1227.8\" font-family=\"Helvetica,sans-Serif\" font-size=\"14.00\">gini = 0.463</text>\n<text text-anchor=\"middle\" x=\"1737\" y=\"-1212.8\" font-family=\"Helvetica,sans-Serif\" font-size=\"14.00\">samples = 33</text>\n<text text-anchor=\"middle\" x=\"1737\" y=\"-1197.8\" font-family=\"Helvetica,sans-Serif\" font-size=\"14.00\">value = [21, 12]</text>\n<text text-anchor=\"middle\" x=\"1737\" y=\"-1182.8\" font-family=\"Helvetica,sans-Serif\" font-size=\"14.00\">class = 비이탈</text>\n</g>\n<!-- 67&#45;&gt;68 -->\n<g id=\"edge68\" class=\"edge\">\n<title>67&#45;&gt;68</title>\n<path fill=\"none\" stroke=\"black\" d=\"M1831.04,-1293.91C1819.31,-1284.38 1806.72,-1274.15 1794.69,-1264.37\"/>\n<polygon fill=\"black\" stroke=\"black\" points=\"1796.84,-1261.61 1786.87,-1258.02 1792.43,-1267.04 1796.84,-1261.61\"/>\n</g>\n<!-- 93 -->\n<g id=\"node94\" class=\"node\">\n<title>93</title>\n<polygon fill=\"#e88f4f\" stroke=\"black\" points=\"1959,-1258 1823,-1258 1823,-1175 1959,-1175 1959,-1258\"/>\n<text text-anchor=\"middle\" x=\"1891\" y=\"-1242.8\" font-family=\"Helvetica,sans-Serif\" font-size=\"14.00\">총매출액 &lt;= &#45;0.558</text>\n<text text-anchor=\"middle\" x=\"1891\" y=\"-1227.8\" font-family=\"Helvetica,sans-Serif\" font-size=\"14.00\">gini = 0.18</text>\n<text text-anchor=\"middle\" x=\"1891\" y=\"-1212.8\" font-family=\"Helvetica,sans-Serif\" font-size=\"14.00\">samples = 80</text>\n<text text-anchor=\"middle\" x=\"1891\" y=\"-1197.8\" font-family=\"Helvetica,sans-Serif\" font-size=\"14.00\">value = [72, 8]</text>\n<text text-anchor=\"middle\" x=\"1891\" y=\"-1182.8\" font-family=\"Helvetica,sans-Serif\" font-size=\"14.00\">class = 비이탈</text>\n</g>\n<!-- 67&#45;&gt;93 -->\n<g id=\"edge93\" class=\"edge\">\n<title>67&#45;&gt;93</title>\n<path fill=\"none\" stroke=\"black\" d=\"M1884.47,-1293.91C1885.18,-1285.56 1885.94,-1276.67 1886.68,-1268.02\"/>\n<polygon fill=\"black\" stroke=\"black\" points=\"1890.17,-1268.28 1887.54,-1258.02 1883.2,-1267.69 1890.17,-1268.28\"/>\n</g>\n<!-- 69 -->\n<g id=\"node70\" class=\"node\">\n<title>69</title>\n<polygon fill=\"#f1bd97\" stroke=\"black\" points=\"1671,-1139 1535,-1139 1535,-1056 1671,-1056 1671,-1139\"/>\n<text text-anchor=\"middle\" x=\"1603\" y=\"-1123.8\" font-family=\"Helvetica,sans-Serif\" font-size=\"14.00\">방문빈도 &lt;= &#45;0.048</text>\n<text text-anchor=\"middle\" x=\"1603\" y=\"-1108.8\" font-family=\"Helvetica,sans-Serif\" font-size=\"14.00\">gini = 0.437</text>\n<text text-anchor=\"middle\" x=\"1603\" y=\"-1093.8\" font-family=\"Helvetica,sans-Serif\" font-size=\"14.00\">samples = 31</text>\n<text text-anchor=\"middle\" x=\"1603\" y=\"-1078.8\" font-family=\"Helvetica,sans-Serif\" font-size=\"14.00\">value = [21, 10]</text>\n<text text-anchor=\"middle\" x=\"1603\" y=\"-1063.8\" font-family=\"Helvetica,sans-Serif\" font-size=\"14.00\">class = 비이탈</text>\n</g>\n<!-- 68&#45;&gt;69 -->\n<g id=\"edge69\" class=\"edge\">\n<title>68&#45;&gt;69</title>\n<path fill=\"none\" stroke=\"black\" d=\"M1690.51,-1174.91C1679.7,-1165.47 1668.1,-1155.34 1657,-1145.65\"/>\n<polygon fill=\"black\" stroke=\"black\" points=\"1659.24,-1142.96 1649.41,-1139.02 1654.64,-1148.23 1659.24,-1142.96\"/>\n</g>\n<!-- 92 -->\n<g id=\"node93\" class=\"node\">\n<title>92</title>\n<polygon fill=\"#399de5\" stroke=\"black\" points=\"1784.5,-1131.5 1689.5,-1131.5 1689.5,-1063.5 1784.5,-1063.5 1784.5,-1131.5\"/>\n<text text-anchor=\"middle\" x=\"1737\" y=\"-1116.3\" font-family=\"Helvetica,sans-Serif\" font-size=\"14.00\">gini = 0.0</text>\n<text text-anchor=\"middle\" x=\"1737\" y=\"-1101.3\" font-family=\"Helvetica,sans-Serif\" font-size=\"14.00\">samples = 2</text>\n<text text-anchor=\"middle\" x=\"1737\" y=\"-1086.3\" font-family=\"Helvetica,sans-Serif\" font-size=\"14.00\">value = [0, 2]</text>\n<text text-anchor=\"middle\" x=\"1737\" y=\"-1071.3\" font-family=\"Helvetica,sans-Serif\" font-size=\"14.00\">class = 이탈</text>\n</g>\n<!-- 68&#45;&gt;92 -->\n<g id=\"edge92\" class=\"edge\">\n<title>68&#45;&gt;92</title>\n<path fill=\"none\" stroke=\"black\" d=\"M1737,-1174.91C1737,-1164.2 1737,-1152.62 1737,-1141.78\"/>\n<polygon fill=\"black\" stroke=\"black\" points=\"1740.5,-1141.67 1737,-1131.67 1733.5,-1141.67 1740.5,-1141.67\"/>\n</g>\n<!-- 70 -->\n<g id=\"node71\" class=\"node\">\n<title>70</title>\n<polygon fill=\"#e88f4f\" stroke=\"black\" points=\"1523,-1020 1387,-1020 1387,-937 1523,-937 1523,-1020\"/>\n<text text-anchor=\"middle\" x=\"1455\" y=\"-1004.8\" font-family=\"Helvetica,sans-Serif\" font-size=\"14.00\">방문빈도 &lt;= &#45;0.415</text>\n<text text-anchor=\"middle\" x=\"1455\" y=\"-989.8\" font-family=\"Helvetica,sans-Serif\" font-size=\"14.00\">gini = 0.18</text>\n<text text-anchor=\"middle\" x=\"1455\" y=\"-974.8\" font-family=\"Helvetica,sans-Serif\" font-size=\"14.00\">samples = 10</text>\n<text text-anchor=\"middle\" x=\"1455\" y=\"-959.8\" font-family=\"Helvetica,sans-Serif\" font-size=\"14.00\">value = [9, 1]</text>\n<text text-anchor=\"middle\" x=\"1455\" y=\"-944.8\" font-family=\"Helvetica,sans-Serif\" font-size=\"14.00\">class = 비이탈</text>\n</g>\n<!-- 69&#45;&gt;70 -->\n<g id=\"edge70\" class=\"edge\">\n<title>69&#45;&gt;70</title>\n<path fill=\"none\" stroke=\"black\" d=\"M1551.65,-1055.91C1539.6,-1046.38 1526.66,-1036.15 1514.29,-1026.37\"/>\n<polygon fill=\"black\" stroke=\"black\" points=\"1516.27,-1023.48 1506.26,-1020.02 1511.93,-1028.97 1516.27,-1023.48\"/>\n</g>\n<!-- 75 -->\n<g id=\"node76\" class=\"node\">\n<title>75</title>\n<polygon fill=\"#f8e0ce\" stroke=\"black\" points=\"1672.5,-1020 1541.5,-1020 1541.5,-937 1672.5,-937 1672.5,-1020\"/>\n<text text-anchor=\"middle\" x=\"1607\" y=\"-1004.8\" font-family=\"Helvetica,sans-Serif\" font-size=\"14.00\">방문빈도 &lt;= 0.985</text>\n<text text-anchor=\"middle\" x=\"1607\" y=\"-989.8\" font-family=\"Helvetica,sans-Serif\" font-size=\"14.00\">gini = 0.49</text>\n<text text-anchor=\"middle\" x=\"1607\" y=\"-974.8\" font-family=\"Helvetica,sans-Serif\" font-size=\"14.00\">samples = 21</text>\n<text text-anchor=\"middle\" x=\"1607\" y=\"-959.8\" font-family=\"Helvetica,sans-Serif\" font-size=\"14.00\">value = [12, 9]</text>\n<text text-anchor=\"middle\" x=\"1607\" y=\"-944.8\" font-family=\"Helvetica,sans-Serif\" font-size=\"14.00\">class = 비이탈</text>\n</g>\n<!-- 69&#45;&gt;75 -->\n<g id=\"edge75\" class=\"edge\">\n<title>69&#45;&gt;75</title>\n<path fill=\"none\" stroke=\"black\" d=\"M1604.39,-1055.91C1604.67,-1047.56 1604.98,-1038.67 1605.27,-1030.02\"/>\n<polygon fill=\"black\" stroke=\"black\" points=\"1608.77,-1030.13 1605.61,-1020.02 1601.77,-1029.9 1608.77,-1030.13\"/>\n</g>\n<!-- 71 -->\n<g id=\"node72\" class=\"node\">\n<title>71</title>\n<polygon fill=\"#ffffff\" stroke=\"black\" points=\"1397,-901 1261,-901 1261,-818 1397,-818 1397,-901\"/>\n<text text-anchor=\"middle\" x=\"1329\" y=\"-885.8\" font-family=\"Helvetica,sans-Serif\" font-size=\"14.00\">총매출액 &lt;= &#45;0.331</text>\n<text text-anchor=\"middle\" x=\"1329\" y=\"-870.8\" font-family=\"Helvetica,sans-Serif\" font-size=\"14.00\">gini = 0.5</text>\n<text text-anchor=\"middle\" x=\"1329\" y=\"-855.8\" font-family=\"Helvetica,sans-Serif\" font-size=\"14.00\">samples = 2</text>\n<text text-anchor=\"middle\" x=\"1329\" y=\"-840.8\" font-family=\"Helvetica,sans-Serif\" font-size=\"14.00\">value = [1, 1]</text>\n<text text-anchor=\"middle\" x=\"1329\" y=\"-825.8\" font-family=\"Helvetica,sans-Serif\" font-size=\"14.00\">class = 비이탈</text>\n</g>\n<!-- 70&#45;&gt;71 -->\n<g id=\"edge71\" class=\"edge\">\n<title>70&#45;&gt;71</title>\n<path fill=\"none\" stroke=\"black\" d=\"M1411.28,-936.91C1401.22,-927.56 1390.43,-917.54 1380.08,-907.93\"/>\n<polygon fill=\"black\" stroke=\"black\" points=\"1382.35,-905.26 1372.64,-901.02 1377.58,-910.39 1382.35,-905.26\"/>\n</g>\n<!-- 74 -->\n<g id=\"node75\" class=\"node\">\n<title>74</title>\n<polygon fill=\"#e58139\" stroke=\"black\" points=\"1521,-893.5 1415,-893.5 1415,-825.5 1521,-825.5 1521,-893.5\"/>\n<text text-anchor=\"middle\" x=\"1468\" y=\"-878.3\" font-family=\"Helvetica,sans-Serif\" font-size=\"14.00\">gini = 0.0</text>\n<text text-anchor=\"middle\" x=\"1468\" y=\"-863.3\" font-family=\"Helvetica,sans-Serif\" font-size=\"14.00\">samples = 8</text>\n<text text-anchor=\"middle\" x=\"1468\" y=\"-848.3\" font-family=\"Helvetica,sans-Serif\" font-size=\"14.00\">value = [8, 0]</text>\n<text text-anchor=\"middle\" x=\"1468\" y=\"-833.3\" font-family=\"Helvetica,sans-Serif\" font-size=\"14.00\">class = 비이탈</text>\n</g>\n<!-- 70&#45;&gt;74 -->\n<g id=\"edge74\" class=\"edge\">\n<title>70&#45;&gt;74</title>\n<path fill=\"none\" stroke=\"black\" d=\"M1459.51,-936.91C1460.7,-926.2 1461.99,-914.62 1463.19,-903.78\"/>\n<polygon fill=\"black\" stroke=\"black\" points=\"1466.69,-903.99 1464.31,-893.67 1459.73,-903.22 1466.69,-903.99\"/>\n</g>\n<!-- 72 -->\n<g id=\"node73\" class=\"node\">\n<title>72</title>\n<polygon fill=\"#399de5\" stroke=\"black\" points=\"1360.5,-774.5 1265.5,-774.5 1265.5,-706.5 1360.5,-706.5 1360.5,-774.5\"/>\n<text text-anchor=\"middle\" x=\"1313\" y=\"-759.3\" font-family=\"Helvetica,sans-Serif\" font-size=\"14.00\">gini = 0.0</text>\n<text text-anchor=\"middle\" x=\"1313\" y=\"-744.3\" font-family=\"Helvetica,sans-Serif\" font-size=\"14.00\">samples = 1</text>\n<text text-anchor=\"middle\" x=\"1313\" y=\"-729.3\" font-family=\"Helvetica,sans-Serif\" font-size=\"14.00\">value = [0, 1]</text>\n<text text-anchor=\"middle\" x=\"1313\" y=\"-714.3\" font-family=\"Helvetica,sans-Serif\" font-size=\"14.00\">class = 이탈</text>\n</g>\n<!-- 71&#45;&gt;72 -->\n<g id=\"edge72\" class=\"edge\">\n<title>71&#45;&gt;72</title>\n<path fill=\"none\" stroke=\"black\" d=\"M1323.45,-817.91C1321.99,-807.2 1320.4,-795.62 1318.92,-784.78\"/>\n<polygon fill=\"black\" stroke=\"black\" points=\"1322.36,-784.1 1317.54,-774.67 1315.42,-785.05 1322.36,-784.1\"/>\n</g>\n<!-- 73 -->\n<g id=\"node74\" class=\"node\">\n<title>73</title>\n<polygon fill=\"#e58139\" stroke=\"black\" points=\"1485,-774.5 1379,-774.5 1379,-706.5 1485,-706.5 1485,-774.5\"/>\n<text text-anchor=\"middle\" x=\"1432\" y=\"-759.3\" font-family=\"Helvetica,sans-Serif\" font-size=\"14.00\">gini = 0.0</text>\n<text text-anchor=\"middle\" x=\"1432\" y=\"-744.3\" font-family=\"Helvetica,sans-Serif\" font-size=\"14.00\">samples = 1</text>\n<text text-anchor=\"middle\" x=\"1432\" y=\"-729.3\" font-family=\"Helvetica,sans-Serif\" font-size=\"14.00\">value = [1, 0]</text>\n<text text-anchor=\"middle\" x=\"1432\" y=\"-714.3\" font-family=\"Helvetica,sans-Serif\" font-size=\"14.00\">class = 비이탈</text>\n</g>\n<!-- 71&#45;&gt;73 -->\n<g id=\"edge73\" class=\"edge\">\n<title>71&#45;&gt;73</title>\n<path fill=\"none\" stroke=\"black\" d=\"M1364.74,-817.91C1374.84,-806.43 1385.84,-793.94 1395.96,-782.44\"/>\n<polygon fill=\"black\" stroke=\"black\" points=\"1398.82,-784.49 1402.8,-774.67 1393.57,-779.86 1398.82,-784.49\"/>\n</g>\n<!-- 76 -->\n<g id=\"node77\" class=\"node\">\n<title>76</title>\n<polygon fill=\"#d3e9f9\" stroke=\"black\" points=\"1675,-901 1539,-901 1539,-818 1675,-818 1675,-901\"/>\n<text text-anchor=\"middle\" x=\"1607\" y=\"-885.8\" font-family=\"Helvetica,sans-Serif\" font-size=\"14.00\">총매출액 &lt;= &#45;0.547</text>\n<text text-anchor=\"middle\" x=\"1607\" y=\"-870.8\" font-family=\"Helvetica,sans-Serif\" font-size=\"14.00\">gini = 0.492</text>\n<text text-anchor=\"middle\" x=\"1607\" y=\"-855.8\" font-family=\"Helvetica,sans-Serif\" font-size=\"14.00\">samples = 16</text>\n<text text-anchor=\"middle\" x=\"1607\" y=\"-840.8\" font-family=\"Helvetica,sans-Serif\" font-size=\"14.00\">value = [7, 9]</text>\n<text text-anchor=\"middle\" x=\"1607\" y=\"-825.8\" font-family=\"Helvetica,sans-Serif\" font-size=\"14.00\">class = 이탈</text>\n</g>\n<!-- 75&#45;&gt;76 -->\n<g id=\"edge76\" class=\"edge\">\n<title>75&#45;&gt;76</title>\n<path fill=\"none\" stroke=\"black\" d=\"M1607,-936.91C1607,-928.65 1607,-919.86 1607,-911.3\"/>\n<polygon fill=\"black\" stroke=\"black\" points=\"1610.5,-911.02 1607,-901.02 1603.5,-911.02 1610.5,-911.02\"/>\n</g>\n<!-- 91 -->\n<g id=\"node92\" class=\"node\">\n<title>91</title>\n<polygon fill=\"#e58139\" stroke=\"black\" points=\"1799,-893.5 1693,-893.5 1693,-825.5 1799,-825.5 1799,-893.5\"/>\n<text text-anchor=\"middle\" x=\"1746\" y=\"-878.3\" font-family=\"Helvetica,sans-Serif\" font-size=\"14.00\">gini = 0.0</text>\n<text text-anchor=\"middle\" x=\"1746\" y=\"-863.3\" font-family=\"Helvetica,sans-Serif\" font-size=\"14.00\">samples = 5</text>\n<text text-anchor=\"middle\" x=\"1746\" y=\"-848.3\" font-family=\"Helvetica,sans-Serif\" font-size=\"14.00\">value = [5, 0]</text>\n<text text-anchor=\"middle\" x=\"1746\" y=\"-833.3\" font-family=\"Helvetica,sans-Serif\" font-size=\"14.00\">class = 비이탈</text>\n</g>\n<!-- 75&#45;&gt;91 -->\n<g id=\"edge91\" class=\"edge\">\n<title>75&#45;&gt;91</title>\n<path fill=\"none\" stroke=\"black\" d=\"M1655.23,-936.91C1669.38,-924.99 1684.85,-911.98 1698.93,-900.12\"/>\n<polygon fill=\"black\" stroke=\"black\" points=\"1701.2,-902.78 1706.6,-893.67 1696.69,-897.43 1701.2,-902.78\"/>\n</g>\n<!-- 77 -->\n<g id=\"node78\" class=\"node\">\n<title>77</title>\n<polygon fill=\"#e58139\" stroke=\"black\" points=\"1635,-774.5 1529,-774.5 1529,-706.5 1635,-706.5 1635,-774.5\"/>\n<text text-anchor=\"middle\" x=\"1582\" y=\"-759.3\" font-family=\"Helvetica,sans-Serif\" font-size=\"14.00\">gini = 0.0</text>\n<text text-anchor=\"middle\" x=\"1582\" y=\"-744.3\" font-family=\"Helvetica,sans-Serif\" font-size=\"14.00\">samples = 2</text>\n<text text-anchor=\"middle\" x=\"1582\" y=\"-729.3\" font-family=\"Helvetica,sans-Serif\" font-size=\"14.00\">value = [2, 0]</text>\n<text text-anchor=\"middle\" x=\"1582\" y=\"-714.3\" font-family=\"Helvetica,sans-Serif\" font-size=\"14.00\">class = 비이탈</text>\n</g>\n<!-- 76&#45;&gt;77 -->\n<g id=\"edge77\" class=\"edge\">\n<title>76&#45;&gt;77</title>\n<path fill=\"none\" stroke=\"black\" d=\"M1598.33,-817.91C1596.04,-807.2 1593.56,-795.62 1591.25,-784.78\"/>\n<polygon fill=\"black\" stroke=\"black\" points=\"1594.6,-783.71 1589.09,-774.67 1587.75,-785.18 1594.6,-783.71\"/>\n</g>\n<!-- 78 -->\n<g id=\"node79\" class=\"node\">\n<title>78</title>\n<polygon fill=\"#a7d3f3\" stroke=\"black\" points=\"1784.5,-782 1653.5,-782 1653.5,-699 1784.5,-699 1784.5,-782\"/>\n<text text-anchor=\"middle\" x=\"1719\" y=\"-766.8\" font-family=\"Helvetica,sans-Serif\" font-size=\"14.00\">방문빈도 &lt;= 0.755</text>\n<text text-anchor=\"middle\" x=\"1719\" y=\"-751.8\" font-family=\"Helvetica,sans-Serif\" font-size=\"14.00\">gini = 0.459</text>\n<text text-anchor=\"middle\" x=\"1719\" y=\"-736.8\" font-family=\"Helvetica,sans-Serif\" font-size=\"14.00\">samples = 14</text>\n<text text-anchor=\"middle\" x=\"1719\" y=\"-721.8\" font-family=\"Helvetica,sans-Serif\" font-size=\"14.00\">value = [5, 9]</text>\n<text text-anchor=\"middle\" x=\"1719\" y=\"-706.8\" font-family=\"Helvetica,sans-Serif\" font-size=\"14.00\">class = 이탈</text>\n</g>\n<!-- 76&#45;&gt;78 -->\n<g id=\"edge78\" class=\"edge\">\n<title>76&#45;&gt;78</title>\n<path fill=\"none\" stroke=\"black\" d=\"M1645.86,-817.91C1654.63,-808.74 1664.03,-798.93 1673.06,-789.49\"/>\n<polygon fill=\"black\" stroke=\"black\" points=\"1675.82,-791.66 1680.21,-782.02 1670.77,-786.82 1675.82,-791.66\"/>\n</g>\n<!-- 79 -->\n<g id=\"node80\" class=\"node\">\n<title>79</title>\n<polygon fill=\"#deeffb\" stroke=\"black\" points=\"1719.5,-663 1588.5,-663 1588.5,-580 1719.5,-580 1719.5,-663\"/>\n<text text-anchor=\"middle\" x=\"1654\" y=\"-647.8\" font-family=\"Helvetica,sans-Serif\" font-size=\"14.00\">방문빈도 &lt;= 0.083</text>\n<text text-anchor=\"middle\" x=\"1654\" y=\"-632.8\" font-family=\"Helvetica,sans-Serif\" font-size=\"14.00\">gini = 0.496</text>\n<text text-anchor=\"middle\" x=\"1654\" y=\"-617.8\" font-family=\"Helvetica,sans-Serif\" font-size=\"14.00\">samples = 11</text>\n<text text-anchor=\"middle\" x=\"1654\" y=\"-602.8\" font-family=\"Helvetica,sans-Serif\" font-size=\"14.00\">value = [5, 6]</text>\n<text text-anchor=\"middle\" x=\"1654\" y=\"-587.8\" font-family=\"Helvetica,sans-Serif\" font-size=\"14.00\">class = 이탈</text>\n</g>\n<!-- 78&#45;&gt;79 -->\n<g id=\"edge79\" class=\"edge\">\n<title>78&#45;&gt;79</title>\n<path fill=\"none\" stroke=\"black\" d=\"M1696.45,-698.91C1691.61,-690.2 1686.44,-680.9 1681.44,-671.89\"/>\n<polygon fill=\"black\" stroke=\"black\" points=\"1684.43,-670.06 1676.51,-663.02 1678.31,-673.46 1684.43,-670.06\"/>\n</g>\n<!-- 90 -->\n<g id=\"node91\" class=\"node\">\n<title>90</title>\n<polygon fill=\"#399de5\" stroke=\"black\" points=\"1832.5,-655.5 1737.5,-655.5 1737.5,-587.5 1832.5,-587.5 1832.5,-655.5\"/>\n<text text-anchor=\"middle\" x=\"1785\" y=\"-640.3\" font-family=\"Helvetica,sans-Serif\" font-size=\"14.00\">gini = 0.0</text>\n<text text-anchor=\"middle\" x=\"1785\" y=\"-625.3\" font-family=\"Helvetica,sans-Serif\" font-size=\"14.00\">samples = 3</text>\n<text text-anchor=\"middle\" x=\"1785\" y=\"-610.3\" font-family=\"Helvetica,sans-Serif\" font-size=\"14.00\">value = [0, 3]</text>\n<text text-anchor=\"middle\" x=\"1785\" y=\"-595.3\" font-family=\"Helvetica,sans-Serif\" font-size=\"14.00\">class = 이탈</text>\n</g>\n<!-- 78&#45;&gt;90 -->\n<g id=\"edge90\" class=\"edge\">\n<title>78&#45;&gt;90</title>\n<path fill=\"none\" stroke=\"black\" d=\"M1741.9,-698.91C1748.19,-687.76 1755.01,-675.66 1761.34,-664.44\"/>\n<polygon fill=\"black\" stroke=\"black\" points=\"1764.43,-666.1 1766.29,-655.67 1758.33,-662.66 1764.43,-666.1\"/>\n</g>\n<!-- 80 -->\n<g id=\"node81\" class=\"node\">\n<title>80</title>\n<polygon fill=\"#399de5\" stroke=\"black\" points=\"1636.5,-536.5 1541.5,-536.5 1541.5,-468.5 1636.5,-468.5 1636.5,-536.5\"/>\n<text text-anchor=\"middle\" x=\"1589\" y=\"-521.3\" font-family=\"Helvetica,sans-Serif\" font-size=\"14.00\">gini = 0.0</text>\n<text text-anchor=\"middle\" x=\"1589\" y=\"-506.3\" font-family=\"Helvetica,sans-Serif\" font-size=\"14.00\">samples = 2</text>\n<text text-anchor=\"middle\" x=\"1589\" y=\"-491.3\" font-family=\"Helvetica,sans-Serif\" font-size=\"14.00\">value = [0, 2]</text>\n<text text-anchor=\"middle\" x=\"1589\" y=\"-476.3\" font-family=\"Helvetica,sans-Serif\" font-size=\"14.00\">class = 이탈</text>\n</g>\n<!-- 79&#45;&gt;80 -->\n<g id=\"edge80\" class=\"edge\">\n<title>79&#45;&gt;80</title>\n<path fill=\"none\" stroke=\"black\" d=\"M1631.45,-579.91C1625.26,-568.76 1618.53,-556.66 1612.3,-545.44\"/>\n<polygon fill=\"black\" stroke=\"black\" points=\"1615.34,-543.71 1607.43,-536.67 1609.22,-547.11 1615.34,-543.71\"/>\n</g>\n<!-- 81 -->\n<g id=\"node82\" class=\"node\">\n<title>81</title>\n<polygon fill=\"#fae6d7\" stroke=\"black\" points=\"1785.5,-544 1654.5,-544 1654.5,-461 1785.5,-461 1785.5,-544\"/>\n<text text-anchor=\"middle\" x=\"1720\" y=\"-528.8\" font-family=\"Helvetica,sans-Serif\" font-size=\"14.00\">총매출액 &lt;= 0.018</text>\n<text text-anchor=\"middle\" x=\"1720\" y=\"-513.8\" font-family=\"Helvetica,sans-Serif\" font-size=\"14.00\">gini = 0.494</text>\n<text text-anchor=\"middle\" x=\"1720\" y=\"-498.8\" font-family=\"Helvetica,sans-Serif\" font-size=\"14.00\">samples = 9</text>\n<text text-anchor=\"middle\" x=\"1720\" y=\"-483.8\" font-family=\"Helvetica,sans-Serif\" font-size=\"14.00\">value = [5, 4]</text>\n<text text-anchor=\"middle\" x=\"1720\" y=\"-468.8\" font-family=\"Helvetica,sans-Serif\" font-size=\"14.00\">class = 비이탈</text>\n</g>\n<!-- 79&#45;&gt;81 -->\n<g id=\"edge81\" class=\"edge\">\n<title>79&#45;&gt;81</title>\n<path fill=\"none\" stroke=\"black\" d=\"M1676.9,-579.91C1681.81,-571.2 1687.06,-561.9 1692.14,-552.89\"/>\n<polygon fill=\"black\" stroke=\"black\" points=\"1695.28,-554.45 1697.14,-544.02 1689.18,-551.01 1695.28,-554.45\"/>\n</g>\n<!-- 82 -->\n<g id=\"node83\" class=\"node\">\n<title>82</title>\n<polygon fill=\"#e58139\" stroke=\"black\" points=\"1705,-417.5 1599,-417.5 1599,-349.5 1705,-349.5 1705,-417.5\"/>\n<text text-anchor=\"middle\" x=\"1652\" y=\"-402.3\" font-family=\"Helvetica,sans-Serif\" font-size=\"14.00\">gini = 0.0</text>\n<text text-anchor=\"middle\" x=\"1652\" y=\"-387.3\" font-family=\"Helvetica,sans-Serif\" font-size=\"14.00\">samples = 2</text>\n<text text-anchor=\"middle\" x=\"1652\" y=\"-372.3\" font-family=\"Helvetica,sans-Serif\" font-size=\"14.00\">value = [2, 0]</text>\n<text text-anchor=\"middle\" x=\"1652\" y=\"-357.3\" font-family=\"Helvetica,sans-Serif\" font-size=\"14.00\">class = 비이탈</text>\n</g>\n<!-- 81&#45;&gt;82 -->\n<g id=\"edge82\" class=\"edge\">\n<title>81&#45;&gt;82</title>\n<path fill=\"none\" stroke=\"black\" d=\"M1696.41,-460.91C1689.93,-449.76 1682.9,-437.66 1676.37,-426.44\"/>\n<polygon fill=\"black\" stroke=\"black\" points=\"1679.33,-424.55 1671.28,-417.67 1673.28,-428.07 1679.33,-424.55\"/>\n</g>\n<!-- 83 -->\n<g id=\"node84\" class=\"node\">\n<title>83</title>\n<polygon fill=\"#cee6f8\" stroke=\"black\" points=\"1854.5,-425 1723.5,-425 1723.5,-342 1854.5,-342 1854.5,-425\"/>\n<text text-anchor=\"middle\" x=\"1789\" y=\"-409.8\" font-family=\"Helvetica,sans-Serif\" font-size=\"14.00\">방문빈도 &lt;= 0.512</text>\n<text text-anchor=\"middle\" x=\"1789\" y=\"-394.8\" font-family=\"Helvetica,sans-Serif\" font-size=\"14.00\">gini = 0.49</text>\n<text text-anchor=\"middle\" x=\"1789\" y=\"-379.8\" font-family=\"Helvetica,sans-Serif\" font-size=\"14.00\">samples = 7</text>\n<text text-anchor=\"middle\" x=\"1789\" y=\"-364.8\" font-family=\"Helvetica,sans-Serif\" font-size=\"14.00\">value = [3, 4]</text>\n<text text-anchor=\"middle\" x=\"1789\" y=\"-349.8\" font-family=\"Helvetica,sans-Serif\" font-size=\"14.00\">class = 이탈</text>\n</g>\n<!-- 81&#45;&gt;83 -->\n<g id=\"edge83\" class=\"edge\">\n<title>81&#45;&gt;83</title>\n<path fill=\"none\" stroke=\"black\" d=\"M1743.94,-460.91C1749.08,-452.2 1754.56,-442.9 1759.87,-433.89\"/>\n<polygon fill=\"black\" stroke=\"black\" points=\"1763.04,-435.41 1765.1,-425.02 1757.01,-431.86 1763.04,-435.41\"/>\n</g>\n<!-- 84 -->\n<g id=\"node85\" class=\"node\">\n<title>84</title>\n<polygon fill=\"#f6d5bd\" stroke=\"black\" points=\"1789.5,-306 1658.5,-306 1658.5,-223 1789.5,-223 1789.5,-306\"/>\n<text text-anchor=\"middle\" x=\"1724\" y=\"-290.8\" font-family=\"Helvetica,sans-Serif\" font-size=\"14.00\">총매출액 &lt;= 0.148</text>\n<text text-anchor=\"middle\" x=\"1724\" y=\"-275.8\" font-family=\"Helvetica,sans-Serif\" font-size=\"14.00\">gini = 0.48</text>\n<text text-anchor=\"middle\" x=\"1724\" y=\"-260.8\" font-family=\"Helvetica,sans-Serif\" font-size=\"14.00\">samples = 5</text>\n<text text-anchor=\"middle\" x=\"1724\" y=\"-245.8\" font-family=\"Helvetica,sans-Serif\" font-size=\"14.00\">value = [3, 2]</text>\n<text text-anchor=\"middle\" x=\"1724\" y=\"-230.8\" font-family=\"Helvetica,sans-Serif\" font-size=\"14.00\">class = 비이탈</text>\n</g>\n<!-- 83&#45;&gt;84 -->\n<g id=\"edge84\" class=\"edge\">\n<title>83&#45;&gt;84</title>\n<path fill=\"none\" stroke=\"black\" d=\"M1766.45,-341.91C1761.61,-333.2 1756.44,-323.9 1751.44,-314.89\"/>\n<polygon fill=\"black\" stroke=\"black\" points=\"1754.43,-313.06 1746.51,-306.02 1748.31,-316.46 1754.43,-313.06\"/>\n</g>\n<!-- 89 -->\n<g id=\"node90\" class=\"node\">\n<title>89</title>\n<polygon fill=\"#399de5\" stroke=\"black\" points=\"1902.5,-298.5 1807.5,-298.5 1807.5,-230.5 1902.5,-230.5 1902.5,-298.5\"/>\n<text text-anchor=\"middle\" x=\"1855\" y=\"-283.3\" font-family=\"Helvetica,sans-Serif\" font-size=\"14.00\">gini = 0.0</text>\n<text text-anchor=\"middle\" x=\"1855\" y=\"-268.3\" font-family=\"Helvetica,sans-Serif\" font-size=\"14.00\">samples = 2</text>\n<text text-anchor=\"middle\" x=\"1855\" y=\"-253.3\" font-family=\"Helvetica,sans-Serif\" font-size=\"14.00\">value = [0, 2]</text>\n<text text-anchor=\"middle\" x=\"1855\" y=\"-238.3\" font-family=\"Helvetica,sans-Serif\" font-size=\"14.00\">class = 이탈</text>\n</g>\n<!-- 83&#45;&gt;89 -->\n<g id=\"edge89\" class=\"edge\">\n<title>83&#45;&gt;89</title>\n<path fill=\"none\" stroke=\"black\" d=\"M1811.9,-341.91C1818.19,-330.76 1825.01,-318.66 1831.34,-307.44\"/>\n<polygon fill=\"black\" stroke=\"black\" points=\"1834.43,-309.1 1836.29,-298.67 1828.33,-305.66 1834.43,-309.1\"/>\n</g>\n<!-- 85 -->\n<g id=\"node86\" class=\"node\">\n<title>85</title>\n<polygon fill=\"#399de5\" stroke=\"black\" points=\"1706.5,-179.5 1611.5,-179.5 1611.5,-111.5 1706.5,-111.5 1706.5,-179.5\"/>\n<text text-anchor=\"middle\" x=\"1659\" y=\"-164.3\" font-family=\"Helvetica,sans-Serif\" font-size=\"14.00\">gini = 0.0</text>\n<text text-anchor=\"middle\" x=\"1659\" y=\"-149.3\" font-family=\"Helvetica,sans-Serif\" font-size=\"14.00\">samples = 1</text>\n<text text-anchor=\"middle\" x=\"1659\" y=\"-134.3\" font-family=\"Helvetica,sans-Serif\" font-size=\"14.00\">value = [0, 1]</text>\n<text text-anchor=\"middle\" x=\"1659\" y=\"-119.3\" font-family=\"Helvetica,sans-Serif\" font-size=\"14.00\">class = 이탈</text>\n</g>\n<!-- 84&#45;&gt;85 -->\n<g id=\"edge85\" class=\"edge\">\n<title>84&#45;&gt;85</title>\n<path fill=\"none\" stroke=\"black\" d=\"M1701.45,-222.91C1695.26,-211.76 1688.53,-199.66 1682.3,-188.44\"/>\n<polygon fill=\"black\" stroke=\"black\" points=\"1685.34,-186.71 1677.43,-179.67 1679.22,-190.11 1685.34,-186.71\"/>\n</g>\n<!-- 86 -->\n<g id=\"node87\" class=\"node\">\n<title>86</title>\n<polygon fill=\"#eeab7b\" stroke=\"black\" points=\"1855.5,-187 1724.5,-187 1724.5,-104 1855.5,-104 1855.5,-187\"/>\n<text text-anchor=\"middle\" x=\"1790\" y=\"-171.8\" font-family=\"Helvetica,sans-Serif\" font-size=\"14.00\">총매출액 &lt;= 1.204</text>\n<text text-anchor=\"middle\" x=\"1790\" y=\"-156.8\" font-family=\"Helvetica,sans-Serif\" font-size=\"14.00\">gini = 0.375</text>\n<text text-anchor=\"middle\" x=\"1790\" y=\"-141.8\" font-family=\"Helvetica,sans-Serif\" font-size=\"14.00\">samples = 4</text>\n<text text-anchor=\"middle\" x=\"1790\" y=\"-126.8\" font-family=\"Helvetica,sans-Serif\" font-size=\"14.00\">value = [3, 1]</text>\n<text text-anchor=\"middle\" x=\"1790\" y=\"-111.8\" font-family=\"Helvetica,sans-Serif\" font-size=\"14.00\">class = 비이탈</text>\n</g>\n<!-- 84&#45;&gt;86 -->\n<g id=\"edge86\" class=\"edge\">\n<title>84&#45;&gt;86</title>\n<path fill=\"none\" stroke=\"black\" d=\"M1746.9,-222.91C1751.81,-214.2 1757.06,-204.9 1762.14,-195.89\"/>\n<polygon fill=\"black\" stroke=\"black\" points=\"1765.28,-197.45 1767.14,-187.02 1759.18,-194.01 1765.28,-197.45\"/>\n</g>\n<!-- 87 -->\n<g id=\"node88\" class=\"node\">\n<title>87</title>\n<polygon fill=\"#e58139\" stroke=\"black\" points=\"1784,-68 1678,-68 1678,0 1784,0 1784,-68\"/>\n<text text-anchor=\"middle\" x=\"1731\" y=\"-52.8\" font-family=\"Helvetica,sans-Serif\" font-size=\"14.00\">gini = 0.0</text>\n<text text-anchor=\"middle\" x=\"1731\" y=\"-37.8\" font-family=\"Helvetica,sans-Serif\" font-size=\"14.00\">samples = 3</text>\n<text text-anchor=\"middle\" x=\"1731\" y=\"-22.8\" font-family=\"Helvetica,sans-Serif\" font-size=\"14.00\">value = [3, 0]</text>\n<text text-anchor=\"middle\" x=\"1731\" y=\"-7.8\" font-family=\"Helvetica,sans-Serif\" font-size=\"14.00\">class = 비이탈</text>\n</g>\n<!-- 86&#45;&gt;87 -->\n<g id=\"edge87\" class=\"edge\">\n<title>86&#45;&gt;87</title>\n<path fill=\"none\" stroke=\"black\" d=\"M1768.03,-103.73C1763.36,-95.06 1758.42,-85.9 1753.73,-77.18\"/>\n<polygon fill=\"black\" stroke=\"black\" points=\"1756.77,-75.44 1748.94,-68.3 1750.6,-78.76 1756.77,-75.44\"/>\n</g>\n<!-- 88 -->\n<g id=\"node89\" class=\"node\">\n<title>88</title>\n<polygon fill=\"#399de5\" stroke=\"black\" points=\"1897.5,-68 1802.5,-68 1802.5,0 1897.5,0 1897.5,-68\"/>\n<text text-anchor=\"middle\" x=\"1850\" y=\"-52.8\" font-family=\"Helvetica,sans-Serif\" font-size=\"14.00\">gini = 0.0</text>\n<text text-anchor=\"middle\" x=\"1850\" y=\"-37.8\" font-family=\"Helvetica,sans-Serif\" font-size=\"14.00\">samples = 1</text>\n<text text-anchor=\"middle\" x=\"1850\" y=\"-22.8\" font-family=\"Helvetica,sans-Serif\" font-size=\"14.00\">value = [0, 1]</text>\n<text text-anchor=\"middle\" x=\"1850\" y=\"-7.8\" font-family=\"Helvetica,sans-Serif\" font-size=\"14.00\">class = 이탈</text>\n</g>\n<!-- 86&#45;&gt;88 -->\n<g id=\"edge88\" class=\"edge\">\n<title>86&#45;&gt;88</title>\n<path fill=\"none\" stroke=\"black\" d=\"M1812.34,-103.73C1817.09,-95.06 1822.11,-85.9 1826.89,-77.18\"/>\n<polygon fill=\"black\" stroke=\"black\" points=\"1830.02,-78.75 1831.75,-68.3 1823.88,-75.39 1830.02,-78.75\"/>\n</g>\n<!-- 94 -->\n<g id=\"node95\" class=\"node\">\n<title>94</title>\n<polygon fill=\"#f6d5bd\" stroke=\"black\" points=\"1923.5,-1139 1802.5,-1139 1802.5,-1056 1923.5,-1056 1923.5,-1139\"/>\n<text text-anchor=\"middle\" x=\"1863\" y=\"-1123.8\" font-family=\"Helvetica,sans-Serif\" font-size=\"14.00\">총매출액 &lt;= &#45;0.6</text>\n<text text-anchor=\"middle\" x=\"1863\" y=\"-1108.8\" font-family=\"Helvetica,sans-Serif\" font-size=\"14.00\">gini = 0.48</text>\n<text text-anchor=\"middle\" x=\"1863\" y=\"-1093.8\" font-family=\"Helvetica,sans-Serif\" font-size=\"14.00\">samples = 10</text>\n<text text-anchor=\"middle\" x=\"1863\" y=\"-1078.8\" font-family=\"Helvetica,sans-Serif\" font-size=\"14.00\">value = [6, 4]</text>\n<text text-anchor=\"middle\" x=\"1863\" y=\"-1063.8\" font-family=\"Helvetica,sans-Serif\" font-size=\"14.00\">class = 비이탈</text>\n</g>\n<!-- 93&#45;&gt;94 -->\n<g id=\"edge94\" class=\"edge\">\n<title>93&#45;&gt;94</title>\n<path fill=\"none\" stroke=\"black\" d=\"M1881.29,-1174.91C1879.29,-1166.56 1877.16,-1157.67 1875.09,-1149.02\"/>\n<polygon fill=\"black\" stroke=\"black\" points=\"1878.43,-1147.93 1872.7,-1139.02 1871.62,-1149.56 1878.43,-1147.93\"/>\n</g>\n<!-- 97 -->\n<g id=\"node98\" class=\"node\">\n<title>97</title>\n<polygon fill=\"#e78945\" stroke=\"black\" points=\"2078,-1139 1942,-1139 1942,-1056 2078,-1056 2078,-1139\"/>\n<text text-anchor=\"middle\" x=\"2010\" y=\"-1123.8\" font-family=\"Helvetica,sans-Serif\" font-size=\"14.00\">거래기간 &lt;= &#45;0.607</text>\n<text text-anchor=\"middle\" x=\"2010\" y=\"-1108.8\" font-family=\"Helvetica,sans-Serif\" font-size=\"14.00\">gini = 0.108</text>\n<text text-anchor=\"middle\" x=\"2010\" y=\"-1093.8\" font-family=\"Helvetica,sans-Serif\" font-size=\"14.00\">samples = 70</text>\n<text text-anchor=\"middle\" x=\"2010\" y=\"-1078.8\" font-family=\"Helvetica,sans-Serif\" font-size=\"14.00\">value = [66, 4]</text>\n<text text-anchor=\"middle\" x=\"2010\" y=\"-1063.8\" font-family=\"Helvetica,sans-Serif\" font-size=\"14.00\">class = 비이탈</text>\n</g>\n<!-- 93&#45;&gt;97 -->\n<g id=\"edge97\" class=\"edge\">\n<title>93&#45;&gt;97</title>\n<path fill=\"none\" stroke=\"black\" d=\"M1932.29,-1174.91C1941.7,-1165.65 1951.79,-1155.73 1961.48,-1146.21\"/>\n<polygon fill=\"black\" stroke=\"black\" points=\"1964.11,-1148.53 1968.79,-1139.02 1959.2,-1143.54 1964.11,-1148.53\"/>\n</g>\n<!-- 95 -->\n<g id=\"node96\" class=\"node\">\n<title>95</title>\n<polygon fill=\"#e58139\" stroke=\"black\" points=\"1797,-1012.5 1691,-1012.5 1691,-944.5 1797,-944.5 1797,-1012.5\"/>\n<text text-anchor=\"middle\" x=\"1744\" y=\"-997.3\" font-family=\"Helvetica,sans-Serif\" font-size=\"14.00\">gini = 0.0</text>\n<text text-anchor=\"middle\" x=\"1744\" y=\"-982.3\" font-family=\"Helvetica,sans-Serif\" font-size=\"14.00\">samples = 6</text>\n<text text-anchor=\"middle\" x=\"1744\" y=\"-967.3\" font-family=\"Helvetica,sans-Serif\" font-size=\"14.00\">value = [6, 0]</text>\n<text text-anchor=\"middle\" x=\"1744\" y=\"-952.3\" font-family=\"Helvetica,sans-Serif\" font-size=\"14.00\">class = 비이탈</text>\n</g>\n<!-- 94&#45;&gt;95 -->\n<g id=\"edge95\" class=\"edge\">\n<title>94&#45;&gt;95</title>\n<path fill=\"none\" stroke=\"black\" d=\"M1821.71,-1055.91C1809.82,-1044.21 1796.85,-1031.46 1784.97,-1019.78\"/>\n<polygon fill=\"black\" stroke=\"black\" points=\"1787.32,-1017.18 1777.73,-1012.67 1782.41,-1022.17 1787.32,-1017.18\"/>\n</g>\n<!-- 96 -->\n<g id=\"node97\" class=\"node\">\n<title>96</title>\n<polygon fill=\"#399de5\" stroke=\"black\" points=\"1910.5,-1012.5 1815.5,-1012.5 1815.5,-944.5 1910.5,-944.5 1910.5,-1012.5\"/>\n<text text-anchor=\"middle\" x=\"1863\" y=\"-997.3\" font-family=\"Helvetica,sans-Serif\" font-size=\"14.00\">gini = 0.0</text>\n<text text-anchor=\"middle\" x=\"1863\" y=\"-982.3\" font-family=\"Helvetica,sans-Serif\" font-size=\"14.00\">samples = 4</text>\n<text text-anchor=\"middle\" x=\"1863\" y=\"-967.3\" font-family=\"Helvetica,sans-Serif\" font-size=\"14.00\">value = [0, 4]</text>\n<text text-anchor=\"middle\" x=\"1863\" y=\"-952.3\" font-family=\"Helvetica,sans-Serif\" font-size=\"14.00\">class = 이탈</text>\n</g>\n<!-- 94&#45;&gt;96 -->\n<g id=\"edge96\" class=\"edge\">\n<title>94&#45;&gt;96</title>\n<path fill=\"none\" stroke=\"black\" d=\"M1863,-1055.91C1863,-1045.2 1863,-1033.62 1863,-1022.78\"/>\n<polygon fill=\"black\" stroke=\"black\" points=\"1866.5,-1022.67 1863,-1012.67 1859.5,-1022.67 1866.5,-1022.67\"/>\n</g>\n<!-- 98 -->\n<g id=\"node99\" class=\"node\">\n<title>98</title>\n<polygon fill=\"#e6843d\" stroke=\"black\" points=\"2065,-1020 1929,-1020 1929,-937 2065,-937 2065,-1020\"/>\n<text text-anchor=\"middle\" x=\"1997\" y=\"-1004.8\" font-family=\"Helvetica,sans-Serif\" font-size=\"14.00\">총매출액 &lt;= &#45;0.409</text>\n<text text-anchor=\"middle\" x=\"1997\" y=\"-989.8\" font-family=\"Helvetica,sans-Serif\" font-size=\"14.00\">gini = 0.042</text>\n<text text-anchor=\"middle\" x=\"1997\" y=\"-974.8\" font-family=\"Helvetica,sans-Serif\" font-size=\"14.00\">samples = 47</text>\n<text text-anchor=\"middle\" x=\"1997\" y=\"-959.8\" font-family=\"Helvetica,sans-Serif\" font-size=\"14.00\">value = [46, 1]</text>\n<text text-anchor=\"middle\" x=\"1997\" y=\"-944.8\" font-family=\"Helvetica,sans-Serif\" font-size=\"14.00\">class = 비이탈</text>\n</g>\n<!-- 97&#45;&gt;98 -->\n<g id=\"edge98\" class=\"edge\">\n<title>97&#45;&gt;98</title>\n<path fill=\"none\" stroke=\"black\" d=\"M2005.49,-1055.91C2004.56,-1047.56 2003.57,-1038.67 2002.61,-1030.02\"/>\n<polygon fill=\"black\" stroke=\"black\" points=\"2006.09,-1029.57 2001.5,-1020.02 1999.13,-1030.35 2006.09,-1029.57\"/>\n</g>\n<!-- 103 -->\n<g id=\"node104\" class=\"node\">\n<title>103</title>\n<polygon fill=\"#e99457\" stroke=\"black\" points=\"2219,-1020 2083,-1020 2083,-937 2219,-937 2219,-1020\"/>\n<text text-anchor=\"middle\" x=\"2151\" y=\"-1004.8\" font-family=\"Helvetica,sans-Serif\" font-size=\"14.00\">거래기간 &lt;= &#45;0.572</text>\n<text text-anchor=\"middle\" x=\"2151\" y=\"-989.8\" font-family=\"Helvetica,sans-Serif\" font-size=\"14.00\">gini = 0.227</text>\n<text text-anchor=\"middle\" x=\"2151\" y=\"-974.8\" font-family=\"Helvetica,sans-Serif\" font-size=\"14.00\">samples = 23</text>\n<text text-anchor=\"middle\" x=\"2151\" y=\"-959.8\" font-family=\"Helvetica,sans-Serif\" font-size=\"14.00\">value = [20, 3]</text>\n<text text-anchor=\"middle\" x=\"2151\" y=\"-944.8\" font-family=\"Helvetica,sans-Serif\" font-size=\"14.00\">class = 비이탈</text>\n</g>\n<!-- 97&#45;&gt;103 -->\n<g id=\"edge103\" class=\"edge\">\n<title>97&#45;&gt;103</title>\n<path fill=\"none\" stroke=\"black\" d=\"M2058.92,-1055.91C2070.29,-1046.47 2082.5,-1036.34 2094.18,-1026.65\"/>\n<polygon fill=\"black\" stroke=\"black\" points=\"2096.71,-1029.1 2102.17,-1020.02 2092.24,-1023.71 2096.71,-1029.1\"/>\n</g>\n<!-- 99 -->\n<g id=\"node100\" class=\"node\">\n<title>99</title>\n<polygon fill=\"#e99355\" stroke=\"black\" points=\"1955,-901 1819,-901 1819,-818 1955,-818 1955,-901\"/>\n<text text-anchor=\"middle\" x=\"1887\" y=\"-885.8\" font-family=\"Helvetica,sans-Serif\" font-size=\"14.00\">총매출액 &lt;= &#45;0.427</text>\n<text text-anchor=\"middle\" x=\"1887\" y=\"-870.8\" font-family=\"Helvetica,sans-Serif\" font-size=\"14.00\">gini = 0.219</text>\n<text text-anchor=\"middle\" x=\"1887\" y=\"-855.8\" font-family=\"Helvetica,sans-Serif\" font-size=\"14.00\">samples = 8</text>\n<text text-anchor=\"middle\" x=\"1887\" y=\"-840.8\" font-family=\"Helvetica,sans-Serif\" font-size=\"14.00\">value = [7, 1]</text>\n<text text-anchor=\"middle\" x=\"1887\" y=\"-825.8\" font-family=\"Helvetica,sans-Serif\" font-size=\"14.00\">class = 비이탈</text>\n</g>\n<!-- 98&#45;&gt;99 -->\n<g id=\"edge99\" class=\"edge\">\n<title>98&#45;&gt;99</title>\n<path fill=\"none\" stroke=\"black\" d=\"M1958.84,-936.91C1950.22,-927.74 1940.99,-917.93 1932.12,-908.49\"/>\n<polygon fill=\"black\" stroke=\"black\" points=\"1934.5,-905.91 1925.1,-901.02 1929.4,-910.7 1934.5,-905.91\"/>\n</g>\n<!-- 102 -->\n<g id=\"node103\" class=\"node\">\n<title>102</title>\n<polygon fill=\"#e58139\" stroke=\"black\" points=\"2079,-893.5 1973,-893.5 1973,-825.5 2079,-825.5 2079,-893.5\"/>\n<text text-anchor=\"middle\" x=\"2026\" y=\"-878.3\" font-family=\"Helvetica,sans-Serif\" font-size=\"14.00\">gini = 0.0</text>\n<text text-anchor=\"middle\" x=\"2026\" y=\"-863.3\" font-family=\"Helvetica,sans-Serif\" font-size=\"14.00\">samples = 39</text>\n<text text-anchor=\"middle\" x=\"2026\" y=\"-848.3\" font-family=\"Helvetica,sans-Serif\" font-size=\"14.00\">value = [39, 0]</text>\n<text text-anchor=\"middle\" x=\"2026\" y=\"-833.3\" font-family=\"Helvetica,sans-Serif\" font-size=\"14.00\">class = 비이탈</text>\n</g>\n<!-- 98&#45;&gt;102 -->\n<g id=\"edge102\" class=\"edge\">\n<title>98&#45;&gt;102</title>\n<path fill=\"none\" stroke=\"black\" d=\"M2007.06,-936.91C2009.74,-926.09 2012.65,-914.38 2015.36,-903.44\"/>\n<polygon fill=\"black\" stroke=\"black\" points=\"2018.77,-904.22 2017.78,-893.67 2011.98,-902.53 2018.77,-904.22\"/>\n</g>\n<!-- 100 -->\n<g id=\"node101\" class=\"node\">\n<title>100</title>\n<polygon fill=\"#e58139\" stroke=\"black\" points=\"1913,-774.5 1807,-774.5 1807,-706.5 1913,-706.5 1913,-774.5\"/>\n<text text-anchor=\"middle\" x=\"1860\" y=\"-759.3\" font-family=\"Helvetica,sans-Serif\" font-size=\"14.00\">gini = 0.0</text>\n<text text-anchor=\"middle\" x=\"1860\" y=\"-744.3\" font-family=\"Helvetica,sans-Serif\" font-size=\"14.00\">samples = 7</text>\n<text text-anchor=\"middle\" x=\"1860\" y=\"-729.3\" font-family=\"Helvetica,sans-Serif\" font-size=\"14.00\">value = [7, 0]</text>\n<text text-anchor=\"middle\" x=\"1860\" y=\"-714.3\" font-family=\"Helvetica,sans-Serif\" font-size=\"14.00\">class = 비이탈</text>\n</g>\n<!-- 99&#45;&gt;100 -->\n<g id=\"edge100\" class=\"edge\">\n<title>99&#45;&gt;100</title>\n<path fill=\"none\" stroke=\"black\" d=\"M1877.63,-817.91C1875.14,-807.09 1872.43,-795.38 1869.91,-784.44\"/>\n<polygon fill=\"black\" stroke=\"black\" points=\"1873.31,-783.62 1867.65,-774.67 1866.49,-785.2 1873.31,-783.62\"/>\n</g>\n<!-- 101 -->\n<g id=\"node102\" class=\"node\">\n<title>101</title>\n<polygon fill=\"#399de5\" stroke=\"black\" points=\"2026.5,-774.5 1931.5,-774.5 1931.5,-706.5 2026.5,-706.5 2026.5,-774.5\"/>\n<text text-anchor=\"middle\" x=\"1979\" y=\"-759.3\" font-family=\"Helvetica,sans-Serif\" font-size=\"14.00\">gini = 0.0</text>\n<text text-anchor=\"middle\" x=\"1979\" y=\"-744.3\" font-family=\"Helvetica,sans-Serif\" font-size=\"14.00\">samples = 1</text>\n<text text-anchor=\"middle\" x=\"1979\" y=\"-729.3\" font-family=\"Helvetica,sans-Serif\" font-size=\"14.00\">value = [0, 1]</text>\n<text text-anchor=\"middle\" x=\"1979\" y=\"-714.3\" font-family=\"Helvetica,sans-Serif\" font-size=\"14.00\">class = 이탈</text>\n</g>\n<!-- 99&#45;&gt;101 -->\n<g id=\"edge101\" class=\"edge\">\n<title>99&#45;&gt;101</title>\n<path fill=\"none\" stroke=\"black\" d=\"M1918.92,-817.91C1927.86,-806.54 1937.58,-794.18 1946.55,-782.77\"/>\n<polygon fill=\"black\" stroke=\"black\" points=\"1949.49,-784.69 1952.92,-774.67 1943.99,-780.36 1949.49,-784.69\"/>\n</g>\n<!-- 104 -->\n<g id=\"node105\" class=\"node\">\n<title>104</title>\n<polygon fill=\"#399de5\" stroke=\"black\" points=\"2196.5,-893.5 2101.5,-893.5 2101.5,-825.5 2196.5,-825.5 2196.5,-893.5\"/>\n<text text-anchor=\"middle\" x=\"2149\" y=\"-878.3\" font-family=\"Helvetica,sans-Serif\" font-size=\"14.00\">gini = 0.0</text>\n<text text-anchor=\"middle\" x=\"2149\" y=\"-863.3\" font-family=\"Helvetica,sans-Serif\" font-size=\"14.00\">samples = 2</text>\n<text text-anchor=\"middle\" x=\"2149\" y=\"-848.3\" font-family=\"Helvetica,sans-Serif\" font-size=\"14.00\">value = [0, 2]</text>\n<text text-anchor=\"middle\" x=\"2149\" y=\"-833.3\" font-family=\"Helvetica,sans-Serif\" font-size=\"14.00\">class = 이탈</text>\n</g>\n<!-- 103&#45;&gt;104 -->\n<g id=\"edge104\" class=\"edge\">\n<title>103&#45;&gt;104</title>\n<path fill=\"none\" stroke=\"black\" d=\"M2150.31,-936.91C2150.12,-926.2 2149.93,-914.62 2149.74,-903.78\"/>\n<polygon fill=\"black\" stroke=\"black\" points=\"2153.24,-903.61 2149.57,-893.67 2146.24,-903.73 2153.24,-903.61\"/>\n</g>\n<!-- 105 -->\n<g id=\"node106\" class=\"node\">\n<title>105</title>\n<polygon fill=\"#e68743\" stroke=\"black\" points=\"2351,-901 2215,-901 2215,-818 2351,-818 2351,-901\"/>\n<text text-anchor=\"middle\" x=\"2283\" y=\"-885.8\" font-family=\"Helvetica,sans-Serif\" font-size=\"14.00\">거래기간 &lt;= &#45;0.304</text>\n<text text-anchor=\"middle\" x=\"2283\" y=\"-870.8\" font-family=\"Helvetica,sans-Serif\" font-size=\"14.00\">gini = 0.091</text>\n<text text-anchor=\"middle\" x=\"2283\" y=\"-855.8\" font-family=\"Helvetica,sans-Serif\" font-size=\"14.00\">samples = 21</text>\n<text text-anchor=\"middle\" x=\"2283\" y=\"-840.8\" font-family=\"Helvetica,sans-Serif\" font-size=\"14.00\">value = [20, 1]</text>\n<text text-anchor=\"middle\" x=\"2283\" y=\"-825.8\" font-family=\"Helvetica,sans-Serif\" font-size=\"14.00\">class = 비이탈</text>\n</g>\n<!-- 103&#45;&gt;105 -->\n<g id=\"edge105\" class=\"edge\">\n<title>103&#45;&gt;105</title>\n<path fill=\"none\" stroke=\"black\" d=\"M2196.8,-936.91C2207.34,-927.56 2218.65,-917.54 2229.49,-907.93\"/>\n<polygon fill=\"black\" stroke=\"black\" points=\"2232.12,-910.27 2237.28,-901.02 2227.48,-905.03 2232.12,-910.27\"/>\n</g>\n<!-- 106 -->\n<g id=\"node107\" class=\"node\">\n<title>106</title>\n<polygon fill=\"#e58139\" stroke=\"black\" points=\"2267,-774.5 2161,-774.5 2161,-706.5 2267,-706.5 2267,-774.5\"/>\n<text text-anchor=\"middle\" x=\"2214\" y=\"-759.3\" font-family=\"Helvetica,sans-Serif\" font-size=\"14.00\">gini = 0.0</text>\n<text text-anchor=\"middle\" x=\"2214\" y=\"-744.3\" font-family=\"Helvetica,sans-Serif\" font-size=\"14.00\">samples = 14</text>\n<text text-anchor=\"middle\" x=\"2214\" y=\"-729.3\" font-family=\"Helvetica,sans-Serif\" font-size=\"14.00\">value = [14, 0]</text>\n<text text-anchor=\"middle\" x=\"2214\" y=\"-714.3\" font-family=\"Helvetica,sans-Serif\" font-size=\"14.00\">class = 비이탈</text>\n</g>\n<!-- 105&#45;&gt;106 -->\n<g id=\"edge106\" class=\"edge\">\n<title>105&#45;&gt;106</title>\n<path fill=\"none\" stroke=\"black\" d=\"M2259.06,-817.91C2252.49,-806.76 2245.35,-794.66 2238.73,-783.44\"/>\n<polygon fill=\"black\" stroke=\"black\" points=\"2241.65,-781.5 2233.56,-774.67 2235.63,-785.06 2241.65,-781.5\"/>\n</g>\n<!-- 107 -->\n<g id=\"node108\" class=\"node\">\n<title>107</title>\n<polygon fill=\"#e9965a\" stroke=\"black\" points=\"2421,-782 2285,-782 2285,-699 2421,-699 2421,-782\"/>\n<text text-anchor=\"middle\" x=\"2353\" y=\"-766.8\" font-family=\"Helvetica,sans-Serif\" font-size=\"14.00\">거래기간 &lt;= &#45;0.295</text>\n<text text-anchor=\"middle\" x=\"2353\" y=\"-751.8\" font-family=\"Helvetica,sans-Serif\" font-size=\"14.00\">gini = 0.245</text>\n<text text-anchor=\"middle\" x=\"2353\" y=\"-736.8\" font-family=\"Helvetica,sans-Serif\" font-size=\"14.00\">samples = 7</text>\n<text text-anchor=\"middle\" x=\"2353\" y=\"-721.8\" font-family=\"Helvetica,sans-Serif\" font-size=\"14.00\">value = [6, 1]</text>\n<text text-anchor=\"middle\" x=\"2353\" y=\"-706.8\" font-family=\"Helvetica,sans-Serif\" font-size=\"14.00\">class = 비이탈</text>\n</g>\n<!-- 105&#45;&gt;107 -->\n<g id=\"edge107\" class=\"edge\">\n<title>105&#45;&gt;107</title>\n<path fill=\"none\" stroke=\"black\" d=\"M2307.29,-817.91C2312.55,-809.1 2318.18,-799.7 2323.62,-790.61\"/>\n<polygon fill=\"black\" stroke=\"black\" points=\"2326.63,-792.4 2328.76,-782.02 2320.62,-788.81 2326.63,-792.4\"/>\n</g>\n<!-- 108 -->\n<g id=\"node109\" class=\"node\">\n<title>108</title>\n<polygon fill=\"#399de5\" stroke=\"black\" points=\"2341.5,-655.5 2246.5,-655.5 2246.5,-587.5 2341.5,-587.5 2341.5,-655.5\"/>\n<text text-anchor=\"middle\" x=\"2294\" y=\"-640.3\" font-family=\"Helvetica,sans-Serif\" font-size=\"14.00\">gini = 0.0</text>\n<text text-anchor=\"middle\" x=\"2294\" y=\"-625.3\" font-family=\"Helvetica,sans-Serif\" font-size=\"14.00\">samples = 1</text>\n<text text-anchor=\"middle\" x=\"2294\" y=\"-610.3\" font-family=\"Helvetica,sans-Serif\" font-size=\"14.00\">value = [0, 1]</text>\n<text text-anchor=\"middle\" x=\"2294\" y=\"-595.3\" font-family=\"Helvetica,sans-Serif\" font-size=\"14.00\">class = 이탈</text>\n</g>\n<!-- 107&#45;&gt;108 -->\n<g id=\"edge108\" class=\"edge\">\n<title>107&#45;&gt;108</title>\n<path fill=\"none\" stroke=\"black\" d=\"M2332.53,-698.91C2326.97,-687.87 2320.93,-675.9 2315.32,-664.77\"/>\n<polygon fill=\"black\" stroke=\"black\" points=\"2318.35,-663.02 2310.73,-655.67 2312.1,-666.17 2318.35,-663.02\"/>\n</g>\n<!-- 109 -->\n<g id=\"node110\" class=\"node\">\n<title>109</title>\n<polygon fill=\"#e58139\" stroke=\"black\" points=\"2466,-655.5 2360,-655.5 2360,-587.5 2466,-587.5 2466,-655.5\"/>\n<text text-anchor=\"middle\" x=\"2413\" y=\"-640.3\" font-family=\"Helvetica,sans-Serif\" font-size=\"14.00\">gini = 0.0</text>\n<text text-anchor=\"middle\" x=\"2413\" y=\"-625.3\" font-family=\"Helvetica,sans-Serif\" font-size=\"14.00\">samples = 6</text>\n<text text-anchor=\"middle\" x=\"2413\" y=\"-610.3\" font-family=\"Helvetica,sans-Serif\" font-size=\"14.00\">value = [6, 0]</text>\n<text text-anchor=\"middle\" x=\"2413\" y=\"-595.3\" font-family=\"Helvetica,sans-Serif\" font-size=\"14.00\">class = 비이탈</text>\n</g>\n<!-- 107&#45;&gt;109 -->\n<g id=\"edge109\" class=\"edge\">\n<title>107&#45;&gt;109</title>\n<path fill=\"none\" stroke=\"black\" d=\"M2373.82,-698.91C2379.48,-687.87 2385.62,-675.9 2391.32,-664.77\"/>\n<polygon fill=\"black\" stroke=\"black\" points=\"2394.54,-666.16 2395.99,-655.67 2388.31,-662.97 2394.54,-666.16\"/>\n</g>\n<!-- 111 -->\n<g id=\"node112\" class=\"node\">\n<title>111</title>\n<polygon fill=\"#399de5\" stroke=\"black\" points=\"2131.5,-1250.5 2036.5,-1250.5 2036.5,-1182.5 2131.5,-1182.5 2131.5,-1250.5\"/>\n<text text-anchor=\"middle\" x=\"2084\" y=\"-1235.3\" font-family=\"Helvetica,sans-Serif\" font-size=\"14.00\">gini = 0.0</text>\n<text text-anchor=\"middle\" x=\"2084\" y=\"-1220.3\" font-family=\"Helvetica,sans-Serif\" font-size=\"14.00\">samples = 7</text>\n<text text-anchor=\"middle\" x=\"2084\" y=\"-1205.3\" font-family=\"Helvetica,sans-Serif\" font-size=\"14.00\">value = [0, 7]</text>\n<text text-anchor=\"middle\" x=\"2084\" y=\"-1190.3\" font-family=\"Helvetica,sans-Serif\" font-size=\"14.00\">class = 이탈</text>\n</g>\n<!-- 110&#45;&gt;111 -->\n<g id=\"edge111\" class=\"edge\">\n<title>110&#45;&gt;111</title>\n<path fill=\"none\" stroke=\"black\" d=\"M2084,-1293.91C2084,-1283.2 2084,-1271.62 2084,-1260.78\"/>\n<polygon fill=\"black\" stroke=\"black\" points=\"2087.5,-1260.67 2084,-1250.67 2080.5,-1260.67 2087.5,-1260.67\"/>\n</g>\n<!-- 112 -->\n<g id=\"node113\" class=\"node\">\n<title>112</title>\n<polygon fill=\"#f1b991\" stroke=\"black\" points=\"2340.5,-1258 2209.5,-1258 2209.5,-1175 2340.5,-1175 2340.5,-1258\"/>\n<text text-anchor=\"middle\" x=\"2275\" y=\"-1242.8\" font-family=\"Helvetica,sans-Serif\" font-size=\"14.00\">방문빈도 &lt;= 0.091</text>\n<text text-anchor=\"middle\" x=\"2275\" y=\"-1227.8\" font-family=\"Helvetica,sans-Serif\" font-size=\"14.00\">gini = 0.426</text>\n<text text-anchor=\"middle\" x=\"2275\" y=\"-1212.8\" font-family=\"Helvetica,sans-Serif\" font-size=\"14.00\">samples = 13</text>\n<text text-anchor=\"middle\" x=\"2275\" y=\"-1197.8\" font-family=\"Helvetica,sans-Serif\" font-size=\"14.00\">value = [9, 4]</text>\n<text text-anchor=\"middle\" x=\"2275\" y=\"-1182.8\" font-family=\"Helvetica,sans-Serif\" font-size=\"14.00\">class = 비이탈</text>\n</g>\n<!-- 110&#45;&gt;112 -->\n<g id=\"edge112\" class=\"edge\">\n<title>110&#45;&gt;112</title>\n<path fill=\"none\" stroke=\"black\" d=\"M2150.27,-1293.91C2166.6,-1283.9 2184.19,-1273.13 2200.87,-1262.91\"/>\n<polygon fill=\"black\" stroke=\"black\" points=\"2202.8,-1265.83 2209.5,-1257.63 2199.14,-1259.86 2202.8,-1265.83\"/>\n</g>\n<!-- 113 -->\n<g id=\"node114\" class=\"node\">\n<title>113</title>\n<polygon fill=\"#cee6f8\" stroke=\"black\" points=\"2343,-1139 2207,-1139 2207,-1056 2343,-1056 2343,-1139\"/>\n<text text-anchor=\"middle\" x=\"2275\" y=\"-1123.8\" font-family=\"Helvetica,sans-Serif\" font-size=\"14.00\">거래기간 &lt;= &#45;0.132</text>\n<text text-anchor=\"middle\" x=\"2275\" y=\"-1108.8\" font-family=\"Helvetica,sans-Serif\" font-size=\"14.00\">gini = 0.49</text>\n<text text-anchor=\"middle\" x=\"2275\" y=\"-1093.8\" font-family=\"Helvetica,sans-Serif\" font-size=\"14.00\">samples = 7</text>\n<text text-anchor=\"middle\" x=\"2275\" y=\"-1078.8\" font-family=\"Helvetica,sans-Serif\" font-size=\"14.00\">value = [3, 4]</text>\n<text text-anchor=\"middle\" x=\"2275\" y=\"-1063.8\" font-family=\"Helvetica,sans-Serif\" font-size=\"14.00\">class = 이탈</text>\n</g>\n<!-- 112&#45;&gt;113 -->\n<g id=\"edge113\" class=\"edge\">\n<title>112&#45;&gt;113</title>\n<path fill=\"none\" stroke=\"black\" d=\"M2275,-1174.91C2275,-1166.65 2275,-1157.86 2275,-1149.3\"/>\n<polygon fill=\"black\" stroke=\"black\" points=\"2278.5,-1149.02 2275,-1139.02 2271.5,-1149.02 2278.5,-1149.02\"/>\n</g>\n<!-- 116 -->\n<g id=\"node117\" class=\"node\">\n<title>116</title>\n<polygon fill=\"#e58139\" stroke=\"black\" points=\"2467,-1131.5 2361,-1131.5 2361,-1063.5 2467,-1063.5 2467,-1131.5\"/>\n<text text-anchor=\"middle\" x=\"2414\" y=\"-1116.3\" font-family=\"Helvetica,sans-Serif\" font-size=\"14.00\">gini = 0.0</text>\n<text text-anchor=\"middle\" x=\"2414\" y=\"-1101.3\" font-family=\"Helvetica,sans-Serif\" font-size=\"14.00\">samples = 6</text>\n<text text-anchor=\"middle\" x=\"2414\" y=\"-1086.3\" font-family=\"Helvetica,sans-Serif\" font-size=\"14.00\">value = [6, 0]</text>\n<text text-anchor=\"middle\" x=\"2414\" y=\"-1071.3\" font-family=\"Helvetica,sans-Serif\" font-size=\"14.00\">class = 비이탈</text>\n</g>\n<!-- 112&#45;&gt;116 -->\n<g id=\"edge116\" class=\"edge\">\n<title>112&#45;&gt;116</title>\n<path fill=\"none\" stroke=\"black\" d=\"M2323.23,-1174.91C2337.38,-1162.99 2352.85,-1149.98 2366.93,-1138.12\"/>\n<polygon fill=\"black\" stroke=\"black\" points=\"2369.2,-1140.78 2374.6,-1131.67 2364.69,-1135.43 2369.2,-1140.78\"/>\n</g>\n<!-- 114 -->\n<g id=\"node115\" class=\"node\">\n<title>114</title>\n<polygon fill=\"#399de5\" stroke=\"black\" points=\"2332.5,-1012.5 2237.5,-1012.5 2237.5,-944.5 2332.5,-944.5 2332.5,-1012.5\"/>\n<text text-anchor=\"middle\" x=\"2285\" y=\"-997.3\" font-family=\"Helvetica,sans-Serif\" font-size=\"14.00\">gini = 0.0</text>\n<text text-anchor=\"middle\" x=\"2285\" y=\"-982.3\" font-family=\"Helvetica,sans-Serif\" font-size=\"14.00\">samples = 4</text>\n<text text-anchor=\"middle\" x=\"2285\" y=\"-967.3\" font-family=\"Helvetica,sans-Serif\" font-size=\"14.00\">value = [0, 4]</text>\n<text text-anchor=\"middle\" x=\"2285\" y=\"-952.3\" font-family=\"Helvetica,sans-Serif\" font-size=\"14.00\">class = 이탈</text>\n</g>\n<!-- 113&#45;&gt;114 -->\n<g id=\"edge114\" class=\"edge\">\n<title>113&#45;&gt;114</title>\n<path fill=\"none\" stroke=\"black\" d=\"M2278.47,-1055.91C2279.38,-1045.2 2280.37,-1033.62 2281.3,-1022.78\"/>\n<polygon fill=\"black\" stroke=\"black\" points=\"2284.8,-1022.93 2282.17,-1012.67 2277.83,-1022.33 2284.8,-1022.93\"/>\n</g>\n<!-- 115 -->\n<g id=\"node116\" class=\"node\">\n<title>115</title>\n<polygon fill=\"#e58139\" stroke=\"black\" points=\"2457,-1012.5 2351,-1012.5 2351,-944.5 2457,-944.5 2457,-1012.5\"/>\n<text text-anchor=\"middle\" x=\"2404\" y=\"-997.3\" font-family=\"Helvetica,sans-Serif\" font-size=\"14.00\">gini = 0.0</text>\n<text text-anchor=\"middle\" x=\"2404\" y=\"-982.3\" font-family=\"Helvetica,sans-Serif\" font-size=\"14.00\">samples = 3</text>\n<text text-anchor=\"middle\" x=\"2404\" y=\"-967.3\" font-family=\"Helvetica,sans-Serif\" font-size=\"14.00\">value = [3, 0]</text>\n<text text-anchor=\"middle\" x=\"2404\" y=\"-952.3\" font-family=\"Helvetica,sans-Serif\" font-size=\"14.00\">class = 비이탈</text>\n</g>\n<!-- 113&#45;&gt;115 -->\n<g id=\"edge115\" class=\"edge\">\n<title>113&#45;&gt;115</title>\n<path fill=\"none\" stroke=\"black\" d=\"M2319.76,-1055.91C2332.77,-1044.1 2346.98,-1031.22 2359.95,-1019.45\"/>\n<polygon fill=\"black\" stroke=\"black\" points=\"2362.38,-1021.98 2367.43,-1012.67 2357.67,-1016.79 2362.38,-1021.98\"/>\n</g>\n<!-- 118 -->\n<g id=\"node119\" class=\"node\">\n<title>118</title>\n<polygon fill=\"#78bced\" stroke=\"black\" points=\"3222.5,-1615 3091.5,-1615 3091.5,-1532 3222.5,-1532 3222.5,-1615\"/>\n<text text-anchor=\"middle\" x=\"3157\" y=\"-1599.8\" font-family=\"Helvetica,sans-Serif\" font-size=\"14.00\">거래기간 &lt;= 0.123</text>\n<text text-anchor=\"middle\" x=\"3157\" y=\"-1584.8\" font-family=\"Helvetica,sans-Serif\" font-size=\"14.00\">gini = 0.365</text>\n<text text-anchor=\"middle\" x=\"3157\" y=\"-1569.8\" font-family=\"Helvetica,sans-Serif\" font-size=\"14.00\">samples = 50</text>\n<text text-anchor=\"middle\" x=\"3157\" y=\"-1554.8\" font-family=\"Helvetica,sans-Serif\" font-size=\"14.00\">value = [12, 38]</text>\n<text text-anchor=\"middle\" x=\"3157\" y=\"-1539.8\" font-family=\"Helvetica,sans-Serif\" font-size=\"14.00\">class = 이탈</text>\n</g>\n<!-- 117&#45;&gt;118 -->\n<g id=\"edge118\" class=\"edge\">\n<title>117&#45;&gt;118</title>\n<path fill=\"none\" stroke=\"black\" d=\"M3226.88,-1650.91C3218.49,-1641.74 3209.52,-1631.93 3200.89,-1622.49\"/>\n<polygon fill=\"black\" stroke=\"black\" points=\"3203.39,-1620.04 3194.06,-1615.02 3198.22,-1624.76 3203.39,-1620.04\"/>\n</g>\n<!-- 143 -->\n<g id=\"node144\" class=\"node\">\n<title>143</title>\n<polygon fill=\"#48a4e7\" stroke=\"black\" points=\"3440,-1615 3304,-1615 3304,-1532 3440,-1532 3440,-1615\"/>\n<text text-anchor=\"middle\" x=\"3372\" y=\"-1599.8\" font-family=\"Helvetica,sans-Serif\" font-size=\"14.00\">방문빈도 &lt;= &#45;0.574</text>\n<text text-anchor=\"middle\" x=\"3372\" y=\"-1584.8\" font-family=\"Helvetica,sans-Serif\" font-size=\"14.00\">gini = 0.127</text>\n<text text-anchor=\"middle\" x=\"3372\" y=\"-1569.8\" font-family=\"Helvetica,sans-Serif\" font-size=\"14.00\">samples = 293</text>\n<text text-anchor=\"middle\" x=\"3372\" y=\"-1554.8\" font-family=\"Helvetica,sans-Serif\" font-size=\"14.00\">value = [20, 273]</text>\n<text text-anchor=\"middle\" x=\"3372\" y=\"-1539.8\" font-family=\"Helvetica,sans-Serif\" font-size=\"14.00\">class = 이탈</text>\n</g>\n<!-- 117&#45;&gt;143 -->\n<g id=\"edge143\" class=\"edge\">\n<title>117&#45;&gt;143</title>\n<path fill=\"none\" stroke=\"black\" d=\"M3301.47,-1650.91C3309.93,-1641.74 3318.99,-1631.93 3327.7,-1622.49\"/>\n<polygon fill=\"black\" stroke=\"black\" points=\"3330.39,-1624.74 3334.6,-1615.02 3325.24,-1619.99 3330.39,-1624.74\"/>\n</g>\n<!-- 119 -->\n<g id=\"node120\" class=\"node\">\n<title>119</title>\n<polygon fill=\"#66b3eb\" stroke=\"black\" points=\"2923,-1496 2795,-1496 2795,-1413 2923,-1413 2923,-1496\"/>\n<text text-anchor=\"middle\" x=\"2859\" y=\"-1480.8\" font-family=\"Helvetica,sans-Serif\" font-size=\"14.00\">총매출액 &lt;= &#45;0.59</text>\n<text text-anchor=\"middle\" x=\"2859\" y=\"-1465.8\" font-family=\"Helvetica,sans-Serif\" font-size=\"14.00\">gini = 0.303</text>\n<text text-anchor=\"middle\" x=\"2859\" y=\"-1450.8\" font-family=\"Helvetica,sans-Serif\" font-size=\"14.00\">samples = 43</text>\n<text text-anchor=\"middle\" x=\"2859\" y=\"-1435.8\" font-family=\"Helvetica,sans-Serif\" font-size=\"14.00\">value = [8, 35]</text>\n<text text-anchor=\"middle\" x=\"2859\" y=\"-1420.8\" font-family=\"Helvetica,sans-Serif\" font-size=\"14.00\">class = 이탈</text>\n</g>\n<!-- 118&#45;&gt;119 -->\n<g id=\"edge119\" class=\"edge\">\n<title>118&#45;&gt;119</title>\n<path fill=\"none\" stroke=\"black\" d=\"M3091.23,-1546.68C3044.31,-1528.26 2981.18,-1503.47 2932.58,-1484.39\"/>\n<polygon fill=\"black\" stroke=\"black\" points=\"2933.65,-1481.05 2923.06,-1480.65 2931.09,-1487.56 2933.65,-1481.05\"/>\n</g>\n<!-- 134 -->\n<g id=\"node135\" class=\"node\">\n<title>134</title>\n<polygon fill=\"#f8e0ce\" stroke=\"black\" points=\"3222.5,-1496 3091.5,-1496 3091.5,-1413 3222.5,-1413 3222.5,-1496\"/>\n<text text-anchor=\"middle\" x=\"3157\" y=\"-1480.8\" font-family=\"Helvetica,sans-Serif\" font-size=\"14.00\">거래기간 &lt;= 0.125</text>\n<text text-anchor=\"middle\" x=\"3157\" y=\"-1465.8\" font-family=\"Helvetica,sans-Serif\" font-size=\"14.00\">gini = 0.49</text>\n<text text-anchor=\"middle\" x=\"3157\" y=\"-1450.8\" font-family=\"Helvetica,sans-Serif\" font-size=\"14.00\">samples = 7</text>\n<text text-anchor=\"middle\" x=\"3157\" y=\"-1435.8\" font-family=\"Helvetica,sans-Serif\" font-size=\"14.00\">value = [4, 3]</text>\n<text text-anchor=\"middle\" x=\"3157\" y=\"-1420.8\" font-family=\"Helvetica,sans-Serif\" font-size=\"14.00\">class = 비이탈</text>\n</g>\n<!-- 118&#45;&gt;134 -->\n<g id=\"edge134\" class=\"edge\">\n<title>118&#45;&gt;134</title>\n<path fill=\"none\" stroke=\"black\" d=\"M3157,-1531.91C3157,-1523.65 3157,-1514.86 3157,-1506.3\"/>\n<polygon fill=\"black\" stroke=\"black\" points=\"3160.5,-1506.02 3157,-1496.02 3153.5,-1506.02 3160.5,-1506.02\"/>\n</g>\n<!-- 120 -->\n<g id=\"node121\" class=\"node\">\n<title>120</title>\n<polygon fill=\"#399de5\" stroke=\"black\" points=\"2773,-1369.5 2671,-1369.5 2671,-1301.5 2773,-1301.5 2773,-1369.5\"/>\n<text text-anchor=\"middle\" x=\"2722\" y=\"-1354.3\" font-family=\"Helvetica,sans-Serif\" font-size=\"14.00\">gini = 0.0</text>\n<text text-anchor=\"middle\" x=\"2722\" y=\"-1339.3\" font-family=\"Helvetica,sans-Serif\" font-size=\"14.00\">samples = 11</text>\n<text text-anchor=\"middle\" x=\"2722\" y=\"-1324.3\" font-family=\"Helvetica,sans-Serif\" font-size=\"14.00\">value = [0, 11]</text>\n<text text-anchor=\"middle\" x=\"2722\" y=\"-1309.3\" font-family=\"Helvetica,sans-Serif\" font-size=\"14.00\">class = 이탈</text>\n</g>\n<!-- 119&#45;&gt;120 -->\n<g id=\"edge120\" class=\"edge\">\n<title>119&#45;&gt;120</title>\n<path fill=\"none\" stroke=\"black\" d=\"M2811.47,-1412.91C2797.64,-1401.1 2782.56,-1388.22 2768.78,-1376.45\"/>\n<polygon fill=\"black\" stroke=\"black\" points=\"2770.71,-1373.5 2760.84,-1369.67 2766.17,-1378.82 2770.71,-1373.5\"/>\n</g>\n<!-- 121 -->\n<g id=\"node122\" class=\"node\">\n<title>121</title>\n<polygon fill=\"#7bbeee\" stroke=\"black\" points=\"2927,-1377 2791,-1377 2791,-1294 2927,-1294 2927,-1377\"/>\n<text text-anchor=\"middle\" x=\"2859\" y=\"-1361.8\" font-family=\"Helvetica,sans-Serif\" font-size=\"14.00\">총매출액 &lt;= &#45;0.297</text>\n<text text-anchor=\"middle\" x=\"2859\" y=\"-1346.8\" font-family=\"Helvetica,sans-Serif\" font-size=\"14.00\">gini = 0.375</text>\n<text text-anchor=\"middle\" x=\"2859\" y=\"-1331.8\" font-family=\"Helvetica,sans-Serif\" font-size=\"14.00\">samples = 32</text>\n<text text-anchor=\"middle\" x=\"2859\" y=\"-1316.8\" font-family=\"Helvetica,sans-Serif\" font-size=\"14.00\">value = [8, 24]</text>\n<text text-anchor=\"middle\" x=\"2859\" y=\"-1301.8\" font-family=\"Helvetica,sans-Serif\" font-size=\"14.00\">class = 이탈</text>\n</g>\n<!-- 119&#45;&gt;121 -->\n<g id=\"edge121\" class=\"edge\">\n<title>119&#45;&gt;121</title>\n<path fill=\"none\" stroke=\"black\" d=\"M2859,-1412.91C2859,-1404.65 2859,-1395.86 2859,-1387.3\"/>\n<polygon fill=\"black\" stroke=\"black\" points=\"2862.5,-1387.02 2859,-1377.02 2855.5,-1387.02 2862.5,-1387.02\"/>\n</g>\n<!-- 122 -->\n<g id=\"node123\" class=\"node\">\n<title>122</title>\n<polygon fill=\"#f6d5bd\" stroke=\"black\" points=\"2760,-1258 2624,-1258 2624,-1175 2760,-1175 2760,-1258\"/>\n<text text-anchor=\"middle\" x=\"2692\" y=\"-1242.8\" font-family=\"Helvetica,sans-Serif\" font-size=\"14.00\">방문빈도 &lt;= &#45;0.074</text>\n<text text-anchor=\"middle\" x=\"2692\" y=\"-1227.8\" font-family=\"Helvetica,sans-Serif\" font-size=\"14.00\">gini = 0.48</text>\n<text text-anchor=\"middle\" x=\"2692\" y=\"-1212.8\" font-family=\"Helvetica,sans-Serif\" font-size=\"14.00\">samples = 10</text>\n<text text-anchor=\"middle\" x=\"2692\" y=\"-1197.8\" font-family=\"Helvetica,sans-Serif\" font-size=\"14.00\">value = [6, 4]</text>\n<text text-anchor=\"middle\" x=\"2692\" y=\"-1182.8\" font-family=\"Helvetica,sans-Serif\" font-size=\"14.00\">class = 비이탈</text>\n</g>\n<!-- 121&#45;&gt;122 -->\n<g id=\"edge122\" class=\"edge\">\n<title>121&#45;&gt;122</title>\n<path fill=\"none\" stroke=\"black\" d=\"M2801.06,-1293.91C2787.2,-1284.2 2772.3,-1273.76 2758.1,-1263.81\"/>\n<polygon fill=\"black\" stroke=\"black\" points=\"2760.04,-1260.89 2749.84,-1258.02 2756.02,-1266.63 2760.04,-1260.89\"/>\n</g>\n<!-- 129 -->\n<g id=\"node130\" class=\"node\">\n<title>129</title>\n<polygon fill=\"#4da7e8\" stroke=\"black\" points=\"2924.5,-1258 2793.5,-1258 2793.5,-1175 2924.5,-1175 2924.5,-1258\"/>\n<text text-anchor=\"middle\" x=\"2859\" y=\"-1242.8\" font-family=\"Helvetica,sans-Serif\" font-size=\"14.00\">총매출액 &lt;= 0.515</text>\n<text text-anchor=\"middle\" x=\"2859\" y=\"-1227.8\" font-family=\"Helvetica,sans-Serif\" font-size=\"14.00\">gini = 0.165</text>\n<text text-anchor=\"middle\" x=\"2859\" y=\"-1212.8\" font-family=\"Helvetica,sans-Serif\" font-size=\"14.00\">samples = 22</text>\n<text text-anchor=\"middle\" x=\"2859\" y=\"-1197.8\" font-family=\"Helvetica,sans-Serif\" font-size=\"14.00\">value = [2, 20]</text>\n<text text-anchor=\"middle\" x=\"2859\" y=\"-1182.8\" font-family=\"Helvetica,sans-Serif\" font-size=\"14.00\">class = 이탈</text>\n</g>\n<!-- 121&#45;&gt;129 -->\n<g id=\"edge129\" class=\"edge\">\n<title>121&#45;&gt;129</title>\n<path fill=\"none\" stroke=\"black\" d=\"M2859,-1293.91C2859,-1285.65 2859,-1276.86 2859,-1268.3\"/>\n<polygon fill=\"black\" stroke=\"black\" points=\"2862.5,-1268.02 2859,-1258.02 2855.5,-1268.02 2862.5,-1268.02\"/>\n</g>\n<!-- 123 -->\n<g id=\"node124\" class=\"node\">\n<title>123</title>\n<polygon fill=\"#cee6f8\" stroke=\"black\" points=\"2621,-1139 2485,-1139 2485,-1056 2621,-1056 2621,-1139\"/>\n<text text-anchor=\"middle\" x=\"2553\" y=\"-1123.8\" font-family=\"Helvetica,sans-Serif\" font-size=\"14.00\">총매출액 &lt;= &#45;0.494</text>\n<text text-anchor=\"middle\" x=\"2553\" y=\"-1108.8\" font-family=\"Helvetica,sans-Serif\" font-size=\"14.00\">gini = 0.49</text>\n<text text-anchor=\"middle\" x=\"2553\" y=\"-1093.8\" font-family=\"Helvetica,sans-Serif\" font-size=\"14.00\">samples = 7</text>\n<text text-anchor=\"middle\" x=\"2553\" y=\"-1078.8\" font-family=\"Helvetica,sans-Serif\" font-size=\"14.00\">value = [3, 4]</text>\n<text text-anchor=\"middle\" x=\"2553\" y=\"-1063.8\" font-family=\"Helvetica,sans-Serif\" font-size=\"14.00\">class = 이탈</text>\n</g>\n<!-- 122&#45;&gt;123 -->\n<g id=\"edge123\" class=\"edge\">\n<title>122&#45;&gt;123</title>\n<path fill=\"none\" stroke=\"black\" d=\"M2643.77,-1174.91C2632.56,-1165.47 2620.53,-1155.34 2609.01,-1145.65\"/>\n<polygon fill=\"black\" stroke=\"black\" points=\"2611.04,-1142.78 2601.14,-1139.02 2606.54,-1148.14 2611.04,-1142.78\"/>\n</g>\n<!-- 128 -->\n<g id=\"node129\" class=\"node\">\n<title>128</title>\n<polygon fill=\"#e58139\" stroke=\"black\" points=\"2745,-1131.5 2639,-1131.5 2639,-1063.5 2745,-1063.5 2745,-1131.5\"/>\n<text text-anchor=\"middle\" x=\"2692\" y=\"-1116.3\" font-family=\"Helvetica,sans-Serif\" font-size=\"14.00\">gini = 0.0</text>\n<text text-anchor=\"middle\" x=\"2692\" y=\"-1101.3\" font-family=\"Helvetica,sans-Serif\" font-size=\"14.00\">samples = 3</text>\n<text text-anchor=\"middle\" x=\"2692\" y=\"-1086.3\" font-family=\"Helvetica,sans-Serif\" font-size=\"14.00\">value = [3, 0]</text>\n<text text-anchor=\"middle\" x=\"2692\" y=\"-1071.3\" font-family=\"Helvetica,sans-Serif\" font-size=\"14.00\">class = 비이탈</text>\n</g>\n<!-- 122&#45;&gt;128 -->\n<g id=\"edge128\" class=\"edge\">\n<title>122&#45;&gt;128</title>\n<path fill=\"none\" stroke=\"black\" d=\"M2692,-1174.91C2692,-1164.2 2692,-1152.62 2692,-1141.78\"/>\n<polygon fill=\"black\" stroke=\"black\" points=\"2695.5,-1141.67 2692,-1131.67 2688.5,-1141.67 2695.5,-1141.67\"/>\n</g>\n<!-- 124 -->\n<g id=\"node125\" class=\"node\">\n<title>124</title>\n<polygon fill=\"#399de5\" stroke=\"black\" points=\"2590.5,-1012.5 2495.5,-1012.5 2495.5,-944.5 2590.5,-944.5 2590.5,-1012.5\"/>\n<text text-anchor=\"middle\" x=\"2543\" y=\"-997.3\" font-family=\"Helvetica,sans-Serif\" font-size=\"14.00\">gini = 0.0</text>\n<text text-anchor=\"middle\" x=\"2543\" y=\"-982.3\" font-family=\"Helvetica,sans-Serif\" font-size=\"14.00\">samples = 3</text>\n<text text-anchor=\"middle\" x=\"2543\" y=\"-967.3\" font-family=\"Helvetica,sans-Serif\" font-size=\"14.00\">value = [0, 3]</text>\n<text text-anchor=\"middle\" x=\"2543\" y=\"-952.3\" font-family=\"Helvetica,sans-Serif\" font-size=\"14.00\">class = 이탈</text>\n</g>\n<!-- 123&#45;&gt;124 -->\n<g id=\"edge124\" class=\"edge\">\n<title>123&#45;&gt;124</title>\n<path fill=\"none\" stroke=\"black\" d=\"M2549.53,-1055.91C2548.62,-1045.2 2547.63,-1033.62 2546.7,-1022.78\"/>\n<polygon fill=\"black\" stroke=\"black\" points=\"2550.17,-1022.33 2545.83,-1012.67 2543.2,-1022.93 2550.17,-1022.33\"/>\n</g>\n<!-- 125 -->\n<g id=\"node126\" class=\"node\">\n<title>125</title>\n<polygon fill=\"#eeab7b\" stroke=\"black\" points=\"2745,-1020 2609,-1020 2609,-937 2745,-937 2745,-1020\"/>\n<text text-anchor=\"middle\" x=\"2677\" y=\"-1004.8\" font-family=\"Helvetica,sans-Serif\" font-size=\"14.00\">방문빈도 &lt;= &#45;0.153</text>\n<text text-anchor=\"middle\" x=\"2677\" y=\"-989.8\" font-family=\"Helvetica,sans-Serif\" font-size=\"14.00\">gini = 0.375</text>\n<text text-anchor=\"middle\" x=\"2677\" y=\"-974.8\" font-family=\"Helvetica,sans-Serif\" font-size=\"14.00\">samples = 4</text>\n<text text-anchor=\"middle\" x=\"2677\" y=\"-959.8\" font-family=\"Helvetica,sans-Serif\" font-size=\"14.00\">value = [3, 1]</text>\n<text text-anchor=\"middle\" x=\"2677\" y=\"-944.8\" font-family=\"Helvetica,sans-Serif\" font-size=\"14.00\">class = 비이탈</text>\n</g>\n<!-- 123&#45;&gt;125 -->\n<g id=\"edge125\" class=\"edge\">\n<title>123&#45;&gt;125</title>\n<path fill=\"none\" stroke=\"black\" d=\"M2596.02,-1055.91C2605.93,-1046.56 2616.55,-1036.54 2626.73,-1026.93\"/>\n<polygon fill=\"black\" stroke=\"black\" points=\"2629.18,-1029.43 2634.05,-1020.02 2624.38,-1024.34 2629.18,-1029.43\"/>\n</g>\n<!-- 126 -->\n<g id=\"node127\" class=\"node\">\n<title>126</title>\n<polygon fill=\"#e58139\" stroke=\"black\" points=\"2671,-893.5 2565,-893.5 2565,-825.5 2671,-825.5 2671,-893.5\"/>\n<text text-anchor=\"middle\" x=\"2618\" y=\"-878.3\" font-family=\"Helvetica,sans-Serif\" font-size=\"14.00\">gini = 0.0</text>\n<text text-anchor=\"middle\" x=\"2618\" y=\"-863.3\" font-family=\"Helvetica,sans-Serif\" font-size=\"14.00\">samples = 3</text>\n<text text-anchor=\"middle\" x=\"2618\" y=\"-848.3\" font-family=\"Helvetica,sans-Serif\" font-size=\"14.00\">value = [3, 0]</text>\n<text text-anchor=\"middle\" x=\"2618\" y=\"-833.3\" font-family=\"Helvetica,sans-Serif\" font-size=\"14.00\">class = 비이탈</text>\n</g>\n<!-- 125&#45;&gt;126 -->\n<g id=\"edge126\" class=\"edge\">\n<title>125&#45;&gt;126</title>\n<path fill=\"none\" stroke=\"black\" d=\"M2656.53,-936.91C2650.97,-925.87 2644.93,-913.9 2639.32,-902.77\"/>\n<polygon fill=\"black\" stroke=\"black\" points=\"2642.35,-901.02 2634.73,-893.67 2636.1,-904.17 2642.35,-901.02\"/>\n</g>\n<!-- 127 -->\n<g id=\"node128\" class=\"node\">\n<title>127</title>\n<polygon fill=\"#399de5\" stroke=\"black\" points=\"2784.5,-893.5 2689.5,-893.5 2689.5,-825.5 2784.5,-825.5 2784.5,-893.5\"/>\n<text text-anchor=\"middle\" x=\"2737\" y=\"-878.3\" font-family=\"Helvetica,sans-Serif\" font-size=\"14.00\">gini = 0.0</text>\n<text text-anchor=\"middle\" x=\"2737\" y=\"-863.3\" font-family=\"Helvetica,sans-Serif\" font-size=\"14.00\">samples = 1</text>\n<text text-anchor=\"middle\" x=\"2737\" y=\"-848.3\" font-family=\"Helvetica,sans-Serif\" font-size=\"14.00\">value = [0, 1]</text>\n<text text-anchor=\"middle\" x=\"2737\" y=\"-833.3\" font-family=\"Helvetica,sans-Serif\" font-size=\"14.00\">class = 이탈</text>\n</g>\n<!-- 125&#45;&gt;127 -->\n<g id=\"edge127\" class=\"edge\">\n<title>125&#45;&gt;127</title>\n<path fill=\"none\" stroke=\"black\" d=\"M2697.82,-936.91C2703.48,-925.87 2709.62,-913.9 2715.32,-902.77\"/>\n<polygon fill=\"black\" stroke=\"black\" points=\"2718.54,-904.16 2719.99,-893.67 2712.31,-900.97 2718.54,-904.16\"/>\n</g>\n<!-- 130 -->\n<g id=\"node131\" class=\"node\">\n<title>130</title>\n<polygon fill=\"#399de5\" stroke=\"black\" points=\"2865,-1131.5 2763,-1131.5 2763,-1063.5 2865,-1063.5 2865,-1131.5\"/>\n<text text-anchor=\"middle\" x=\"2814\" y=\"-1116.3\" font-family=\"Helvetica,sans-Serif\" font-size=\"14.00\">gini = 0.0</text>\n<text text-anchor=\"middle\" x=\"2814\" y=\"-1101.3\" font-family=\"Helvetica,sans-Serif\" font-size=\"14.00\">samples = 15</text>\n<text text-anchor=\"middle\" x=\"2814\" y=\"-1086.3\" font-family=\"Helvetica,sans-Serif\" font-size=\"14.00\">value = [0, 15]</text>\n<text text-anchor=\"middle\" x=\"2814\" y=\"-1071.3\" font-family=\"Helvetica,sans-Serif\" font-size=\"14.00\">class = 이탈</text>\n</g>\n<!-- 129&#45;&gt;130 -->\n<g id=\"edge130\" class=\"edge\">\n<title>129&#45;&gt;130</title>\n<path fill=\"none\" stroke=\"black\" d=\"M2843.39,-1174.91C2839.19,-1163.98 2834.63,-1152.14 2830.39,-1141.11\"/>\n<polygon fill=\"black\" stroke=\"black\" points=\"2833.61,-1139.74 2826.76,-1131.67 2827.08,-1142.26 2833.61,-1139.74\"/>\n</g>\n<!-- 131 -->\n<g id=\"node132\" class=\"node\">\n<title>131</title>\n<polygon fill=\"#88c4ef\" stroke=\"black\" points=\"3014.5,-1139 2883.5,-1139 2883.5,-1056 3014.5,-1056 3014.5,-1139\"/>\n<text text-anchor=\"middle\" x=\"2949\" y=\"-1123.8\" font-family=\"Helvetica,sans-Serif\" font-size=\"14.00\">총매출액 &lt;= 2.154</text>\n<text text-anchor=\"middle\" x=\"2949\" y=\"-1108.8\" font-family=\"Helvetica,sans-Serif\" font-size=\"14.00\">gini = 0.408</text>\n<text text-anchor=\"middle\" x=\"2949\" y=\"-1093.8\" font-family=\"Helvetica,sans-Serif\" font-size=\"14.00\">samples = 7</text>\n<text text-anchor=\"middle\" x=\"2949\" y=\"-1078.8\" font-family=\"Helvetica,sans-Serif\" font-size=\"14.00\">value = [2, 5]</text>\n<text text-anchor=\"middle\" x=\"2949\" y=\"-1063.8\" font-family=\"Helvetica,sans-Serif\" font-size=\"14.00\">class = 이탈</text>\n</g>\n<!-- 129&#45;&gt;131 -->\n<g id=\"edge131\" class=\"edge\">\n<title>129&#45;&gt;131</title>\n<path fill=\"none\" stroke=\"black\" d=\"M2890.23,-1174.91C2897.14,-1165.92 2904.53,-1156.32 2911.65,-1147.05\"/>\n<polygon fill=\"black\" stroke=\"black\" points=\"2914.51,-1149.08 2917.83,-1139.02 2908.96,-1144.81 2914.51,-1149.08\"/>\n</g>\n<!-- 132 -->\n<g id=\"node133\" class=\"node\">\n<title>132</title>\n<polygon fill=\"#e58139\" stroke=\"black\" points=\"2935,-1012.5 2829,-1012.5 2829,-944.5 2935,-944.5 2935,-1012.5\"/>\n<text text-anchor=\"middle\" x=\"2882\" y=\"-997.3\" font-family=\"Helvetica,sans-Serif\" font-size=\"14.00\">gini = 0.0</text>\n<text text-anchor=\"middle\" x=\"2882\" y=\"-982.3\" font-family=\"Helvetica,sans-Serif\" font-size=\"14.00\">samples = 2</text>\n<text text-anchor=\"middle\" x=\"2882\" y=\"-967.3\" font-family=\"Helvetica,sans-Serif\" font-size=\"14.00\">value = [2, 0]</text>\n<text text-anchor=\"middle\" x=\"2882\" y=\"-952.3\" font-family=\"Helvetica,sans-Serif\" font-size=\"14.00\">class = 비이탈</text>\n</g>\n<!-- 131&#45;&gt;132 -->\n<g id=\"edge132\" class=\"edge\">\n<title>131&#45;&gt;132</title>\n<path fill=\"none\" stroke=\"black\" d=\"M2925.75,-1055.91C2919.37,-1044.76 2912.44,-1032.66 2906.02,-1021.44\"/>\n<polygon fill=\"black\" stroke=\"black\" points=\"2909,-1019.61 2900.99,-1012.67 2902.93,-1023.08 2909,-1019.61\"/>\n</g>\n<!-- 133 -->\n<g id=\"node134\" class=\"node\">\n<title>133</title>\n<polygon fill=\"#399de5\" stroke=\"black\" points=\"3048.5,-1012.5 2953.5,-1012.5 2953.5,-944.5 3048.5,-944.5 3048.5,-1012.5\"/>\n<text text-anchor=\"middle\" x=\"3001\" y=\"-997.3\" font-family=\"Helvetica,sans-Serif\" font-size=\"14.00\">gini = 0.0</text>\n<text text-anchor=\"middle\" x=\"3001\" y=\"-982.3\" font-family=\"Helvetica,sans-Serif\" font-size=\"14.00\">samples = 5</text>\n<text text-anchor=\"middle\" x=\"3001\" y=\"-967.3\" font-family=\"Helvetica,sans-Serif\" font-size=\"14.00\">value = [0, 5]</text>\n<text text-anchor=\"middle\" x=\"3001\" y=\"-952.3\" font-family=\"Helvetica,sans-Serif\" font-size=\"14.00\">class = 이탈</text>\n</g>\n<!-- 131&#45;&gt;133 -->\n<g id=\"edge133\" class=\"edge\">\n<title>131&#45;&gt;133</title>\n<path fill=\"none\" stroke=\"black\" d=\"M2967.04,-1055.91C2971.9,-1044.98 2977.16,-1033.14 2982.06,-1022.11\"/>\n<polygon fill=\"black\" stroke=\"black\" points=\"2985.4,-1023.23 2986.26,-1012.67 2979,-1020.38 2985.4,-1023.23\"/>\n</g>\n<!-- 135 -->\n<g id=\"node136\" class=\"node\">\n<title>135</title>\n<polygon fill=\"#e58139\" stroke=\"black\" points=\"3082,-1369.5 2976,-1369.5 2976,-1301.5 3082,-1301.5 3082,-1369.5\"/>\n<text text-anchor=\"middle\" x=\"3029\" y=\"-1354.3\" font-family=\"Helvetica,sans-Serif\" font-size=\"14.00\">gini = 0.0</text>\n<text text-anchor=\"middle\" x=\"3029\" y=\"-1339.3\" font-family=\"Helvetica,sans-Serif\" font-size=\"14.00\">samples = 2</text>\n<text text-anchor=\"middle\" x=\"3029\" y=\"-1324.3\" font-family=\"Helvetica,sans-Serif\" font-size=\"14.00\">value = [2, 0]</text>\n<text text-anchor=\"middle\" x=\"3029\" y=\"-1309.3\" font-family=\"Helvetica,sans-Serif\" font-size=\"14.00\">class = 비이탈</text>\n</g>\n<!-- 134&#45;&gt;135 -->\n<g id=\"edge135\" class=\"edge\">\n<title>134&#45;&gt;135</title>\n<path fill=\"none\" stroke=\"black\" d=\"M3112.59,-1412.91C3099.67,-1401.1 3085.58,-1388.22 3072.71,-1376.45\"/>\n<polygon fill=\"black\" stroke=\"black\" points=\"3075.03,-1373.83 3065.29,-1369.67 3070.3,-1379 3075.03,-1373.83\"/>\n</g>\n<!-- 136 -->\n<g id=\"node137\" class=\"node\">\n<title>136</title>\n<polygon fill=\"#bddef6\" stroke=\"black\" points=\"3231.5,-1377 3100.5,-1377 3100.5,-1294 3231.5,-1294 3231.5,-1377\"/>\n<text text-anchor=\"middle\" x=\"3166\" y=\"-1361.8\" font-family=\"Helvetica,sans-Serif\" font-size=\"14.00\">거래기간 &lt;= 0.127</text>\n<text text-anchor=\"middle\" x=\"3166\" y=\"-1346.8\" font-family=\"Helvetica,sans-Serif\" font-size=\"14.00\">gini = 0.48</text>\n<text text-anchor=\"middle\" x=\"3166\" y=\"-1331.8\" font-family=\"Helvetica,sans-Serif\" font-size=\"14.00\">samples = 5</text>\n<text text-anchor=\"middle\" x=\"3166\" y=\"-1316.8\" font-family=\"Helvetica,sans-Serif\" font-size=\"14.00\">value = [2, 3]</text>\n<text text-anchor=\"middle\" x=\"3166\" y=\"-1301.8\" font-family=\"Helvetica,sans-Serif\" font-size=\"14.00\">class = 이탈</text>\n</g>\n<!-- 134&#45;&gt;136 -->\n<g id=\"edge136\" class=\"edge\">\n<title>134&#45;&gt;136</title>\n<path fill=\"none\" stroke=\"black\" d=\"M3160.12,-1412.91C3160.76,-1404.56 3161.45,-1395.67 3162.11,-1387.02\"/>\n<polygon fill=\"black\" stroke=\"black\" points=\"3165.61,-1387.26 3162.88,-1377.02 3158.63,-1386.72 3165.61,-1387.26\"/>\n</g>\n<!-- 137 -->\n<g id=\"node138\" class=\"node\">\n<title>137</title>\n<polygon fill=\"#399de5\" stroke=\"black\" points=\"3087.5,-1250.5 2992.5,-1250.5 2992.5,-1182.5 3087.5,-1182.5 3087.5,-1250.5\"/>\n<text text-anchor=\"middle\" x=\"3040\" y=\"-1235.3\" font-family=\"Helvetica,sans-Serif\" font-size=\"14.00\">gini = 0.0</text>\n<text text-anchor=\"middle\" x=\"3040\" y=\"-1220.3\" font-family=\"Helvetica,sans-Serif\" font-size=\"14.00\">samples = 2</text>\n<text text-anchor=\"middle\" x=\"3040\" y=\"-1205.3\" font-family=\"Helvetica,sans-Serif\" font-size=\"14.00\">value = [0, 2]</text>\n<text text-anchor=\"middle\" x=\"3040\" y=\"-1190.3\" font-family=\"Helvetica,sans-Serif\" font-size=\"14.00\">class = 이탈</text>\n</g>\n<!-- 136&#45;&gt;137 -->\n<g id=\"edge137\" class=\"edge\">\n<title>136&#45;&gt;137</title>\n<path fill=\"none\" stroke=\"black\" d=\"M3122.28,-1293.91C3109.69,-1282.21 3095.95,-1269.46 3083.38,-1257.78\"/>\n<polygon fill=\"black\" stroke=\"black\" points=\"3085.43,-1254.91 3075.72,-1250.67 3080.66,-1260.04 3085.43,-1254.91\"/>\n</g>\n<!-- 138 -->\n<g id=\"node139\" class=\"node\">\n<title>138</title>\n<polygon fill=\"#f2c09c\" stroke=\"black\" points=\"3242,-1258 3106,-1258 3106,-1175 3242,-1175 3242,-1258\"/>\n<text text-anchor=\"middle\" x=\"3174\" y=\"-1242.8\" font-family=\"Helvetica,sans-Serif\" font-size=\"14.00\">총매출액 &lt;= &#45;0.432</text>\n<text text-anchor=\"middle\" x=\"3174\" y=\"-1227.8\" font-family=\"Helvetica,sans-Serif\" font-size=\"14.00\">gini = 0.444</text>\n<text text-anchor=\"middle\" x=\"3174\" y=\"-1212.8\" font-family=\"Helvetica,sans-Serif\" font-size=\"14.00\">samples = 3</text>\n<text text-anchor=\"middle\" x=\"3174\" y=\"-1197.8\" font-family=\"Helvetica,sans-Serif\" font-size=\"14.00\">value = [2, 1]</text>\n<text text-anchor=\"middle\" x=\"3174\" y=\"-1182.8\" font-family=\"Helvetica,sans-Serif\" font-size=\"14.00\">class = 비이탈</text>\n</g>\n<!-- 136&#45;&gt;138 -->\n<g id=\"edge138\" class=\"edge\">\n<title>136&#45;&gt;138</title>\n<path fill=\"none\" stroke=\"black\" d=\"M3168.78,-1293.91C3169.35,-1285.56 3169.95,-1276.67 3170.55,-1268.02\"/>\n<polygon fill=\"black\" stroke=\"black\" points=\"3174.04,-1268.24 3171.23,-1258.02 3167.06,-1267.76 3174.04,-1268.24\"/>\n</g>\n<!-- 139 -->\n<g id=\"node140\" class=\"node\">\n<title>139</title>\n<polygon fill=\"#e58139\" stroke=\"black\" points=\"3139,-1131.5 3033,-1131.5 3033,-1063.5 3139,-1063.5 3139,-1131.5\"/>\n<text text-anchor=\"middle\" x=\"3086\" y=\"-1116.3\" font-family=\"Helvetica,sans-Serif\" font-size=\"14.00\">gini = 0.0</text>\n<text text-anchor=\"middle\" x=\"3086\" y=\"-1101.3\" font-family=\"Helvetica,sans-Serif\" font-size=\"14.00\">samples = 1</text>\n<text text-anchor=\"middle\" x=\"3086\" y=\"-1086.3\" font-family=\"Helvetica,sans-Serif\" font-size=\"14.00\">value = [1, 0]</text>\n<text text-anchor=\"middle\" x=\"3086\" y=\"-1071.3\" font-family=\"Helvetica,sans-Serif\" font-size=\"14.00\">class = 비이탈</text>\n</g>\n<!-- 138&#45;&gt;139 -->\n<g id=\"edge139\" class=\"edge\">\n<title>138&#45;&gt;139</title>\n<path fill=\"none\" stroke=\"black\" d=\"M3143.47,-1174.91C3134.92,-1163.54 3125.62,-1151.18 3117.04,-1139.77\"/>\n<polygon fill=\"black\" stroke=\"black\" points=\"3119.75,-1137.55 3110.95,-1131.67 3114.16,-1141.76 3119.75,-1137.55\"/>\n</g>\n<!-- 140 -->\n<g id=\"node141\" class=\"node\">\n<title>140</title>\n<polygon fill=\"#ffffff\" stroke=\"black\" points=\"3293,-1139 3157,-1139 3157,-1056 3293,-1056 3293,-1139\"/>\n<text text-anchor=\"middle\" x=\"3225\" y=\"-1123.8\" font-family=\"Helvetica,sans-Serif\" font-size=\"14.00\">총매출액 &lt;= &#45;0.071</text>\n<text text-anchor=\"middle\" x=\"3225\" y=\"-1108.8\" font-family=\"Helvetica,sans-Serif\" font-size=\"14.00\">gini = 0.5</text>\n<text text-anchor=\"middle\" x=\"3225\" y=\"-1093.8\" font-family=\"Helvetica,sans-Serif\" font-size=\"14.00\">samples = 2</text>\n<text text-anchor=\"middle\" x=\"3225\" y=\"-1078.8\" font-family=\"Helvetica,sans-Serif\" font-size=\"14.00\">value = [1, 1]</text>\n<text text-anchor=\"middle\" x=\"3225\" y=\"-1063.8\" font-family=\"Helvetica,sans-Serif\" font-size=\"14.00\">class = 비이탈</text>\n</g>\n<!-- 138&#45;&gt;140 -->\n<g id=\"edge140\" class=\"edge\">\n<title>138&#45;&gt;140</title>\n<path fill=\"none\" stroke=\"black\" d=\"M3191.69,-1174.91C3195.41,-1166.38 3199.38,-1157.28 3203.22,-1148.46\"/>\n<polygon fill=\"black\" stroke=\"black\" points=\"3206.55,-1149.59 3207.34,-1139.02 3200.13,-1146.79 3206.55,-1149.59\"/>\n</g>\n<!-- 141 -->\n<g id=\"node142\" class=\"node\">\n<title>141</title>\n<polygon fill=\"#399de5\" stroke=\"black\" points=\"3213.5,-1012.5 3118.5,-1012.5 3118.5,-944.5 3213.5,-944.5 3213.5,-1012.5\"/>\n<text text-anchor=\"middle\" x=\"3166\" y=\"-997.3\" font-family=\"Helvetica,sans-Serif\" font-size=\"14.00\">gini = 0.0</text>\n<text text-anchor=\"middle\" x=\"3166\" y=\"-982.3\" font-family=\"Helvetica,sans-Serif\" font-size=\"14.00\">samples = 1</text>\n<text text-anchor=\"middle\" x=\"3166\" y=\"-967.3\" font-family=\"Helvetica,sans-Serif\" font-size=\"14.00\">value = [0, 1]</text>\n<text text-anchor=\"middle\" x=\"3166\" y=\"-952.3\" font-family=\"Helvetica,sans-Serif\" font-size=\"14.00\">class = 이탈</text>\n</g>\n<!-- 140&#45;&gt;141 -->\n<g id=\"edge141\" class=\"edge\">\n<title>140&#45;&gt;141</title>\n<path fill=\"none\" stroke=\"black\" d=\"M3204.53,-1055.91C3198.97,-1044.87 3192.93,-1032.9 3187.32,-1021.77\"/>\n<polygon fill=\"black\" stroke=\"black\" points=\"3190.35,-1020.02 3182.73,-1012.67 3184.1,-1023.17 3190.35,-1020.02\"/>\n</g>\n<!-- 142 -->\n<g id=\"node143\" class=\"node\">\n<title>142</title>\n<polygon fill=\"#e58139\" stroke=\"black\" points=\"3338,-1012.5 3232,-1012.5 3232,-944.5 3338,-944.5 3338,-1012.5\"/>\n<text text-anchor=\"middle\" x=\"3285\" y=\"-997.3\" font-family=\"Helvetica,sans-Serif\" font-size=\"14.00\">gini = 0.0</text>\n<text text-anchor=\"middle\" x=\"3285\" y=\"-982.3\" font-family=\"Helvetica,sans-Serif\" font-size=\"14.00\">samples = 1</text>\n<text text-anchor=\"middle\" x=\"3285\" y=\"-967.3\" font-family=\"Helvetica,sans-Serif\" font-size=\"14.00\">value = [1, 0]</text>\n<text text-anchor=\"middle\" x=\"3285\" y=\"-952.3\" font-family=\"Helvetica,sans-Serif\" font-size=\"14.00\">class = 비이탈</text>\n</g>\n<!-- 140&#45;&gt;142 -->\n<g id=\"edge142\" class=\"edge\">\n<title>140&#45;&gt;142</title>\n<path fill=\"none\" stroke=\"black\" d=\"M3245.82,-1055.91C3251.48,-1044.87 3257.62,-1032.9 3263.32,-1021.77\"/>\n<polygon fill=\"black\" stroke=\"black\" points=\"3266.54,-1023.16 3267.99,-1012.67 3260.31,-1019.97 3266.54,-1023.16\"/>\n</g>\n<!-- 144 -->\n<g id=\"node145\" class=\"node\">\n<title>144</title>\n<polygon fill=\"#3c9ee5\" stroke=\"black\" points=\"3437.5,-1496 3306.5,-1496 3306.5,-1413 3437.5,-1413 3437.5,-1496\"/>\n<text text-anchor=\"middle\" x=\"3372\" y=\"-1480.8\" font-family=\"Helvetica,sans-Serif\" font-size=\"14.00\">거래기간 &lt;= 0.239</text>\n<text text-anchor=\"middle\" x=\"3372\" y=\"-1465.8\" font-family=\"Helvetica,sans-Serif\" font-size=\"14.00\">gini = 0.028</text>\n<text text-anchor=\"middle\" x=\"3372\" y=\"-1450.8\" font-family=\"Helvetica,sans-Serif\" font-size=\"14.00\">samples = 143</text>\n<text text-anchor=\"middle\" x=\"3372\" y=\"-1435.8\" font-family=\"Helvetica,sans-Serif\" font-size=\"14.00\">value = [2, 141]</text>\n<text text-anchor=\"middle\" x=\"3372\" y=\"-1420.8\" font-family=\"Helvetica,sans-Serif\" font-size=\"14.00\">class = 이탈</text>\n</g>\n<!-- 143&#45;&gt;144 -->\n<g id=\"edge144\" class=\"edge\">\n<title>143&#45;&gt;144</title>\n<path fill=\"none\" stroke=\"black\" d=\"M3372,-1531.91C3372,-1523.65 3372,-1514.86 3372,-1506.3\"/>\n<polygon fill=\"black\" stroke=\"black\" points=\"3375.5,-1506.02 3372,-1496.02 3368.5,-1506.02 3375.5,-1506.02\"/>\n</g>\n<!-- 151 -->\n<g id=\"node152\" class=\"node\">\n<title>151</title>\n<polygon fill=\"#54aae9\" stroke=\"black\" points=\"3646.5,-1496 3515.5,-1496 3515.5,-1413 3646.5,-1413 3646.5,-1496\"/>\n<text text-anchor=\"middle\" x=\"3581\" y=\"-1480.8\" font-family=\"Helvetica,sans-Serif\" font-size=\"14.00\">거래기간 &lt;= 0.292</text>\n<text text-anchor=\"middle\" x=\"3581\" y=\"-1465.8\" font-family=\"Helvetica,sans-Serif\" font-size=\"14.00\">gini = 0.211</text>\n<text text-anchor=\"middle\" x=\"3581\" y=\"-1450.8\" font-family=\"Helvetica,sans-Serif\" font-size=\"14.00\">samples = 150</text>\n<text text-anchor=\"middle\" x=\"3581\" y=\"-1435.8\" font-family=\"Helvetica,sans-Serif\" font-size=\"14.00\">value = [18, 132]</text>\n<text text-anchor=\"middle\" x=\"3581\" y=\"-1420.8\" font-family=\"Helvetica,sans-Serif\" font-size=\"14.00\">class = 이탈</text>\n</g>\n<!-- 143&#45;&gt;151 -->\n<g id=\"edge151\" class=\"edge\">\n<title>143&#45;&gt;151</title>\n<path fill=\"none\" stroke=\"black\" d=\"M3440.15,-1534.35C3461.4,-1522.45 3484.94,-1509.27 3506.6,-1497.15\"/>\n<polygon fill=\"black\" stroke=\"black\" points=\"3508.42,-1500.14 3515.44,-1492.2 3505,-1494.03 3508.42,-1500.14\"/>\n</g>\n<!-- 145 -->\n<g id=\"node146\" class=\"node\">\n<title>145</title>\n<polygon fill=\"#42a2e6\" stroke=\"black\" points=\"3421.5,-1377 3290.5,-1377 3290.5,-1294 3421.5,-1294 3421.5,-1377\"/>\n<text text-anchor=\"middle\" x=\"3356\" y=\"-1361.8\" font-family=\"Helvetica,sans-Serif\" font-size=\"14.00\">거래기간 &lt;= 0.238</text>\n<text text-anchor=\"middle\" x=\"3356\" y=\"-1346.8\" font-family=\"Helvetica,sans-Serif\" font-size=\"14.00\">gini = 0.085</text>\n<text text-anchor=\"middle\" x=\"3356\" y=\"-1331.8\" font-family=\"Helvetica,sans-Serif\" font-size=\"14.00\">samples = 45</text>\n<text text-anchor=\"middle\" x=\"3356\" y=\"-1316.8\" font-family=\"Helvetica,sans-Serif\" font-size=\"14.00\">value = [2, 43]</text>\n<text text-anchor=\"middle\" x=\"3356\" y=\"-1301.8\" font-family=\"Helvetica,sans-Serif\" font-size=\"14.00\">class = 이탈</text>\n</g>\n<!-- 144&#45;&gt;145 -->\n<g id=\"edge145\" class=\"edge\">\n<title>144&#45;&gt;145</title>\n<path fill=\"none\" stroke=\"black\" d=\"M3366.45,-1412.91C3365.31,-1404.56 3364.09,-1395.67 3362.91,-1387.02\"/>\n<polygon fill=\"black\" stroke=\"black\" points=\"3366.36,-1386.45 3361.54,-1377.02 3359.43,-1387.4 3366.36,-1386.45\"/>\n</g>\n<!-- 150 -->\n<g id=\"node151\" class=\"node\">\n<title>150</title>\n<polygon fill=\"#399de5\" stroke=\"black\" points=\"3542,-1369.5 3440,-1369.5 3440,-1301.5 3542,-1301.5 3542,-1369.5\"/>\n<text text-anchor=\"middle\" x=\"3491\" y=\"-1354.3\" font-family=\"Helvetica,sans-Serif\" font-size=\"14.00\">gini = 0.0</text>\n<text text-anchor=\"middle\" x=\"3491\" y=\"-1339.3\" font-family=\"Helvetica,sans-Serif\" font-size=\"14.00\">samples = 98</text>\n<text text-anchor=\"middle\" x=\"3491\" y=\"-1324.3\" font-family=\"Helvetica,sans-Serif\" font-size=\"14.00\">value = [0, 98]</text>\n<text text-anchor=\"middle\" x=\"3491\" y=\"-1309.3\" font-family=\"Helvetica,sans-Serif\" font-size=\"14.00\">class = 이탈</text>\n</g>\n<!-- 144&#45;&gt;150 -->\n<g id=\"edge150\" class=\"edge\">\n<title>144&#45;&gt;150</title>\n<path fill=\"none\" stroke=\"black\" d=\"M3413.29,-1412.91C3425.18,-1401.21 3438.15,-1388.46 3450.03,-1376.78\"/>\n<polygon fill=\"black\" stroke=\"black\" points=\"3452.59,-1379.17 3457.27,-1369.67 3447.68,-1374.18 3452.59,-1379.17\"/>\n</g>\n<!-- 146 -->\n<g id=\"node147\" class=\"node\">\n<title>146</title>\n<polygon fill=\"#3e9fe6\" stroke=\"black\" points=\"3420,-1258 3292,-1258 3292,-1175 3420,-1175 3420,-1258\"/>\n<text text-anchor=\"middle\" x=\"3356\" y=\"-1242.8\" font-family=\"Helvetica,sans-Serif\" font-size=\"14.00\">총매출액 &lt;= &#45;0.62</text>\n<text text-anchor=\"middle\" x=\"3356\" y=\"-1227.8\" font-family=\"Helvetica,sans-Serif\" font-size=\"14.00\">gini = 0.044</text>\n<text text-anchor=\"middle\" x=\"3356\" y=\"-1212.8\" font-family=\"Helvetica,sans-Serif\" font-size=\"14.00\">samples = 44</text>\n<text text-anchor=\"middle\" x=\"3356\" y=\"-1197.8\" font-family=\"Helvetica,sans-Serif\" font-size=\"14.00\">value = [1, 43]</text>\n<text text-anchor=\"middle\" x=\"3356\" y=\"-1182.8\" font-family=\"Helvetica,sans-Serif\" font-size=\"14.00\">class = 이탈</text>\n</g>\n<!-- 145&#45;&gt;146 -->\n<g id=\"edge146\" class=\"edge\">\n<title>145&#45;&gt;146</title>\n<path fill=\"none\" stroke=\"black\" d=\"M3356,-1293.91C3356,-1285.65 3356,-1276.86 3356,-1268.3\"/>\n<polygon fill=\"black\" stroke=\"black\" points=\"3359.5,-1268.02 3356,-1258.02 3352.5,-1268.02 3359.5,-1268.02\"/>\n</g>\n<!-- 149 -->\n<g id=\"node150\" class=\"node\">\n<title>149</title>\n<polygon fill=\"#e58139\" stroke=\"black\" points=\"3544,-1250.5 3438,-1250.5 3438,-1182.5 3544,-1182.5 3544,-1250.5\"/>\n<text text-anchor=\"middle\" x=\"3491\" y=\"-1235.3\" font-family=\"Helvetica,sans-Serif\" font-size=\"14.00\">gini = 0.0</text>\n<text text-anchor=\"middle\" x=\"3491\" y=\"-1220.3\" font-family=\"Helvetica,sans-Serif\" font-size=\"14.00\">samples = 1</text>\n<text text-anchor=\"middle\" x=\"3491\" y=\"-1205.3\" font-family=\"Helvetica,sans-Serif\" font-size=\"14.00\">value = [1, 0]</text>\n<text text-anchor=\"middle\" x=\"3491\" y=\"-1190.3\" font-family=\"Helvetica,sans-Serif\" font-size=\"14.00\">class = 비이탈</text>\n</g>\n<!-- 145&#45;&gt;149 -->\n<g id=\"edge149\" class=\"edge\">\n<title>145&#45;&gt;149</title>\n<path fill=\"none\" stroke=\"black\" d=\"M3402.84,-1293.91C3416.46,-1282.1 3431.33,-1269.22 3444.9,-1257.45\"/>\n<polygon fill=\"black\" stroke=\"black\" points=\"3447.47,-1259.86 3452.73,-1250.67 3442.88,-1254.57 3447.47,-1259.86\"/>\n</g>\n<!-- 147 -->\n<g id=\"node148\" class=\"node\">\n<title>147</title>\n<polygon fill=\"#e58139\" stroke=\"black\" points=\"3417,-1131.5 3311,-1131.5 3311,-1063.5 3417,-1063.5 3417,-1131.5\"/>\n<text text-anchor=\"middle\" x=\"3364\" y=\"-1116.3\" font-family=\"Helvetica,sans-Serif\" font-size=\"14.00\">gini = 0.0</text>\n<text text-anchor=\"middle\" x=\"3364\" y=\"-1101.3\" font-family=\"Helvetica,sans-Serif\" font-size=\"14.00\">samples = 1</text>\n<text text-anchor=\"middle\" x=\"3364\" y=\"-1086.3\" font-family=\"Helvetica,sans-Serif\" font-size=\"14.00\">value = [1, 0]</text>\n<text text-anchor=\"middle\" x=\"3364\" y=\"-1071.3\" font-family=\"Helvetica,sans-Serif\" font-size=\"14.00\">class = 비이탈</text>\n</g>\n<!-- 146&#45;&gt;147 -->\n<g id=\"edge147\" class=\"edge\">\n<title>146&#45;&gt;147</title>\n<path fill=\"none\" stroke=\"black\" d=\"M3358.78,-1174.91C3359.51,-1164.2 3360.3,-1152.62 3361.04,-1141.78\"/>\n<polygon fill=\"black\" stroke=\"black\" points=\"3364.54,-1141.88 3361.73,-1131.67 3357.56,-1141.4 3364.54,-1141.88\"/>\n</g>\n<!-- 148 -->\n<g id=\"node149\" class=\"node\">\n<title>148</title>\n<polygon fill=\"#399de5\" stroke=\"black\" points=\"3537,-1131.5 3435,-1131.5 3435,-1063.5 3537,-1063.5 3537,-1131.5\"/>\n<text text-anchor=\"middle\" x=\"3486\" y=\"-1116.3\" font-family=\"Helvetica,sans-Serif\" font-size=\"14.00\">gini = 0.0</text>\n<text text-anchor=\"middle\" x=\"3486\" y=\"-1101.3\" font-family=\"Helvetica,sans-Serif\" font-size=\"14.00\">samples = 43</text>\n<text text-anchor=\"middle\" x=\"3486\" y=\"-1086.3\" font-family=\"Helvetica,sans-Serif\" font-size=\"14.00\">value = [0, 43]</text>\n<text text-anchor=\"middle\" x=\"3486\" y=\"-1071.3\" font-family=\"Helvetica,sans-Serif\" font-size=\"14.00\">class = 이탈</text>\n</g>\n<!-- 146&#45;&gt;148 -->\n<g id=\"edge148\" class=\"edge\">\n<title>146&#45;&gt;148</title>\n<path fill=\"none\" stroke=\"black\" d=\"M3401.1,-1174.91C3414.22,-1163.1 3428.54,-1150.22 3441.61,-1138.45\"/>\n<polygon fill=\"black\" stroke=\"black\" points=\"3444.06,-1140.96 3449.15,-1131.67 3439.37,-1135.76 3444.06,-1140.96\"/>\n</g>\n<!-- 152 -->\n<g id=\"node153\" class=\"node\">\n<title>152</title>\n<polygon fill=\"#3c9fe5\" stroke=\"black\" points=\"3691.5,-1377 3560.5,-1377 3560.5,-1294 3691.5,-1294 3691.5,-1377\"/>\n<text text-anchor=\"middle\" x=\"3626\" y=\"-1361.8\" font-family=\"Helvetica,sans-Serif\" font-size=\"14.00\">총매출액 &lt;= 0.113</text>\n<text text-anchor=\"middle\" x=\"3626\" y=\"-1346.8\" font-family=\"Helvetica,sans-Serif\" font-size=\"14.00\">gini = 0.031</text>\n<text text-anchor=\"middle\" x=\"3626\" y=\"-1331.8\" font-family=\"Helvetica,sans-Serif\" font-size=\"14.00\">samples = 64</text>\n<text text-anchor=\"middle\" x=\"3626\" y=\"-1316.8\" font-family=\"Helvetica,sans-Serif\" font-size=\"14.00\">value = [1, 63]</text>\n<text text-anchor=\"middle\" x=\"3626\" y=\"-1301.8\" font-family=\"Helvetica,sans-Serif\" font-size=\"14.00\">class = 이탈</text>\n</g>\n<!-- 151&#45;&gt;152 -->\n<g id=\"edge152\" class=\"edge\">\n<title>151&#45;&gt;152</title>\n<path fill=\"none\" stroke=\"black\" d=\"M3596.61,-1412.91C3599.89,-1404.38 3603.39,-1395.28 3606.79,-1386.46\"/>\n<polygon fill=\"black\" stroke=\"black\" points=\"3610.09,-1387.61 3610.42,-1377.02 3603.56,-1385.1 3610.09,-1387.61\"/>\n</g>\n<!-- 157 -->\n<g id=\"node158\" class=\"node\">\n<title>157</title>\n<polygon fill=\"#6ab5eb\" stroke=\"black\" points=\"3950.5,-1377 3819.5,-1377 3819.5,-1294 3950.5,-1294 3950.5,-1377\"/>\n<text text-anchor=\"middle\" x=\"3885\" y=\"-1361.8\" font-family=\"Helvetica,sans-Serif\" font-size=\"14.00\">거래기간 &lt;= 0.294</text>\n<text text-anchor=\"middle\" x=\"3885\" y=\"-1346.8\" font-family=\"Helvetica,sans-Serif\" font-size=\"14.00\">gini = 0.317</text>\n<text text-anchor=\"middle\" x=\"3885\" y=\"-1331.8\" font-family=\"Helvetica,sans-Serif\" font-size=\"14.00\">samples = 86</text>\n<text text-anchor=\"middle\" x=\"3885\" y=\"-1316.8\" font-family=\"Helvetica,sans-Serif\" font-size=\"14.00\">value = [17, 69]</text>\n<text text-anchor=\"middle\" x=\"3885\" y=\"-1301.8\" font-family=\"Helvetica,sans-Serif\" font-size=\"14.00\">class = 이탈</text>\n</g>\n<!-- 151&#45;&gt;157 -->\n<g id=\"edge157\" class=\"edge\">\n<title>151&#45;&gt;157</title>\n<path fill=\"none\" stroke=\"black\" d=\"M3646.53,-1417.28C3649.71,-1415.79 3652.88,-1414.35 3656,-1413 3705.99,-1391.35 3764.24,-1371.96 3809.48,-1358.12\"/>\n<polygon fill=\"black\" stroke=\"black\" points=\"3810.67,-1361.42 3819.23,-1355.17 3808.64,-1354.72 3810.67,-1361.42\"/>\n</g>\n<!-- 153 -->\n<g id=\"node154\" class=\"node\">\n<title>153</title>\n<polygon fill=\"#399de5\" stroke=\"black\" points=\"3664,-1250.5 3562,-1250.5 3562,-1182.5 3664,-1182.5 3664,-1250.5\"/>\n<text text-anchor=\"middle\" x=\"3613\" y=\"-1235.3\" font-family=\"Helvetica,sans-Serif\" font-size=\"14.00\">gini = 0.0</text>\n<text text-anchor=\"middle\" x=\"3613\" y=\"-1220.3\" font-family=\"Helvetica,sans-Serif\" font-size=\"14.00\">samples = 43</text>\n<text text-anchor=\"middle\" x=\"3613\" y=\"-1205.3\" font-family=\"Helvetica,sans-Serif\" font-size=\"14.00\">value = [0, 43]</text>\n<text text-anchor=\"middle\" x=\"3613\" y=\"-1190.3\" font-family=\"Helvetica,sans-Serif\" font-size=\"14.00\">class = 이탈</text>\n</g>\n<!-- 152&#45;&gt;153 -->\n<g id=\"edge153\" class=\"edge\">\n<title>152&#45;&gt;153</title>\n<path fill=\"none\" stroke=\"black\" d=\"M3621.49,-1293.91C3620.3,-1283.2 3619.01,-1271.62 3617.81,-1260.78\"/>\n<polygon fill=\"black\" stroke=\"black\" points=\"3621.27,-1260.22 3616.69,-1250.67 3614.31,-1260.99 3621.27,-1260.22\"/>\n</g>\n<!-- 154 -->\n<g id=\"node155\" class=\"node\">\n<title>154</title>\n<polygon fill=\"#43a2e6\" stroke=\"black\" points=\"3813.5,-1258 3682.5,-1258 3682.5,-1175 3813.5,-1175 3813.5,-1258\"/>\n<text text-anchor=\"middle\" x=\"3748\" y=\"-1242.8\" font-family=\"Helvetica,sans-Serif\" font-size=\"14.00\">총매출액 &lt;= 0.147</text>\n<text text-anchor=\"middle\" x=\"3748\" y=\"-1227.8\" font-family=\"Helvetica,sans-Serif\" font-size=\"14.00\">gini = 0.091</text>\n<text text-anchor=\"middle\" x=\"3748\" y=\"-1212.8\" font-family=\"Helvetica,sans-Serif\" font-size=\"14.00\">samples = 21</text>\n<text text-anchor=\"middle\" x=\"3748\" y=\"-1197.8\" font-family=\"Helvetica,sans-Serif\" font-size=\"14.00\">value = [1, 20]</text>\n<text text-anchor=\"middle\" x=\"3748\" y=\"-1182.8\" font-family=\"Helvetica,sans-Serif\" font-size=\"14.00\">class = 이탈</text>\n</g>\n<!-- 152&#45;&gt;154 -->\n<g id=\"edge154\" class=\"edge\">\n<title>152&#45;&gt;154</title>\n<path fill=\"none\" stroke=\"black\" d=\"M3668.33,-1293.91C3677.98,-1284.65 3688.32,-1274.73 3698.25,-1265.21\"/>\n<polygon fill=\"black\" stroke=\"black\" points=\"3700.95,-1267.47 3705.75,-1258.02 3696.11,-1262.42 3700.95,-1267.47\"/>\n</g>\n<!-- 155 -->\n<g id=\"node156\" class=\"node\">\n<title>155</title>\n<polygon fill=\"#e58139\" stroke=\"black\" points=\"3688,-1131.5 3582,-1131.5 3582,-1063.5 3688,-1063.5 3688,-1131.5\"/>\n<text text-anchor=\"middle\" x=\"3635\" y=\"-1116.3\" font-family=\"Helvetica,sans-Serif\" font-size=\"14.00\">gini = 0.0</text>\n<text text-anchor=\"middle\" x=\"3635\" y=\"-1101.3\" font-family=\"Helvetica,sans-Serif\" font-size=\"14.00\">samples = 1</text>\n<text text-anchor=\"middle\" x=\"3635\" y=\"-1086.3\" font-family=\"Helvetica,sans-Serif\" font-size=\"14.00\">value = [1, 0]</text>\n<text text-anchor=\"middle\" x=\"3635\" y=\"-1071.3\" font-family=\"Helvetica,sans-Serif\" font-size=\"14.00\">class = 비이탈</text>\n</g>\n<!-- 154&#45;&gt;155 -->\n<g id=\"edge155\" class=\"edge\">\n<title>154&#45;&gt;155</title>\n<path fill=\"none\" stroke=\"black\" d=\"M3708.8,-1174.91C3697.61,-1163.32 3685.41,-1150.7 3674.22,-1139.11\"/>\n<polygon fill=\"black\" stroke=\"black\" points=\"3676.5,-1136.43 3667.03,-1131.67 3671.46,-1141.29 3676.5,-1136.43\"/>\n</g>\n<!-- 156 -->\n<g id=\"node157\" class=\"node\">\n<title>156</title>\n<polygon fill=\"#399de5\" stroke=\"black\" points=\"3808,-1131.5 3706,-1131.5 3706,-1063.5 3808,-1063.5 3808,-1131.5\"/>\n<text text-anchor=\"middle\" x=\"3757\" y=\"-1116.3\" font-family=\"Helvetica,sans-Serif\" font-size=\"14.00\">gini = 0.0</text>\n<text text-anchor=\"middle\" x=\"3757\" y=\"-1101.3\" font-family=\"Helvetica,sans-Serif\" font-size=\"14.00\">samples = 20</text>\n<text text-anchor=\"middle\" x=\"3757\" y=\"-1086.3\" font-family=\"Helvetica,sans-Serif\" font-size=\"14.00\">value = [0, 20]</text>\n<text text-anchor=\"middle\" x=\"3757\" y=\"-1071.3\" font-family=\"Helvetica,sans-Serif\" font-size=\"14.00\">class = 이탈</text>\n</g>\n<!-- 154&#45;&gt;156 -->\n<g id=\"edge156\" class=\"edge\">\n<title>154&#45;&gt;156</title>\n<path fill=\"none\" stroke=\"black\" d=\"M3751.12,-1174.91C3751.95,-1164.2 3752.84,-1152.62 3753.67,-1141.78\"/>\n<polygon fill=\"black\" stroke=\"black\" points=\"3757.17,-1141.91 3754.45,-1131.67 3750.19,-1141.37 3757.17,-1141.91\"/>\n</g>\n<!-- 158 -->\n<g id=\"node159\" class=\"node\">\n<title>158</title>\n<polygon fill=\"#e58139\" stroke=\"black\" points=\"3938,-1250.5 3832,-1250.5 3832,-1182.5 3938,-1182.5 3938,-1250.5\"/>\n<text text-anchor=\"middle\" x=\"3885\" y=\"-1235.3\" font-family=\"Helvetica,sans-Serif\" font-size=\"14.00\">gini = 0.0</text>\n<text text-anchor=\"middle\" x=\"3885\" y=\"-1220.3\" font-family=\"Helvetica,sans-Serif\" font-size=\"14.00\">samples = 3</text>\n<text text-anchor=\"middle\" x=\"3885\" y=\"-1205.3\" font-family=\"Helvetica,sans-Serif\" font-size=\"14.00\">value = [3, 0]</text>\n<text text-anchor=\"middle\" x=\"3885\" y=\"-1190.3\" font-family=\"Helvetica,sans-Serif\" font-size=\"14.00\">class = 비이탈</text>\n</g>\n<!-- 157&#45;&gt;158 -->\n<g id=\"edge158\" class=\"edge\">\n<title>157&#45;&gt;158</title>\n<path fill=\"none\" stroke=\"black\" d=\"M3885,-1293.91C3885,-1283.2 3885,-1271.62 3885,-1260.78\"/>\n<polygon fill=\"black\" stroke=\"black\" points=\"3888.5,-1260.67 3885,-1250.67 3881.5,-1260.67 3888.5,-1260.67\"/>\n</g>\n<!-- 159 -->\n<g id=\"node160\" class=\"node\">\n<title>159</title>\n<polygon fill=\"#61b1ea\" stroke=\"black\" points=\"4092,-1258 3956,-1258 3956,-1175 4092,-1175 4092,-1258\"/>\n<text text-anchor=\"middle\" x=\"4024\" y=\"-1242.8\" font-family=\"Helvetica,sans-Serif\" font-size=\"14.00\">방문빈도 &lt;= &#45;0.501</text>\n<text text-anchor=\"middle\" x=\"4024\" y=\"-1227.8\" font-family=\"Helvetica,sans-Serif\" font-size=\"14.00\">gini = 0.28</text>\n<text text-anchor=\"middle\" x=\"4024\" y=\"-1212.8\" font-family=\"Helvetica,sans-Serif\" font-size=\"14.00\">samples = 83</text>\n<text text-anchor=\"middle\" x=\"4024\" y=\"-1197.8\" font-family=\"Helvetica,sans-Serif\" font-size=\"14.00\">value = [14, 69]</text>\n<text text-anchor=\"middle\" x=\"4024\" y=\"-1182.8\" font-family=\"Helvetica,sans-Serif\" font-size=\"14.00\">class = 이탈</text>\n</g>\n<!-- 157&#45;&gt;159 -->\n<g id=\"edge159\" class=\"edge\">\n<title>157&#45;&gt;159</title>\n<path fill=\"none\" stroke=\"black\" d=\"M3933.23,-1293.91C3944.44,-1284.47 3956.47,-1274.34 3967.99,-1264.65\"/>\n<polygon fill=\"black\" stroke=\"black\" points=\"3970.46,-1267.14 3975.86,-1258.02 3965.96,-1261.78 3970.46,-1267.14\"/>\n</g>\n<!-- 160 -->\n<g id=\"node161\" class=\"node\">\n<title>160</title>\n<polygon fill=\"#ffffff\" stroke=\"black\" points=\"3984,-1139 3848,-1139 3848,-1056 3984,-1056 3984,-1139\"/>\n<text text-anchor=\"middle\" x=\"3916\" y=\"-1123.8\" font-family=\"Helvetica,sans-Serif\" font-size=\"14.00\">총매출액 &lt;= &#45;0.407</text>\n<text text-anchor=\"middle\" x=\"3916\" y=\"-1108.8\" font-family=\"Helvetica,sans-Serif\" font-size=\"14.00\">gini = 0.5</text>\n<text text-anchor=\"middle\" x=\"3916\" y=\"-1093.8\" font-family=\"Helvetica,sans-Serif\" font-size=\"14.00\">samples = 10</text>\n<text text-anchor=\"middle\" x=\"3916\" y=\"-1078.8\" font-family=\"Helvetica,sans-Serif\" font-size=\"14.00\">value = [5, 5]</text>\n<text text-anchor=\"middle\" x=\"3916\" y=\"-1063.8\" font-family=\"Helvetica,sans-Serif\" font-size=\"14.00\">class = 비이탈</text>\n</g>\n<!-- 159&#45;&gt;160 -->\n<g id=\"edge160\" class=\"edge\">\n<title>159&#45;&gt;160</title>\n<path fill=\"none\" stroke=\"black\" d=\"M3986.53,-1174.91C3978.07,-1165.74 3969.01,-1155.93 3960.3,-1146.49\"/>\n<polygon fill=\"black\" stroke=\"black\" points=\"3962.76,-1143.99 3953.4,-1139.02 3957.61,-1148.74 3962.76,-1143.99\"/>\n</g>\n<!-- 165 -->\n<g id=\"node166\" class=\"node\">\n<title>165</title>\n<polygon fill=\"#55abe9\" stroke=\"black\" points=\"4138,-1139 4002,-1139 4002,-1056 4138,-1056 4138,-1139\"/>\n<text text-anchor=\"middle\" x=\"4070\" y=\"-1123.8\" font-family=\"Helvetica,sans-Serif\" font-size=\"14.00\">총매출액 &lt;= &#45;0.144</text>\n<text text-anchor=\"middle\" x=\"4070\" y=\"-1108.8\" font-family=\"Helvetica,sans-Serif\" font-size=\"14.00\">gini = 0.216</text>\n<text text-anchor=\"middle\" x=\"4070\" y=\"-1093.8\" font-family=\"Helvetica,sans-Serif\" font-size=\"14.00\">samples = 73</text>\n<text text-anchor=\"middle\" x=\"4070\" y=\"-1078.8\" font-family=\"Helvetica,sans-Serif\" font-size=\"14.00\">value = [9, 64]</text>\n<text text-anchor=\"middle\" x=\"4070\" y=\"-1063.8\" font-family=\"Helvetica,sans-Serif\" font-size=\"14.00\">class = 이탈</text>\n</g>\n<!-- 159&#45;&gt;165 -->\n<g id=\"edge165\" class=\"edge\">\n<title>159&#45;&gt;165</title>\n<path fill=\"none\" stroke=\"black\" d=\"M4039.96,-1174.91C4043.31,-1166.38 4046.89,-1157.28 4050.36,-1148.46\"/>\n<polygon fill=\"black\" stroke=\"black\" points=\"4053.67,-1149.61 4054.07,-1139.02 4047.15,-1147.05 4053.67,-1149.61\"/>\n</g>\n<!-- 161 -->\n<g id=\"node162\" class=\"node\">\n<title>161</title>\n<polygon fill=\"#61b1ea\" stroke=\"black\" points=\"3848.5,-1020 3717.5,-1020 3717.5,-937 3848.5,-937 3848.5,-1020\"/>\n<text text-anchor=\"middle\" x=\"3783\" y=\"-1004.8\" font-family=\"Helvetica,sans-Serif\" font-size=\"14.00\">거래기간 &lt;= 0.383</text>\n<text text-anchor=\"middle\" x=\"3783\" y=\"-989.8\" font-family=\"Helvetica,sans-Serif\" font-size=\"14.00\">gini = 0.278</text>\n<text text-anchor=\"middle\" x=\"3783\" y=\"-974.8\" font-family=\"Helvetica,sans-Serif\" font-size=\"14.00\">samples = 6</text>\n<text text-anchor=\"middle\" x=\"3783\" y=\"-959.8\" font-family=\"Helvetica,sans-Serif\" font-size=\"14.00\">value = [1, 5]</text>\n<text text-anchor=\"middle\" x=\"3783\" y=\"-944.8\" font-family=\"Helvetica,sans-Serif\" font-size=\"14.00\">class = 이탈</text>\n</g>\n<!-- 160&#45;&gt;161 -->\n<g id=\"edge161\" class=\"edge\">\n<title>160&#45;&gt;161</title>\n<path fill=\"none\" stroke=\"black\" d=\"M3869.86,-1055.91C3859.13,-1046.47 3847.62,-1036.34 3836.6,-1026.65\"/>\n<polygon fill=\"black\" stroke=\"black\" points=\"3838.88,-1024 3829.06,-1020.02 3834.26,-1029.25 3838.88,-1024\"/>\n</g>\n<!-- 164 -->\n<g id=\"node165\" class=\"node\">\n<title>164</title>\n<polygon fill=\"#e58139\" stroke=\"black\" points=\"3973,-1012.5 3867,-1012.5 3867,-944.5 3973,-944.5 3973,-1012.5\"/>\n<text text-anchor=\"middle\" x=\"3920\" y=\"-997.3\" font-family=\"Helvetica,sans-Serif\" font-size=\"14.00\">gini = 0.0</text>\n<text text-anchor=\"middle\" x=\"3920\" y=\"-982.3\" font-family=\"Helvetica,sans-Serif\" font-size=\"14.00\">samples = 4</text>\n<text text-anchor=\"middle\" x=\"3920\" y=\"-967.3\" font-family=\"Helvetica,sans-Serif\" font-size=\"14.00\">value = [4, 0]</text>\n<text text-anchor=\"middle\" x=\"3920\" y=\"-952.3\" font-family=\"Helvetica,sans-Serif\" font-size=\"14.00\">class = 비이탈</text>\n</g>\n<!-- 160&#45;&gt;164 -->\n<g id=\"edge164\" class=\"edge\">\n<title>160&#45;&gt;164</title>\n<path fill=\"none\" stroke=\"black\" d=\"M3917.39,-1055.91C3917.75,-1045.2 3918.15,-1033.62 3918.52,-1022.78\"/>\n<polygon fill=\"black\" stroke=\"black\" points=\"3922.02,-1022.78 3918.87,-1012.67 3915.03,-1022.54 3922.02,-1022.78\"/>\n</g>\n<!-- 162 -->\n<g id=\"node163\" class=\"node\">\n<title>162</title>\n<polygon fill=\"#399de5\" stroke=\"black\" points=\"3728.5,-893.5 3633.5,-893.5 3633.5,-825.5 3728.5,-825.5 3728.5,-893.5\"/>\n<text text-anchor=\"middle\" x=\"3681\" y=\"-878.3\" font-family=\"Helvetica,sans-Serif\" font-size=\"14.00\">gini = 0.0</text>\n<text text-anchor=\"middle\" x=\"3681\" y=\"-863.3\" font-family=\"Helvetica,sans-Serif\" font-size=\"14.00\">samples = 5</text>\n<text text-anchor=\"middle\" x=\"3681\" y=\"-848.3\" font-family=\"Helvetica,sans-Serif\" font-size=\"14.00\">value = [0, 5]</text>\n<text text-anchor=\"middle\" x=\"3681\" y=\"-833.3\" font-family=\"Helvetica,sans-Serif\" font-size=\"14.00\">class = 이탈</text>\n</g>\n<!-- 161&#45;&gt;162 -->\n<g id=\"edge162\" class=\"edge\">\n<title>161&#45;&gt;162</title>\n<path fill=\"none\" stroke=\"black\" d=\"M3747.61,-936.91C3737.61,-925.43 3726.72,-912.94 3716.69,-901.44\"/>\n<polygon fill=\"black\" stroke=\"black\" points=\"3719.12,-898.9 3709.91,-893.67 3713.85,-903.5 3719.12,-898.9\"/>\n</g>\n<!-- 163 -->\n<g id=\"node164\" class=\"node\">\n<title>163</title>\n<polygon fill=\"#e58139\" stroke=\"black\" points=\"3853,-893.5 3747,-893.5 3747,-825.5 3853,-825.5 3853,-893.5\"/>\n<text text-anchor=\"middle\" x=\"3800\" y=\"-878.3\" font-family=\"Helvetica,sans-Serif\" font-size=\"14.00\">gini = 0.0</text>\n<text text-anchor=\"middle\" x=\"3800\" y=\"-863.3\" font-family=\"Helvetica,sans-Serif\" font-size=\"14.00\">samples = 1</text>\n<text text-anchor=\"middle\" x=\"3800\" y=\"-848.3\" font-family=\"Helvetica,sans-Serif\" font-size=\"14.00\">value = [1, 0]</text>\n<text text-anchor=\"middle\" x=\"3800\" y=\"-833.3\" font-family=\"Helvetica,sans-Serif\" font-size=\"14.00\">class = 비이탈</text>\n</g>\n<!-- 161&#45;&gt;163 -->\n<g id=\"edge163\" class=\"edge\">\n<title>161&#45;&gt;163</title>\n<path fill=\"none\" stroke=\"black\" d=\"M3788.9,-936.91C3790.45,-926.2 3792.14,-914.62 3793.71,-903.78\"/>\n<polygon fill=\"black\" stroke=\"black\" points=\"3797.21,-904.07 3795.18,-893.67 3790.28,-903.06 3797.21,-904.07\"/>\n</g>\n<!-- 166 -->\n<g id=\"node167\" class=\"node\">\n<title>166</title>\n<polygon fill=\"#43a2e6\" stroke=\"black\" points=\"4134,-1020 3998,-1020 3998,-937 4134,-937 4134,-1020\"/>\n<text text-anchor=\"middle\" x=\"4066\" y=\"-1004.8\" font-family=\"Helvetica,sans-Serif\" font-size=\"14.00\">방문빈도 &lt;= &#45;0.336</text>\n<text text-anchor=\"middle\" x=\"4066\" y=\"-989.8\" font-family=\"Helvetica,sans-Serif\" font-size=\"14.00\">gini = 0.091</text>\n<text text-anchor=\"middle\" x=\"4066\" y=\"-974.8\" font-family=\"Helvetica,sans-Serif\" font-size=\"14.00\">samples = 42</text>\n<text text-anchor=\"middle\" x=\"4066\" y=\"-959.8\" font-family=\"Helvetica,sans-Serif\" font-size=\"14.00\">value = [2, 40]</text>\n<text text-anchor=\"middle\" x=\"4066\" y=\"-944.8\" font-family=\"Helvetica,sans-Serif\" font-size=\"14.00\">class = 이탈</text>\n</g>\n<!-- 165&#45;&gt;166 -->\n<g id=\"edge166\" class=\"edge\">\n<title>165&#45;&gt;166</title>\n<path fill=\"none\" stroke=\"black\" d=\"M4068.61,-1055.91C4068.33,-1047.56 4068.02,-1038.67 4067.73,-1030.02\"/>\n<polygon fill=\"black\" stroke=\"black\" points=\"4071.23,-1029.9 4067.39,-1020.02 4064.23,-1030.13 4071.23,-1029.9\"/>\n</g>\n<!-- 173 -->\n<g id=\"node174\" class=\"node\">\n<title>173</title>\n<polygon fill=\"#73baed\" stroke=\"black\" points=\"4288,-1020 4152,-1020 4152,-937 4288,-937 4288,-1020\"/>\n<text text-anchor=\"middle\" x=\"4220\" y=\"-1004.8\" font-family=\"Helvetica,sans-Serif\" font-size=\"14.00\">총매출액 &lt;= &#45;0.012</text>\n<text text-anchor=\"middle\" x=\"4220\" y=\"-989.8\" font-family=\"Helvetica,sans-Serif\" font-size=\"14.00\">gini = 0.35</text>\n<text text-anchor=\"middle\" x=\"4220\" y=\"-974.8\" font-family=\"Helvetica,sans-Serif\" font-size=\"14.00\">samples = 31</text>\n<text text-anchor=\"middle\" x=\"4220\" y=\"-959.8\" font-family=\"Helvetica,sans-Serif\" font-size=\"14.00\">value = [7, 24]</text>\n<text text-anchor=\"middle\" x=\"4220\" y=\"-944.8\" font-family=\"Helvetica,sans-Serif\" font-size=\"14.00\">class = 이탈</text>\n</g>\n<!-- 165&#45;&gt;173 -->\n<g id=\"edge173\" class=\"edge\">\n<title>165&#45;&gt;173</title>\n<path fill=\"none\" stroke=\"black\" d=\"M4122.04,-1055.91C4134.26,-1046.38 4147.37,-1036.15 4159.91,-1026.37\"/>\n<polygon fill=\"black\" stroke=\"black\" points=\"4162.32,-1028.93 4168.05,-1020.02 4158.01,-1023.41 4162.32,-1028.93\"/>\n</g>\n<!-- 167 -->\n<g id=\"node168\" class=\"node\">\n<title>167</title>\n<polygon fill=\"#72b9ec\" stroke=\"black\" points=\"4004.5,-901 3873.5,-901 3873.5,-818 4004.5,-818 4004.5,-901\"/>\n<text text-anchor=\"middle\" x=\"3939\" y=\"-885.8\" font-family=\"Helvetica,sans-Serif\" font-size=\"14.00\">거래기간 &lt;= 0.385</text>\n<text text-anchor=\"middle\" x=\"3939\" y=\"-870.8\" font-family=\"Helvetica,sans-Serif\" font-size=\"14.00\">gini = 0.346</text>\n<text text-anchor=\"middle\" x=\"3939\" y=\"-855.8\" font-family=\"Helvetica,sans-Serif\" font-size=\"14.00\">samples = 9</text>\n<text text-anchor=\"middle\" x=\"3939\" y=\"-840.8\" font-family=\"Helvetica,sans-Serif\" font-size=\"14.00\">value = [2, 7]</text>\n<text text-anchor=\"middle\" x=\"3939\" y=\"-825.8\" font-family=\"Helvetica,sans-Serif\" font-size=\"14.00\">class = 이탈</text>\n</g>\n<!-- 166&#45;&gt;167 -->\n<g id=\"edge167\" class=\"edge\">\n<title>166&#45;&gt;167</title>\n<path fill=\"none\" stroke=\"black\" d=\"M4021.94,-936.91C4011.79,-927.56 4000.91,-917.54 3990.48,-907.93\"/>\n<polygon fill=\"black\" stroke=\"black\" points=\"3992.71,-905.22 3982.98,-901.02 3987.97,-910.37 3992.71,-905.22\"/>\n</g>\n<!-- 172 -->\n<g id=\"node173\" class=\"node\">\n<title>172</title>\n<polygon fill=\"#399de5\" stroke=\"black\" points=\"4125,-893.5 4023,-893.5 4023,-825.5 4125,-825.5 4125,-893.5\"/>\n<text text-anchor=\"middle\" x=\"4074\" y=\"-878.3\" font-family=\"Helvetica,sans-Serif\" font-size=\"14.00\">gini = 0.0</text>\n<text text-anchor=\"middle\" x=\"4074\" y=\"-863.3\" font-family=\"Helvetica,sans-Serif\" font-size=\"14.00\">samples = 33</text>\n<text text-anchor=\"middle\" x=\"4074\" y=\"-848.3\" font-family=\"Helvetica,sans-Serif\" font-size=\"14.00\">value = [0, 33]</text>\n<text text-anchor=\"middle\" x=\"4074\" y=\"-833.3\" font-family=\"Helvetica,sans-Serif\" font-size=\"14.00\">class = 이탈</text>\n</g>\n<!-- 166&#45;&gt;172 -->\n<g id=\"edge172\" class=\"edge\">\n<title>166&#45;&gt;172</title>\n<path fill=\"none\" stroke=\"black\" d=\"M4068.78,-936.91C4069.51,-926.2 4070.3,-914.62 4071.04,-903.78\"/>\n<polygon fill=\"black\" stroke=\"black\" points=\"4074.54,-903.88 4071.73,-893.67 4067.56,-903.4 4074.54,-903.88\"/>\n</g>\n<!-- 168 -->\n<g id=\"node169\" class=\"node\">\n<title>168</title>\n<polygon fill=\"#ffffff\" stroke=\"black\" points=\"3906,-782 3770,-782 3770,-699 3906,-699 3906,-782\"/>\n<text text-anchor=\"middle\" x=\"3838\" y=\"-766.8\" font-family=\"Helvetica,sans-Serif\" font-size=\"14.00\">총매출액 &lt;= &#45;0.336</text>\n<text text-anchor=\"middle\" x=\"3838\" y=\"-751.8\" font-family=\"Helvetica,sans-Serif\" font-size=\"14.00\">gini = 0.5</text>\n<text text-anchor=\"middle\" x=\"3838\" y=\"-736.8\" font-family=\"Helvetica,sans-Serif\" font-size=\"14.00\">samples = 4</text>\n<text text-anchor=\"middle\" x=\"3838\" y=\"-721.8\" font-family=\"Helvetica,sans-Serif\" font-size=\"14.00\">value = [2, 2]</text>\n<text text-anchor=\"middle\" x=\"3838\" y=\"-706.8\" font-family=\"Helvetica,sans-Serif\" font-size=\"14.00\">class = 비이탈</text>\n</g>\n<!-- 167&#45;&gt;168 -->\n<g id=\"edge168\" class=\"edge\">\n<title>167&#45;&gt;168</title>\n<path fill=\"none\" stroke=\"black\" d=\"M3903.96,-817.91C3896.12,-808.83 3887.74,-799.12 3879.67,-789.77\"/>\n<polygon fill=\"black\" stroke=\"black\" points=\"3882.16,-787.3 3872.98,-782.02 3876.86,-791.88 3882.16,-787.3\"/>\n</g>\n<!-- 171 -->\n<g id=\"node172\" class=\"node\">\n<title>171</title>\n<polygon fill=\"#399de5\" stroke=\"black\" points=\"4019.5,-774.5 3924.5,-774.5 3924.5,-706.5 4019.5,-706.5 4019.5,-774.5\"/>\n<text text-anchor=\"middle\" x=\"3972\" y=\"-759.3\" font-family=\"Helvetica,sans-Serif\" font-size=\"14.00\">gini = 0.0</text>\n<text text-anchor=\"middle\" x=\"3972\" y=\"-744.3\" font-family=\"Helvetica,sans-Serif\" font-size=\"14.00\">samples = 5</text>\n<text text-anchor=\"middle\" x=\"3972\" y=\"-729.3\" font-family=\"Helvetica,sans-Serif\" font-size=\"14.00\">value = [0, 5]</text>\n<text text-anchor=\"middle\" x=\"3972\" y=\"-714.3\" font-family=\"Helvetica,sans-Serif\" font-size=\"14.00\">class = 이탈</text>\n</g>\n<!-- 167&#45;&gt;171 -->\n<g id=\"edge171\" class=\"edge\">\n<title>167&#45;&gt;171</title>\n<path fill=\"none\" stroke=\"black\" d=\"M3950.45,-817.91C3953.5,-807.09 3956.8,-795.38 3959.89,-784.44\"/>\n<polygon fill=\"black\" stroke=\"black\" points=\"3963.3,-785.24 3962.65,-774.67 3956.56,-783.34 3963.3,-785.24\"/>\n</g>\n<!-- 169 -->\n<g id=\"node170\" class=\"node\">\n<title>169</title>\n<polygon fill=\"#e58139\" stroke=\"black\" points=\"3831,-655.5 3725,-655.5 3725,-587.5 3831,-587.5 3831,-655.5\"/>\n<text text-anchor=\"middle\" x=\"3778\" y=\"-640.3\" font-family=\"Helvetica,sans-Serif\" font-size=\"14.00\">gini = 0.0</text>\n<text text-anchor=\"middle\" x=\"3778\" y=\"-625.3\" font-family=\"Helvetica,sans-Serif\" font-size=\"14.00\">samples = 2</text>\n<text text-anchor=\"middle\" x=\"3778\" y=\"-610.3\" font-family=\"Helvetica,sans-Serif\" font-size=\"14.00\">value = [2, 0]</text>\n<text text-anchor=\"middle\" x=\"3778\" y=\"-595.3\" font-family=\"Helvetica,sans-Serif\" font-size=\"14.00\">class = 비이탈</text>\n</g>\n<!-- 168&#45;&gt;169 -->\n<g id=\"edge169\" class=\"edge\">\n<title>168&#45;&gt;169</title>\n<path fill=\"none\" stroke=\"black\" d=\"M3817.18,-698.91C3811.52,-687.87 3805.38,-675.9 3799.68,-664.77\"/>\n<polygon fill=\"black\" stroke=\"black\" points=\"3802.69,-662.97 3795.01,-655.67 3796.46,-666.16 3802.69,-662.97\"/>\n</g>\n<!-- 170 -->\n<g id=\"node171\" class=\"node\">\n<title>170</title>\n<polygon fill=\"#399de5\" stroke=\"black\" points=\"3944.5,-655.5 3849.5,-655.5 3849.5,-587.5 3944.5,-587.5 3944.5,-655.5\"/>\n<text text-anchor=\"middle\" x=\"3897\" y=\"-640.3\" font-family=\"Helvetica,sans-Serif\" font-size=\"14.00\">gini = 0.0</text>\n<text text-anchor=\"middle\" x=\"3897\" y=\"-625.3\" font-family=\"Helvetica,sans-Serif\" font-size=\"14.00\">samples = 2</text>\n<text text-anchor=\"middle\" x=\"3897\" y=\"-610.3\" font-family=\"Helvetica,sans-Serif\" font-size=\"14.00\">value = [0, 2]</text>\n<text text-anchor=\"middle\" x=\"3897\" y=\"-595.3\" font-family=\"Helvetica,sans-Serif\" font-size=\"14.00\">class = 이탈</text>\n</g>\n<!-- 168&#45;&gt;170 -->\n<g id=\"edge170\" class=\"edge\">\n<title>168&#45;&gt;170</title>\n<path fill=\"none\" stroke=\"black\" d=\"M3858.47,-698.91C3864.03,-687.87 3870.07,-675.9 3875.68,-664.77\"/>\n<polygon fill=\"black\" stroke=\"black\" points=\"3878.9,-666.17 3880.27,-655.67 3872.65,-663.02 3878.9,-666.17\"/>\n</g>\n<!-- 174 -->\n<g id=\"node175\" class=\"node\">\n<title>174</title>\n<polygon fill=\"#e58139\" stroke=\"black\" points=\"4265,-893.5 4159,-893.5 4159,-825.5 4265,-825.5 4265,-893.5\"/>\n<text text-anchor=\"middle\" x=\"4212\" y=\"-878.3\" font-family=\"Helvetica,sans-Serif\" font-size=\"14.00\">gini = 0.0</text>\n<text text-anchor=\"middle\" x=\"4212\" y=\"-863.3\" font-family=\"Helvetica,sans-Serif\" font-size=\"14.00\">samples = 3</text>\n<text text-anchor=\"middle\" x=\"4212\" y=\"-848.3\" font-family=\"Helvetica,sans-Serif\" font-size=\"14.00\">value = [3, 0]</text>\n<text text-anchor=\"middle\" x=\"4212\" y=\"-833.3\" font-family=\"Helvetica,sans-Serif\" font-size=\"14.00\">class = 비이탈</text>\n</g>\n<!-- 173&#45;&gt;174 -->\n<g id=\"edge174\" class=\"edge\">\n<title>173&#45;&gt;174</title>\n<path fill=\"none\" stroke=\"black\" d=\"M4217.22,-936.91C4216.49,-926.2 4215.7,-914.62 4214.96,-903.78\"/>\n<polygon fill=\"black\" stroke=\"black\" points=\"4218.44,-903.4 4214.27,-893.67 4211.46,-903.88 4218.44,-903.4\"/>\n</g>\n<!-- 175 -->\n<g id=\"node176\" class=\"node\">\n<title>175</title>\n<polygon fill=\"#5aade9\" stroke=\"black\" points=\"4414.5,-901 4283.5,-901 4283.5,-818 4414.5,-818 4414.5,-901\"/>\n<text text-anchor=\"middle\" x=\"4349\" y=\"-885.8\" font-family=\"Helvetica,sans-Serif\" font-size=\"14.00\">방문빈도 &lt;= 0.634</text>\n<text text-anchor=\"middle\" x=\"4349\" y=\"-870.8\" font-family=\"Helvetica,sans-Serif\" font-size=\"14.00\">gini = 0.245</text>\n<text text-anchor=\"middle\" x=\"4349\" y=\"-855.8\" font-family=\"Helvetica,sans-Serif\" font-size=\"14.00\">samples = 28</text>\n<text text-anchor=\"middle\" x=\"4349\" y=\"-840.8\" font-family=\"Helvetica,sans-Serif\" font-size=\"14.00\">value = [4, 24]</text>\n<text text-anchor=\"middle\" x=\"4349\" y=\"-825.8\" font-family=\"Helvetica,sans-Serif\" font-size=\"14.00\">class = 이탈</text>\n</g>\n<!-- 173&#45;&gt;175 -->\n<g id=\"edge175\" class=\"edge\">\n<title>173&#45;&gt;175</title>\n<path fill=\"none\" stroke=\"black\" d=\"M4264.76,-936.91C4275.06,-927.56 4286.11,-917.54 4296.71,-907.93\"/>\n<polygon fill=\"black\" stroke=\"black\" points=\"4299.27,-910.33 4304.32,-901.02 4294.56,-905.15 4299.27,-910.33\"/>\n</g>\n<!-- 176 -->\n<g id=\"node177\" class=\"node\">\n<title>176</title>\n<polygon fill=\"#45a3e7\" stroke=\"black\" points=\"4341,-782 4205,-782 4205,-699 4341,-699 4341,-782\"/>\n<text text-anchor=\"middle\" x=\"4273\" y=\"-766.8\" font-family=\"Helvetica,sans-Serif\" font-size=\"14.00\">방문빈도 &lt;= &#45;0.288</text>\n<text text-anchor=\"middle\" x=\"4273\" y=\"-751.8\" font-family=\"Helvetica,sans-Serif\" font-size=\"14.00\">gini = 0.111</text>\n<text text-anchor=\"middle\" x=\"4273\" y=\"-736.8\" font-family=\"Helvetica,sans-Serif\" font-size=\"14.00\">samples = 17</text>\n<text text-anchor=\"middle\" x=\"4273\" y=\"-721.8\" font-family=\"Helvetica,sans-Serif\" font-size=\"14.00\">value = [1, 16]</text>\n<text text-anchor=\"middle\" x=\"4273\" y=\"-706.8\" font-family=\"Helvetica,sans-Serif\" font-size=\"14.00\">class = 이탈</text>\n</g>\n<!-- 175&#45;&gt;176 -->\n<g id=\"edge176\" class=\"edge\">\n<title>175&#45;&gt;176</title>\n<path fill=\"none\" stroke=\"black\" d=\"M4322.63,-817.91C4316.91,-809.1 4310.81,-799.7 4304.9,-790.61\"/>\n<polygon fill=\"black\" stroke=\"black\" points=\"4307.7,-788.5 4299.32,-782.02 4301.83,-792.31 4307.7,-788.5\"/>\n</g>\n<!-- 181 -->\n<g id=\"node182\" class=\"node\">\n<title>181</title>\n<polygon fill=\"#83c2ef\" stroke=\"black\" points=\"4490.5,-782 4359.5,-782 4359.5,-699 4490.5,-699 4490.5,-782\"/>\n<text text-anchor=\"middle\" x=\"4425\" y=\"-766.8\" font-family=\"Helvetica,sans-Serif\" font-size=\"14.00\">방문빈도 &lt;= 0.943</text>\n<text text-anchor=\"middle\" x=\"4425\" y=\"-751.8\" font-family=\"Helvetica,sans-Serif\" font-size=\"14.00\">gini = 0.397</text>\n<text text-anchor=\"middle\" x=\"4425\" y=\"-736.8\" font-family=\"Helvetica,sans-Serif\" font-size=\"14.00\">samples = 11</text>\n<text text-anchor=\"middle\" x=\"4425\" y=\"-721.8\" font-family=\"Helvetica,sans-Serif\" font-size=\"14.00\">value = [3, 8]</text>\n<text text-anchor=\"middle\" x=\"4425\" y=\"-706.8\" font-family=\"Helvetica,sans-Serif\" font-size=\"14.00\">class = 이탈</text>\n</g>\n<!-- 175&#45;&gt;181 -->\n<g id=\"edge181\" class=\"edge\">\n<title>175&#45;&gt;181</title>\n<path fill=\"none\" stroke=\"black\" d=\"M4375.37,-817.91C4381.09,-809.1 4387.19,-799.7 4393.1,-790.61\"/>\n<polygon fill=\"black\" stroke=\"black\" points=\"4396.17,-792.31 4398.68,-782.02 4390.3,-788.5 4396.17,-792.31\"/>\n</g>\n<!-- 177 -->\n<g id=\"node178\" class=\"node\">\n<title>177</title>\n<polygon fill=\"#ffffff\" stroke=\"black\" points=\"4210.5,-663 4079.5,-663 4079.5,-580 4210.5,-580 4210.5,-663\"/>\n<text text-anchor=\"middle\" x=\"4145\" y=\"-647.8\" font-family=\"Helvetica,sans-Serif\" font-size=\"14.00\">총매출액 &lt;= 0.146</text>\n<text text-anchor=\"middle\" x=\"4145\" y=\"-632.8\" font-family=\"Helvetica,sans-Serif\" font-size=\"14.00\">gini = 0.5</text>\n<text text-anchor=\"middle\" x=\"4145\" y=\"-617.8\" font-family=\"Helvetica,sans-Serif\" font-size=\"14.00\">samples = 2</text>\n<text text-anchor=\"middle\" x=\"4145\" y=\"-602.8\" font-family=\"Helvetica,sans-Serif\" font-size=\"14.00\">value = [1, 1]</text>\n<text text-anchor=\"middle\" x=\"4145\" y=\"-587.8\" font-family=\"Helvetica,sans-Serif\" font-size=\"14.00\">class = 비이탈</text>\n</g>\n<!-- 176&#45;&gt;177 -->\n<g id=\"edge177\" class=\"edge\">\n<title>176&#45;&gt;177</title>\n<path fill=\"none\" stroke=\"black\" d=\"M4228.59,-698.91C4218.36,-689.56 4207.4,-679.54 4196.89,-669.93\"/>\n<polygon fill=\"black\" stroke=\"black\" points=\"4199.07,-667.18 4189.33,-663.02 4194.35,-672.35 4199.07,-667.18\"/>\n</g>\n<!-- 180 -->\n<g id=\"node181\" class=\"node\">\n<title>180</title>\n<polygon fill=\"#399de5\" stroke=\"black\" points=\"4331,-655.5 4229,-655.5 4229,-587.5 4331,-587.5 4331,-655.5\"/>\n<text text-anchor=\"middle\" x=\"4280\" y=\"-640.3\" font-family=\"Helvetica,sans-Serif\" font-size=\"14.00\">gini = 0.0</text>\n<text text-anchor=\"middle\" x=\"4280\" y=\"-625.3\" font-family=\"Helvetica,sans-Serif\" font-size=\"14.00\">samples = 15</text>\n<text text-anchor=\"middle\" x=\"4280\" y=\"-610.3\" font-family=\"Helvetica,sans-Serif\" font-size=\"14.00\">value = [0, 15]</text>\n<text text-anchor=\"middle\" x=\"4280\" y=\"-595.3\" font-family=\"Helvetica,sans-Serif\" font-size=\"14.00\">class = 이탈</text>\n</g>\n<!-- 176&#45;&gt;180 -->\n<g id=\"edge180\" class=\"edge\">\n<title>176&#45;&gt;180</title>\n<path fill=\"none\" stroke=\"black\" d=\"M4275.43,-698.91C4276.07,-688.2 4276.76,-676.62 4277.41,-665.78\"/>\n<polygon fill=\"black\" stroke=\"black\" points=\"4280.91,-665.86 4278.02,-655.67 4273.92,-665.44 4280.91,-665.86\"/>\n</g>\n<!-- 178 -->\n<g id=\"node179\" class=\"node\">\n<title>178</title>\n<polygon fill=\"#e58139\" stroke=\"black\" points=\"4138,-536.5 4032,-536.5 4032,-468.5 4138,-468.5 4138,-536.5\"/>\n<text text-anchor=\"middle\" x=\"4085\" y=\"-521.3\" font-family=\"Helvetica,sans-Serif\" font-size=\"14.00\">gini = 0.0</text>\n<text text-anchor=\"middle\" x=\"4085\" y=\"-506.3\" font-family=\"Helvetica,sans-Serif\" font-size=\"14.00\">samples = 1</text>\n<text text-anchor=\"middle\" x=\"4085\" y=\"-491.3\" font-family=\"Helvetica,sans-Serif\" font-size=\"14.00\">value = [1, 0]</text>\n<text text-anchor=\"middle\" x=\"4085\" y=\"-476.3\" font-family=\"Helvetica,sans-Serif\" font-size=\"14.00\">class = 비이탈</text>\n</g>\n<!-- 177&#45;&gt;178 -->\n<g id=\"edge178\" class=\"edge\">\n<title>177&#45;&gt;178</title>\n<path fill=\"none\" stroke=\"black\" d=\"M4124.18,-579.91C4118.52,-568.87 4112.38,-556.9 4106.68,-545.77\"/>\n<polygon fill=\"black\" stroke=\"black\" points=\"4109.69,-543.97 4102.01,-536.67 4103.46,-547.16 4109.69,-543.97\"/>\n</g>\n<!-- 179 -->\n<g id=\"node180\" class=\"node\">\n<title>179</title>\n<polygon fill=\"#399de5\" stroke=\"black\" points=\"4251.5,-536.5 4156.5,-536.5 4156.5,-468.5 4251.5,-468.5 4251.5,-536.5\"/>\n<text text-anchor=\"middle\" x=\"4204\" y=\"-521.3\" font-family=\"Helvetica,sans-Serif\" font-size=\"14.00\">gini = 0.0</text>\n<text text-anchor=\"middle\" x=\"4204\" y=\"-506.3\" font-family=\"Helvetica,sans-Serif\" font-size=\"14.00\">samples = 1</text>\n<text text-anchor=\"middle\" x=\"4204\" y=\"-491.3\" font-family=\"Helvetica,sans-Serif\" font-size=\"14.00\">value = [0, 1]</text>\n<text text-anchor=\"middle\" x=\"4204\" y=\"-476.3\" font-family=\"Helvetica,sans-Serif\" font-size=\"14.00\">class = 이탈</text>\n</g>\n<!-- 177&#45;&gt;179 -->\n<g id=\"edge179\" class=\"edge\">\n<title>177&#45;&gt;179</title>\n<path fill=\"none\" stroke=\"black\" d=\"M4165.47,-579.91C4171.03,-568.87 4177.07,-556.9 4182.68,-545.77\"/>\n<polygon fill=\"black\" stroke=\"black\" points=\"4185.9,-547.17 4187.27,-536.67 4179.65,-544.02 4185.9,-547.17\"/>\n</g>\n<!-- 182 -->\n<g id=\"node183\" class=\"node\">\n<title>182</title>\n<polygon fill=\"#e58139\" stroke=\"black\" points=\"4470,-655.5 4364,-655.5 4364,-587.5 4470,-587.5 4470,-655.5\"/>\n<text text-anchor=\"middle\" x=\"4417\" y=\"-640.3\" font-family=\"Helvetica,sans-Serif\" font-size=\"14.00\">gini = 0.0</text>\n<text text-anchor=\"middle\" x=\"4417\" y=\"-625.3\" font-family=\"Helvetica,sans-Serif\" font-size=\"14.00\">samples = 2</text>\n<text text-anchor=\"middle\" x=\"4417\" y=\"-610.3\" font-family=\"Helvetica,sans-Serif\" font-size=\"14.00\">value = [2, 0]</text>\n<text text-anchor=\"middle\" x=\"4417\" y=\"-595.3\" font-family=\"Helvetica,sans-Serif\" font-size=\"14.00\">class = 비이탈</text>\n</g>\n<!-- 181&#45;&gt;182 -->\n<g id=\"edge182\" class=\"edge\">\n<title>181&#45;&gt;182</title>\n<path fill=\"none\" stroke=\"black\" d=\"M4422.22,-698.91C4421.49,-688.2 4420.7,-676.62 4419.96,-665.78\"/>\n<polygon fill=\"black\" stroke=\"black\" points=\"4423.44,-665.4 4419.27,-655.67 4416.46,-665.88 4423.44,-665.4\"/>\n</g>\n<!-- 183 -->\n<g id=\"node184\" class=\"node\">\n<title>183</title>\n<polygon fill=\"#52a9e8\" stroke=\"black\" points=\"4619.5,-663 4488.5,-663 4488.5,-580 4619.5,-580 4619.5,-663\"/>\n<text text-anchor=\"middle\" x=\"4554\" y=\"-647.8\" font-family=\"Helvetica,sans-Serif\" font-size=\"14.00\">거래기간 &lt;= 0.424</text>\n<text text-anchor=\"middle\" x=\"4554\" y=\"-632.8\" font-family=\"Helvetica,sans-Serif\" font-size=\"14.00\">gini = 0.198</text>\n<text text-anchor=\"middle\" x=\"4554\" y=\"-617.8\" font-family=\"Helvetica,sans-Serif\" font-size=\"14.00\">samples = 9</text>\n<text text-anchor=\"middle\" x=\"4554\" y=\"-602.8\" font-family=\"Helvetica,sans-Serif\" font-size=\"14.00\">value = [1, 8]</text>\n<text text-anchor=\"middle\" x=\"4554\" y=\"-587.8\" font-family=\"Helvetica,sans-Serif\" font-size=\"14.00\">class = 이탈</text>\n</g>\n<!-- 181&#45;&gt;183 -->\n<g id=\"edge183\" class=\"edge\">\n<title>181&#45;&gt;183</title>\n<path fill=\"none\" stroke=\"black\" d=\"M4469.76,-698.91C4480.06,-689.56 4491.11,-679.54 4501.71,-669.93\"/>\n<polygon fill=\"black\" stroke=\"black\" points=\"4504.27,-672.33 4509.32,-663.02 4499.56,-667.15 4504.27,-672.33\"/>\n</g>\n<!-- 184 -->\n<g id=\"node185\" class=\"node\">\n<title>184</title>\n<polygon fill=\"#399de5\" stroke=\"black\" points=\"4535.5,-536.5 4440.5,-536.5 4440.5,-468.5 4535.5,-468.5 4535.5,-536.5\"/>\n<text text-anchor=\"middle\" x=\"4488\" y=\"-521.3\" font-family=\"Helvetica,sans-Serif\" font-size=\"14.00\">gini = 0.0</text>\n<text text-anchor=\"middle\" x=\"4488\" y=\"-506.3\" font-family=\"Helvetica,sans-Serif\" font-size=\"14.00\">samples = 7</text>\n<text text-anchor=\"middle\" x=\"4488\" y=\"-491.3\" font-family=\"Helvetica,sans-Serif\" font-size=\"14.00\">value = [0, 7]</text>\n<text text-anchor=\"middle\" x=\"4488\" y=\"-476.3\" font-family=\"Helvetica,sans-Serif\" font-size=\"14.00\">class = 이탈</text>\n</g>\n<!-- 183&#45;&gt;184 -->\n<g id=\"edge184\" class=\"edge\">\n<title>183&#45;&gt;184</title>\n<path fill=\"none\" stroke=\"black\" d=\"M4531.1,-579.91C4524.81,-568.76 4517.99,-556.66 4511.66,-545.44\"/>\n<polygon fill=\"black\" stroke=\"black\" points=\"4514.67,-543.66 4506.71,-536.67 4508.57,-547.1 4514.67,-543.66\"/>\n</g>\n<!-- 185 -->\n<g id=\"node186\" class=\"node\">\n<title>185</title>\n<polygon fill=\"#ffffff\" stroke=\"black\" points=\"4684.5,-544 4553.5,-544 4553.5,-461 4684.5,-461 4684.5,-544\"/>\n<text text-anchor=\"middle\" x=\"4619\" y=\"-528.8\" font-family=\"Helvetica,sans-Serif\" font-size=\"14.00\">방문빈도 &lt;= 2.416</text>\n<text text-anchor=\"middle\" x=\"4619\" y=\"-513.8\" font-family=\"Helvetica,sans-Serif\" font-size=\"14.00\">gini = 0.5</text>\n<text text-anchor=\"middle\" x=\"4619\" y=\"-498.8\" font-family=\"Helvetica,sans-Serif\" font-size=\"14.00\">samples = 2</text>\n<text text-anchor=\"middle\" x=\"4619\" y=\"-483.8\" font-family=\"Helvetica,sans-Serif\" font-size=\"14.00\">value = [1, 1]</text>\n<text text-anchor=\"middle\" x=\"4619\" y=\"-468.8\" font-family=\"Helvetica,sans-Serif\" font-size=\"14.00\">class = 비이탈</text>\n</g>\n<!-- 183&#45;&gt;185 -->\n<g id=\"edge185\" class=\"edge\">\n<title>183&#45;&gt;185</title>\n<path fill=\"none\" stroke=\"black\" d=\"M4576.55,-579.91C4581.39,-571.2 4586.56,-561.9 4591.56,-552.89\"/>\n<polygon fill=\"black\" stroke=\"black\" points=\"4594.69,-554.46 4596.49,-544.02 4588.57,-551.06 4594.69,-554.46\"/>\n</g>\n<!-- 186 -->\n<g id=\"node187\" class=\"node\">\n<title>186</title>\n<polygon fill=\"#399de5\" stroke=\"black\" points=\"4606.5,-417.5 4511.5,-417.5 4511.5,-349.5 4606.5,-349.5 4606.5,-417.5\"/>\n<text text-anchor=\"middle\" x=\"4559\" y=\"-402.3\" font-family=\"Helvetica,sans-Serif\" font-size=\"14.00\">gini = 0.0</text>\n<text text-anchor=\"middle\" x=\"4559\" y=\"-387.3\" font-family=\"Helvetica,sans-Serif\" font-size=\"14.00\">samples = 1</text>\n<text text-anchor=\"middle\" x=\"4559\" y=\"-372.3\" font-family=\"Helvetica,sans-Serif\" font-size=\"14.00\">value = [0, 1]</text>\n<text text-anchor=\"middle\" x=\"4559\" y=\"-357.3\" font-family=\"Helvetica,sans-Serif\" font-size=\"14.00\">class = 이탈</text>\n</g>\n<!-- 185&#45;&gt;186 -->\n<g id=\"edge186\" class=\"edge\">\n<title>185&#45;&gt;186</title>\n<path fill=\"none\" stroke=\"black\" d=\"M4598.18,-460.91C4592.52,-449.87 4586.38,-437.9 4580.68,-426.77\"/>\n<polygon fill=\"black\" stroke=\"black\" points=\"4583.69,-424.97 4576.01,-417.67 4577.46,-428.16 4583.69,-424.97\"/>\n</g>\n<!-- 187 -->\n<g id=\"node188\" class=\"node\">\n<title>187</title>\n<polygon fill=\"#e58139\" stroke=\"black\" points=\"4731,-417.5 4625,-417.5 4625,-349.5 4731,-349.5 4731,-417.5\"/>\n<text text-anchor=\"middle\" x=\"4678\" y=\"-402.3\" font-family=\"Helvetica,sans-Serif\" font-size=\"14.00\">gini = 0.0</text>\n<text text-anchor=\"middle\" x=\"4678\" y=\"-387.3\" font-family=\"Helvetica,sans-Serif\" font-size=\"14.00\">samples = 1</text>\n<text text-anchor=\"middle\" x=\"4678\" y=\"-372.3\" font-family=\"Helvetica,sans-Serif\" font-size=\"14.00\">value = [1, 0]</text>\n<text text-anchor=\"middle\" x=\"4678\" y=\"-357.3\" font-family=\"Helvetica,sans-Serif\" font-size=\"14.00\">class = 비이탈</text>\n</g>\n<!-- 185&#45;&gt;187 -->\n<g id=\"edge187\" class=\"edge\">\n<title>185&#45;&gt;187</title>\n<path fill=\"none\" stroke=\"black\" d=\"M4639.47,-460.91C4645.03,-449.87 4651.07,-437.9 4656.68,-426.77\"/>\n<polygon fill=\"black\" stroke=\"black\" points=\"4659.9,-428.17 4661.27,-417.67 4653.65,-425.02 4659.9,-428.17\"/>\n</g>\n<!-- 189 -->\n<g id=\"node190\" class=\"node\">\n<title>189</title>\n<polygon fill=\"#e5813a\" stroke=\"black\" points=\"3786,-1734 3650,-1734 3650,-1651 3786,-1651 3786,-1734\"/>\n<text text-anchor=\"middle\" x=\"3718\" y=\"-1718.8\" font-family=\"Helvetica,sans-Serif\" font-size=\"14.00\">방문빈도 &lt;= &#45;0.642</text>\n<text text-anchor=\"middle\" x=\"3718\" y=\"-1703.8\" font-family=\"Helvetica,sans-Serif\" font-size=\"14.00\">gini = 0.006</text>\n<text text-anchor=\"middle\" x=\"3718\" y=\"-1688.8\" font-family=\"Helvetica,sans-Serif\" font-size=\"14.00\">samples = 308</text>\n<text text-anchor=\"middle\" x=\"3718\" y=\"-1673.8\" font-family=\"Helvetica,sans-Serif\" font-size=\"14.00\">value = [307, 1]</text>\n<text text-anchor=\"middle\" x=\"3718\" y=\"-1658.8\" font-family=\"Helvetica,sans-Serif\" font-size=\"14.00\">class = 비이탈</text>\n</g>\n<!-- 188&#45;&gt;189 -->\n<g id=\"edge189\" class=\"edge\">\n<title>188&#45;&gt;189</title>\n<path fill=\"none\" stroke=\"black\" d=\"M3718,-1769.91C3718,-1761.65 3718,-1752.86 3718,-1744.3\"/>\n<polygon fill=\"black\" stroke=\"black\" points=\"3721.5,-1744.02 3718,-1734.02 3714.5,-1744.02 3721.5,-1744.02\"/>\n</g>\n<!-- 194 -->\n<g id=\"node195\" class=\"node\">\n<title>194</title>\n<polygon fill=\"#399de5\" stroke=\"black\" points=\"3899.5,-1726.5 3804.5,-1726.5 3804.5,-1658.5 3899.5,-1658.5 3899.5,-1726.5\"/>\n<text text-anchor=\"middle\" x=\"3852\" y=\"-1711.3\" font-family=\"Helvetica,sans-Serif\" font-size=\"14.00\">gini = 0.0</text>\n<text text-anchor=\"middle\" x=\"3852\" y=\"-1696.3\" font-family=\"Helvetica,sans-Serif\" font-size=\"14.00\">samples = 2</text>\n<text text-anchor=\"middle\" x=\"3852\" y=\"-1681.3\" font-family=\"Helvetica,sans-Serif\" font-size=\"14.00\">value = [0, 2]</text>\n<text text-anchor=\"middle\" x=\"3852\" y=\"-1666.3\" font-family=\"Helvetica,sans-Serif\" font-size=\"14.00\">class = 이탈</text>\n</g>\n<!-- 188&#45;&gt;194 -->\n<g id=\"edge194\" class=\"edge\">\n<title>188&#45;&gt;194</title>\n<path fill=\"none\" stroke=\"black\" d=\"M3764.49,-1769.91C3778.01,-1758.1 3792.77,-1745.22 3806.25,-1733.45\"/>\n<polygon fill=\"black\" stroke=\"black\" points=\"3808.78,-1735.88 3814.01,-1726.67 3804.18,-1730.61 3808.78,-1735.88\"/>\n</g>\n<!-- 190 -->\n<g id=\"node191\" class=\"node\">\n<title>190</title>\n<polygon fill=\"#e5833c\" stroke=\"black\" points=\"3786,-1615 3650,-1615 3650,-1532 3786,-1532 3786,-1615\"/>\n<text text-anchor=\"middle\" x=\"3718\" y=\"-1599.8\" font-family=\"Helvetica,sans-Serif\" font-size=\"14.00\">방문빈도 &lt;= &#45;0.668</text>\n<text text-anchor=\"middle\" x=\"3718\" y=\"-1584.8\" font-family=\"Helvetica,sans-Serif\" font-size=\"14.00\">gini = 0.033</text>\n<text text-anchor=\"middle\" x=\"3718\" y=\"-1569.8\" font-family=\"Helvetica,sans-Serif\" font-size=\"14.00\">samples = 59</text>\n<text text-anchor=\"middle\" x=\"3718\" y=\"-1554.8\" font-family=\"Helvetica,sans-Serif\" font-size=\"14.00\">value = [58, 1]</text>\n<text text-anchor=\"middle\" x=\"3718\" y=\"-1539.8\" font-family=\"Helvetica,sans-Serif\" font-size=\"14.00\">class = 비이탈</text>\n</g>\n<!-- 189&#45;&gt;190 -->\n<g id=\"edge190\" class=\"edge\">\n<title>189&#45;&gt;190</title>\n<path fill=\"none\" stroke=\"black\" d=\"M3718,-1650.91C3718,-1642.65 3718,-1633.86 3718,-1625.3\"/>\n<polygon fill=\"black\" stroke=\"black\" points=\"3721.5,-1625.02 3718,-1615.02 3714.5,-1625.02 3721.5,-1625.02\"/>\n</g>\n<!-- 193 -->\n<g id=\"node194\" class=\"node\">\n<title>193</title>\n<polygon fill=\"#e58139\" stroke=\"black\" points=\"3914,-1607.5 3804,-1607.5 3804,-1539.5 3914,-1539.5 3914,-1607.5\"/>\n<text text-anchor=\"middle\" x=\"3859\" y=\"-1592.3\" font-family=\"Helvetica,sans-Serif\" font-size=\"14.00\">gini = 0.0</text>\n<text text-anchor=\"middle\" x=\"3859\" y=\"-1577.3\" font-family=\"Helvetica,sans-Serif\" font-size=\"14.00\">samples = 249</text>\n<text text-anchor=\"middle\" x=\"3859\" y=\"-1562.3\" font-family=\"Helvetica,sans-Serif\" font-size=\"14.00\">value = [249, 0]</text>\n<text text-anchor=\"middle\" x=\"3859\" y=\"-1547.3\" font-family=\"Helvetica,sans-Serif\" font-size=\"14.00\">class = 비이탈</text>\n</g>\n<!-- 189&#45;&gt;193 -->\n<g id=\"edge193\" class=\"edge\">\n<title>189&#45;&gt;193</title>\n<path fill=\"none\" stroke=\"black\" d=\"M3766.92,-1650.91C3781.28,-1638.99 3796.97,-1625.98 3811.25,-1614.12\"/>\n<polygon fill=\"black\" stroke=\"black\" points=\"3813.57,-1616.75 3819.03,-1607.67 3809.1,-1611.36 3813.57,-1616.75\"/>\n</g>\n<!-- 191 -->\n<g id=\"node192\" class=\"node\">\n<title>191</title>\n<polygon fill=\"#e58139\" stroke=\"black\" points=\"3771,-1488.5 3665,-1488.5 3665,-1420.5 3771,-1420.5 3771,-1488.5\"/>\n<text text-anchor=\"middle\" x=\"3718\" y=\"-1473.3\" font-family=\"Helvetica,sans-Serif\" font-size=\"14.00\">gini = 0.0</text>\n<text text-anchor=\"middle\" x=\"3718\" y=\"-1458.3\" font-family=\"Helvetica,sans-Serif\" font-size=\"14.00\">samples = 58</text>\n<text text-anchor=\"middle\" x=\"3718\" y=\"-1443.3\" font-family=\"Helvetica,sans-Serif\" font-size=\"14.00\">value = [58, 0]</text>\n<text text-anchor=\"middle\" x=\"3718\" y=\"-1428.3\" font-family=\"Helvetica,sans-Serif\" font-size=\"14.00\">class = 비이탈</text>\n</g>\n<!-- 190&#45;&gt;191 -->\n<g id=\"edge191\" class=\"edge\">\n<title>190&#45;&gt;191</title>\n<path fill=\"none\" stroke=\"black\" d=\"M3718,-1531.91C3718,-1521.2 3718,-1509.62 3718,-1498.78\"/>\n<polygon fill=\"black\" stroke=\"black\" points=\"3721.5,-1498.67 3718,-1488.67 3714.5,-1498.67 3721.5,-1498.67\"/>\n</g>\n<!-- 192 -->\n<g id=\"node193\" class=\"node\">\n<title>192</title>\n<polygon fill=\"#399de5\" stroke=\"black\" points=\"3884.5,-1488.5 3789.5,-1488.5 3789.5,-1420.5 3884.5,-1420.5 3884.5,-1488.5\"/>\n<text text-anchor=\"middle\" x=\"3837\" y=\"-1473.3\" font-family=\"Helvetica,sans-Serif\" font-size=\"14.00\">gini = 0.0</text>\n<text text-anchor=\"middle\" x=\"3837\" y=\"-1458.3\" font-family=\"Helvetica,sans-Serif\" font-size=\"14.00\">samples = 1</text>\n<text text-anchor=\"middle\" x=\"3837\" y=\"-1443.3\" font-family=\"Helvetica,sans-Serif\" font-size=\"14.00\">value = [0, 1]</text>\n<text text-anchor=\"middle\" x=\"3837\" y=\"-1428.3\" font-family=\"Helvetica,sans-Serif\" font-size=\"14.00\">class = 이탈</text>\n</g>\n<!-- 190&#45;&gt;192 -->\n<g id=\"edge192\" class=\"edge\">\n<title>190&#45;&gt;192</title>\n<path fill=\"none\" stroke=\"black\" d=\"M3759.29,-1531.91C3771.18,-1520.21 3784.15,-1507.46 3796.03,-1495.78\"/>\n<polygon fill=\"black\" stroke=\"black\" points=\"3798.59,-1498.17 3803.27,-1488.67 3793.68,-1493.18 3798.59,-1498.17\"/>\n</g>\n</g>\n</svg>\n",
            "text/plain": [
              "<graphviz.sources.Source at 0x7afedddbfdf0>"
            ]
          },
          "metadata": {},
          "execution_count": 56
        }
      ],
      "source": [
        "with open('tree.dot', encoding = 'UTF-8') as f:\n",
        "    dot_graph = f.read()\n",
        "graphviz.Source(dot_graph)"
      ]
    },
    {
      "cell_type": "code",
      "execution_count": null,
      "id": "920db49f",
      "metadata": {
        "id": "920db49f"
      },
      "outputs": [],
      "source": []
    },
    {
      "cell_type": "markdown",
      "source": [
        "### 230828 - SVM(서포트 벡터 머신)"
      ],
      "metadata": {
        "id": "TGjCSSGa5Mfd"
      },
      "id": "TGjCSSGa5Mfd"
    },
    {
      "cell_type": "code",
      "source": [
        "# 차원 축소? 주성분? 요인분석?\n",
        "# 사실 중간에 멍 때려서 몰라도 알아듣는 척하는 중\n",
        "# 음... 먼지 모르겠다...\n",
        "# feature importance?\n",
        "# 사실 모르겠지만 부끄러워서 못 말하게썽"
      ],
      "metadata": {
        "id": "8UeKO4SCX8B9"
      },
      "id": "8UeKO4SCX8B9",
      "execution_count": null,
      "outputs": []
    },
    {
      "cell_type": "code",
      "execution_count": null,
      "metadata": {
        "id": "0UcItt695dBM"
      },
      "outputs": [],
      "source": [
        "from sklearn.svm import SVC"
      ],
      "id": "0UcItt695dBM"
    },
    {
      "cell_type": "code",
      "execution_count": null,
      "metadata": {
        "id": "x-jTNpJo5dBN"
      },
      "outputs": [],
      "source": [
        "svm_mdl = SVC(C = 100)"
      ],
      "id": "x-jTNpJo5dBN"
    },
    {
      "cell_type": "code",
      "execution_count": null,
      "metadata": {
        "colab": {
          "base_uri": "https://localhost:8080/",
          "height": 75
        },
        "outputId": "7a06efbd-ed69-4a1f-b412-4438ef4022d9",
        "id": "OAAxWl575dBN"
      },
      "outputs": [
        {
          "output_type": "execute_result",
          "data": {
            "text/plain": [
              "SVC(C=100)"
            ],
            "text/html": [
              "<style>#sk-container-id-6 {color: black;background-color: white;}#sk-container-id-6 pre{padding: 0;}#sk-container-id-6 div.sk-toggleable {background-color: white;}#sk-container-id-6 label.sk-toggleable__label {cursor: pointer;display: block;width: 100%;margin-bottom: 0;padding: 0.3em;box-sizing: border-box;text-align: center;}#sk-container-id-6 label.sk-toggleable__label-arrow:before {content: \"▸\";float: left;margin-right: 0.25em;color: #696969;}#sk-container-id-6 label.sk-toggleable__label-arrow:hover:before {color: black;}#sk-container-id-6 div.sk-estimator:hover label.sk-toggleable__label-arrow:before {color: black;}#sk-container-id-6 div.sk-toggleable__content {max-height: 0;max-width: 0;overflow: hidden;text-align: left;background-color: #f0f8ff;}#sk-container-id-6 div.sk-toggleable__content pre {margin: 0.2em;color: black;border-radius: 0.25em;background-color: #f0f8ff;}#sk-container-id-6 input.sk-toggleable__control:checked~div.sk-toggleable__content {max-height: 200px;max-width: 100%;overflow: auto;}#sk-container-id-6 input.sk-toggleable__control:checked~label.sk-toggleable__label-arrow:before {content: \"▾\";}#sk-container-id-6 div.sk-estimator input.sk-toggleable__control:checked~label.sk-toggleable__label {background-color: #d4ebff;}#sk-container-id-6 div.sk-label input.sk-toggleable__control:checked~label.sk-toggleable__label {background-color: #d4ebff;}#sk-container-id-6 input.sk-hidden--visually {border: 0;clip: rect(1px 1px 1px 1px);clip: rect(1px, 1px, 1px, 1px);height: 1px;margin: -1px;overflow: hidden;padding: 0;position: absolute;width: 1px;}#sk-container-id-6 div.sk-estimator {font-family: monospace;background-color: #f0f8ff;border: 1px dotted black;border-radius: 0.25em;box-sizing: border-box;margin-bottom: 0.5em;}#sk-container-id-6 div.sk-estimator:hover {background-color: #d4ebff;}#sk-container-id-6 div.sk-parallel-item::after {content: \"\";width: 100%;border-bottom: 1px solid gray;flex-grow: 1;}#sk-container-id-6 div.sk-label:hover label.sk-toggleable__label {background-color: #d4ebff;}#sk-container-id-6 div.sk-serial::before {content: \"\";position: absolute;border-left: 1px solid gray;box-sizing: border-box;top: 0;bottom: 0;left: 50%;z-index: 0;}#sk-container-id-6 div.sk-serial {display: flex;flex-direction: column;align-items: center;background-color: white;padding-right: 0.2em;padding-left: 0.2em;position: relative;}#sk-container-id-6 div.sk-item {position: relative;z-index: 1;}#sk-container-id-6 div.sk-parallel {display: flex;align-items: stretch;justify-content: center;background-color: white;position: relative;}#sk-container-id-6 div.sk-item::before, #sk-container-id-6 div.sk-parallel-item::before {content: \"\";position: absolute;border-left: 1px solid gray;box-sizing: border-box;top: 0;bottom: 0;left: 50%;z-index: -1;}#sk-container-id-6 div.sk-parallel-item {display: flex;flex-direction: column;z-index: 1;position: relative;background-color: white;}#sk-container-id-6 div.sk-parallel-item:first-child::after {align-self: flex-end;width: 50%;}#sk-container-id-6 div.sk-parallel-item:last-child::after {align-self: flex-start;width: 50%;}#sk-container-id-6 div.sk-parallel-item:only-child::after {width: 0;}#sk-container-id-6 div.sk-dashed-wrapped {border: 1px dashed gray;margin: 0 0.4em 0.5em 0.4em;box-sizing: border-box;padding-bottom: 0.4em;background-color: white;}#sk-container-id-6 div.sk-label label {font-family: monospace;font-weight: bold;display: inline-block;line-height: 1.2em;}#sk-container-id-6 div.sk-label-container {text-align: center;}#sk-container-id-6 div.sk-container {/* jupyter's `normalize.less` sets `[hidden] { display: none; }` but bootstrap.min.css set `[hidden] { display: none !important; }` so we also need the `!important` here to be able to override the default hidden behavior on the sphinx rendered scikit-learn.org. See: https://github.com/scikit-learn/scikit-learn/issues/21755 */display: inline-block !important;position: relative;}#sk-container-id-6 div.sk-text-repr-fallback {display: none;}</style><div id=\"sk-container-id-6\" class=\"sk-top-container\"><div class=\"sk-text-repr-fallback\"><pre>SVC(C=100)</pre><b>In a Jupyter environment, please rerun this cell to show the HTML representation or trust the notebook. <br />On GitHub, the HTML representation is unable to render, please try loading this page with nbviewer.org.</b></div><div class=\"sk-container\" hidden><div class=\"sk-item\"><div class=\"sk-estimator sk-toggleable\"><input class=\"sk-toggleable__control sk-hidden--visually\" id=\"sk-estimator-id-6\" type=\"checkbox\" checked><label for=\"sk-estimator-id-6\" class=\"sk-toggleable__label sk-toggleable__label-arrow\">SVC</label><div class=\"sk-toggleable__content\"><pre>SVC(C=100)</pre></div></div></div></div></div>"
            ]
          },
          "metadata": {},
          "execution_count": 61
        }
      ],
      "source": [
        "svm_mdl.fit(X_train_over, Y_train_over)"
      ],
      "id": "OAAxWl575dBN"
    },
    {
      "cell_type": "code",
      "execution_count": null,
      "metadata": {
        "id": "NbS3-YTw5dBN"
      },
      "outputs": [],
      "source": [
        "Y_pred_svm = svm_mdl.predict(X_test)"
      ],
      "id": "NbS3-YTw5dBN"
    },
    {
      "cell_type": "code",
      "execution_count": null,
      "metadata": {
        "colab": {
          "base_uri": "https://localhost:8080/"
        },
        "outputId": "6b70a1f3-ac92-4709-f165-d84759d40b1e",
        "id": "N_OWaJ2_5dBN"
      },
      "outputs": [
        {
          "output_type": "stream",
          "name": "stdout",
          "text": [
            "[0 1 1 0 0 0 1 1 0 0 1 0 0 1 0 1 0 1 1 1 0 0 0 1 0 0 1 1 1 0 0 0 0 0 0 0 0\n",
            " 0 0 0 1 0 0 0 1 0 0 1 1 0 1 1 1 0 1 0 1 0 0 1 1 0 0 1 0 1 1 0 1 1 0 1 0 1\n",
            " 0 0 0 0 1 0 0 0 1 0 0 0 1 0 0 0 0 0 0 1 1 0 0 1 0 1 0 0 1 0 1 0 0 0 0 1 1\n",
            " 0 0 1 1 0 0 1 0 0 0 0 0 0 1 0 1 1 0 0 0 0 0 0 0 0 1 1 0 1 1 1 1 1 1 0 1 0\n",
            " 0 1 0 1 0 0 0 0 0 1 0 1 0 0 1 1 0 0 0 0 1 1 0 0 1 0 0 0 1 0 0 1 0 0 0 1 0\n",
            " 0 0 0 0 1 0 0 0 1 0 0 1 1 0 0 1 0 1 0 0 0 0 0 0 0 1 1 1 0 1 0 1 1 0 0 0 0\n",
            " 0 1 1 1 0 0 1 0 0 0 0 0 1 1 1 1 1 1 0 0 1 1 0 0 1 1 1 0 1 0 1 0 0 0 0 0 1\n",
            " 1 0 0 0 1 0 0 0 1 1 0 0 0 1 1 0 0 1 0 0 1 0 1 1 1 0 1 0 1 1 0 0 1 0 0 0 1\n",
            " 1 0 0 1]\n"
          ]
        }
      ],
      "source": [
        "print(Y_pred_svm)"
      ],
      "id": "N_OWaJ2_5dBN"
    },
    {
      "cell_type": "code",
      "execution_count": null,
      "metadata": {
        "colab": {
          "base_uri": "https://localhost:8080/"
        },
        "outputId": "606e354d-0786-4b06-e24e-8d74b694ad8f",
        "id": "aPVffAju5dBN"
      },
      "outputs": [
        {
          "output_type": "stream",
          "name": "stdout",
          "text": [
            "              precision    recall  f1-score   support\n",
            "\n",
            "           0       0.93      0.77      0.84       219\n",
            "           1       0.58      0.84      0.68        81\n",
            "\n",
            "    accuracy                           0.79       300\n",
            "   macro avg       0.75      0.81      0.76       300\n",
            "weighted avg       0.83      0.79      0.80       300\n",
            "\n"
          ]
        }
      ],
      "source": [
        "cr_svm = classification_report(Y_test, Y_pred_dt)\n",
        "print(cr_svm)\n",
        "\n",
        "# f1-score & accuracy 79%, 80% 가까워지면 과적합 위험이 있음"
      ],
      "id": "aPVffAju5dBN"
    },
    {
      "cell_type": "code",
      "source": [
        "print(svm_mdl.decision_function)"
      ],
      "metadata": {
        "colab": {
          "base_uri": "https://localhost:8080/"
        },
        "id": "H1CVNvVu6h9S",
        "outputId": "38f98b67-dbb4-47bf-8ddb-6a406ad2d3fc"
      },
      "id": "H1CVNvVu6h9S",
      "execution_count": null,
      "outputs": [
        {
          "output_type": "stream",
          "name": "stdout",
          "text": [
            "<bound method BaseSVC.decision_function of SVC(C=100)>\n"
          ]
        }
      ]
    },
    {
      "cell_type": "code",
      "source": [
        "print(svm_mdl.class_weight_)"
      ],
      "metadata": {
        "colab": {
          "base_uri": "https://localhost:8080/"
        },
        "id": "XQZ8MgmD61S0",
        "outputId": "d0e90a57-9fed-4c3d-bafb-760b3805ab42"
      },
      "id": "XQZ8MgmD61S0",
      "execution_count": null,
      "outputs": [
        {
          "output_type": "stream",
          "name": "stdout",
          "text": [
            "[1. 1.]\n"
          ]
        }
      ]
    },
    {
      "cell_type": "code",
      "source": [
        "print(svm_mdl.support_vectors_)"
      ],
      "metadata": {
        "colab": {
          "base_uri": "https://localhost:8080/"
        },
        "id": "B4ZqbImm7mi9",
        "outputId": "38f2b6fc-d32c-42db-abf8-5ac3bbe95cf9"
      },
      "id": "B4ZqbImm7mi9",
      "execution_count": null,
      "outputs": [
        {
          "output_type": "stream",
          "name": "stdout",
          "text": [
            "[[-0.57367404  0.59256242 -0.36235177]\n",
            " [ 0.59736001  0.29323041  0.94842732]\n",
            " [-0.03371539 -0.64826718 -0.51964526]\n",
            " ...\n",
            " [-0.43053799  0.2806269  -0.53405458]\n",
            " [ 1.08432979  0.37349618  0.41037051]\n",
            " [-0.36654367  0.32535471 -0.80312659]]\n"
          ]
        }
      ]
    },
    {
      "cell_type": "code",
      "source": [],
      "metadata": {
        "id": "W04Fx58G7yHs"
      },
      "id": "W04Fx58G7yHs",
      "execution_count": null,
      "outputs": []
    },
    {
      "cell_type": "markdown",
      "source": [
        "### 나이브베이즈"
      ],
      "metadata": {
        "id": "ZwAOWAGT8BNR"
      },
      "id": "ZwAOWAGT8BNR"
    },
    {
      "cell_type": "code",
      "source": [
        "from sklearn.naive_bayes import GaussianNB"
      ],
      "metadata": {
        "id": "SKZgRlap8Dem"
      },
      "id": "SKZgRlap8Dem",
      "execution_count": null,
      "outputs": []
    },
    {
      "cell_type": "code",
      "source": [
        "nn_model = GaussianNB()"
      ],
      "metadata": {
        "id": "vUb-b2yt8KbT"
      },
      "id": "vUb-b2yt8KbT",
      "execution_count": null,
      "outputs": []
    },
    {
      "cell_type": "code",
      "source": [
        "nn_model.fit(X_train_over, Y_train_over)"
      ],
      "metadata": {
        "colab": {
          "base_uri": "https://localhost:8080/",
          "height": 75
        },
        "id": "oyKbpnp58N8U",
        "outputId": "7375c6a0-dae5-4ffb-c246-6218e6f98b93"
      },
      "id": "oyKbpnp58N8U",
      "execution_count": null,
      "outputs": [
        {
          "output_type": "execute_result",
          "data": {
            "text/plain": [
              "GaussianNB()"
            ],
            "text/html": [
              "<style>#sk-container-id-8 {color: black;background-color: white;}#sk-container-id-8 pre{padding: 0;}#sk-container-id-8 div.sk-toggleable {background-color: white;}#sk-container-id-8 label.sk-toggleable__label {cursor: pointer;display: block;width: 100%;margin-bottom: 0;padding: 0.3em;box-sizing: border-box;text-align: center;}#sk-container-id-8 label.sk-toggleable__label-arrow:before {content: \"▸\";float: left;margin-right: 0.25em;color: #696969;}#sk-container-id-8 label.sk-toggleable__label-arrow:hover:before {color: black;}#sk-container-id-8 div.sk-estimator:hover label.sk-toggleable__label-arrow:before {color: black;}#sk-container-id-8 div.sk-toggleable__content {max-height: 0;max-width: 0;overflow: hidden;text-align: left;background-color: #f0f8ff;}#sk-container-id-8 div.sk-toggleable__content pre {margin: 0.2em;color: black;border-radius: 0.25em;background-color: #f0f8ff;}#sk-container-id-8 input.sk-toggleable__control:checked~div.sk-toggleable__content {max-height: 200px;max-width: 100%;overflow: auto;}#sk-container-id-8 input.sk-toggleable__control:checked~label.sk-toggleable__label-arrow:before {content: \"▾\";}#sk-container-id-8 div.sk-estimator input.sk-toggleable__control:checked~label.sk-toggleable__label {background-color: #d4ebff;}#sk-container-id-8 div.sk-label input.sk-toggleable__control:checked~label.sk-toggleable__label {background-color: #d4ebff;}#sk-container-id-8 input.sk-hidden--visually {border: 0;clip: rect(1px 1px 1px 1px);clip: rect(1px, 1px, 1px, 1px);height: 1px;margin: -1px;overflow: hidden;padding: 0;position: absolute;width: 1px;}#sk-container-id-8 div.sk-estimator {font-family: monospace;background-color: #f0f8ff;border: 1px dotted black;border-radius: 0.25em;box-sizing: border-box;margin-bottom: 0.5em;}#sk-container-id-8 div.sk-estimator:hover {background-color: #d4ebff;}#sk-container-id-8 div.sk-parallel-item::after {content: \"\";width: 100%;border-bottom: 1px solid gray;flex-grow: 1;}#sk-container-id-8 div.sk-label:hover label.sk-toggleable__label {background-color: #d4ebff;}#sk-container-id-8 div.sk-serial::before {content: \"\";position: absolute;border-left: 1px solid gray;box-sizing: border-box;top: 0;bottom: 0;left: 50%;z-index: 0;}#sk-container-id-8 div.sk-serial {display: flex;flex-direction: column;align-items: center;background-color: white;padding-right: 0.2em;padding-left: 0.2em;position: relative;}#sk-container-id-8 div.sk-item {position: relative;z-index: 1;}#sk-container-id-8 div.sk-parallel {display: flex;align-items: stretch;justify-content: center;background-color: white;position: relative;}#sk-container-id-8 div.sk-item::before, #sk-container-id-8 div.sk-parallel-item::before {content: \"\";position: absolute;border-left: 1px solid gray;box-sizing: border-box;top: 0;bottom: 0;left: 50%;z-index: -1;}#sk-container-id-8 div.sk-parallel-item {display: flex;flex-direction: column;z-index: 1;position: relative;background-color: white;}#sk-container-id-8 div.sk-parallel-item:first-child::after {align-self: flex-end;width: 50%;}#sk-container-id-8 div.sk-parallel-item:last-child::after {align-self: flex-start;width: 50%;}#sk-container-id-8 div.sk-parallel-item:only-child::after {width: 0;}#sk-container-id-8 div.sk-dashed-wrapped {border: 1px dashed gray;margin: 0 0.4em 0.5em 0.4em;box-sizing: border-box;padding-bottom: 0.4em;background-color: white;}#sk-container-id-8 div.sk-label label {font-family: monospace;font-weight: bold;display: inline-block;line-height: 1.2em;}#sk-container-id-8 div.sk-label-container {text-align: center;}#sk-container-id-8 div.sk-container {/* jupyter's `normalize.less` sets `[hidden] { display: none; }` but bootstrap.min.css set `[hidden] { display: none !important; }` so we also need the `!important` here to be able to override the default hidden behavior on the sphinx rendered scikit-learn.org. See: https://github.com/scikit-learn/scikit-learn/issues/21755 */display: inline-block !important;position: relative;}#sk-container-id-8 div.sk-text-repr-fallback {display: none;}</style><div id=\"sk-container-id-8\" class=\"sk-top-container\"><div class=\"sk-text-repr-fallback\"><pre>GaussianNB()</pre><b>In a Jupyter environment, please rerun this cell to show the HTML representation or trust the notebook. <br />On GitHub, the HTML representation is unable to render, please try loading this page with nbviewer.org.</b></div><div class=\"sk-container\" hidden><div class=\"sk-item\"><div class=\"sk-estimator sk-toggleable\"><input class=\"sk-toggleable__control sk-hidden--visually\" id=\"sk-estimator-id-8\" type=\"checkbox\" checked><label for=\"sk-estimator-id-8\" class=\"sk-toggleable__label sk-toggleable__label-arrow\">GaussianNB</label><div class=\"sk-toggleable__content\"><pre>GaussianNB()</pre></div></div></div></div></div>"
            ]
          },
          "metadata": {},
          "execution_count": 81
        }
      ]
    },
    {
      "cell_type": "code",
      "source": [
        "Y_pred_nn = nn_model.predict(X_test)"
      ],
      "metadata": {
        "id": "6iFKFxvv8TwS"
      },
      "id": "6iFKFxvv8TwS",
      "execution_count": null,
      "outputs": []
    },
    {
      "cell_type": "code",
      "source": [
        "print(Y_pred_nn)"
      ],
      "metadata": {
        "colab": {
          "base_uri": "https://localhost:8080/"
        },
        "id": "6cRAWFsh8ci6",
        "outputId": "3a2dddc4-fffd-4696-c6b5-a899b4c49cf9"
      },
      "id": "6cRAWFsh8ci6",
      "execution_count": null,
      "outputs": [
        {
          "output_type": "stream",
          "name": "stdout",
          "text": [
            "[1 0 1 0 0 0 1 1 1 0 1 1 0 1 0 1 0 1 1 1 1 1 1 1 0 1 1 1 1 1 0 0 1 0 1 0 0\n",
            " 1 0 0 1 1 0 0 1 1 0 1 1 1 0 1 1 1 0 0 1 1 0 0 1 0 0 1 1 1 1 1 1 0 0 1 1 1\n",
            " 0 1 1 1 1 1 1 1 1 1 0 0 1 1 0 0 0 1 1 1 1 0 0 0 1 1 0 1 1 0 1 0 0 1 0 1 1\n",
            " 0 1 1 1 1 1 1 0 1 0 1 1 1 1 0 1 1 0 1 1 1 0 0 1 0 1 1 1 0 1 1 1 1 1 0 1 1\n",
            " 1 0 1 0 1 1 1 0 1 1 1 1 1 0 1 1 0 1 0 0 1 0 1 1 0 1 1 0 1 1 0 1 1 1 1 1 0\n",
            " 1 1 1 1 0 1 0 1 0 1 0 0 1 1 1 1 0 0 0 0 1 0 0 1 1 0 1 1 1 1 1 1 1 1 1 0 1\n",
            " 0 0 1 1 1 1 1 0 1 1 1 1 1 1 1 1 1 1 1 0 1 1 0 1 0 1 0 1 1 1 1 1 1 1 0 1 1\n",
            " 1 0 0 0 0 1 1 1 1 0 1 1 0 1 1 1 0 1 1 1 1 0 0 1 0 1 1 0 1 1 1 1 1 1 0 1 1\n",
            " 0 1 1 1]\n"
          ]
        }
      ]
    },
    {
      "cell_type": "code",
      "source": [
        "cr_nn = classification_report(Y_test, Y_pred_nn)\n",
        "print(cr_nn)"
      ],
      "metadata": {
        "colab": {
          "base_uri": "https://localhost:8080/"
        },
        "id": "H38YYkbi8es7",
        "outputId": "b9ece802-11e5-4ec6-becf-81fd32650bd8"
      },
      "id": "H38YYkbi8es7",
      "execution_count": null,
      "outputs": [
        {
          "output_type": "stream",
          "name": "stdout",
          "text": [
            "              precision    recall  f1-score   support\n",
            "\n",
            "           0       0.89      0.40      0.55       219\n",
            "           1       0.35      0.86      0.49        81\n",
            "\n",
            "    accuracy                           0.52       300\n",
            "   macro avg       0.62      0.63      0.52       300\n",
            "weighted avg       0.74      0.52      0.53       300\n",
            "\n"
          ]
        }
      ]
    },
    {
      "cell_type": "markdown",
      "source": [
        "### 랜덤포레스트"
      ],
      "metadata": {
        "id": "7fxxBvklUEpP"
      },
      "id": "7fxxBvklUEpP"
    },
    {
      "cell_type": "code",
      "source": [
        "from sklearn.ensemble import RandomForestClassifier"
      ],
      "metadata": {
        "id": "xU_mflj2UIgp"
      },
      "id": "xU_mflj2UIgp",
      "execution_count": null,
      "outputs": []
    },
    {
      "cell_type": "code",
      "source": [
        "rf_model = RandomForestClassifier(n_estimators = 100)"
      ],
      "metadata": {
        "id": "3DboxhiO8q0M"
      },
      "id": "3DboxhiO8q0M",
      "execution_count": null,
      "outputs": []
    },
    {
      "cell_type": "code",
      "source": [
        "rf_model.fit(X_train_over, Y_train_over)"
      ],
      "metadata": {
        "colab": {
          "base_uri": "https://localhost:8080/",
          "height": 75
        },
        "id": "frmXjgtUVfkT",
        "outputId": "95fdcbe1-f7fd-4f49-fb09-a7eae6b4c009"
      },
      "id": "frmXjgtUVfkT",
      "execution_count": null,
      "outputs": [
        {
          "output_type": "execute_result",
          "data": {
            "text/plain": [
              "RandomForestClassifier()"
            ],
            "text/html": [
              "<style>#sk-container-id-9 {color: black;background-color: white;}#sk-container-id-9 pre{padding: 0;}#sk-container-id-9 div.sk-toggleable {background-color: white;}#sk-container-id-9 label.sk-toggleable__label {cursor: pointer;display: block;width: 100%;margin-bottom: 0;padding: 0.3em;box-sizing: border-box;text-align: center;}#sk-container-id-9 label.sk-toggleable__label-arrow:before {content: \"▸\";float: left;margin-right: 0.25em;color: #696969;}#sk-container-id-9 label.sk-toggleable__label-arrow:hover:before {color: black;}#sk-container-id-9 div.sk-estimator:hover label.sk-toggleable__label-arrow:before {color: black;}#sk-container-id-9 div.sk-toggleable__content {max-height: 0;max-width: 0;overflow: hidden;text-align: left;background-color: #f0f8ff;}#sk-container-id-9 div.sk-toggleable__content pre {margin: 0.2em;color: black;border-radius: 0.25em;background-color: #f0f8ff;}#sk-container-id-9 input.sk-toggleable__control:checked~div.sk-toggleable__content {max-height: 200px;max-width: 100%;overflow: auto;}#sk-container-id-9 input.sk-toggleable__control:checked~label.sk-toggleable__label-arrow:before {content: \"▾\";}#sk-container-id-9 div.sk-estimator input.sk-toggleable__control:checked~label.sk-toggleable__label {background-color: #d4ebff;}#sk-container-id-9 div.sk-label input.sk-toggleable__control:checked~label.sk-toggleable__label {background-color: #d4ebff;}#sk-container-id-9 input.sk-hidden--visually {border: 0;clip: rect(1px 1px 1px 1px);clip: rect(1px, 1px, 1px, 1px);height: 1px;margin: -1px;overflow: hidden;padding: 0;position: absolute;width: 1px;}#sk-container-id-9 div.sk-estimator {font-family: monospace;background-color: #f0f8ff;border: 1px dotted black;border-radius: 0.25em;box-sizing: border-box;margin-bottom: 0.5em;}#sk-container-id-9 div.sk-estimator:hover {background-color: #d4ebff;}#sk-container-id-9 div.sk-parallel-item::after {content: \"\";width: 100%;border-bottom: 1px solid gray;flex-grow: 1;}#sk-container-id-9 div.sk-label:hover label.sk-toggleable__label {background-color: #d4ebff;}#sk-container-id-9 div.sk-serial::before {content: \"\";position: absolute;border-left: 1px solid gray;box-sizing: border-box;top: 0;bottom: 0;left: 50%;z-index: 0;}#sk-container-id-9 div.sk-serial {display: flex;flex-direction: column;align-items: center;background-color: white;padding-right: 0.2em;padding-left: 0.2em;position: relative;}#sk-container-id-9 div.sk-item {position: relative;z-index: 1;}#sk-container-id-9 div.sk-parallel {display: flex;align-items: stretch;justify-content: center;background-color: white;position: relative;}#sk-container-id-9 div.sk-item::before, #sk-container-id-9 div.sk-parallel-item::before {content: \"\";position: absolute;border-left: 1px solid gray;box-sizing: border-box;top: 0;bottom: 0;left: 50%;z-index: -1;}#sk-container-id-9 div.sk-parallel-item {display: flex;flex-direction: column;z-index: 1;position: relative;background-color: white;}#sk-container-id-9 div.sk-parallel-item:first-child::after {align-self: flex-end;width: 50%;}#sk-container-id-9 div.sk-parallel-item:last-child::after {align-self: flex-start;width: 50%;}#sk-container-id-9 div.sk-parallel-item:only-child::after {width: 0;}#sk-container-id-9 div.sk-dashed-wrapped {border: 1px dashed gray;margin: 0 0.4em 0.5em 0.4em;box-sizing: border-box;padding-bottom: 0.4em;background-color: white;}#sk-container-id-9 div.sk-label label {font-family: monospace;font-weight: bold;display: inline-block;line-height: 1.2em;}#sk-container-id-9 div.sk-label-container {text-align: center;}#sk-container-id-9 div.sk-container {/* jupyter's `normalize.less` sets `[hidden] { display: none; }` but bootstrap.min.css set `[hidden] { display: none !important; }` so we also need the `!important` here to be able to override the default hidden behavior on the sphinx rendered scikit-learn.org. See: https://github.com/scikit-learn/scikit-learn/issues/21755 */display: inline-block !important;position: relative;}#sk-container-id-9 div.sk-text-repr-fallback {display: none;}</style><div id=\"sk-container-id-9\" class=\"sk-top-container\"><div class=\"sk-text-repr-fallback\"><pre>RandomForestClassifier()</pre><b>In a Jupyter environment, please rerun this cell to show the HTML representation or trust the notebook. <br />On GitHub, the HTML representation is unable to render, please try loading this page with nbviewer.org.</b></div><div class=\"sk-container\" hidden><div class=\"sk-item\"><div class=\"sk-estimator sk-toggleable\"><input class=\"sk-toggleable__control sk-hidden--visually\" id=\"sk-estimator-id-9\" type=\"checkbox\" checked><label for=\"sk-estimator-id-9\" class=\"sk-toggleable__label sk-toggleable__label-arrow\">RandomForestClassifier</label><div class=\"sk-toggleable__content\"><pre>RandomForestClassifier()</pre></div></div></div></div></div>"
            ]
          },
          "metadata": {},
          "execution_count": 88
        }
      ]
    },
    {
      "cell_type": "code",
      "source": [
        "Y_pred_rf = rf_model.predict(X_test)"
      ],
      "metadata": {
        "id": "3LpF8JBGVoL6"
      },
      "id": "3LpF8JBGVoL6",
      "execution_count": null,
      "outputs": []
    },
    {
      "cell_type": "code",
      "source": [
        "print(Y_pred_rf)"
      ],
      "metadata": {
        "colab": {
          "base_uri": "https://localhost:8080/"
        },
        "id": "g33pPDQxV0Fq",
        "outputId": "d3efd449-1033-47de-8766-0c53f10f93f9"
      },
      "id": "g33pPDQxV0Fq",
      "execution_count": null,
      "outputs": [
        {
          "output_type": "stream",
          "name": "stdout",
          "text": [
            "[0 0 0 0 0 0 1 1 0 0 1 0 0 1 0 1 0 1 1 1 0 0 0 0 0 0 1 1 1 0 0 0 0 0 0 0 0\n",
            " 1 0 1 1 0 0 0 1 0 0 1 1 0 0 1 1 0 1 0 1 0 0 0 1 0 1 1 0 1 1 0 1 0 0 1 0 1\n",
            " 0 0 0 0 1 0 1 0 1 0 0 0 1 0 0 0 0 0 0 1 1 0 0 1 0 1 0 0 1 0 1 0 0 1 0 1 1\n",
            " 0 0 1 1 0 0 1 0 0 0 0 0 0 1 0 0 1 0 0 1 0 0 0 0 0 0 1 0 1 1 1 0 1 1 0 1 0\n",
            " 0 1 0 1 0 0 0 0 0 1 0 1 0 0 1 0 0 0 0 0 0 1 0 0 0 0 0 0 1 1 0 1 0 0 0 0 0\n",
            " 1 0 0 0 0 0 0 0 1 0 0 0 1 0 0 1 0 0 0 0 0 0 0 0 0 1 1 1 0 1 0 1 1 0 0 0 0\n",
            " 0 1 1 1 0 0 1 0 0 0 0 0 1 1 1 0 0 1 0 0 1 0 0 0 0 1 0 0 1 0 1 1 0 0 0 0 1\n",
            " 1 0 0 0 1 0 0 0 1 1 0 0 0 1 1 0 0 0 0 0 1 0 1 1 1 0 1 0 1 1 1 0 0 0 0 0 1\n",
            " 1 0 0 1]\n"
          ]
        }
      ]
    },
    {
      "cell_type": "code",
      "source": [
        "cr_rf = classification_report(Y_test, Y_pred_rf)\n",
        "print(cr_rf)"
      ],
      "metadata": {
        "colab": {
          "base_uri": "https://localhost:8080/"
        },
        "id": "pZJFxuyRV3PF",
        "outputId": "6348280f-4dd1-461e-fe3b-6cd3428412d4"
      },
      "id": "pZJFxuyRV3PF",
      "execution_count": null,
      "outputs": [
        {
          "output_type": "stream",
          "name": "stdout",
          "text": [
            "              precision    recall  f1-score   support\n",
            "\n",
            "           0       0.93      0.83      0.87       219\n",
            "           1       0.64      0.83      0.72        81\n",
            "\n",
            "    accuracy                           0.83       300\n",
            "   macro avg       0.78      0.83      0.80       300\n",
            "weighted avg       0.85      0.83      0.83       300\n",
            "\n"
          ]
        }
      ]
    },
    {
      "cell_type": "code",
      "source": [
        "# feature importance 중요\n",
        "rf_model.feature_importances_"
      ],
      "metadata": {
        "colab": {
          "base_uri": "https://localhost:8080/"
        },
        "id": "pIq3VzJ4UqzF",
        "outputId": "36eba119-6073-4bac-d568-3a40ba1127ba"
      },
      "id": "pIq3VzJ4UqzF",
      "execution_count": null,
      "outputs": [
        {
          "output_type": "execute_result",
          "data": {
            "text/plain": [
              "array([0.17924372, 0.62208972, 0.19866655])"
            ]
          },
          "metadata": {},
          "execution_count": 93
        }
      ]
    },
    {
      "cell_type": "code",
      "source": [],
      "metadata": {
        "id": "v9CaRo75WDcw"
      },
      "id": "v9CaRo75WDcw",
      "execution_count": null,
      "outputs": []
    }
  ],
  "metadata": {
    "kernelspec": {
      "display_name": "Python 3 (ipykernel)",
      "language": "python",
      "name": "python3"
    },
    "language_info": {
      "codemirror_mode": {
        "name": "ipython",
        "version": 3
      },
      "file_extension": ".py",
      "mimetype": "text/x-python",
      "name": "python",
      "nbconvert_exporter": "python",
      "pygments_lexer": "ipython3",
      "version": "3.10.9"
    },
    "colab": {
      "provenance": [],
      "include_colab_link": true
    }
  },
  "nbformat": 4,
  "nbformat_minor": 5
}